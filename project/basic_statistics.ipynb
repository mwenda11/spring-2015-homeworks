{
 "metadata": {
  "name": "",
  "signature": "sha256:469bb31297a7b88c9637d78e93f371887e969ba5c24331303cda48b9a72f6351"
 },
 "nbformat": 3,
 "nbformat_minor": 0,
 "worksheets": [
  {
   "cells": [
    {
     "cell_type": "code",
     "collapsed": false,
     "input": [
      "import os\n",
      "import json\n",
      "import time\n",
      "import datetime\n",
      "import requests\n",
      "import numpy as np\n",
      "import pandas as pd\n",
      "import gensim\n",
      "#res = gensim.utils.lemmatize\n",
      "\n",
      "from collections import defaultdict\n",
      "from matplotlib import pyplot as plt\n",
      "from pandas import Series, DataFrame\n",
      "%matplotlib inline"
     ],
     "language": "python",
     "metadata": {},
     "outputs": [],
     "prompt_number": 1
    },
    {
     "cell_type": "code",
     "collapsed": false,
     "input": [
      "pframe = pd.read_csv('partners.csv', index_col='pid', parse_dates=['start_date'])"
     ],
     "language": "python",
     "metadata": {},
     "outputs": [],
     "prompt_number": 2
    },
    {
     "cell_type": "code",
     "collapsed": false,
     "input": [
      "#dfpartners = dfpartners.drop(['pid.1'],axis=1)\n",
      "#dfpartners.head()\n",
      "def active_days(row):\n",
      "    start = row.start_date\n",
      "    now = datetime.datetime.now()\n",
      "    diff = (now - start)\n",
      "    return diff.days\n",
      "\n",
      "pframe['days_active'] = pframe.apply(active_days, axis=1)"
     ],
     "language": "python",
     "metadata": {},
     "outputs": [],
     "prompt_number": 3
    },
    {
     "cell_type": "code",
     "collapsed": false,
     "input": [
      "c1 = [\"id\",\"name\",\"status\",\"funded_amount\",\"paid_amount\",\"desc_length\",\"num_languages\",\"sector\",\"themes\",\"use\",\"delinquent\"]\n",
      "c2 = [\"country_code\",\"country\",\"town\",\"level\",\"partner_id\",\"posted_date\",\"planned_expire_date\",\"loan_amount\",\"lender_count\",\"forex_loss\"]\n",
      "c3 = [\"bonus_credit_elig\",\"tags\",\"num_borrowers\",\"borrower_gender\",\"disbursal_date\",\"disbursal_currency\",\"disbursal_amount\"]\n",
      "c4 = [\"repayment_interval\",\"repayment_term\",\"terms_loan_amount\",\"partner_loss_liable\",\"funded_date\",\"sched_pay_date\",\"paid_date\",\"pictured\",\"translator\"]\n",
      "# info for field partner who issued this loan\n",
      "c5 = [\"pactive\",\"prating\",\"pdays_as_member\",\"pdelinquency_rate\",\"pdefault_rate\",\"ptotal_amount_raised\",\"ploans_posted\"]\n",
      "c6 = [\"pcharges_FI\",\"pALSPCI\",\"ploans_at_risk_rate\",\"pforex_loss_rate\",\"meta_delete\"]\n",
      "\n",
      "columns = c1+c2+c3+c4+c5+c6\n",
      "\n",
      "data_matrix = np.zeros((89492,len(columns)), dtype='S25')\n",
      "\n",
      "files = os.listdir(\"loans\")\n",
      "idx = 0\n",
      "\n",
      "for f in files:\n",
      "    f_data = open(\"loans/\" + f)\n",
      "    json_data = f_data.read()\n",
      "\n",
      "    data = json.loads(json_data)\n",
      "    loans = data[\"loans\"]\n",
      "    \n",
      "    for loan in loans:\n",
      "        meta_delete = 0 #indicates which records to delete -- filter/prune\n",
      "        data_matrix[idx][0] = loan[\"id\"]\n",
      "        data_matrix[idx][1] = loan[\"name\"].encode('utf8')\n",
      "        data_matrix[idx][2] = loan[\"status\"]\n",
      "        data_matrix[idx][3] = loan[\"funded_amount\"]\n",
      "        data_matrix[idx][4] = 0 #loan[\"paid_amount\"]\n",
      "        texts = loan[\"description\"][\"texts\"]\n",
      "        text = \"\"\n",
      "        if \"en\" in texts:\n",
      "            text = texts[\"en\"]\n",
      "        data_matrix[idx][5] = len(text)\n",
      "        data_matrix[idx][6] = len(texts) # num_languages\n",
      "        data_matrix[idx][7] = loan[\"sector\"]\n",
      "        #data_matrix[idx][8] = str(loan[\"themes\"])\n",
      "        data_matrix[idx][9] = loan[\"use\"].encode('utf8')\n",
      "        data_matrix[idx][10] = 0 #loan[\"delinquent\"]\n",
      "        data_matrix[idx][11] = loan[\"location\"][\"country_code\"]\n",
      "        data_matrix[idx][12] = loan[\"location\"][\"country\"]\n",
      "        town = None #loan[\"location\"][\"town\"]\n",
      "        if town is not None:\n",
      "            data_matrix[idx][13] = loan[\"location\"][\"town\"].encode('utf8')\n",
      "        data_matrix[idx][14] = loan[\"location\"][\"geo\"][\"level\"]\n",
      "        pid = int(loan[\"partner_id\"])\n",
      "        data_matrix[idx][15] = pid\n",
      "        posted_date = loan[\"posted_date\"]\n",
      "        if posted_date is None:\n",
      "            meta_delete = 1\n",
      "        data_matrix[idx][16] = posted_date\n",
      "        #data_matrix[idx][17] = loan[\"planned_expiration_date\"]\n",
      "        data_matrix[idx][18] = loan[\"loan_amount\"]\n",
      "        data_matrix[idx][19] = loan[\"lender_count\"]\n",
      "        data_matrix[idx][20] = 0 #loan[\"currency_exchange_loss_amount\"]\n",
      "        data_matrix[idx][21] = loan[\"bonus_credit_eligibility\"]\n",
      "        data_matrix[idx][22] = str(loan[\"tags\"])\n",
      "        data_matrix[idx][23] = len(loan[\"borrowers\"])\n",
      "        data_matrix[idx][24] = loan[\"borrowers\"][0][\"gender\"] #forst one\n",
      "        data_matrix[idx][25] = loan[\"terms\"][\"disbursal_date\"] \n",
      "        data_matrix[idx][26] = loan[\"terms\"][\"disbursal_currency\"] \n",
      "        data_matrix[idx][27] = loan[\"terms\"][\"disbursal_amount\"]\n",
      "        data_matrix[idx][28] = loan[\"terms\"][\"repayment_interval\"] \n",
      "        #data_matrix[idx][29] = loan[\"terms\"][\"repayment_term\"] \n",
      "        data_matrix[idx][30] = loan[\"terms\"][\"loan_amount\"]\n",
      "        data_matrix[idx][31] = (loan[\"terms\"][\"loss_liability\"][\"nonpayment\"] == \"partner\")\n",
      "        dt_now = \"2015-04-24T00:00:00Z\"\n",
      "        fun_date = None #loan[\"funded_date\"]\n",
      "        data_matrix[idx][32] = (dt_now if (fun_date is None) else fun_date)\n",
      "        sched = loan[\"terms\"][\"scheduled_payments\"]\n",
      "        if len(sched) > 0:\n",
      "            data_matrix[idx][33] = sched[-1][\"due_date\"] #\n",
      "        else:\n",
      "            meta_delete = meta_delete #1\n",
      "        paid_date = dt_now #loan[\"paid_date\"]\n",
      "        data_matrix[idx][34] = (dt_now if (paid_date is None) else paid_date)\n",
      "        pictured = loan[\"borrowers\"][0][\"pictured\"]\n",
      "        data_matrix[idx][35] = (1 if pictured else 0)\n",
      "        data_matrix[idx][36] = False #(loan[\"translator\"] is not None) # exists?\n",
      "        \n",
      "        #partner data\n",
      "        try:\n",
      "            p_row = pframe.ix[pid]\n",
      "            data_matrix[idx][37] = p_row.active\n",
      "            data_matrix[idx][38] = p_row.rating\n",
      "            data_matrix[idx][39] = p_row.days_active\n",
      "            data_matrix[idx][40] = p_row.delinquency_rate\n",
      "            data_matrix[idx][41] = p_row.default_rate\n",
      "            data_matrix[idx][42] = p_row.total_amount_raised\n",
      "            data_matrix[idx][43] = p_row.loans_posted\n",
      "            data_matrix[idx][44] = p_row.charges_FI\n",
      "            data_matrix[idx][45] = p_row.ALSPCI\n",
      "            data_matrix[idx][46] = p_row.loans_at_risk_rate\n",
      "            data_matrix[idx][47] = p_row.currency_exchange_loss_rate\n",
      "        except KeyError:\n",
      "            #print loan[\"id\"]\n",
      "            meta_delete = 1\n",
      "            \n",
      "        data_matrix[idx][48] = meta_delete\n",
      "        \n",
      "        idx += 1\n",
      "    \n",
      "    f_data.close()\n",
      "\n",
      "idx"
     ],
     "language": "python",
     "metadata": {},
     "outputs": [
      {
       "metadata": {},
       "output_type": "pyout",
       "prompt_number": 5,
       "text": [
        "89492"
       ]
      }
     ],
     "prompt_number": 5
    },
    {
     "cell_type": "code",
     "collapsed": false,
     "input": [
      "dframe = pd.DataFrame(data_matrix, columns=columns)"
     ],
     "language": "python",
     "metadata": {},
     "outputs": [],
     "prompt_number": 6
    },
    {
     "cell_type": "code",
     "collapsed": false,
     "input": [
      "dframe.iloc[:6,30:]"
     ],
     "language": "python",
     "metadata": {},
     "outputs": [
      {
       "html": [
        "<div style=\"max-height:1000px;max-width:1500px;overflow:auto;\">\n",
        "<table border=\"1\" class=\"dataframe\">\n",
        "  <thead>\n",
        "    <tr style=\"text-align: right;\">\n",
        "      <th></th>\n",
        "      <th>terms_loan_amount</th>\n",
        "      <th>partner_loss_liable</th>\n",
        "      <th>funded_date</th>\n",
        "      <th>sched_pay_date</th>\n",
        "      <th>paid_date</th>\n",
        "      <th>pictured</th>\n",
        "      <th>translator</th>\n",
        "      <th>pactive</th>\n",
        "      <th>prating</th>\n",
        "      <th>pdays_as_member</th>\n",
        "      <th>pdelinquency_rate</th>\n",
        "      <th>pdefault_rate</th>\n",
        "      <th>ptotal_amount_raised</th>\n",
        "      <th>ploans_posted</th>\n",
        "      <th>pcharges_FI</th>\n",
        "      <th>pALSPCI</th>\n",
        "      <th>ploans_at_risk_rate</th>\n",
        "      <th>pforex_loss_rate</th>\n",
        "      <th>meta_delete</th>\n",
        "    </tr>\n",
        "  </thead>\n",
        "  <tbody>\n",
        "    <tr>\n",
        "      <th>0</th>\n",
        "      <td>  200</td>\n",
        "      <td> True</td>\n",
        "      <td> 2015-04-24T00:00:00Z</td>\n",
        "      <td> 2007-06-16T07:00:00Z</td>\n",
        "      <td> 2015-04-24T00:00:00Z</td>\n",
        "      <td> 1</td>\n",
        "      <td> False</td>\n",
        "      <td> 0</td>\n",
        "      <td> 0.0</td>\n",
        "      <td> 3162</td>\n",
        "      <td>   0.0</td>\n",
        "      <td>            0.0</td>\n",
        "      <td> 1683000</td>\n",
        "      <td> 3349</td>\n",
        "      <td> 1</td>\n",
        "      <td> 0.0</td>\n",
        "      <td>   0.0</td>\n",
        "      <td>             0.0</td>\n",
        "      <td> 0</td>\n",
        "    </tr>\n",
        "    <tr>\n",
        "      <th>1</th>\n",
        "      <td>  375</td>\n",
        "      <td> True</td>\n",
        "      <td> 2015-04-24T00:00:00Z</td>\n",
        "      <td> 2007-12-16T08:00:00Z</td>\n",
        "      <td> 2015-04-24T00:00:00Z</td>\n",
        "      <td> 1</td>\n",
        "      <td> False</td>\n",
        "      <td> 0</td>\n",
        "      <td> 0.0</td>\n",
        "      <td> 3292</td>\n",
        "      <td>   0.0</td>\n",
        "      <td>  24.1378780069</td>\n",
        "      <td> 1396800</td>\n",
        "      <td> 2651</td>\n",
        "      <td> 1</td>\n",
        "      <td> 0.0</td>\n",
        "      <td>   0.0</td>\n",
        "      <td>             0.0</td>\n",
        "      <td> 0</td>\n",
        "    </tr>\n",
        "    <tr>\n",
        "      <th>2</th>\n",
        "      <td>   75</td>\n",
        "      <td> True</td>\n",
        "      <td> 2015-04-24T00:00:00Z</td>\n",
        "      <td> 2008-02-16T08:00:00Z</td>\n",
        "      <td> 2015-04-24T00:00:00Z</td>\n",
        "      <td> 1</td>\n",
        "      <td> False</td>\n",
        "      <td> 0</td>\n",
        "      <td> 0.0</td>\n",
        "      <td> 2975</td>\n",
        "      <td>   0.0</td>\n",
        "      <td>            0.0</td>\n",
        "      <td>   27775</td>\n",
        "      <td>  383</td>\n",
        "      <td> 1</td>\n",
        "      <td> 0.0</td>\n",
        "      <td>   0.0</td>\n",
        "      <td>             0.0</td>\n",
        "      <td> 0</td>\n",
        "    </tr>\n",
        "    <tr>\n",
        "      <th>3</th>\n",
        "      <td> 1200</td>\n",
        "      <td> True</td>\n",
        "      <td> 2015-04-24T00:00:00Z</td>\n",
        "      <td> 2008-11-16T08:00:00Z</td>\n",
        "      <td> 2015-04-24T00:00:00Z</td>\n",
        "      <td> 1</td>\n",
        "      <td> False</td>\n",
        "      <td> 0</td>\n",
        "      <td> 3.0</td>\n",
        "      <td> 3130</td>\n",
        "      <td> 100.0</td>\n",
        "      <td> 0.949802900916</td>\n",
        "      <td> 3659925</td>\n",
        "      <td> 5117</td>\n",
        "      <td> 1</td>\n",
        "      <td> 4.3</td>\n",
        "      <td> 100.0</td>\n",
        "      <td> 0.0503078614999</td>\n",
        "      <td> 0</td>\n",
        "    </tr>\n",
        "    <tr>\n",
        "      <th>4</th>\n",
        "      <td>  400</td>\n",
        "      <td> True</td>\n",
        "      <td> 2015-04-24T00:00:00Z</td>\n",
        "      <td> 2008-06-16T07:00:00Z</td>\n",
        "      <td> 2015-04-24T00:00:00Z</td>\n",
        "      <td> 1</td>\n",
        "      <td> False</td>\n",
        "      <td> 0</td>\n",
        "      <td> 0.0</td>\n",
        "      <td> 2975</td>\n",
        "      <td>   0.0</td>\n",
        "      <td>            0.0</td>\n",
        "      <td> 2086650</td>\n",
        "      <td> 3200</td>\n",
        "      <td> 1</td>\n",
        "      <td> 0.0</td>\n",
        "      <td>   0.0</td>\n",
        "      <td>             0.0</td>\n",
        "      <td> 0</td>\n",
        "    </tr>\n",
        "    <tr>\n",
        "      <th>5</th>\n",
        "      <td>  450</td>\n",
        "      <td> True</td>\n",
        "      <td> 2015-04-24T00:00:00Z</td>\n",
        "      <td> 2009-02-16T08:00:00Z</td>\n",
        "      <td> 2015-04-24T00:00:00Z</td>\n",
        "      <td> 1</td>\n",
        "      <td> False</td>\n",
        "      <td> 0</td>\n",
        "      <td> 0.0</td>\n",
        "      <td> 2719</td>\n",
        "      <td>   0.0</td>\n",
        "      <td>  12.5705914376</td>\n",
        "      <td> 1184825</td>\n",
        "      <td> 3579</td>\n",
        "      <td> 1</td>\n",
        "      <td> 0.0</td>\n",
        "      <td>   0.0</td>\n",
        "      <td>             0.0</td>\n",
        "      <td> 0</td>\n",
        "    </tr>\n",
        "  </tbody>\n",
        "</table>\n",
        "</div>"
       ],
       "metadata": {},
       "output_type": "pyout",
       "prompt_number": 7,
       "text": [
        "  terms_loan_amount partner_loss_liable           funded_date  \\\n",
        "0               200                True  2015-04-24T00:00:00Z   \n",
        "1               375                True  2015-04-24T00:00:00Z   \n",
        "2                75                True  2015-04-24T00:00:00Z   \n",
        "3              1200                True  2015-04-24T00:00:00Z   \n",
        "4               400                True  2015-04-24T00:00:00Z   \n",
        "5               450                True  2015-04-24T00:00:00Z   \n",
        "\n",
        "         sched_pay_date             paid_date pictured translator pactive  \\\n",
        "0  2007-06-16T07:00:00Z  2015-04-24T00:00:00Z        1      False       0   \n",
        "1  2007-12-16T08:00:00Z  2015-04-24T00:00:00Z        1      False       0   \n",
        "2  2008-02-16T08:00:00Z  2015-04-24T00:00:00Z        1      False       0   \n",
        "3  2008-11-16T08:00:00Z  2015-04-24T00:00:00Z        1      False       0   \n",
        "4  2008-06-16T07:00:00Z  2015-04-24T00:00:00Z        1      False       0   \n",
        "5  2009-02-16T08:00:00Z  2015-04-24T00:00:00Z        1      False       0   \n",
        "\n",
        "  prating pdays_as_member pdelinquency_rate   pdefault_rate  \\\n",
        "0     0.0            3162               0.0             0.0   \n",
        "1     0.0            3292               0.0   24.1378780069   \n",
        "2     0.0            2975               0.0             0.0   \n",
        "3     3.0            3130             100.0  0.949802900916   \n",
        "4     0.0            2975               0.0             0.0   \n",
        "5     0.0            2719               0.0   12.5705914376   \n",
        "\n",
        "  ptotal_amount_raised ploans_posted pcharges_FI pALSPCI ploans_at_risk_rate  \\\n",
        "0              1683000          3349           1     0.0                 0.0   \n",
        "1              1396800          2651           1     0.0                 0.0   \n",
        "2                27775           383           1     0.0                 0.0   \n",
        "3              3659925          5117           1     4.3               100.0   \n",
        "4              2086650          3200           1     0.0                 0.0   \n",
        "5              1184825          3579           1     0.0                 0.0   \n",
        "\n",
        "  pforex_loss_rate meta_delete  \n",
        "0              0.0           0  \n",
        "1              0.0           0  \n",
        "2              0.0           0  \n",
        "3  0.0503078614999           0  \n",
        "4              0.0           0  \n",
        "5              0.0           0  "
       ]
      }
     ],
     "prompt_number": 7
    },
    {
     "cell_type": "code",
     "collapsed": false,
     "input": [
      "dframe.id = dframe['id'].astype(int)\n",
      "dframe = dframe.drop_duplicates(cols='id', take_last=True)"
     ],
     "language": "python",
     "metadata": {},
     "outputs": [
      {
       "output_type": "stream",
       "stream": "stderr",
       "text": [
        "C:\\Program Files\\Anaconda\\lib\\site-packages\\pandas\\util\\decorators.py:81: FutureWarning: the 'cols' keyword is deprecated, use 'subset' instead\n",
        "  warnings.warn(msg, FutureWarning)\n"
       ]
      }
     ],
     "prompt_number": 7
    },
    {
     "cell_type": "code",
     "collapsed": false,
     "input": [
      "#ls =[733434,574,760206,733387,572,4114,760908,11646,12599,560424,523417,11271,762608,11303]\n",
      "#dframe.meta_delete = dframe['meta_delete'].astype(int)\n",
      "dframe.id = dframe['id'].astype(int)\n",
      "dframe.index = dframe.id\n",
      "#dframe = dframe[dframe.meta_delete == 0]\n",
      "dframe = dframe.drop(['id'],axis=1)"
     ],
     "language": "python",
     "metadata": {},
     "outputs": [],
     "prompt_number": 8
    },
    {
     "cell_type": "code",
     "collapsed": false,
     "input": [
      "dframe.funded_amount = dframe['funded_amount'].astype(float)\n",
      "dframe.loan_amount = dframe['loan_amount'].astype(float)\n",
      "dframe.lender_count = dframe['lender_count'].astype(float)\n",
      "dframe.num_borrowers = dframe['num_borrowers'].astype(float)\n",
      "dframe.desc_length = dframe['desc_length'].astype(float)\n",
      "#dframe.sched_pay_date = dframe['sched_pay_date'].astype('datetime64[ns]')\n",
      "#dframe.paid_date = dframe['paid_date'].astype('datetime64[ns]')\n",
      "#dframe.funded_date = dframe['funded_date'].astype('datetime64[ns]')\n",
      "#dframe.posted_date = dframe['posted_date'].astype('datetime64[ns]')\n",
      "#dframe = dframe.drop(dframe.index[[89491,99997]])\n",
      "#dframe.iloc[89491,0]\n",
      "#dframe.info()"
     ],
     "language": "python",
     "metadata": {},
     "outputs": [],
     "prompt_number": 10
    },
    {
     "cell_type": "code",
     "collapsed": false,
     "input": [
      "#dframe.info() -- 87491\n",
      "#dframe.iloc[:7,13:25]\n",
      "#[\"name\",\"status\",\"paid_amount\",\"desc_length\",\"sector\",\"delinquent\",\"\"]"
     ],
     "language": "python",
     "metadata": {},
     "outputs": [],
     "prompt_number": 10
    },
    {
     "cell_type": "code",
     "collapsed": false,
     "input": [
      "ls = dframe.index.tolist()\n",
      "print len(ls)\n",
      "st = set(ls)\n",
      "print len(st)"
     ],
     "language": "python",
     "metadata": {},
     "outputs": [
      {
       "output_type": "stream",
       "stream": "stdout",
       "text": [
        "87493\n",
        "87493\n"
       ]
      }
     ],
     "prompt_number": 10
    },
    {
     "cell_type": "code",
     "collapsed": false,
     "input": [
      "def days_late(row):\n",
      "    diff = row.paid_date - row.sched_pay_date\n",
      "    if diff.days > 0:\n",
      "        return diff.days\n",
      "    else:\n",
      "        return 0 # we only care if payment was made after scheduled date\n",
      "\n",
      "dframe.insert(34, \"days_late\", 0)\n",
      "dframe['days_late'] = dframe.apply(days_late, axis = 1)"
     ],
     "language": "python",
     "metadata": {},
     "outputs": [],
     "prompt_number": 52
    },
    {
     "cell_type": "code",
     "collapsed": false,
     "input": [
      "def days_fundraising(row):\n",
      "    diff = row.funded_date - row.posted_date\n",
      "    #if diff.days > 0:\n",
      "    #    return diff\n",
      "    return diff.days\n",
      "\n",
      "dframe.insert(34, \"days_fundraising\", 0)\n",
      "dframe['days_fundraising'] = dframe.apply(days_fundraising, axis = 1)"
     ],
     "language": "python",
     "metadata": {},
     "outputs": [],
     "prompt_number": 11
    },
    {
     "cell_type": "code",
     "collapsed": false,
     "input": [
      "dfB = dframe[dframe.desc_length != 0]\n",
      "print dfB.desc_length.mean()\n",
      "print dframe.desc_length.mean()\n",
      "#dfB.info()"
     ],
     "language": "python",
     "metadata": {},
     "outputs": [
      {
       "output_type": "stream",
       "stream": "stdout",
       "text": [
        "849.640674447\n",
        "767.146103117\n"
       ]
      }
     ],
     "prompt_number": 11
    },
    {
     "cell_type": "code",
     "collapsed": false,
     "input": [
      "# a few loans have empty description. Assign these a desc length of 849.64 <-- This is the average for other loans\n",
      "def fix_length(row):\n",
      "    leng = row.desc_length\n",
      "    if leng == 0:\n",
      "        return 849.64\n",
      "    else:\n",
      "        return leng\n",
      "\n",
      "dframe.insert(6, \"text_length\", 0)\n",
      "dframe['text_length'] = dframe.apply(fix_length, axis = 1)"
     ],
     "language": "python",
     "metadata": {},
     "outputs": [],
     "prompt_number": 12
    },
    {
     "cell_type": "code",
     "collapsed": false,
     "input": [
      "print dframe.text_length.mean()\n",
      "dframe = dframe.drop(['desc_length'],axis=1)\n",
      "dframe.iloc[200:210,0:15]\n",
      "df = \"\"\n",
      "data_matrix = \"\"\n",
      "#dframe.to_csv(\"dframe.csv\")"
     ],
     "language": "python",
     "metadata": {},
     "outputs": [
      {
       "output_type": "stream",
       "stream": "stdout",
       "text": [
        "849.85975537\n"
       ]
      }
     ],
     "prompt_number": 54
    },
    {
     "cell_type": "code",
     "collapsed": false,
     "input": [
      "def fix_amount(row):\n",
      "    paid = row.paid_amount\n",
      "    try:\n",
      "        val = float(paid)\n",
      "        return paid\n",
      "    except:\n",
      "        return '0.0'\n",
      "\n",
      "dframe['paid_amount'] = dframe.apply(fix_amount, axis = 1)"
     ],
     "language": "python",
     "metadata": {},
     "outputs": [],
     "prompt_number": 13
    },
    {
     "cell_type": "code",
     "collapsed": true,
     "input": [
      "def fix_delinquent(row):\n",
      "    deli = row.delinquent\n",
      "    if deli.strip() == \"None\":\n",
      "        return 0\n",
      "    else:\n",
      "        return 1\n",
      "\n",
      "dframe['delinquent'] = dframe.apply(fix_delinquent, axis = 1)"
     ],
     "language": "python",
     "metadata": {},
     "outputs": [],
     "prompt_number": 15
    },
    {
     "cell_type": "code",
     "collapsed": true,
     "input": [
      "def partner_loss_liable(row):\n",
      "    liab = row.partner_loss_liable\n",
      "    if liab.strip() == \"True\":\n",
      "        return 1\n",
      "    else:\n",
      "        return 0\n",
      "\n",
      "dframe['partner_loss_liable'] = dframe.apply(partner_loss_liable, axis = 1)"
     ],
     "language": "python",
     "metadata": {},
     "outputs": [],
     "prompt_number": 14
    },
    {
     "cell_type": "code",
     "collapsed": true,
     "input": [
      "def translator(row):\n",
      "    tra = row.translator\n",
      "    if tra.strip() == \"True\":\n",
      "        return 1\n",
      "    else:\n",
      "        return 0\n",
      "\n",
      "dframe['translator'] = dframe.apply(translator, axis = 1)"
     ],
     "language": "python",
     "metadata": {},
     "outputs": [],
     "prompt_number": 17
    },
    {
     "cell_type": "code",
     "collapsed": true,
     "input": [
      "def bonus_credit_elig(row):\n",
      "    bce = row.bonus_credit_elig\n",
      "    if bce.strip() == \"True\":\n",
      "        return 1\n",
      "    else:\n",
      "        return 0\n",
      "\n",
      "dframe['bonus_credit_elig'] = dframe.apply(bonus_credit_elig, axis = 1)"
     ],
     "language": "python",
     "metadata": {},
     "outputs": [],
     "prompt_number": 15
    },
    {
     "cell_type": "code",
     "collapsed": false,
     "input": [
      "for it, itdat in dframe.groupby(\"translator\"):\n",
      "    print it, len(itdat)"
     ],
     "language": "python",
     "metadata": {},
     "outputs": [
      {
       "output_type": "stream",
       "stream": "stdout",
       "text": [
        "0 19347\n",
        "1 66183\n"
       ]
      }
     ],
     "prompt_number": 19
    },
    {
     "cell_type": "code",
     "collapsed": false,
     "input": [
      "for it, itdata in dframe.groupby(\"status\"):\n",
      "    print it, len(itdata)"
     ],
     "language": "python",
     "metadata": {},
     "outputs": [
      {
       "output_type": "stream",
       "stream": "stdout",
       "text": [
        " 1\n",
        "defaulted 2373\n",
        "expired 1961\n",
        "in_repayment 10\n",
        "paid 82192\n",
        "refunded 956\n"
       ]
      }
     ],
     "prompt_number": 16
    },
    {
     "cell_type": "code",
     "collapsed": false,
     "input": [
      "# dframe.iloc[20:25, 34:]\n",
      "# cx1 = [\"name\",\"status\",\"funded_amount\",\"paid_amount\",\"text_length\",\"sector\",\"delinquent\",\"country\",\"partner_id\",\"loan_amount\",\"lender_count\"]\n",
      "# cx2 = [\"bonus_credit_elig\",\"num_borrowers\",\"borrower_gender\",\"partner_loss_liable\",\"days_fundraising\",\"days_late\",\"pictured\",\"translator\"]\n",
      "# cx3 = [\"pactive?\",\"prating\",\"pdays_as_member\",\"pdelinquency_rate\",\"pdefault_rate\",\"ptotal_amount_raised\",\"ploans_posted\"]\n",
      "# columnsx = cx1+cx2+cx3 + [\"pcharges_FI\",\"pALSPCI\",\"ploans_at_risk_rate\",\"pforex_loss_rate\"]\n",
      "# dframex = dframe[columnsx]"
     ],
     "language": "python",
     "metadata": {},
     "outputs": [],
     "prompt_number": 25
    },
    {
     "cell_type": "code",
     "collapsed": false,
     "input": [
      "# for log regr to predict if a loan gets funded\n",
      "cx1 = [\"name\",\"status\",\"funded_amount\",\"text_length\",\"num_languages\",\"sector\",\"country\",\"loan_amount\"]\n",
      "cx2 = [\"bonus_credit_elig\",\"num_borrowers\",\"borrower_gender\",\"partner_loss_liable\"]\n",
      "cx3 = [\"pactive\",\"prating\",\"pdays_as_member\",\"pdelinquency_rate\",\"pdefault_rate\",\"ptotal_amount_raised\",\"ploans_posted\"]\n",
      "columnsx = cx1+cx2+cx3 + [\"pcharges_FI\",\"pALSPCI\",\"ploans_at_risk_rate\",\"pforex_loss_rate\"]\n",
      "dframex = dframe[columnsx]"
     ],
     "language": "python",
     "metadata": {},
     "outputs": [],
     "prompt_number": 26
    },
    {
     "cell_type": "code",
     "collapsed": false,
     "input": [
      "dframex.iloc[200:205,:13]"
     ],
     "language": "python",
     "metadata": {},
     "outputs": [
      {
       "html": [
        "<div style=\"max-height:1000px;max-width:1500px;overflow:auto;\">\n",
        "<table border=\"1\" class=\"dataframe\">\n",
        "  <thead>\n",
        "    <tr style=\"text-align: right;\">\n",
        "      <th></th>\n",
        "      <th>name</th>\n",
        "      <th>status</th>\n",
        "      <th>funded_amount</th>\n",
        "      <th>text_length</th>\n",
        "      <th>num_languages</th>\n",
        "      <th>sector</th>\n",
        "      <th>country</th>\n",
        "      <th>loan_amount</th>\n",
        "      <th>bonus_credit_elig</th>\n",
        "      <th>num_borrowers</th>\n",
        "      <th>borrower_gender</th>\n",
        "      <th>partner_loss_liable</th>\n",
        "      <th>pactive</th>\n",
        "    </tr>\n",
        "    <tr>\n",
        "      <th>id</th>\n",
        "      <th></th>\n",
        "      <th></th>\n",
        "      <th></th>\n",
        "      <th></th>\n",
        "      <th></th>\n",
        "      <th></th>\n",
        "      <th></th>\n",
        "      <th></th>\n",
        "      <th></th>\n",
        "      <th></th>\n",
        "      <th></th>\n",
        "      <th></th>\n",
        "      <th></th>\n",
        "    </tr>\n",
        "  </thead>\n",
        "  <tbody>\n",
        "    <tr>\n",
        "      <th>414091</th>\n",
        "      <td>    Luis Alberto</td>\n",
        "      <td> expired</td>\n",
        "      <td>  575</td>\n",
        "      <td> 1567</td>\n",
        "      <td> 2</td>\n",
        "      <td> Services</td>\n",
        "      <td>      Ecuador</td>\n",
        "      <td> 1075</td>\n",
        "      <td> 1</td>\n",
        "      <td>  1</td>\n",
        "      <td> M</td>\n",
        "      <td> 0</td>\n",
        "      <td> 1</td>\n",
        "    </tr>\n",
        "    <tr>\n",
        "      <th>417529</th>\n",
        "      <td> Afepeb Iv Group</td>\n",
        "      <td> expired</td>\n",
        "      <td> 2650</td>\n",
        "      <td>  962</td>\n",
        "      <td> 2</td>\n",
        "      <td>   Retail</td>\n",
        "      <td>        Benin</td>\n",
        "      <td> 2800</td>\n",
        "      <td> 1</td>\n",
        "      <td> 17</td>\n",
        "      <td> F</td>\n",
        "      <td> 0</td>\n",
        "      <td> 1</td>\n",
        "    </tr>\n",
        "    <tr>\n",
        "      <th>415493</th>\n",
        "      <td>    Alhaji Lamin</td>\n",
        "      <td> expired</td>\n",
        "      <td>  225</td>\n",
        "      <td>  958</td>\n",
        "      <td> 1</td>\n",
        "      <td>   Retail</td>\n",
        "      <td> Sierra Leone</td>\n",
        "      <td>  700</td>\n",
        "      <td> 0</td>\n",
        "      <td>  1</td>\n",
        "      <td> M</td>\n",
        "      <td> 0</td>\n",
        "      <td> 1</td>\n",
        "    </tr>\n",
        "    <tr>\n",
        "      <th>415468</th>\n",
        "      <td>            Hani</td>\n",
        "      <td> expired</td>\n",
        "      <td>  375</td>\n",
        "      <td>  229</td>\n",
        "      <td> 1</td>\n",
        "      <td>   Retail</td>\n",
        "      <td>    Palestine</td>\n",
        "      <td> 2500</td>\n",
        "      <td> 0</td>\n",
        "      <td>  1</td>\n",
        "      <td> M</td>\n",
        "      <td> 0</td>\n",
        "      <td> 1</td>\n",
        "    </tr>\n",
        "    <tr>\n",
        "      <th>415466</th>\n",
        "      <td>          Sinnah</td>\n",
        "      <td> expired</td>\n",
        "      <td>  700</td>\n",
        "      <td>  939</td>\n",
        "      <td> 1</td>\n",
        "      <td> Clothing</td>\n",
        "      <td> Sierra Leone</td>\n",
        "      <td>  950</td>\n",
        "      <td> 0</td>\n",
        "      <td>  1</td>\n",
        "      <td> M</td>\n",
        "      <td> 0</td>\n",
        "      <td> 1</td>\n",
        "    </tr>\n",
        "  </tbody>\n",
        "</table>\n",
        "</div>"
       ],
       "metadata": {},
       "output_type": "pyout",
       "prompt_number": 27,
       "text": [
        "                   name   status  funded_amount  text_length num_languages  \\\n",
        "id                                                                           \n",
        "414091     Luis Alberto  expired            575         1567             2   \n",
        "417529  Afepeb Iv Group  expired           2650          962             2   \n",
        "415493     Alhaji Lamin  expired            225          958             1   \n",
        "415468             Hani  expired            375          229             1   \n",
        "415466           Sinnah  expired            700          939             1   \n",
        "\n",
        "          sector       country  loan_amount  bonus_credit_elig  num_borrowers  \\\n",
        "id                                                                              \n",
        "414091  Services       Ecuador         1075                  1              1   \n",
        "417529    Retail         Benin         2800                  1             17   \n",
        "415493    Retail  Sierra Leone          700                  0              1   \n",
        "415468    Retail     Palestine         2500                  0              1   \n",
        "415466  Clothing  Sierra Leone          950                  0              1   \n",
        "\n",
        "       borrower_gender  partner_loss_liable pactive  \n",
        "id                                                   \n",
        "414091               M                    0       1  \n",
        "417529               F                    0       1  \n",
        "415493               M                    0       1  \n",
        "415468               M                    0       1  \n",
        "415466               M                    0       1  "
       ]
      }
     ],
     "prompt_number": 27
    },
    {
     "cell_type": "code",
     "collapsed": false,
     "input": [
      "dframex.to_csv(\"filtered_loan_dataF.csv\")\n",
      "for it, dat in dframe.groupby(\"pictured\"):\n",
      "    print it, len(dat)"
     ],
     "language": "python",
     "metadata": {},
     "outputs": [
      {
       "output_type": "stream",
       "stream": "stdout",
       "text": [
        "0 44\n",
        "1 87449\n"
       ]
      }
     ],
     "prompt_number": 28
    },
    {
     "cell_type": "code",
     "collapsed": false,
     "input": [
      "cnt = 0\n",
      "for gen, gen_data in dframe.groupby('level'):\n",
      "    cnt += 1\n",
      "    print gen, len(gen_data)\n",
      "    \n",
      "cnt"
     ],
     "language": "python",
     "metadata": {},
     "outputs": [
      {
       "output_type": "stream",
       "stream": "stdout",
       "text": [
        "country 53631\n",
        "town 35861\n"
       ]
      },
      {
       "metadata": {},
       "output_type": "pyout",
       "prompt_number": 87,
       "text": [
        "2"
       ]
      }
     ],
     "prompt_number": 87
    },
    {
     "cell_type": "code",
     "collapsed": false,
     "input": [
      "# TODO histogram\n",
      "statuses = defaultdict(int)\n",
      "\n",
      "for stat, stat_data in dframe.groupby('status'):\n",
      "    statuses[stat] =len(stat_data)\n",
      "    \n",
      "# create dataframe from dictionary    \n",
      "hframe = pd.DataFrame.from_dict(statuses, orient='index', dtype=None)\n",
      "\n",
      "title = 'Loan Status'\n",
      "hframe.columns = ['status']\n",
      "hframe.status.plot(kind='barh', title=title)"
     ],
     "language": "python",
     "metadata": {},
     "outputs": [
      {
       "metadata": {},
       "output_type": "pyout",
       "prompt_number": 11,
       "text": [
        "<matplotlib.axes._subplots.AxesSubplot at 0x313b9b70>"
       ]
      },
      {
       "metadata": {},
       "output_type": "display_data",
       "png": "[encoded data removed]",
       "text": [
        "<matplotlib.figure.Figure at 0x313b9710>"
       ]
      }
     ],
     "prompt_number": 11
    },
    {
     "cell_type": "code",
     "collapsed": false,
     "input": [
      "dframe.loan_amount.count()\n",
      "statuses['paid']*1.0/(statuses['paid'] + statuses['defaulted'])"
     ],
     "language": "python",
     "metadata": {},
     "outputs": [
      {
       "metadata": {},
       "output_type": "pyout",
       "prompt_number": 29,
       "text": [
        "0.9719387453438184"
       ]
      }
     ],
     "prompt_number": 29
    },
    {
     "cell_type": "code",
     "collapsed": false,
     "input": [
      "print dframe.loan_amount.mean()\n",
      "print dframe.loan_amount.median()\n",
      "print dframe.loan_amount.min()\n",
      "print dframe.loan_amount.max()\n",
      "print dframe.loan_amount.std()"
     ],
     "language": "python",
     "metadata": {},
     "outputs": [
      {
       "output_type": "stream",
       "stream": "stdout",
       "text": [
        "762.839136459\n",
        "550.0\n",
        "25.0\n",
        "49800.0\n",
        "761.784773462"
       ]
      },
      {
       "output_type": "stream",
       "stream": "stdout",
       "text": [
        "\n"
       ]
      }
     ],
     "prompt_number": 11
    },
    {
     "cell_type": "code",
     "collapsed": false,
     "input": [
      "#for amt, stat_data in dframe.groupby('status'):\n",
      "ls = [1.0,3.0,5.0,4.0,5.0,4.0,1.0]\n",
      "amounts = dframe.loan_amount\n",
      "amt = amounts.tolist()\n",
      "\n",
      "amt.sort()\n",
      "\n",
      "less5000 = amt[0:len(amt)-99]\n",
      "more5000 = amt[len(amt)-99:]\n",
      "\n",
      "#amounts.plot(kind=\"hist\")\n",
      "title = 'Histogram of Loan Amount distribution'\n",
      "fig = plt.figure(figsize=(15,5), dpi=100)\n",
      "plt.xticks(np.arange(min(less5000), max(less5000)+1, 250.0))\n",
      "plt.title(title)\n",
      "plt.xlabel('Loan Amount in USD')\n",
      "plt.ylabel('Number of Loans')\n",
      "plt.hist(less5000, bins=20)\n",
      "\n",
      "#DataFrame.hist(dframe,column='loan_amount', bins=80, figsize=(18,5))\n",
      "#dframe.loan_amount.max()"
     ],
     "language": "python",
     "metadata": {},
     "outputs": [
      {
       "metadata": {},
       "output_type": "pyout",
       "prompt_number": 15,
       "text": [
        "(array([ 16063.,  24915.,  17241.,  13023.,   8821.,   1871.,   1174.,\n",
        "          1362.,    733.,    815.,    645.,    819.,    326.,    308.,\n",
        "           286.,    266.,    211.,    155.,    147.,    212.]),\n",
        " array([   25.  ,   273.75,   522.5 ,   771.25,  1020.  ,  1268.75,\n",
        "         1517.5 ,  1766.25,  2015.  ,  2263.75,  2512.5 ,  2761.25,\n",
        "         3010.  ,  3258.75,  3507.5 ,  3756.25,  4005.  ,  4253.75,\n",
        "         4502.5 ,  4751.25,  5000.  ]),\n",
        " <a list of 20 Patch objects>)"
       ]
      },
      {
       "metadata": {},
       "output_type": "display_data",
       "png": "[encoded data removed]",
       "text": [
        "<matplotlib.figure.Figure at 0x278d1780>"
       ]
      }
     ],
     "prompt_number": 15
    },
    {
     "cell_type": "code",
     "collapsed": false,
     "input": [
      "#fig = plt.figure(figsize=(15,5), dpi=100)\n",
      "#plt.xticks(np.arange(min(more5000), max(more5000)+1, 2500.0))\n",
      "#plt.hist(more5000, bins=20)"
     ],
     "language": "python",
     "metadata": {},
     "outputs": [],
     "prompt_number": 152
    },
    {
     "cell_type": "code",
     "collapsed": false,
     "input": [
      "# TODO histogram\n",
      "countries = defaultdict(int)\n",
      "others = 0\n",
      "\n",
      "for con, con_data in dframe.groupby('country'):\n",
      "    num_loans = len(con_data)\n",
      "    if num_loans > 1500:\n",
      "        countries[con] = len(con_data)\n",
      "    else:\n",
      "        others += num_loans\n",
      "    \n",
      "countries['Other Countries'] = others\n",
      "    \n",
      "# create dataframe from dictionary    \n",
      "cframe = pd.DataFrame.from_dict(countries, orient='index', dtype=None)\n",
      "\n",
      "cframe.columns = ['country']\n",
      "title = 'Number of Loans by Borrower Country'\n",
      "cframe.country.plot(kind='barh', figsize=(10,5), title=title)"
     ],
     "language": "python",
     "metadata": {},
     "outputs": [
      {
       "metadata": {},
       "output_type": "pyout",
       "prompt_number": 18,
       "text": [
        "<matplotlib.axes._subplots.AxesSubplot at 0x346fb400>"
       ]
      },
      {
       "metadata": {},
       "output_type": "display_data",
       "png": "[encoded data removed]",
       "text": [
        "<matplotlib.figure.Figure at 0x31385e10>"
       ]
      }
     ],
     "prompt_number": 18
    },
    {
     "cell_type": "code",
     "collapsed": false,
     "input": [
      "dframe.groupby('borrower_gender').loan_amount.mean()"
     ],
     "language": "python",
     "metadata": {},
     "outputs": [
      {
       "metadata": {},
       "output_type": "pyout",
       "prompt_number": 169,
       "text": [
        "borrower_gender\n",
        "F                  730.859794\n",
        "M                  858.920261\n",
        "Name: loan_amount, dtype: float64"
       ]
      }
     ],
     "prompt_number": 169
    },
    {
     "cell_type": "code",
     "collapsed": false,
     "input": [
      "counts = dframe.lender_count\n",
      "ct = counts.tolist()\n",
      "\n",
      "ct.sort()\n",
      "\n",
      "fig = plt.figure(figsize=(15,5), dpi=100)\n",
      "plt.title('Histogram of Number of lenders countributing to a loan')\n",
      "plt.ylabel('Number of loans')\n",
      "plt.xlabel('Lender Count')\n",
      "plt.xticks(np.arange(min(ct), max(ct)+1, 5))\n",
      "plt.hist(ct, bins=20, range=(min(ct),100))"
     ],
     "language": "python",
     "metadata": {},
     "outputs": [
      {
       "metadata": {},
       "output_type": "pyout",
       "prompt_number": 19,
       "text": [
        "(array([  9866.,  14743.,  15170.,  12429.,   9699.,   7446.,   5746.,\n",
        "          4518.,   2397.,   1110.,    760.,    668.,    575.,    566.,\n",
        "           527.,    419.,    374.,    395.,    310.,    323.]),\n",
        " array([   0.,    5.,   10.,   15.,   20.,   25.,   30.,   35.,   40.,\n",
        "          45.,   50.,   55.,   60.,   65.,   70.,   75.,   80.,   85.,\n",
        "          90.,   95.,  100.]),\n",
        " <a list of 20 Patch objects>)"
       ]
      },
      {
       "metadata": {},
       "output_type": "display_data",
       "png": "[encoded data removed]",
       "text": [
        "<matplotlib.figure.Figure at 0xf806550>"
       ]
      }
     ],
     "prompt_number": 19
    },
    {
     "cell_type": "code",
     "collapsed": false,
     "input": [
      "# TODO histogram\n",
      "most = -1\n",
      "key = -1\n",
      "\n",
      "for stat, stat_data in dframe.groupby('lender_count'):\n",
      "    cont =len(stat_data)\n",
      "    if cont > most and stat != 0.0:\n",
      "        most = cont\n",
      "        key = stat\n",
      "    \n",
      "print key\n",
      "print most\n",
      "\n",
      "dframe.lender_count.mean()"
     ],
     "language": "python",
     "metadata": {},
     "outputs": [
      {
       "output_type": "stream",
       "stream": "stdout",
       "text": [
        "5.0\n",
        "3240\n"
       ]
      },
      {
       "metadata": {},
       "output_type": "pyout",
       "prompt_number": 33,
       "text": [
        "21.861451302909757"
       ]
      }
     ],
     "prompt_number": 33
    },
    {
     "cell_type": "code",
     "collapsed": false,
     "input": [
      "borrowers = dframe.num_borrowers\n",
      "br = borrowers.tolist()\n",
      "\n",
      "br.sort()\n",
      "\n",
      "fig = plt.figure(figsize=(15,5), dpi=100)\n",
      "plt.xticks(np.arange(min(br), max(br)+1, 1))\n",
      "plt.hist(br, bins=20, range=(min(br),21))\n",
      "plt.ylabel('Number of loans')\n",
      "plt.xlabel('Borrower Count')\n",
      "plt.title('Histogram of Number of borrowers for a loan')"
     ],
     "language": "python",
     "metadata": {},
     "outputs": [
      {
       "metadata": {},
       "output_type": "pyout",
       "prompt_number": 21,
       "text": [
        "<matplotlib.text.Text at 0x2b176710>"
       ]
      },
      {
       "metadata": {},
       "output_type": "display_data",
       "png": "[encoded data removed]",
       "text": [
        "<matplotlib.figure.Figure at 0x2ac70828>"
       ]
      }
     ],
     "prompt_number": 21
    }
   ],
   "metadata": {}
  }
 ]
}