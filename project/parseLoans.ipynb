{
 "metadata": {
  "name": "",
  "signature": "sha256:a22918a5f5ad747181e11311aa28219c0ef8c2f17c7fdfd970ff6ba1158d3d73"
 },
 "nbformat": 3,
 "nbformat_minor": 0,
 "worksheets": [
  {
   "cells": [
    {
     "cell_type": "heading",
     "level": 2,
     "metadata": {},
     "source": [
      "Parse loans json files"
     ]
    },
    {
     "cell_type": "code",
     "collapsed": false,
     "input": [
      "import os\n",
      "import json\n",
      "import numpy as np\n",
      "import pandas as pd\n",
      "\n",
      "from pandas import Series, DataFrame"
     ],
     "language": "python",
     "metadata": {},
     "outputs": [],
     "prompt_number": 29
    },
    {
     "cell_type": "code",
     "collapsed": false,
     "input": [
      "c1 = [\"id\",\"name\",\"status\",\"funded_amount\",\"basket_amount\",\"paid_amount\",\"activity\",\"sector\",\"themes\",\"use\",\"delinquent\"]\n",
      "c2 = [\"country_code\",\"country\",\"town\",\"partner_id\",\"posted_date\",\"planned_expire_date\",\"loan_amount\",\"lender_count\",\"forex_loss\"]\n",
      "c3 = [\"bonus_credit_elig\",\"tags\",\"num_borrowers\",\"borrower_gender\",\"disbursal_date\",\"disbursal_currency\",\"disbursal_amount\"]\n",
      "c4 = [\"repayment_interval\",\"repayment_term\",\"terms_loan_amount\",\"funded_date\",\"paid_date\",\"translator\"]\n",
      "\n",
      "columns = c1+c2+c3+c4\n",
      "\n",
      "data_matrix = np.zeros((100000,len(columns)), dtype='S256')\n",
      "\n",
      "files = os.listdir(\"loans\")\n",
      "\n",
      "for f in files:\n",
      "    f_data = open(\"loans/\" + f)\n",
      "    json_data = f_data.read()\n",
      "\n",
      "    data = json.loads(json_data)\n",
      "    loans = data[\"loans\"]\n",
      "    \n",
      "    for idx,loan in enumerate(loans):\n",
      "        data_matrix[idx][0] = loan[\"id\"]\n",
      "        data_matrix[idx][1] = loan[\"name\"].encode('utf8')\n",
      "        data_matrix[idx][2] = loan[\"status\"]\n",
      "        data_matrix[idx][3] = loan[\"funded_amount\"]\n",
      "        data_matrix[idx][4] = loan[\"basket_amount\"]\n",
      "        data_matrix[idx][5] = loan[\"paid_amount\"]\n",
      "        data_matrix[idx][6] = loan[\"activity\"]\n",
      "        data_matrix[idx][7] = loan[\"sector\"]\n",
      "        data_matrix[idx][8] = str(loan[\"themes\"])\n",
      "        data_matrix[idx][9] = loan[\"use\"]\n",
      "        data_matrix[idx][10] = loan[\"delinquent\"]\n",
      "        data_matrix[idx][11] = loan[\"location\"][\"country_code\"]\n",
      "        data_matrix[idx][12] = loan[\"location\"][\"country\"]\n",
      "        data_matrix[idx][13] = loan[\"location\"][\"town\"].encode('utf8')\n",
      "        data_matrix[idx][14] = loan[\"partner_id\"]\n",
      "        data_matrix[idx][15] = loan[\"posted_date\"]\n",
      "        data_matrix[idx][16] = loan[\"planned_expiration_date\"]\n",
      "        data_matrix[idx][17] = loan[\"loan_amount\"]\n",
      "        data_matrix[idx][18] = loan[\"lender_count\"]\n",
      "        data_matrix[idx][19] = loan[\"currency_exchange_loss_amount\"]\n",
      "        data_matrix[idx][20] = loan[\"bonus_credit_eligibility\"]\n",
      "        data_matrix[idx][21] = str(loan[\"tags\"])\n",
      "        data_matrix[idx][22] = len(loan[\"borrowers\"])\n",
      "        data_matrix[idx][23] = loan[\"borrowers\"][0][\"gender\"] #forst one\n",
      "        data_matrix[idx][24] = loan[\"terms\"][\"disbursal_date\"] \n",
      "        data_matrix[idx][25] = loan[\"terms\"][\"disbursal_currency\"] \n",
      "        data_matrix[idx][26] = loan[\"terms\"][\"disbursal_amount\"]\n",
      "        data_matrix[idx][27] = loan[\"terms\"][\"repayment_interval\"] \n",
      "        data_matrix[idx][28] = loan[\"terms\"][\"repayment_term\"] \n",
      "        data_matrix[idx][29] = loan[\"terms\"][\"loan_amount\"]\n",
      "        data_matrix[idx][30] = loan[\"funded_date\"]\n",
      "        data_matrix[idx][31] = loan[\"paid_date\"]\n",
      "        data_matrix[idx][32] = (loan[\"translator\"] != \"null\") # exists?\n",
      "    \n",
      "    f_data.close()\n",
      "    break\n",
      "\n",
      "data_matrix[0]"
     ],
     "language": "python",
     "metadata": {},
     "outputs": [
      {
       "ename": "AttributeError",
       "evalue": "'NoneType' object has no attribute 'encode'",
       "output_type": "pyerr",
       "traceback": [
        "\u001b[1;31m---------------------------------------------------------------------------\u001b[0m\n\u001b[1;31mAttributeError\u001b[0m                            Traceback (most recent call last)",
        "\u001b[1;32m<ipython-input-88-36a42b7d45d4>\u001b[0m in \u001b[0;36m<module>\u001b[1;34m()\u001b[0m\n\u001b[0;32m     31\u001b[0m         \u001b[0mdata_matrix\u001b[0m\u001b[1;33m[\u001b[0m\u001b[0midx\u001b[0m\u001b[1;33m]\u001b[0m\u001b[1;33m[\u001b[0m\u001b[1;36m11\u001b[0m\u001b[1;33m]\u001b[0m \u001b[1;33m=\u001b[0m \u001b[0mloan\u001b[0m\u001b[1;33m[\u001b[0m\u001b[1;34m\"location\"\u001b[0m\u001b[1;33m]\u001b[0m\u001b[1;33m[\u001b[0m\u001b[1;34m\"country_code\"\u001b[0m\u001b[1;33m]\u001b[0m\u001b[1;33m\u001b[0m\u001b[0m\n\u001b[0;32m     32\u001b[0m         \u001b[0mdata_matrix\u001b[0m\u001b[1;33m[\u001b[0m\u001b[0midx\u001b[0m\u001b[1;33m]\u001b[0m\u001b[1;33m[\u001b[0m\u001b[1;36m12\u001b[0m\u001b[1;33m]\u001b[0m \u001b[1;33m=\u001b[0m \u001b[0mloan\u001b[0m\u001b[1;33m[\u001b[0m\u001b[1;34m\"location\"\u001b[0m\u001b[1;33m]\u001b[0m\u001b[1;33m[\u001b[0m\u001b[1;34m\"country\"\u001b[0m\u001b[1;33m]\u001b[0m\u001b[1;33m\u001b[0m\u001b[0m\n\u001b[1;32m---> 33\u001b[1;33m         \u001b[0mdata_matrix\u001b[0m\u001b[1;33m[\u001b[0m\u001b[0midx\u001b[0m\u001b[1;33m]\u001b[0m\u001b[1;33m[\u001b[0m\u001b[1;36m13\u001b[0m\u001b[1;33m]\u001b[0m \u001b[1;33m=\u001b[0m \u001b[0mloan\u001b[0m\u001b[1;33m[\u001b[0m\u001b[1;34m\"location\"\u001b[0m\u001b[1;33m]\u001b[0m\u001b[1;33m[\u001b[0m\u001b[1;34m\"town\"\u001b[0m\u001b[1;33m]\u001b[0m\u001b[1;33m.\u001b[0m\u001b[0mencode\u001b[0m\u001b[1;33m(\u001b[0m\u001b[1;34m'utf8'\u001b[0m\u001b[1;33m)\u001b[0m\u001b[1;33m\u001b[0m\u001b[0m\n\u001b[0m\u001b[0;32m     34\u001b[0m         \u001b[0mdata_matrix\u001b[0m\u001b[1;33m[\u001b[0m\u001b[0midx\u001b[0m\u001b[1;33m]\u001b[0m\u001b[1;33m[\u001b[0m\u001b[1;36m14\u001b[0m\u001b[1;33m]\u001b[0m \u001b[1;33m=\u001b[0m \u001b[0mloan\u001b[0m\u001b[1;33m[\u001b[0m\u001b[1;34m\"partner_id\"\u001b[0m\u001b[1;33m]\u001b[0m\u001b[1;33m\u001b[0m\u001b[0m\n\u001b[0;32m     35\u001b[0m         \u001b[0mdata_matrix\u001b[0m\u001b[1;33m[\u001b[0m\u001b[0midx\u001b[0m\u001b[1;33m]\u001b[0m\u001b[1;33m[\u001b[0m\u001b[1;36m15\u001b[0m\u001b[1;33m]\u001b[0m \u001b[1;33m=\u001b[0m \u001b[0mloan\u001b[0m\u001b[1;33m[\u001b[0m\u001b[1;34m\"posted_date\"\u001b[0m\u001b[1;33m]\u001b[0m\u001b[1;33m\u001b[0m\u001b[0m\n",
        "\u001b[1;31mAttributeError\u001b[0m: 'NoneType' object has no attribute 'encode'"
       ]
      }
     ],
     "prompt_number": 88
    },
    {
     "cell_type": "code",
     "collapsed": false,
     "input": [
      "len(columns)"
     ],
     "language": "python",
     "metadata": {},
     "outputs": [
      {
       "metadata": {},
       "output_type": "pyout",
       "prompt_number": 84,
       "text": [
        "33"
       ]
      }
     ],
     "prompt_number": 84
    },
    {
     "cell_type": "code",
     "collapsed": false,
     "input": [
      "names[89491]"
     ],
     "language": "python",
     "metadata": {},
     "outputs": [
      {
       "metadata": {},
       "output_type": "pyout",
       "prompt_number": 74,
       "text": [
        "u'Gantugs'"
       ]
      }
     ],
     "prompt_number": 74
    },
    {
     "cell_type": "code",
     "collapsed": false,
     "input": [
      "files = os.listdir(\"loans\")\n",
      "\n",
      "arr = np.zeros((2,3), dtype='S255')\n",
      "\n",
      "arr[0][0] = 2.3\n",
      "arr[0][1] = \"yuba\"\n",
      "arr[0][2] = 9\n",
      "arr[1][0] = 45.9\n",
      "arr[1][1] = \"paki\"\n",
      "arr[1][2] = 72\n",
      "\n",
      "#arr\n",
      "\n",
      "dframe = pd.DataFrame(arr, columns=[\"aa\",\"bb\",\"cc\"])\n",
      "dframe[[\"cc\"]] = dframe[[\"cc\"]].astype(int)\n",
      "dframe[[\"aa\"]] = dframe[[\"aa\"]].astype(float)\n",
      "t = dframe.iloc[0,0]\n",
      "print type(t)\n",
      "dframe"
     ],
     "language": "python",
     "metadata": {},
     "outputs": [
      {
       "output_type": "stream",
       "stream": "stdout",
       "text": [
        "<type 'numpy.float64'>\n"
       ]
      },
      {
       "html": [
        "<div style=\"max-height:1000px;max-width:1500px;overflow:auto;\">\n",
        "<table border=\"1\" class=\"dataframe\">\n",
        "  <thead>\n",
        "    <tr style=\"text-align: right;\">\n",
        "      <th></th>\n",
        "      <th>aa</th>\n",
        "      <th>bb</th>\n",
        "      <th>cc</th>\n",
        "    </tr>\n",
        "  </thead>\n",
        "  <tbody>\n",
        "    <tr>\n",
        "      <th>0</th>\n",
        "      <td>  2.3</td>\n",
        "      <td> yuba</td>\n",
        "      <td>  9</td>\n",
        "    </tr>\n",
        "    <tr>\n",
        "      <th>1</th>\n",
        "      <td> 45.9</td>\n",
        "      <td> paki</td>\n",
        "      <td> 72</td>\n",
        "    </tr>\n",
        "  </tbody>\n",
        "</table>\n",
        "</div>"
       ],
       "metadata": {},
       "output_type": "pyout",
       "prompt_number": 43,
       "text": [
        "     aa    bb  cc\n",
        "0   2.3  yuba   9\n",
        "1  45.9  paki  72"
       ]
      }
     ],
     "prompt_number": 43
    }
   ],
   "metadata": {}
  }
 ]
}