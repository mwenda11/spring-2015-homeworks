{
 "metadata": {
  "name": "",
  "signature": "sha256:9f634a260c34fb22111b50d58de9955cf9346457cd077f9c6a09a76864fe9683"
 },
 "nbformat": 3,
 "nbformat_minor": 0,
 "worksheets": [
  {
   "cells": [
    {
     "cell_type": "heading",
     "level": 2,
     "metadata": {},
     "source": [
      "Parse loans json files"
     ]
    },
    {
     "cell_type": "code",
     "collapsed": false,
     "input": [
      "import os\n",
      "import json\n",
      "import time\n",
      "import requests\n",
      "import numpy as np\n",
      "import pandas as pd\n",
      "\n",
      "from pandas import Series, DataFrame"
     ],
     "language": "python",
     "metadata": {},
     "outputs": [],
     "prompt_number": 1
    },
    {
     "cell_type": "code",
     "collapsed": false,
     "input": [
      "c1 = [\"id\",\"name\",\"status\",\"funded_amount\",\"basket_amount\",\"paid_amount\",\"activity\",\"sector\",\"themes\",\"use\",\"delinquent\"]\n",
      "c2 = [\"country_code\",\"country\",\"town\",\"partner_id\",\"posted_date\",\"planned_expire_date\",\"loan_amount\",\"lender_count\",\"forex_loss\"]\n",
      "c3 = [\"bonus_credit_elig\",\"tags\",\"num_borrowers\",\"borrower_gender\",\"disbursal_date\",\"disbursal_currency\",\"disbursal_amount\"]\n",
      "c4 = [\"repayment_interval\",\"repayment_term\",\"terms_loan_amount\",\"funded_date\",\"paid_date\",\"translator\"]\n",
      "\n",
      "columns = c1+c2+c3+c4\n",
      "\n",
      "data_matrix = np.zeros((100000,len(columns)), dtype='S50')\n",
      "\n",
      "files = os.listdir(\"loans\")\n",
      "idx = 0\n",
      "\n",
      "for f in files:\n",
      "    f_data = open(\"loans/\" + f)\n",
      "    json_data = f_data.read()\n",
      "\n",
      "    data = json.loads(json_data)\n",
      "    loans = data[\"loans\"]\n",
      "    \n",
      "    for loan in loans:\n",
      "        data_matrix[idx][0] = loan[\"id\"]\n",
      "        data_matrix[idx][1] = loan[\"name\"].encode('utf8')\n",
      "        data_matrix[idx][2] = loan[\"status\"]\n",
      "        data_matrix[idx][3] = loan[\"funded_amount\"]\n",
      "        data_matrix[idx][4] = loan[\"basket_amount\"]\n",
      "        data_matrix[idx][5] = loan[\"paid_amount\"]\n",
      "        data_matrix[idx][6] = loan[\"activity\"]\n",
      "        data_matrix[idx][7] = loan[\"sector\"]\n",
      "        data_matrix[idx][8] = str(loan[\"themes\"])\n",
      "        data_matrix[idx][9] = loan[\"use\"].encode('utf8')\n",
      "        data_matrix[idx][10] = loan[\"delinquent\"]\n",
      "        data_matrix[idx][11] = loan[\"location\"][\"country_code\"]\n",
      "        data_matrix[idx][12] = loan[\"location\"][\"country\"]\n",
      "        town = loan[\"location\"][\"town\"]\n",
      "        if town is not None:\n",
      "            data_matrix[idx][13] = loan[\"location\"][\"town\"].encode('utf8')\n",
      "        data_matrix[idx][14] = loan[\"partner_id\"]\n",
      "        data_matrix[idx][15] = loan[\"posted_date\"]\n",
      "        data_matrix[idx][16] = loan[\"planned_expiration_date\"]\n",
      "        data_matrix[idx][17] = loan[\"loan_amount\"]\n",
      "        data_matrix[idx][18] = loan[\"lender_count\"]\n",
      "        data_matrix[idx][19] = loan[\"currency_exchange_loss_amount\"]\n",
      "        data_matrix[idx][20] = loan[\"bonus_credit_eligibility\"]\n",
      "        data_matrix[idx][21] = str(loan[\"tags\"])\n",
      "        data_matrix[idx][22] = len(loan[\"borrowers\"])\n",
      "        data_matrix[idx][23] = loan[\"borrowers\"][0][\"gender\"] #forst one\n",
      "        data_matrix[idx][24] = loan[\"terms\"][\"disbursal_date\"] \n",
      "        data_matrix[idx][25] = loan[\"terms\"][\"disbursal_currency\"] \n",
      "        data_matrix[idx][26] = loan[\"terms\"][\"disbursal_amount\"]\n",
      "        data_matrix[idx][27] = loan[\"terms\"][\"repayment_interval\"] \n",
      "        data_matrix[idx][28] = loan[\"terms\"][\"repayment_term\"] \n",
      "        data_matrix[idx][29] = loan[\"terms\"][\"loan_amount\"]\n",
      "        data_matrix[idx][30] = loan[\"funded_date\"]\n",
      "        data_matrix[idx][31] = loan[\"paid_date\"]\n",
      "        data_matrix[idx][32] = (loan[\"translator\"] is not None) # exists?\n",
      "        \n",
      "        idx += 1\n",
      "    \n",
      "    f_data.close()\n",
      "    #break\n",
      "\n",
      "data_matrix[0]"
     ],
     "language": "python",
     "metadata": {},
     "outputs": [
      {
       "metadata": {},
       "output_type": "pyout",
       "prompt_number": 2,
       "text": [
        "array(['3254', 'Noem\\xc3\\xad', 'paid', '200', 'None', '200', 'Sewing',\n",
        "       'Services', 'None', 'Purchase merchandise', 'None', 'MX', 'Mexico',\n",
        "       'Monclova,Coahuila', '16', '2006-12-31T02:32:42Z', 'None', '200',\n",
        "       '6', 'None', 'False', '[]', '1', 'F', '2007-01-14T05:29:18Z', 'USD',\n",
        "       '200', 'Monthly', '6', '200', '2006-12-31T05:29:18Z',\n",
        "       '2007-06-04T09:15:29Z', 'False'], \n",
        "      dtype='|S50')"
       ]
      }
     ],
     "prompt_number": 2
    },
    {
     "cell_type": "code",
     "collapsed": false,
     "input": [
      "dframe = pd.DataFrame(data_matrix, columns=columns)"
     ],
     "language": "python",
     "metadata": {},
     "outputs": [],
     "prompt_number": 10
    },
    {
     "cell_type": "code",
     "collapsed": false,
     "input": [
      "# returns a list of lenders for a loan\n",
      "def get_lenders(loan_id):\n",
      "    response = requests.get(\"http://api.kivaws.org/v1/loans/%s/lenders.json\"%(loan_id))\n",
      "    json_resp = response.json()\n",
      "    #print type(json_resp)\n",
      "    lenders=\"#\"\n",
      "    if \"lenders\" in json_resp:\n",
      "        lenders = json_resp[\"lenders\"]\n",
      "    else:\n",
      "        print json.dumps(json_resp)\n",
      "        lenders = json_resp[\"lenders\"] # error\n",
      "    return json.dumps(lenders) "
     ],
     "language": "python",
     "metadata": {},
     "outputs": [],
     "prompt_number": 3
    },
    {
     "cell_type": "code",
     "collapsed": false,
     "input": [
      "# fetch lenders for each loan and write them to the file\n",
      "def write_500(loan_ids, filename):\n",
      "    with open(filename, \"a\") as f:\n",
      "        f.write('{\"data\":[')\n",
      "        tally = 0\n",
      "        sleep_dur = 1\n",
      "        for lid in loan_ids:\n",
      "            if not lid:\n",
      "                continue\n",
      "            time.sleep(sleep_dur)\n",
      "            \n",
      "            then = time.time()\n",
      "            prefix = '{\"loan_id\":' + str(lid) + ',\"lenders\":'\n",
      "            lenders = get_lenders(lid)\n",
      "            suffix = '},'\n",
      "\n",
      "            output = prefix + lenders + suffix\n",
      "            f.write(output)\n",
      "            \n",
      "            now = time.time()\n",
      "            sleep_dur = (1 - (now - then)) + 0.05\n",
      "            if sleep_dur < 0.05:\n",
      "                sleep_dur = 0.05\n",
      "\n",
      "        f.write(']}')\n",
      "        f.close()"
     ],
     "language": "python",
     "metadata": {},
     "outputs": [],
     "prompt_number": 29
    },
    {
     "cell_type": "code",
     "collapsed": false,
     "input": [
      "ids = data_matrix[:,0]\n",
      "\n",
      "start = 89000\n",
      "while start < len(ids):\n",
      "    fname = \"lenders/lenders\" + str(start) + \".json\"\n",
      "    print \"starting...\" + fname\n",
      "    end = start + 500\n",
      "    loan500 = ids[start:end]\n",
      "    try:\n",
      "        write_500(loan500,fname)\n",
      "    except ValueError as e:\n",
      "        print str(e)\n",
      "    start = end"
     ],
     "language": "python",
     "metadata": {},
     "outputs": [
      {
       "output_type": "stream",
       "stream": "stdout",
       "text": [
        "starting...lenders/lenders89000.json\n",
        "starting...lenders/lenders89500.json"
       ]
      },
      {
       "output_type": "stream",
       "stream": "stdout",
       "text": [
        "\n",
        "starting...lenders/lenders90000.json\n",
        "starting...lenders/lenders90500.json\n",
        "starting...lenders/lenders91000.json\n",
        "starting...lenders/lenders91500.json\n",
        "starting...lenders/lenders92000.json\n",
        "starting...lenders/lenders92500.json\n",
        "starting...lenders/lenders93000.json\n",
        "starting...lenders/lenders93500.json\n",
        "starting...lenders/lenders94000.json\n",
        "starting...lenders/lenders94500.json\n",
        "starting...lenders/lenders95000.json\n",
        "starting...lenders/lenders95500.json\n",
        "starting...lenders/lenders96000.json\n",
        "starting...lenders/lenders96500.json"
       ]
      },
      {
       "output_type": "stream",
       "stream": "stdout",
       "text": [
        "\n",
        "starting...lenders/lenders97000.json\n",
        "starting...lenders/lenders97500.json\n",
        "starting...lenders/lenders98000.json\n",
        "starting...lenders/lenders98500.json\n",
        "starting...lenders/lenders99000.json\n",
        "starting...lenders/lenders99500.json\n"
       ]
      }
     ],
     "prompt_number": 30
    },
    {
     "cell_type": "code",
     "collapsed": false,
     "input": [
      "myk = ids[89000:]\n"
     ],
     "language": "python",
     "metadata": {},
     "outputs": [
      {
       "metadata": {},
       "output_type": "pyout",
       "prompt_number": 28,
       "text": [
        "11000"
       ]
      }
     ],
     "prompt_number": 28
    },
    {
     "cell_type": "code",
     "collapsed": false,
     "input": [
      "ids = data_matrix[:,0]\n",
      "ids[0]\n",
      "tid = time.time()\n",
      "print get_lenders(3254)\n",
      "dif = time.time()-tid\n",
      "sov = 1.0-dif\n",
      "print tid\n",
      "print dif\n",
      "print sov + 0.10"
     ],
     "language": "python",
     "metadata": {},
     "outputs": [
      {
       "output_type": "stream",
       "stream": "stdout",
       "text": [
        "[{\"uid\": \"donald3350\", \"image\": {\"id\": 847350, \"template_id\": 1}, \"whereabouts\": \"Brownsville OR\", \"country_code\": \"US\", \"lender_id\": \"donald3350\", \"name\": \"Donald\"}, {\"uid\": \"dewdropdigital\", \"image\": {\"id\": 1330197, \"template_id\": 1}, \"whereabouts\": \"New York NY\", \"country_code\": \"US\", \"lender_id\": \"dewdropdigital\", \"name\": \"Dewdrop Digital\"}, {\"uid\": \"michael9013\", \"image\": {\"id\": 726677, \"template_id\": 1}, \"whereabouts\": \"New York NY\", \"country_code\": \"US\", \"lender_id\": \"michael9013\", \"name\": \"Michael\"}, {\"uid\": \"davidfraga\", \"image\": {\"id\": 10275, \"template_id\": 1}, \"whereabouts\": \"New York NY\", \"country_code\": \"US\", \"lender_id\": \"davidfraga\", \"name\": \"David Fraga\"}, {\"image\": {\"id\": 726677, \"template_id\": 1}, \"name\": \"Anonymous\"}, {\"uid\": \"ned2504\", \"image\": {\"id\": 667264, \"template_id\": 1}, \"whereabouts\": \"\", \"country_code\": \"US\", \"lender_id\": \"ned2504\", \"name\": \"ned\"}]\n",
        "1428855659.38\n",
        "0.862999916077\n",
        "0.237000083923\n"
       ]
      }
     ],
     "prompt_number": 18
    },
    {
     "cell_type": "code",
     "collapsed": false,
     "input": [
      "3-5"
     ],
     "language": "python",
     "metadata": {},
     "outputs": [
      {
       "metadata": {},
       "output_type": "pyout",
       "prompt_number": 19,
       "text": [
        "-2"
       ]
      }
     ],
     "prompt_number": 19
    }
   ],
   "metadata": {}
  }
 ]
}