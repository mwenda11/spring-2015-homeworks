{
 "metadata": {
  "name": "",
  "signature": "sha256:37edf19d3d5ff0a6d61061efafca7e709ff25ef79728afb536b17d3f34a41a65"
 },
 "nbformat": 3,
 "nbformat_minor": 0,
 "worksheets": [
  {
   "cells": [
    {
     "cell_type": "code",
     "collapsed": false,
     "input": [
      "import os\n",
      "import json\n",
      "import time\n",
      "import datetime\n",
      "import requests\n",
      "import numpy as np\n",
      "import pandas as pd\n",
      "\n",
      "from patsy import dmatrices\n",
      "from collections import defaultdict\n",
      "from matplotlib import pyplot as plt\n",
      "from pandas import Series, DataFrame\n",
      "%matplotlib inline\n",
      "\n",
      "import sklearn.metrics as metrics\n",
      "import sklearn.utils as utils\n",
      "import sklearn.linear_model as linear_model\n",
      "import sklearn.cross_validation as cross_validation\n",
      "from sklearn.preprocessing import StandardScaler"
     ],
     "language": "python",
     "metadata": {},
     "outputs": [],
     "prompt_number": 1
    },
    {
     "cell_type": "code",
     "collapsed": false,
     "input": [
      "dframe = pd.read_csv('filtered_loan_dataF.csv', index_col='id')"
     ],
     "language": "python",
     "metadata": {},
     "outputs": [],
     "prompt_number": 2
    },
    {
     "cell_type": "code",
     "collapsed": false,
     "input": [
      "# to predict default -- filter: paid,defaulted\n",
      "dframe = dframe[dframe.status != \"defaulted\"]\n",
      "dframe = dframe[dframe.status != \"in_repayment\"]\n",
      "dframe = dframe[dframe.status != \"refunded\"]"
     ],
     "language": "python",
     "metadata": {},
     "outputs": [],
     "prompt_number": 5
    },
    {
     "cell_type": "code",
     "collapsed": false,
     "input": [
      "#dframe.groupby(\"status\").count()"
     ],
     "language": "python",
     "metadata": {},
     "outputs": [],
     "prompt_number": 9
    },
    {
     "cell_type": "code",
     "collapsed": false,
     "input": [
      "def was_funded(row):\n",
      "    funded = row.status\n",
      "    if funded == \"expired\":\n",
      "        return 0\n",
      "    else:\n",
      "        return 1\n",
      "\n",
      "dframe['status'] = dframe.apply(was_funded, axis = 1)\n",
      "\n",
      "\n",
      "for it, dat in dframe.groupby(\"status\"):\n",
      "    print it, len(dat)"
     ],
     "language": "python",
     "metadata": {},
     "outputs": [
      {
       "output_type": "stream",
       "stream": "stdout",
       "text": [
        "0 1961\n",
        "1 82193\n"
       ]
      }
     ],
     "prompt_number": 10
    },
    {
     "cell_type": "code",
     "collapsed": false,
     "input": [
      "def is_female(row):\n",
      "    gen = row.borrower_gender\n",
      "    if gen == \"F\":\n",
      "        return 1\n",
      "    else:\n",
      "        return 0\n",
      "\n",
      "dframe['borrower_gender'] = dframe.apply(is_female, axis = 1)\n",
      "\n",
      "for it, dat in dframe.groupby(\"borrower_gender\"):\n",
      "    print it, len(dat)"
     ],
     "language": "python",
     "metadata": {},
     "outputs": [
      {
       "output_type": "stream",
       "stream": "stdout",
       "text": [
        "0 21675\n",
        "1 62479\n"
       ]
      }
     ],
     "prompt_number": 11
    },
    {
     "cell_type": "code",
     "collapsed": false,
     "input": [
      "#should we have a column binary for each country\n",
      "# // visualize default/fund rate for each country -- suspect that ppl would be less like to fund nigeria\n",
      "con_list = []\n",
      "for it, dat in dframe.groupby(\"country\"):\n",
      "    con_list.append(it.strip())\n",
      "\n",
      "#print con_list\n",
      "asia = [\"Afghanistan\",\"Armenia\",\"Azerbaijan\",\"Cambodia\",\"Georgia\",\"Indonesia\",\"Iraq\",\"Israel\",\"Jordan\",\"Kyrgyzstan\",\"Lebanon\",\"Moldova\",\"Mongolia\",\"Nepal\",\"Pakistan\",\"Palestine\",\"Philippines\",\"Samoa\",\"Sri Lanka\",\"Tajikistan\",\"Turkey\",\"Vietnam\",\"Yemen\"]\n",
      "africa = [\"Benin\",\"Burkina Faso\",\"Burundi\",\"Cameroon\",\"Congo (Dem. Rep.)\",\"Congo (Rep.)\",\"Cote D'Ivoire\",\"Ghana\",\"Kenya\",\"Liberia\",\"Mali\",\"Mozambique\",\"Nigeria\",\"Rwanda\",\"Senegal\",\"Sierra Leone\",\"South Africa\",\"South Sudan\",\"Tanzania\",\"Togo\",\"Uganda\",\"Zimbabwe\"]\n",
      "latin_america = [\"Bolivia\",\"Colombia\",\"Chile\",\"Costa Rica\",\"Dominican Republic\",\"Ecuador\",\"El Salvador\",\"Guatemala\",\"Haiti\",\"Honduras\",\"Mexico\",\"Nicaragua\",\"Paraguay\",\"Peru\"]\n",
      "europe = [\"Bosnia and Herzegovina\",\"Bulgaria\",\"Ukraine\"]\n",
      "north_america = [\"United States\"]"
     ],
     "language": "python",
     "metadata": {},
     "outputs": [],
     "prompt_number": 12
    },
    {
     "cell_type": "code",
     "collapsed": false,
     "input": [
      "def continent(row):\n",
      "    con = row.country.strip()\n",
      "    if con in africa:\n",
      "        return 'africa'\n",
      "    elif con in asia:\n",
      "        return 'asia'\n",
      "    elif con in europe:\n",
      "        return 'europe'\n",
      "    elif con in latin_america:\n",
      "        return 'latin_america'\n",
      "    elif con in north_america:\n",
      "        return 'north_america'\n",
      "\n",
      "dframe.insert(8, \"continent\", '')\n",
      "dframe['continent'] = dframe.apply(continent, axis = 1)\n",
      "\n",
      "for it, dat in dframe.groupby(\"continent\"):\n",
      "    print it, len(dat)"
     ],
     "language": "python",
     "metadata": {},
     "outputs": [
      {
       "output_type": "stream",
       "stream": "stdout",
       "text": [
        "africa 23408\n",
        "asia 32388\n",
        "europe 818\n",
        "latin_america 27436\n",
        "north_america 104\n"
       ]
      }
     ],
     "prompt_number": 13
    },
    {
     "cell_type": "code",
     "collapsed": false,
     "input": [
      "dframe.iloc[:6,:15]"
     ],
     "language": "python",
     "metadata": {},
     "outputs": [
      {
       "html": [
        "<div style=\"max-height:1000px;max-width:1500px;overflow:auto;\">\n",
        "<table border=\"1\" class=\"dataframe\">\n",
        "  <thead>\n",
        "    <tr style=\"text-align: right;\">\n",
        "      <th></th>\n",
        "      <th>name</th>\n",
        "      <th>status</th>\n",
        "      <th>funded_amount</th>\n",
        "      <th>text_length</th>\n",
        "      <th>num_languages</th>\n",
        "      <th>sector</th>\n",
        "      <th>country</th>\n",
        "      <th>loan_amount</th>\n",
        "      <th>continent</th>\n",
        "      <th>bonus_credit_elig</th>\n",
        "      <th>num_borrowers</th>\n",
        "      <th>borrower_gender</th>\n",
        "      <th>partner_loss_liable</th>\n",
        "      <th>pactive</th>\n",
        "      <th>prating</th>\n",
        "    </tr>\n",
        "    <tr>\n",
        "      <th>id</th>\n",
        "      <th></th>\n",
        "      <th></th>\n",
        "      <th></th>\n",
        "      <th></th>\n",
        "      <th></th>\n",
        "      <th></th>\n",
        "      <th></th>\n",
        "      <th></th>\n",
        "      <th></th>\n",
        "      <th></th>\n",
        "      <th></th>\n",
        "      <th></th>\n",
        "      <th></th>\n",
        "      <th></th>\n",
        "      <th></th>\n",
        "    </tr>\n",
        "  </thead>\n",
        "  <tbody>\n",
        "    <tr>\n",
        "      <th>149473</th>\n",
        "      <td>          Buston</td>\n",
        "      <td> 0</td>\n",
        "      <td> 2650</td>\n",
        "      <td> 2754</td>\n",
        "      <td> 1</td>\n",
        "      <td>    Clothing</td>\n",
        "      <td> Tajikistan</td>\n",
        "      <td> 3000</td>\n",
        "      <td>          asia</td>\n",
        "      <td> 1</td>\n",
        "      <td>  1</td>\n",
        "      <td> 0</td>\n",
        "      <td> 1</td>\n",
        "      <td> 1</td>\n",
        "      <td> 4.5</td>\n",
        "    </tr>\n",
        "    <tr>\n",
        "      <th>149455</th>\n",
        "      <td>           Zahir</td>\n",
        "      <td> 0</td>\n",
        "      <td>  900</td>\n",
        "      <td>  177</td>\n",
        "      <td> 1</td>\n",
        "      <td>        Food</td>\n",
        "      <td> Azerbaijan</td>\n",
        "      <td> 2500</td>\n",
        "      <td>          asia</td>\n",
        "      <td> 0</td>\n",
        "      <td>  1</td>\n",
        "      <td> 0</td>\n",
        "      <td> 1</td>\n",
        "      <td> 1</td>\n",
        "      <td> 2.5</td>\n",
        "    </tr>\n",
        "    <tr>\n",
        "      <th>149436</th>\n",
        "      <td>           Vasif</td>\n",
        "      <td> 0</td>\n",
        "      <td> 2000</td>\n",
        "      <td>  233</td>\n",
        "      <td> 1</td>\n",
        "      <td> Agriculture</td>\n",
        "      <td> Azerbaijan</td>\n",
        "      <td> 2500</td>\n",
        "      <td>          asia</td>\n",
        "      <td> 0</td>\n",
        "      <td>  1</td>\n",
        "      <td> 0</td>\n",
        "      <td> 1</td>\n",
        "      <td> 1</td>\n",
        "      <td> 2.5</td>\n",
        "    </tr>\n",
        "    <tr>\n",
        "      <th>149305</th>\n",
        "      <td>           Akbar</td>\n",
        "      <td> 0</td>\n",
        "      <td> 2475</td>\n",
        "      <td>  215</td>\n",
        "      <td> 1</td>\n",
        "      <td>     Housing</td>\n",
        "      <td> Azerbaijan</td>\n",
        "      <td> 2500</td>\n",
        "      <td>          asia</td>\n",
        "      <td> 0</td>\n",
        "      <td>  1</td>\n",
        "      <td> 0</td>\n",
        "      <td> 1</td>\n",
        "      <td> 1</td>\n",
        "      <td> 2.5</td>\n",
        "    </tr>\n",
        "    <tr>\n",
        "      <th>149181</th>\n",
        "      <td> Luz Coral Group</td>\n",
        "      <td> 0</td>\n",
        "      <td>  475</td>\n",
        "      <td>  758</td>\n",
        "      <td> 2</td>\n",
        "      <td>      Retail</td>\n",
        "      <td>    Bolivia</td>\n",
        "      <td> 2800</td>\n",
        "      <td> latin_america</td>\n",
        "      <td> 0</td>\n",
        "      <td> 12</td>\n",
        "      <td> 1</td>\n",
        "      <td> 1</td>\n",
        "      <td> 0</td>\n",
        "      <td> 0.0</td>\n",
        "    </tr>\n",
        "    <tr>\n",
        "      <th>149173</th>\n",
        "      <td>   Amistad Group</td>\n",
        "      <td> 0</td>\n",
        "      <td> 4600</td>\n",
        "      <td> 1118</td>\n",
        "      <td> 2</td>\n",
        "      <td>      Retail</td>\n",
        "      <td>    Bolivia</td>\n",
        "      <td> 4600</td>\n",
        "      <td> latin_america</td>\n",
        "      <td> 0</td>\n",
        "      <td> 16</td>\n",
        "      <td> 1</td>\n",
        "      <td> 1</td>\n",
        "      <td> 0</td>\n",
        "      <td> 0.0</td>\n",
        "    </tr>\n",
        "  </tbody>\n",
        "</table>\n",
        "</div>"
       ],
       "metadata": {},
       "output_type": "pyout",
       "prompt_number": 14,
       "text": [
        "                   name  status  funded_amount  text_length  num_languages  \\\n",
        "id                                                                           \n",
        "149473           Buston       0           2650         2754              1   \n",
        "149455            Zahir       0            900          177              1   \n",
        "149436            Vasif       0           2000          233              1   \n",
        "149305            Akbar       0           2475          215              1   \n",
        "149181  Luz Coral Group       0            475          758              2   \n",
        "149173    Amistad Group       0           4600         1118              2   \n",
        "\n",
        "             sector     country  loan_amount      continent  \\\n",
        "id                                                            \n",
        "149473     Clothing  Tajikistan         3000           asia   \n",
        "149455         Food  Azerbaijan         2500           asia   \n",
        "149436  Agriculture  Azerbaijan         2500           asia   \n",
        "149305      Housing  Azerbaijan         2500           asia   \n",
        "149181       Retail     Bolivia         2800  latin_america   \n",
        "149173       Retail     Bolivia         4600  latin_america   \n",
        "\n",
        "        bonus_credit_elig  num_borrowers  borrower_gender  \\\n",
        "id                                                          \n",
        "149473                  1              1                0   \n",
        "149455                  0              1                0   \n",
        "149436                  0              1                0   \n",
        "149305                  0              1                0   \n",
        "149181                  0             12                1   \n",
        "149173                  0             16                1   \n",
        "\n",
        "        partner_loss_liable  pactive  prating  \n",
        "id                                             \n",
        "149473                    1        1      4.5  \n",
        "149455                    1        1      2.5  \n",
        "149436                    1        1      2.5  \n",
        "149305                    1        1      2.5  \n",
        "149181                    1        0      0.0  \n",
        "149173                    1        0      0.0  "
       ]
      }
     ],
     "prompt_number": 14
    },
    {
     "cell_type": "code",
     "collapsed": false,
     "input": [
      "y, dfX = dmatrices('status ~ text_length + num_languages + C(sector) + C(continent) + loan_amount + bonus_credit_elig + num_borrowers + \\\n",
      "                 borrower_gender + partner_loss_liable + pactive + prating + pdays_as_member + pdelinquency_rate + \\\n",
      "                 pdefault_rate + ptotal_amount_raised + ploans_posted + pcharges_FI + pALSPCI + ploans_at_risk_rate + pforex_loss_rate',\n",
      "                 dframe, return_type=\"dataframe\")"
     ],
     "language": "python",
     "metadata": {},
     "outputs": [],
     "prompt_number": 16
    },
    {
     "cell_type": "code",
     "collapsed": false,
     "input": [
      "scaler = StandardScaler()\n",
      "scaler.fit(dfX)\n",
      "X = scaler.transform(dfX)"
     ],
     "language": "python",
     "metadata": {},
     "outputs": [],
     "prompt_number": 17
    },
    {
     "cell_type": "code",
     "collapsed": false,
     "input": [
      "print y.shape, \n",
      "y = np.ravel(y)\n",
      "print y.shape"
     ],
     "language": "python",
     "metadata": {},
     "outputs": [
      {
       "output_type": "stream",
       "stream": "stdout",
       "text": [
        "(84154, 1) (84154L,)\n"
       ]
      }
     ],
     "prompt_number": 18
    },
    {
     "cell_type": "code",
     "collapsed": false,
     "input": [
      "# evaluate the model by splitting into train and test sets\n",
      "X_train, X_test, y_train, y_test = cross_validation.train_test_split(X,\n",
      "                                                                     y,\n",
      "                                                                     test_size=0.3,\n",
      "                                                                     random_state=0\n",
      "                                                                     )\n",
      "logistic_regr = linear_model.LogisticRegression()\n",
      "logistic_regr.fit(X_train, y_train)"
     ],
     "language": "python",
     "metadata": {},
     "outputs": [
      {
       "metadata": {},
       "output_type": "pyout",
       "prompt_number": 19,
       "text": [
        "LogisticRegression(C=1.0, class_weight=None, dual=False, fit_intercept=True,\n",
        "          intercept_scaling=1, penalty='l2', random_state=None, tol=0.0001)"
       ]
      }
     ],
     "prompt_number": 19
    },
    {
     "cell_type": "code",
     "collapsed": false,
     "input": [
      "# verifying if cross_validation did a good split\n",
      "dfy_train = pd.DataFrame(y_train, columns=[\"status\"])\n",
      "dfy_test = pd.DataFrame(y_test, columns=[\"status\"])\n",
      "\n",
      "for it, dat in dfy_test.groupby(\"status\"):\n",
      "    print it, len(dat)\n",
      "print '----------------------'   \n",
      "for it, dat in dfy_train.groupby(\"status\"):\n",
      "    print it, len(dat)\n",
      "\n",
      "print (24682/565.0)\n",
      "print (57511/1396.0)"
     ],
     "language": "python",
     "metadata": {},
     "outputs": [
      {
       "output_type": "stream",
       "stream": "stdout",
       "text": [
        "0.0 565\n",
        "1.0 24682\n",
        "----------------------\n",
        "0.0 1396\n",
        "1.0 57511\n",
        "43.6849557522\n",
        "41.196991404\n"
       ]
      }
     ],
     "prompt_number": 22
    },
    {
     "cell_type": "code",
     "collapsed": false,
     "input": [
      "# predict class labels for the test set\n",
      "y_predicted = logistic_regr.predict(X_test)\n",
      "print y_predicted"
     ],
     "language": "python",
     "metadata": {},
     "outputs": [
      {
       "output_type": "stream",
       "stream": "stdout",
       "text": [
        "[ 1.  1.  1. ...,  1.  1.  1.]\n"
       ]
      }
     ],
     "prompt_number": 23
    },
    {
     "cell_type": "code",
     "collapsed": false,
     "input": [
      "#prediction probabilities\n",
      "probs = logistic_regr.predict_proba(X_test)\n",
      "print probs"
     ],
     "language": "python",
     "metadata": {},
     "outputs": [
      {
       "output_type": "stream",
       "stream": "stdout",
       "text": [
        "[[  5.44827497e-03   9.94551725e-01]\n",
        " [  1.26039447e-02   9.87396055e-01]\n",
        " [  1.65183273e-03   9.98348167e-01]\n",
        " ..., \n",
        " [  1.50186946e-05   9.99984981e-01]\n",
        " [  9.30647083e-02   9.06935292e-01]\n",
        " [  1.72601022e-02   9.82739898e-01]]\n"
       ]
      }
     ],
     "prompt_number": 24
    },
    {
     "cell_type": "code",
     "collapsed": false,
     "input": [
      "# generate evaluation metrics\n",
      "print metrics.accuracy_score(y_test, y_predicted)"
     ],
     "language": "python",
     "metadata": {},
     "outputs": [
      {
       "output_type": "stream",
       "stream": "stdout",
       "text": [
        "0.977304234166\n"
       ]
      }
     ],
     "prompt_number": 25
    },
    {
     "cell_type": "code",
     "collapsed": false,
     "input": [
      "print metrics.confusion_matrix(y_test, y_predicted)\n",
      "print metrics.classification_report(y_test, y_predicted)"
     ],
     "language": "python",
     "metadata": {},
     "outputs": [
      {
       "output_type": "stream",
       "stream": "stdout",
       "text": [
        "[[   84   481]\n",
        " [   92 24590]]\n",
        "             precision    recall  f1-score   support\n",
        "\n",
        "        0.0       0.48      0.15      0.23       565\n",
        "        1.0       0.98      1.00      0.99     24682\n",
        "\n",
        "avg / total       0.97      0.98      0.97     25247\n",
        "\n"
       ]
      }
     ],
     "prompt_number": 26
    },
    {
     "cell_type": "code",
     "collapsed": false,
     "input": [
      "# examine the coefficients\n",
      "print pd.DataFrame(zip(dfX.columns, np.transpose(logistic_regr.coef_)))"
     ],
     "language": "python",
     "metadata": {},
     "outputs": [
      {
       "output_type": "stream",
       "stream": "stdout",
       "text": [
        "                                0                    1\n",
        "0                       Intercept                [0.0]\n",
        "1               C(sector)[T.Arts]     [0.589589295848]\n",
        "2           C(sector)[T.Clothing]    [-0.218033420936]\n",
        "3       C(sector)[T.Construction]    [0.0507072660783]\n",
        "4          C(sector)[T.Education]     [0.402902238437]\n",
        "5      C(sector)[T.Entertainment]     [0.185018842323]\n",
        "6               C(sector)[T.Food]    [-0.160062888618]\n",
        "7             C(sector)[T.Health]     [0.417360443294]\n",
        "8            C(sector)[T.Housing]    [-0.198235767925]\n",
        "9      C(sector)[T.Manufacturing]     [0.664905049456]\n",
        "10      C(sector)[T.Personal Use]   [-0.0988752466964]\n",
        "11            C(sector)[T.Retail]      [-0.4398706056]\n",
        "12          C(sector)[T.Services]   [-0.0923332708009]\n",
        "13    C(sector)[T.Transportation]    [-0.175861157788]\n",
        "14         C(sector)[T.Wholesale]    [0.0117999948466]\n",
        "15           C(continent)[T.asia]    [-0.230160987446]\n",
        "16         C(continent)[T.europe]     [0.289592713952]\n",
        "17  C(continent)[T.latin_america]   [-0.0389142868739]\n",
        "18  C(continent)[T.north_america]     [0.306907305029]\n",
        "19                    text_length     [0.422241908328]\n",
        "20                  num_languages    [-0.461965941148]\n",
        "21                    loan_amount     [-1.04596654082]\n",
        "22              bonus_credit_elig  [-0.00371220029057]\n",
        "23                  num_borrowers     [0.790324156254]\n",
        "24                borrower_gender     [0.581750498891]\n",
        "25            partner_loss_liable     [0.810612751343]\n",
        "26                        pactive     [0.463529762705]\n",
        "27                        prating    [-0.495631071307]\n",
        "28                pdays_as_member      [0.60575730736]\n",
        "29              pdelinquency_rate     [0.376705379705]\n",
        "30                  pdefault_rate   [0.00964935025909]\n",
        "31           ptotal_amount_raised     [0.260874025523]\n",
        "32                  ploans_posted   [0.00695489228224]\n",
        "33                    pcharges_FI                [0.0]\n",
        "34                        pALSPCI    [0.0548413955023]\n",
        "35            ploans_at_risk_rate    [-0.389781613776]\n",
        "36               pforex_loss_rate     [0.253133833672]\n"
       ]
      }
     ],
     "prompt_number": 27
    },
    {
     "cell_type": "markdown",
     "metadata": {},
     "source": [
      "Dette er smukt!\n",
      "TODO: some pairwise visualizations e.g. sector & status; sector & gender"
     ]
    }
   ],
   "metadata": {}
  }
 ]
}