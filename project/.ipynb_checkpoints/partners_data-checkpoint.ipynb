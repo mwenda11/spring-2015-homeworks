{
 "metadata": {
  "name": "",
  "signature": "sha256:e89cf9a933308e805560c61fc366ee5ef1f02ddd229cab0bf73160ecd2ba8a48"
 },
 "nbformat": 3,
 "nbformat_minor": 0,
 "worksheets": [
  {
   "cells": [
    {
     "cell_type": "code",
     "collapsed": false,
     "input": [
      "import os\n",
      "import json\n",
      "import time\n",
      "import requests\n",
      "import numpy as np\n",
      "import pandas as pd\n",
      "\n",
      "from collections import defaultdict\n",
      "from matplotlib import pyplot as plt\n",
      "from pandas import Series, DataFrame\n",
      "%matplotlib inline"
     ],
     "language": "python",
     "metadata": {},
     "outputs": [],
     "prompt_number": 1
    },
    {
     "cell_type": "code",
     "collapsed": false,
     "input": [
      "c1 = [\"id\",\"name\",\"status\",\"rating\",\"start_date\",\"countries\",\"delinquency_rate\",\"default_rate\",\"total_amount_raised\",\"loans_posted\"]\n",
      "c2 = [\"delinquency_rate_note\",\"default_rate_note\",\"portfolio_yield_note\",\"charges_FI\",\"ALSPCI\",\"loans_at_risk_rate\"]\n",
      "columns = c1+c2+[\"currency_exchange_loss_rate\"]\n",
      "\n",
      "data_matrix = np.zeros((378,len(columns)), dtype='S50')\n",
      "f_data = open(\"partners.txt\")\n",
      "json_data = f_data.read()\n",
      "\n",
      "data = json.loads(json_data)\n",
      "partners = data[\"partners\"]\n",
      "\n",
      "idx = 0\n",
      "for partner in partners:\n",
      "    data_matrix[idx][0] = partner[\"id\"]\n",
      "    data_matrix[idx][1] = partner[\"name\"]\n",
      "    data_matrix[idx][2] = partner[\"status\"]\n",
      "    data_matrix[idx][3] = partner[\"start_date\"]\n",
      "    data_matrix[idx][4] = len(partner[\"countries\"])\n",
      "    data_matrix[idx][5] = partner[\"delinquency_rate\"]\n",
      "    data_matrix[idx][6] = partner[\"default_rate\"]\n",
      "    data_matrix[idx][7] = partner[\"total_amount_raised\"]\n",
      "    data_matrix[idx][8] = partner[\"loans_posted\"]\n",
      "    data_matrix[idx][9] = partner[\"delinquency_rate_note\"]\n",
      "    data_matrix[idx][10] = partner[\"default_rate_note\"]\n",
      "    data_matrix[idx][11] = partner[\"portfolio_yield_note\"]\n",
      "    data_matrix[idx][12] = partner[\"charges_FI\"]\n",
      "    data_matrix[idx][13] = partner[\"ALSPCI\"]\n",
      "    data_matrix[idx][14] = partner[\"loans_at_risk_rate\"]\n",
      "    data_matrix[idx][15] = partner[\"currency_exchange_loss_rate\"]\n",
      "    \n",
      "    idx += 1\n",
      "    \n",
      "print 'done'"
     ],
     "language": "python",
     "metadata": {},
     "outputs": [
      {
       "ename": "TypeError",
       "evalue": "list indices must be integers, not str",
       "output_type": "pyerr",
       "traceback": [
        "\u001b[1;31m---------------------------------------------------------------------------\u001b[0m\n\u001b[1;31mTypeError\u001b[0m                                 Traceback (most recent call last)",
        "\u001b[1;32m<ipython-input-10-0300a84f2e39>\u001b[0m in \u001b[0;36m<module>\u001b[1;34m()\u001b[0m\n\u001b[0;32m     12\u001b[0m \u001b[0midx\u001b[0m \u001b[1;33m=\u001b[0m \u001b[1;36m0\u001b[0m\u001b[1;33m\u001b[0m\u001b[0m\n\u001b[0;32m     13\u001b[0m \u001b[1;32mfor\u001b[0m \u001b[0mpartner\u001b[0m \u001b[1;32min\u001b[0m \u001b[0mpartners\u001b[0m\u001b[1;33m:\u001b[0m\u001b[1;33m\u001b[0m\u001b[0m\n\u001b[1;32m---> 14\u001b[1;33m     \u001b[0mdata_matrix\u001b[0m\u001b[1;33m[\u001b[0m\u001b[0midx\u001b[0m\u001b[1;33m]\u001b[0m\u001b[1;33m[\u001b[0m\u001b[1;36m0\u001b[0m\u001b[1;33m]\u001b[0m \u001b[1;33m=\u001b[0m \u001b[0mpartners\u001b[0m\u001b[1;33m[\u001b[0m\u001b[1;34m\"id\"\u001b[0m\u001b[1;33m]\u001b[0m\u001b[1;33m\u001b[0m\u001b[0m\n\u001b[0m\u001b[0;32m     15\u001b[0m     \u001b[0mdata_matrix\u001b[0m\u001b[1;33m[\u001b[0m\u001b[0midx\u001b[0m\u001b[1;33m]\u001b[0m\u001b[1;33m[\u001b[0m\u001b[1;36m1\u001b[0m\u001b[1;33m]\u001b[0m \u001b[1;33m=\u001b[0m \u001b[0mpartners\u001b[0m\u001b[1;33m[\u001b[0m\u001b[1;34m\"name\"\u001b[0m\u001b[1;33m]\u001b[0m\u001b[1;33m\u001b[0m\u001b[0m\n\u001b[0;32m     16\u001b[0m     \u001b[0mdata_matrix\u001b[0m\u001b[1;33m[\u001b[0m\u001b[0midx\u001b[0m\u001b[1;33m]\u001b[0m\u001b[1;33m[\u001b[0m\u001b[1;36m2\u001b[0m\u001b[1;33m]\u001b[0m \u001b[1;33m=\u001b[0m \u001b[0mpartners\u001b[0m\u001b[1;33m[\u001b[0m\u001b[1;34m\"status\"\u001b[0m\u001b[1;33m]\u001b[0m\u001b[1;33m\u001b[0m\u001b[0m\n",
        "\u001b[1;31mTypeError\u001b[0m: list indices must be integers, not str"
       ]
      }
     ],
     "prompt_number": 10
    }
   ],
   "metadata": {}
  }
 ]
}