{
 "metadata": {
  "name": "",
  "signature": "sha256:ac4bf48c1639caea4d8e9d231a3c52160d31a97aa6753cf43bc443486f1250b7"
 },
 "nbformat": 3,
 "nbformat_minor": 0,
 "worksheets": [
  {
   "cells": [
    {
     "cell_type": "code",
     "collapsed": false,
     "input": [
      "import os\n",
      "import json\n",
      "import time\n",
      "import requests\n",
      "import numpy as np\n",
      "import pandas as pd\n",
      "\n",
      "from collections import defaultdict\n",
      "from matplotlib import pyplot as plt\n",
      "from pandas import Series, DataFrame\n",
      "%matplotlib inline"
     ],
     "language": "python",
     "metadata": {},
     "outputs": [],
     "prompt_number": 79
    },
    {
     "cell_type": "code",
     "collapsed": false,
     "input": [
      "c1 = [\"pid\",\"name\",\"active?\",\"rating\",\"start_date\",\"countries\",\"delinquency_rate\",\"default_rate\",\"total_amount_raised\",\"loans_posted\"]\n",
      "c2 = [\"delinquency_rate_note\",\"default_rate_note\",\"portfolio_yield_note\",\"charges_FI\",\"ALSPCI\",\"loans_at_risk_rate\"]\n",
      "columns = c1+c2+[\"currency_exchange_loss_rate\"]\n",
      "\n",
      "data_matrix = np.zeros((378,len(columns)), dtype='S50')\n",
      "f_data = open(\"partners.txt\")\n",
      "json_data = f_data.read()\n",
      "\n",
      "data = json.loads(json_data)\n",
      "partners = data[\"partners\"]\n",
      "\n",
      "idx = 0\n",
      "for partner in partners:\n",
      "    data_matrix[idx][0] = partner[\"id\"]\n",
      "    data_matrix[idx][1] = partner[\"name\"].encode('utf8')\n",
      "    data_matrix[idx][2] = (1  if partner[\"status\"].strip()==\"active\" else 0)\n",
      "    rating = partner[\"rating\"]\n",
      "    data_matrix[idx][3] = (0  if rating.strip()==\"Not Rated\" else rating)\n",
      "    data_matrix[idx][4] = partner[\"start_date\"]\n",
      "    data_matrix[idx][5] = len(partner[\"countries\"])\n",
      "    del_rate = partner[\"delinquency_rate\"]\n",
      "    data_matrix[idx][6] = (0  if \"N/A\" in str(del_rate) else del_rate)\n",
      "    def_rate = partner[\"default_rate\"]\n",
      "    data_matrix[idx][7] = (0  if \"N/A\" in str(def_rate) else def_rate)\n",
      "    data_matrix[idx][8] = partner[\"total_amount_raised\"]\n",
      "    data_matrix[idx][9] = partner[\"loans_posted\"]\n",
      "    data_matrix[idx][10] = partner[\"delinquency_rate_note\"].encode('utf8')\n",
      "    data_matrix[idx][11] = partner[\"default_rate_note\"].encode('utf8')\n",
      "    data_matrix[idx][12] = partner[\"portfolio_yield_note\"].encode('utf8')\n",
      "    data_matrix[idx][13] = partner[\"charges_fees_and_interest\"]\n",
      "    data_matrix[idx][14] = partner[\"average_loan_size_percent_per_capita_income\"]\n",
      "    data_matrix[idx][15] = partner[\"loans_at_risk_rate\"]\n",
      "    data_matrix[idx][16] = partner[\"currency_exchange_loss_rate\"]\n",
      "    \n",
      "    idx += 1\n",
      "    \n",
      "print 'done'"
     ],
     "language": "python",
     "metadata": {},
     "outputs": [
      {
       "output_type": "stream",
       "stream": "stdout",
       "text": [
        "done\n"
       ]
      }
     ],
     "prompt_number": 110
    },
    {
     "cell_type": "code",
     "collapsed": false,
     "input": [
      "dframe = pd.DataFrame(data_matrix, columns=columns)\n",
      "dframe.pid = dframe.pid.astype(int)\n",
      "dframe.index= dframe.pid"
     ],
     "language": "python",
     "metadata": {},
     "outputs": [],
     "prompt_number": 111
    },
    {
     "cell_type": "code",
     "collapsed": false,
     "input": [
      "#dframe = dframe.drop(['pid'],axis=1)\n",
      "#dframe.iloc[201:215, :12]\n",
      "#dframe.head()\n",
      "#dframe.ix[1].loans_posted\n",
      "#dframe.to_csv(\"partners.csv\")"
     ],
     "language": "python",
     "metadata": {},
     "outputs": [],
     "prompt_number": 113
    },
    {
     "cell_type": "code",
     "collapsed": false,
     "input": [],
     "language": "python",
     "metadata": {},
     "outputs": [
      {
       "metadata": {},
       "output_type": "pyout",
       "prompt_number": 27,
       "text": [
        "\"{'re': 43, 'e': 4, 'd': 1}\""
       ]
      }
     ],
     "prompt_number": 27
    }
   ],
   "metadata": {}
  }
 ]
}