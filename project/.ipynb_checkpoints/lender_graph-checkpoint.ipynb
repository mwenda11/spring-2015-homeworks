{
 "metadata": {
  "name": "",
  "signature": "sha256:ee7ddc5ae6a1ec245305c59596171e5087b4a535f75d05f22cd2154147b02429"
 },
 "nbformat": 3,
 "nbformat_minor": 0,
 "worksheets": [
  {
   "cells": [
    {
     "cell_type": "code",
     "collapsed": false,
     "input": [
      "import os\n",
      "import json\n",
      "import time\n",
      "import requests\n",
      "import numpy as np\n",
      "import pandas as pd\n",
      "import networkx as nx\n",
      "\n",
      "from itertools import combinations\n",
      "from collections import defaultdict\n",
      "from matplotlib import pyplot as plt\n",
      "from pandas import Series, DataFrame\n",
      "%matplotlib inline"
     ],
     "language": "python",
     "metadata": {},
     "outputs": [],
     "prompt_number": 1
    },
    {
     "cell_type": "code",
     "collapsed": false,
     "input": [
      "columns = [\"loan_id\",\"uid\"]\n",
      "data_matrix = np.zeros((1746205,len(columns)), dtype='S25') #check?\n",
      "\n",
      "files = os.listdir(\"lenders\")\n",
      "idx = 0\n",
      "\n",
      "for f in files:\n",
      "    f_data = open(\"lenders/\" + f)\n",
      "    json_data = f_data.read()\n",
      "\n",
      "    data = json.loads(json_data)\n",
      "    loans = data[\"data\"]\n",
      "    \n",
      "    for loan in loans:                \n",
      "        lenders = loan[\"lenders\"]\n",
      "        for lender in lenders:\n",
      "            try:\n",
      "                data_matrix[idx][0] = loan[\"loan_id\"]\n",
      "                uid = lender[\"uid\"] if \"uid\" in lender else \"\"\n",
      "                if len(uid) > 25:\n",
      "                    print len(uid)\n",
      "                    print uid\n",
      "                data_matrix[idx][1] = uid\n",
      "            except KeyError as ke:\n",
      "                print lender\n",
      "        \n",
      "            idx += 1\n",
      "    \n",
      "    f_data.close()\n",
      "\n",
      "print idx\n",
      "# data_matrix[0]        "
     ],
     "language": "python",
     "metadata": {},
     "outputs": [
      {
       "output_type": "stream",
       "stream": "stdout",
       "text": [
        "1746205\n"
       ]
      }
     ],
     "prompt_number": 2
    },
    {
     "cell_type": "code",
     "collapsed": false,
     "input": [
      "dframe = pd.DataFrame(data_matrix, columns=columns)"
     ],
     "language": "python",
     "metadata": {},
     "outputs": [],
     "prompt_number": 3
    },
    {
     "cell_type": "code",
     "collapsed": false,
     "input": [
      "data_matrix = \"ty\""
     ],
     "language": "python",
     "metadata": {},
     "outputs": [],
     "prompt_number": 4
    },
    {
     "cell_type": "code",
     "collapsed": false,
     "input": [
      "select_lenders = []\n",
      "count = 0\n",
      "for lend, lend_data in dframe.groupby('uid'):\n",
      "    loans = set(lend_data.loan_id.tolist())\n",
      "    if len(loans) > 1:\n",
      "        count += 1\n",
      "    \n",
      "    if count%10000==0:\n",
      "        print count\n",
      "    \n",
      "print 'finale'\n",
      "print count"
     ],
     "language": "python",
     "metadata": {},
     "outputs": [
      {
       "output_type": "stream",
       "stream": "stdout",
       "text": [
        "10000\n",
        "20000"
       ]
      },
      {
       "output_type": "stream",
       "stream": "stdout",
       "text": [
        "\n",
        "20000\n",
        "20000\n",
        "30000"
       ]
      },
      {
       "output_type": "stream",
       "stream": "stdout",
       "text": [
        "\n",
        "40000"
       ]
      },
      {
       "output_type": "stream",
       "stream": "stdout",
       "text": [
        "\n",
        "40000\n",
        "40000\n",
        "40000\n",
        "50000"
       ]
      },
      {
       "output_type": "stream",
       "stream": "stdout",
       "text": [
        "\n",
        "50000\n",
        "60000"
       ]
      },
      {
       "output_type": "stream",
       "stream": "stdout",
       "text": [
        "\n",
        "70000"
       ]
      },
      {
       "output_type": "stream",
       "stream": "stdout",
       "text": [
        "\n",
        "80000"
       ]
      },
      {
       "output_type": "stream",
       "stream": "stdout",
       "text": [
        "\n",
        "80000\n",
        "80000\n",
        "80000\n",
        "90000"
       ]
      },
      {
       "output_type": "stream",
       "stream": "stdout",
       "text": [
        "\n",
        "100000"
       ]
      },
      {
       "output_type": "stream",
       "stream": "stdout",
       "text": [
        "\n",
        "110000"
       ]
      },
      {
       "output_type": "stream",
       "stream": "stdout",
       "text": [
        "\n",
        "110000\n",
        "120000"
       ]
      },
      {
       "output_type": "stream",
       "stream": "stdout",
       "text": [
        "\n",
        "120000\n",
        "120000\n",
        "130000"
       ]
      },
      {
       "output_type": "stream",
       "stream": "stdout",
       "text": [
        "\n",
        "140000"
       ]
      },
      {
       "output_type": "stream",
       "stream": "stdout",
       "text": [
        "\n",
        "150000"
       ]
      }
     ]
    }
   ],
   "metadata": {}
  }
 ]
}