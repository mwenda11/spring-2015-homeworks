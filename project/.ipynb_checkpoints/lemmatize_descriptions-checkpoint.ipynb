{
 "metadata": {
  "name": "",
  "signature": "sha256:e34d66c260794cd8b88261d379e8039ffb39f087879575660aa2f60cb04d99e3"
 },
 "nbformat": 3,
 "nbformat_minor": 0,
 "worksheets": [
  {
   "cells": [
    {
     "cell_type": "markdown",
     "metadata": {},
     "source": [
      "**Analyze Descriptions**"
     ]
    },
    {
     "cell_type": "code",
     "collapsed": false,
     "input": [
      "import os\n",
      "import json\n",
      "import time\n",
      "import gensim\n",
      "import datetime\n",
      "import requests\n",
      "import numpy as np\n",
      "import pandas as pd\n",
      "\n",
      "from collections import defaultdict\n",
      "from matplotlib import pyplot as plt\n",
      "from pandas import Series, DataFrame\n",
      "%matplotlib inline"
     ],
     "language": "python",
     "metadata": {},
     "outputs": [],
     "prompt_number": 1
    },
    {
     "cell_type": "code",
     "collapsed": false,
     "input": [
      "def num_adjectives(text):\n",
      "    count = 0\n",
      "    lem = gensim.utils.lemmatize(text)\n",
      "    for token in lem:\n",
      "        print \"tok\", token[-2:]\n",
      "        if token[-2:]=='JJ':\n",
      "            count += 1\n",
      "    return count"
     ],
     "language": "python",
     "metadata": {},
     "outputs": [],
     "prompt_number": 17
    },
    {
     "cell_type": "code",
     "collapsed": false,
     "input": [
      "pframe = pd.read_csv('partners.csv', index_col='pid', parse_dates=['start_date'])"
     ],
     "language": "python",
     "metadata": {},
     "outputs": [],
     "prompt_number": 3
    },
    {
     "cell_type": "code",
     "collapsed": false,
     "input": [
      "def active_days(row):\n",
      "    start = row.start_date\n",
      "    now = datetime.datetime.now()\n",
      "    diff = (now - start)\n",
      "    return diff.days\n",
      "\n",
      "pframe['days_active'] = pframe.apply(active_days, axis=1)"
     ],
     "language": "python",
     "metadata": {},
     "outputs": [],
     "prompt_number": 4
    },
    {
     "cell_type": "code",
     "collapsed": false,
     "input": [
      "c1 = [\"id\",\"name\",\"status\",\"funded_amount\",\"paid_amount\",\"desc_length\",\"num_languages\",\"num_adjectives\",\"sector\",\"use\",\"delinquent\"]\n",
      "c2 = [\"country_code\",\"country\",\"town\",\"level\",\"partner_id\",\"posted_date\",\"planned_expire_date\",\"loan_amount\",\"lender_count\",\"forex_loss\"]\n",
      "c3 = [\"bonus_credit_elig\",\"tags\",\"num_borrowers\",\"borrower_gender\",\"disbursal_date\",\"disbursal_currency\",\"disbursal_amount\"]\n",
      "c4 = [\"repayment_interval\",\"repayment_term\",\"terms_loan_amount\",\"partner_loss_liable\",\"funded_date\",\"sched_pay_date\",\"paid_date\",\"pictured\",\"translator\"]\n",
      "# info for field partner who issued this loan\n",
      "c5 = [\"pactive\",\"prating\",\"pdays_as_member\",\"pdelinquency_rate\",\"pdefault_rate\",\"ptotal_amount_raised\",\"ploans_posted\"]\n",
      "c6 = [\"pcharges_FI\",\"pALSPCI\",\"ploans_at_risk_rate\",\"pforex_loss_rate\",\"meta_delete\"]\n",
      "\n",
      "columns = c1+c2+c3+c4+c5+c6\n",
      "\n",
      "data_matrix = np.zeros((91453,len(columns)), dtype='S25')\n",
      "\n",
      "files = os.listdir(\"loans\")\n",
      "idx = 0\n",
      "\n",
      "for f in files:\n",
      "    f_data = open(\"loans/\" + f)\n",
      "    json_data = f_data.read()\n",
      "\n",
      "    data = json.loads(json_data)\n",
      "    loans = data[\"loans\"]\n",
      "    \n",
      "    for loan in loans:\n",
      "        meta_delete = 0 #indicates which records to delete -- filter/prune\n",
      "        data_matrix[idx][0] = loan[\"id\"]\n",
      "        data_matrix[idx][1] = loan[\"name\"].encode('utf8')\n",
      "        data_matrix[idx][2] = loan[\"status\"]\n",
      "        data_matrix[idx][3] = loan[\"funded_amount\"]\n",
      "        data_matrix[idx][4] = 0 #loan[\"paid_amount\"]\n",
      "        texts = loan[\"description\"][\"texts\"]\n",
      "        text = \"\"\n",
      "        if \"en\" in texts:\n",
      "            text = texts[\"en\"]\n",
      "        data_matrix[idx][5] = len(text)\n",
      "        data_matrix[idx][6] = len(texts) # num_languages\n",
      "        num_adj = 0\n",
      "        if len(text) > 1:\n",
      "            num_adj = num_adjectives(text)\n",
      "        data_matrix[idx][7] = num_adj\n",
      "        \n",
      "        if idx>130:\n",
      "            break\n",
      "        \n",
      "        if idx%1000==0:\n",
      "            print idx, '...', num_adj\n",
      "        data_matrix[idx][8] = loan[\"sector\"]\n",
      "        data_matrix[idx][9] = loan[\"use\"].encode('utf8')\n",
      "        data_matrix[idx][10] = 0 #loan[\"delinquent\"]\n",
      "        data_matrix[idx][11] = loan[\"location\"][\"country_code\"]\n",
      "        data_matrix[idx][12] = loan[\"location\"][\"country\"]\n",
      "        town = None #loan[\"location\"][\"town\"]\n",
      "        if town is not None:\n",
      "            data_matrix[idx][13] = loan[\"location\"][\"town\"].encode('utf8')\n",
      "        data_matrix[idx][14] = loan[\"location\"][\"geo\"][\"level\"]\n",
      "        pid = int(loan[\"partner_id\"])\n",
      "        data_matrix[idx][15] = pid\n",
      "        posted_date = loan[\"posted_date\"]\n",
      "        if posted_date is None:\n",
      "            meta_delete = 1\n",
      "        data_matrix[idx][16] = posted_date\n",
      "        #data_matrix[idx][17] = loan[\"planned_expiration_date\"]\n",
      "        data_matrix[idx][18] = loan[\"loan_amount\"]\n",
      "        data_matrix[idx][19] = loan[\"lender_count\"]\n",
      "        data_matrix[idx][20] = 0 #loan[\"currency_exchange_loss_amount\"]\n",
      "        data_matrix[idx][21] = loan[\"bonus_credit_eligibility\"]\n",
      "        data_matrix[idx][22] = str(loan[\"tags\"])\n",
      "        data_matrix[idx][23] = len(loan[\"borrowers\"])\n",
      "        data_matrix[idx][24] = loan[\"borrowers\"][0][\"gender\"] #forst one\n",
      "        data_matrix[idx][25] = loan[\"terms\"][\"disbursal_date\"] \n",
      "        data_matrix[idx][26] = loan[\"terms\"][\"disbursal_currency\"] \n",
      "        data_matrix[idx][27] = loan[\"terms\"][\"disbursal_amount\"]\n",
      "        data_matrix[idx][28] = loan[\"terms\"][\"repayment_interval\"] \n",
      "        #data_matrix[idx][29] = loan[\"terms\"][\"repayment_term\"] \n",
      "        data_matrix[idx][30] = loan[\"terms\"][\"loan_amount\"]\n",
      "        data_matrix[idx][31] = (loan[\"terms\"][\"loss_liability\"][\"nonpayment\"] == \"partner\")\n",
      "        dt_now = \"2015-04-24T00:00:00Z\"\n",
      "        fun_date = None #loan[\"funded_date\"]\n",
      "        data_matrix[idx][32] = (dt_now if (fun_date is None) else fun_date)\n",
      "        sched = loan[\"terms\"][\"scheduled_payments\"]\n",
      "        if len(sched) > 0:\n",
      "            data_matrix[idx][33] = sched[-1][\"due_date\"] #\n",
      "        else:\n",
      "            meta_delete = meta_delete #1\n",
      "        paid_date = dt_now #loan[\"paid_date\"]\n",
      "        data_matrix[idx][34] = (dt_now if (paid_date is None) else paid_date)\n",
      "        pictured = loan[\"borrowers\"][0][\"pictured\"]\n",
      "        data_matrix[idx][35] = (1 if pictured else 0)\n",
      "        data_matrix[idx][36] = False #(loan[\"translator\"] is not None) # exists?\n",
      "        \n",
      "        #partner data\n",
      "        try:\n",
      "            p_row = pframe.ix[pid]\n",
      "            data_matrix[idx][37] = p_row.active\n",
      "            data_matrix[idx][38] = p_row.rating\n",
      "            data_matrix[idx][39] = p_row.days_active\n",
      "            data_matrix[idx][40] = p_row.delinquency_rate\n",
      "            data_matrix[idx][41] = p_row.default_rate\n",
      "            data_matrix[idx][42] = p_row.total_amount_raised\n",
      "            data_matrix[idx][43] = p_row.loans_posted\n",
      "            data_matrix[idx][44] = p_row.charges_FI\n",
      "            data_matrix[idx][45] = p_row.ALSPCI\n",
      "            data_matrix[idx][46] = p_row.loans_at_risk_rate\n",
      "            data_matrix[idx][47] = p_row.currency_exchange_loss_rate\n",
      "        except KeyError:\n",
      "            #print loan[\"id\"]\n",
      "            meta_delete = 1\n",
      "            \n",
      "        data_matrix[idx][48] = meta_delete\n",
      "        \n",
      "        idx += 1\n",
      "    \n",
      "    f_data.close()\n",
      "\n",
      "idx"
     ],
     "language": "python",
     "metadata": {},
     "outputs": [
      {
       "output_type": "stream",
       "stream": "stdout",
       "text": [
        "0 ... 0\n",
        "1 ... 0\n",
        "2"
       ]
      },
      {
       "output_type": "stream",
       "stream": "stdout",
       "text": [
        " ... 0\n",
        "3 ... 0\n",
        "4 ... 0\n",
        "5 ... 0\n",
        "6 ... 0\n",
        "7 ... 0\n",
        "8"
       ]
      },
      {
       "output_type": "stream",
       "stream": "stdout",
       "text": [
        " ... 0\n",
        "9 ... 0\n",
        "10 ... 0\n",
        "11 ... 0\n",
        "12 ... 0\n",
        "13 ... 0\n",
        "14 ... 0\n",
        "15 ... 0\n",
        "16 ... 0\n",
        "17"
       ]
      },
      {
       "output_type": "stream",
       "stream": "stdout",
       "text": [
        " ... 0\n",
        "18 ... 0\n",
        "19 ... 0\n",
        "20 ... 0\n",
        "21"
       ]
      },
      {
       "output_type": "stream",
       "stream": "stdout",
       "text": [
        " ... 0\n",
        "22 ... 0\n",
        "23 ... 0\n",
        "24 ... 0\n",
        "25"
       ]
      },
      {
       "output_type": "stream",
       "stream": "stdout",
       "text": [
        " ... 0\n",
        "26 ... 0\n",
        "27 ... 0\n",
        "28 ... 0\n",
        "29"
       ]
      },
      {
       "output_type": "stream",
       "stream": "stdout",
       "text": [
        " ... 0\n",
        "30 ... 0\n",
        "31 ... 0\n",
        "32 ... 0\n",
        "33 ... 0\n",
        "34"
       ]
      },
      {
       "output_type": "stream",
       "stream": "stdout",
       "text": [
        " ... 0\n",
        "35 ... 0\n",
        "36"
       ]
      },
      {
       "output_type": "stream",
       "stream": "stdout",
       "text": [
        " ... 0\n",
        "37 ... 0\n",
        "38 ... 0\n",
        "39"
       ]
      },
      {
       "output_type": "stream",
       "stream": "stdout",
       "text": [
        " ... 0\n",
        "40 ... 0\n",
        "41 ... 0\n",
        "42"
       ]
      },
      {
       "output_type": "stream",
       "stream": "stdout",
       "text": [
        " ... 0\n",
        "43 ... 0\n",
        "44 ... 0\n",
        "45"
       ]
      },
      {
       "output_type": "stream",
       "stream": "stdout",
       "text": [
        " ... 0\n",
        "46 ... 0\n",
        "47 ... 0\n",
        "48 ... 0\n",
        "49 ... 0\n",
        "50"
       ]
      },
      {
       "output_type": "stream",
       "stream": "stdout",
       "text": [
        " ... 0\n",
        "51 ... 0\n",
        "52 ... 0\n",
        "53 ... 0\n",
        "54 ... 0\n",
        "55 ... 0\n",
        "56 ... 0\n",
        "57"
       ]
      },
      {
       "output_type": "stream",
       "stream": "stdout",
       "text": [
        " ... 0\n",
        "58 ... 0\n",
        "59 ... 0\n",
        "60 ... 0\n",
        "61"
       ]
      },
      {
       "output_type": "stream",
       "stream": "stdout",
       "text": [
        " ... 0\n",
        "62 ... 0\n",
        "63 ... 0\n",
        "64"
       ]
      },
      {
       "output_type": "stream",
       "stream": "stdout",
       "text": [
        " ... 0\n",
        "65 ... 0\n",
        "66 ... 0\n",
        "67 ... 0\n",
        "68 ... 0\n",
        "69"
       ]
      },
      {
       "output_type": "stream",
       "stream": "stdout",
       "text": [
        " ... 0\n",
        "70 ... 0\n",
        "71 ... 0\n",
        "72"
       ]
      },
      {
       "output_type": "stream",
       "stream": "stdout",
       "text": [
        " ... 0\n",
        "73 ... 0\n",
        "74 ... 0\n",
        "75 ... 0\n",
        "76"
       ]
      },
      {
       "output_type": "stream",
       "stream": "stdout",
       "text": [
        " ... 0\n",
        "77 ... 0\n",
        "78 ... 0\n",
        "79"
       ]
      },
      {
       "output_type": "stream",
       "stream": "stdout",
       "text": [
        " ... 0\n",
        "80 ... 0\n",
        "81 ... 0\n",
        "82 ... 0\n",
        "83"
       ]
      },
      {
       "output_type": "stream",
       "stream": "stdout",
       "text": [
        " ... 0\n",
        "84 ... 0\n",
        "85 ... 0\n",
        "86 ... 0\n",
        "87 ... 0\n",
        "88 ... 0\n",
        "89"
       ]
      },
      {
       "output_type": "stream",
       "stream": "stdout",
       "text": [
        " ... 0\n",
        "90 ... 0\n",
        "91 ... 0\n",
        "92 ... 0\n",
        "93"
       ]
      },
      {
       "output_type": "stream",
       "stream": "stdout",
       "text": [
        " ... 0\n",
        "94 ... 0\n",
        "95 ... 0\n",
        "96 ... 0\n",
        "97 ... 0\n",
        "98"
       ]
      },
      {
       "output_type": "stream",
       "stream": "stdout",
       "text": [
        " ... 0\n",
        "99 ... 0\n",
        "100 ... 0\n",
        "101"
       ]
      },
      {
       "output_type": "stream",
       "stream": "stdout",
       "text": [
        " ... 0\n",
        "102 ... 0\n",
        "103 ... 0\n",
        "104 ... 0\n",
        "105"
       ]
      },
      {
       "output_type": "stream",
       "stream": "stdout",
       "text": [
        " ... 0\n",
        "106 ... 0\n",
        "107 ... 0\n",
        "108"
       ]
      },
      {
       "output_type": "stream",
       "stream": "stdout",
       "text": [
        " ... 0\n",
        "109 ... 0\n",
        "110 ... 0\n",
        "111 ... 0\n",
        "112"
       ]
      },
      {
       "output_type": "stream",
       "stream": "stdout",
       "text": [
        " ... 0\n",
        "113 ... 0\n",
        "114 ... 0\n",
        "115 ... 0\n",
        "116"
       ]
      },
      {
       "output_type": "stream",
       "stream": "stdout",
       "text": [
        " ... 0\n",
        "117 ... 0\n",
        "118"
       ]
      },
      {
       "output_type": "stream",
       "stream": "stdout",
       "text": [
        " ... 0\n",
        "119 ... 0\n",
        "120 ... 0\n",
        "121 ... 0\n",
        "122 ... 0\n",
        "123"
       ]
      },
      {
       "output_type": "stream",
       "stream": "stdout",
       "text": [
        " ... 0\n",
        "124 ... 0\n",
        "125 ... 0\n",
        "126 ... 0\n",
        "127"
       ]
      },
      {
       "output_type": "stream",
       "stream": "stdout",
       "text": [
        " ... 0\n",
        "128 ... 0\n",
        "129 ... 0\n",
        "130 ... 0\n",
        "131"
       ]
      },
      {
       "output_type": "stream",
       "stream": "stdout",
       "text": [
        " ... 0\n",
        "132 ... 0\n",
        "133 ... 0\n",
        "134 ... 0\n",
        "135"
       ]
      },
      {
       "output_type": "stream",
       "stream": "stdout",
       "text": [
        " ... 0\n",
        "136 ... 0\n",
        "137 ... 0\n",
        "138 ... 0\n",
        "139"
       ]
      },
      {
       "output_type": "stream",
       "stream": "stdout",
       "text": [
        " ... 0\n",
        "140 ... 0\n",
        "141 ... 0\n",
        "142 ... 0\n",
        "143"
       ]
      },
      {
       "output_type": "stream",
       "stream": "stdout",
       "text": [
        " ... 0\n",
        "144 ... 0\n",
        "145 ... 0\n",
        "146 ... 0\n",
        "147"
       ]
      },
      {
       "output_type": "stream",
       "stream": "stdout",
       "text": [
        " ... 0\n",
        "148 ... 0\n",
        "149 ... 0\n",
        "150 ... 0\n",
        "151 ... 0\n",
        "152"
       ]
      },
      {
       "output_type": "stream",
       "stream": "stdout",
       "text": [
        " ... 0\n",
        "153 ... 0\n",
        "154 ... 0\n",
        "155 ... 0\n",
        "156 ... 0\n",
        "157"
       ]
      },
      {
       "output_type": "stream",
       "stream": "stdout",
       "text": [
        " ... 0\n",
        "158 ... 0\n",
        "159 ... 0\n",
        "160 ... 0\n",
        "161"
       ]
      },
      {
       "output_type": "stream",
       "stream": "stdout",
       "text": [
        " ... 0\n",
        "162 ... 0\n",
        "163 ... 0\n",
        "164 ... 0\n",
        "165"
       ]
      },
      {
       "output_type": "stream",
       "stream": "stdout",
       "text": [
        " ... 0\n",
        "166 ... 0\n",
        "167 ... 0\n",
        "168 ... 0\n",
        "169"
       ]
      },
      {
       "output_type": "stream",
       "stream": "stdout",
       "text": [
        " ... 0\n",
        "170 ... 0\n",
        "171 ... 0\n",
        "172"
       ]
      },
      {
       "output_type": "stream",
       "stream": "stdout",
       "text": [
        " ... 0\n",
        "173 ... 0\n",
        "174 ... 0\n",
        "175 ... 0\n",
        "176"
       ]
      },
      {
       "output_type": "stream",
       "stream": "stdout",
       "text": [
        " ... 0\n",
        "177 ... 0\n",
        "178 ... 0\n",
        "179 ... 0\n",
        "180 ... 0\n",
        "181 ... 0\n",
        "182"
       ]
      },
      {
       "output_type": "stream",
       "stream": "stdout",
       "text": [
        " ... 0\n",
        "183 ... 0\n",
        "184 ... 0\n",
        "185 ... 0\n",
        "186"
       ]
      },
      {
       "output_type": "stream",
       "stream": "stdout",
       "text": [
        " ... 0\n",
        "187 ... 0\n",
        "188 ... 0\n",
        "189 ... 0\n",
        "190"
       ]
      },
      {
       "output_type": "stream",
       "stream": "stdout",
       "text": [
        " ... 0\n",
        "191 ... 0\n",
        "192 ... 0\n",
        "193 ... 0\n",
        "194"
       ]
      },
      {
       "output_type": "stream",
       "stream": "stdout",
       "text": [
        " ... 0\n",
        "195 ... 0\n",
        "196"
       ]
      },
      {
       "output_type": "stream",
       "stream": "stdout",
       "text": [
        " ... 0\n",
        "197 ... 0\n",
        "198 ... 0\n",
        "199 ... 0\n",
        "200 ... 0\n",
        "201"
       ]
      },
      {
       "output_type": "stream",
       "stream": "stdout",
       "text": [
        " ... 0\n",
        "202 ... 0\n",
        "203 ... 0\n",
        "204 ... 0\n",
        "205 ... 0\n",
        "206 ... 0\n",
        "207"
       ]
      },
      {
       "output_type": "stream",
       "stream": "stdout",
       "text": [
        " ... 0\n",
        "208 ... 0\n",
        "209 ... 0\n",
        "210 ... 0\n",
        "211 ... 0\n",
        "212"
       ]
      },
      {
       "output_type": "stream",
       "stream": "stdout",
       "text": [
        " ... 0\n",
        "213 ... 0\n",
        "214 ... 0\n",
        "215"
       ]
      },
      {
       "output_type": "stream",
       "stream": "stdout",
       "text": [
        " ... 0\n",
        "216 ... 0\n",
        "217 ... 0\n",
        "218"
       ]
      },
      {
       "output_type": "stream",
       "stream": "stdout",
       "text": [
        " ... 0\n",
        "219 ... 0\n",
        "220 ... 0\n",
        "221 ... 0\n",
        "222"
       ]
      },
      {
       "output_type": "stream",
       "stream": "stdout",
       "text": [
        " ... 0\n",
        "223 ... 0\n",
        "224 ... 0\n",
        "225 ... 0\n",
        "226"
       ]
      },
      {
       "output_type": "stream",
       "stream": "stdout",
       "text": [
        " ... 0\n",
        "227 ... 0\n",
        "228 ... 0\n",
        "229 ... 0\n",
        "230 ... 0\n",
        "231"
       ]
      },
      {
       "output_type": "stream",
       "stream": "stdout",
       "text": [
        " ... 0\n",
        "232 ... 0\n",
        "233 ... 0\n",
        "234 ... 0\n",
        "235 ... 0\n",
        "236 ... 0\n",
        "237 ... 0\n",
        "238"
       ]
      },
      {
       "output_type": "stream",
       "stream": "stdout",
       "text": [
        " ... 0\n",
        "239 ... 0\n",
        "240 ... 0\n",
        "241 ... 0\n",
        "242 ... 0\n",
        "243"
       ]
      },
      {
       "output_type": "stream",
       "stream": "stdout",
       "text": [
        " ... 0\n",
        "244 ... 0\n",
        "245 ... 0\n",
        "246 ... 0\n",
        "247 ... 0\n",
        "248"
       ]
      },
      {
       "output_type": "stream",
       "stream": "stdout",
       "text": [
        " ... 0\n",
        "249 ... 0\n",
        "250 ... 0\n",
        "251 ... 0\n",
        "252 ... 0\n",
        "253"
       ]
      },
      {
       "output_type": "stream",
       "stream": "stdout",
       "text": [
        " ... 0\n",
        "254 ... 0\n",
        "255 ... 0\n",
        "256 ... 0\n",
        "257"
       ]
      },
      {
       "output_type": "stream",
       "stream": "stdout",
       "text": [
        " ... 0\n",
        "258 ... 0\n",
        "259 ... 0\n",
        "260"
       ]
      },
      {
       "output_type": "stream",
       "stream": "stdout",
       "text": [
        " ... 0\n",
        "261 ... 0\n",
        "262 ... 0\n",
        "263"
       ]
      },
      {
       "output_type": "stream",
       "stream": "stdout",
       "text": [
        " ... 0\n",
        "264 ... 0\n",
        "265 ... 0\n",
        "266 ... 0\n",
        "267"
       ]
      },
      {
       "output_type": "stream",
       "stream": "stdout",
       "text": [
        " ... 0\n",
        "268 ... 0\n",
        "269 ... 0\n",
        "270 ... 0\n",
        "271 ... 0\n",
        "272"
       ]
      },
      {
       "output_type": "stream",
       "stream": "stdout",
       "text": [
        " ... 0\n",
        "273 ... 0\n",
        "274 ... 0\n",
        "275 ... 0\n",
        "276 ... 0\n",
        "277 ... 0\n",
        "278"
       ]
      },
      {
       "output_type": "stream",
       "stream": "stdout",
       "text": [
        " ... 0\n",
        "279 ... 0\n",
        "280 ... 0\n",
        "281 ... 0\n",
        "282"
       ]
      },
      {
       "output_type": "stream",
       "stream": "stdout",
       "text": [
        " ... 0\n",
        "283 ... 0\n",
        "284 ... 0\n",
        "285 ... 0\n",
        "286 ... 0\n",
        "287 ... 0\n",
        "288"
       ]
      },
      {
       "output_type": "stream",
       "stream": "stdout",
       "text": [
        " ... 0\n",
        "289 ... 0\n",
        "290 ... 0\n",
        "291 ... 0\n",
        "292"
       ]
      },
      {
       "output_type": "stream",
       "stream": "stdout",
       "text": [
        " ... 0\n",
        "293 ... 0\n",
        "294 ... 0\n",
        "295 ... 0\n",
        "296 ... 0\n",
        "297"
       ]
      },
      {
       "output_type": "stream",
       "stream": "stdout",
       "text": [
        " ... 0\n",
        "298 ... 0\n",
        "299 ... 0\n",
        "300"
       ]
      },
      {
       "output_type": "stream",
       "stream": "stdout",
       "text": [
        " ... 0\n",
        "301 ... 0\n",
        "302 ... 0\n",
        "303 ... 0\n",
        "304"
       ]
      },
      {
       "output_type": "stream",
       "stream": "stdout",
       "text": [
        " ... 0\n",
        "305 ... 0\n",
        "306 ... 0\n",
        "307 ... 0\n",
        "308"
       ]
      },
      {
       "output_type": "stream",
       "stream": "stdout",
       "text": [
        " ... 0\n",
        "309 ... 0\n",
        "310"
       ]
      },
      {
       "output_type": "stream",
       "stream": "stdout",
       "text": [
        " ... 0\n"
       ]
      },
      {
       "ename": "KeyboardInterrupt",
       "evalue": "",
       "output_type": "pyerr",
       "traceback": [
        "\u001b[1;31m---------------------------------------------------------------------------\u001b[0m\n\u001b[1;31mKeyboardInterrupt\u001b[0m                         Traceback (most recent call last)",
        "\u001b[1;32m<ipython-input-16-c5435411bfa1>\u001b[0m in \u001b[0;36m<module>\u001b[1;34m()\u001b[0m\n\u001b[0;32m     36\u001b[0m         \u001b[0mnum_adj\u001b[0m \u001b[1;33m=\u001b[0m \u001b[1;36m0\u001b[0m\u001b[1;33m\u001b[0m\u001b[0m\n\u001b[0;32m     37\u001b[0m         \u001b[1;32mif\u001b[0m \u001b[0mlen\u001b[0m\u001b[1;33m(\u001b[0m\u001b[0mtext\u001b[0m\u001b[1;33m)\u001b[0m \u001b[1;33m>\u001b[0m \u001b[1;36m1\u001b[0m\u001b[1;33m:\u001b[0m\u001b[1;33m\u001b[0m\u001b[0m\n\u001b[1;32m---> 38\u001b[1;33m             \u001b[0mnum_adj\u001b[0m \u001b[1;33m=\u001b[0m \u001b[0mnum_adjectives\u001b[0m\u001b[1;33m(\u001b[0m\u001b[0mtext\u001b[0m\u001b[1;33m)\u001b[0m\u001b[1;33m\u001b[0m\u001b[0m\n\u001b[0m\u001b[0;32m     39\u001b[0m         \u001b[0mdata_matrix\u001b[0m\u001b[1;33m[\u001b[0m\u001b[0midx\u001b[0m\u001b[1;33m]\u001b[0m\u001b[1;33m[\u001b[0m\u001b[1;36m7\u001b[0m\u001b[1;33m]\u001b[0m \u001b[1;33m=\u001b[0m \u001b[0mnum_adj\u001b[0m\u001b[1;33m\u001b[0m\u001b[0m\n\u001b[0;32m     40\u001b[0m         \u001b[1;32mprint\u001b[0m \u001b[0midx\u001b[0m\u001b[1;33m,\u001b[0m \u001b[1;34m'...'\u001b[0m\u001b[1;33m,\u001b[0m \u001b[0mnum_adj\u001b[0m\u001b[1;33m\u001b[0m\u001b[0m\n",
        "\u001b[1;32m<ipython-input-2-8c2257f3dea2>\u001b[0m in \u001b[0;36mnum_adjectives\u001b[1;34m(text)\u001b[0m\n\u001b[0;32m      1\u001b[0m \u001b[1;32mdef\u001b[0m \u001b[0mnum_adjectives\u001b[0m\u001b[1;33m(\u001b[0m\u001b[0mtext\u001b[0m\u001b[1;33m)\u001b[0m\u001b[1;33m:\u001b[0m\u001b[1;33m\u001b[0m\u001b[0m\n\u001b[0;32m      2\u001b[0m     \u001b[0mcount\u001b[0m \u001b[1;33m=\u001b[0m \u001b[1;36m0\u001b[0m\u001b[1;33m\u001b[0m\u001b[0m\n\u001b[1;32m----> 3\u001b[1;33m     \u001b[0mlem\u001b[0m \u001b[1;33m=\u001b[0m \u001b[0mgensim\u001b[0m\u001b[1;33m.\u001b[0m\u001b[0mutils\u001b[0m\u001b[1;33m.\u001b[0m\u001b[0mlemmatize\u001b[0m\u001b[1;33m(\u001b[0m\u001b[0mtext\u001b[0m\u001b[1;33m)\u001b[0m\u001b[1;33m\u001b[0m\u001b[0m\n\u001b[0m\u001b[0;32m      4\u001b[0m     \u001b[1;32mfor\u001b[0m \u001b[0mtoken\u001b[0m \u001b[1;32min\u001b[0m \u001b[0mlem\u001b[0m\u001b[1;33m:\u001b[0m\u001b[1;33m\u001b[0m\u001b[0m\n\u001b[0;32m      5\u001b[0m         \u001b[1;32mif\u001b[0m \u001b[0mtoken\u001b[0m\u001b[1;33m[\u001b[0m\u001b[1;33m-\u001b[0m\u001b[1;36m2\u001b[0m\u001b[1;33m]\u001b[0m\u001b[1;33m==\u001b[0m\u001b[1;34m'JJ'\u001b[0m\u001b[1;33m:\u001b[0m\u001b[1;33m\u001b[0m\u001b[0m\n",
        "\u001b[1;32mC:\\Program Files\\Anaconda\\lib\\site-packages\\gensim\\utils.pyc\u001b[0m in \u001b[0;36mlemmatize\u001b[1;34m(content, allowed_tags, light, stopwords)\u001b[0m\n\u001b[0;32m    861\u001b[0m         \u001b[0mcontent\u001b[0m \u001b[1;33m=\u001b[0m \u001b[0mu\u001b[0m\u001b[1;33m(\u001b[0m\u001b[1;34m' '\u001b[0m\u001b[1;33m)\u001b[0m\u001b[1;33m.\u001b[0m\u001b[0mjoin\u001b[0m\u001b[1;33m(\u001b[0m\u001b[0mtokenize\u001b[0m\u001b[1;33m(\u001b[0m\u001b[0mcontent\u001b[0m\u001b[1;33m,\u001b[0m \u001b[0mlower\u001b[0m\u001b[1;33m=\u001b[0m\u001b[0mTrue\u001b[0m\u001b[1;33m,\u001b[0m \u001b[0merrors\u001b[0m\u001b[1;33m=\u001b[0m\u001b[1;34m'ignore'\u001b[0m\u001b[1;33m)\u001b[0m\u001b[1;33m)\u001b[0m\u001b[1;33m\u001b[0m\u001b[0m\n\u001b[0;32m    862\u001b[0m \u001b[1;33m\u001b[0m\u001b[0m\n\u001b[1;32m--> 863\u001b[1;33m         \u001b[0mparsed\u001b[0m \u001b[1;33m=\u001b[0m \u001b[0mparse\u001b[0m\u001b[1;33m(\u001b[0m\u001b[0mcontent\u001b[0m\u001b[1;33m,\u001b[0m \u001b[0mlemmata\u001b[0m\u001b[1;33m=\u001b[0m\u001b[0mTrue\u001b[0m\u001b[1;33m,\u001b[0m \u001b[0mcollapse\u001b[0m\u001b[1;33m=\u001b[0m\u001b[0mFalse\u001b[0m\u001b[1;33m)\u001b[0m\u001b[1;33m\u001b[0m\u001b[0m\n\u001b[0m\u001b[0;32m    864\u001b[0m         \u001b[0mresult\u001b[0m \u001b[1;33m=\u001b[0m \u001b[1;33m[\u001b[0m\u001b[1;33m]\u001b[0m\u001b[1;33m\u001b[0m\u001b[0m\n\u001b[0;32m    865\u001b[0m         \u001b[1;32mfor\u001b[0m \u001b[0msentence\u001b[0m \u001b[1;32min\u001b[0m \u001b[0mparsed\u001b[0m\u001b[1;33m:\u001b[0m\u001b[1;33m\u001b[0m\u001b[0m\n",
        "\u001b[1;32mC:\\Program Files\\Anaconda\\lib\\site-packages\\pattern\\text\\en\\__init__.pyc\u001b[0m in \u001b[0;36mparse\u001b[1;34m(s, *args, **kwargs)\u001b[0m\n\u001b[0;32m    154\u001b[0m     \"\"\" Returns a tagged Unicode string.\n\u001b[0;32m    155\u001b[0m     \"\"\"\n\u001b[1;32m--> 156\u001b[1;33m     \u001b[1;32mreturn\u001b[0m \u001b[0mparser\u001b[0m\u001b[1;33m.\u001b[0m\u001b[0mparse\u001b[0m\u001b[1;33m(\u001b[0m\u001b[0ms\u001b[0m\u001b[1;33m,\u001b[0m \u001b[1;33m*\u001b[0m\u001b[0margs\u001b[0m\u001b[1;33m,\u001b[0m \u001b[1;33m**\u001b[0m\u001b[0mkwargs\u001b[0m\u001b[1;33m)\u001b[0m\u001b[1;33m\u001b[0m\u001b[0m\n\u001b[0m\u001b[0;32m    157\u001b[0m \u001b[1;33m\u001b[0m\u001b[0m\n\u001b[0;32m    158\u001b[0m \u001b[1;32mdef\u001b[0m \u001b[0mparsetree\u001b[0m\u001b[1;33m(\u001b[0m\u001b[0ms\u001b[0m\u001b[1;33m,\u001b[0m \u001b[1;33m*\u001b[0m\u001b[0margs\u001b[0m\u001b[1;33m,\u001b[0m \u001b[1;33m**\u001b[0m\u001b[0mkwargs\u001b[0m\u001b[1;33m)\u001b[0m\u001b[1;33m:\u001b[0m\u001b[1;33m\u001b[0m\u001b[0m\n",
        "\u001b[1;32mC:\\Program Files\\Anaconda\\lib\\site-packages\\pattern\\text\\__init__.pyc\u001b[0m in \u001b[0;36mparse\u001b[1;34m(self, s, tokenize, tags, chunks, relations, lemmata, encoding, **kwargs)\u001b[0m\n\u001b[0;32m    740\u001b[0m             \u001b[1;31m# Tagger (required by chunker, labeler & lemmatizer).\u001b[0m\u001b[1;33m\u001b[0m\u001b[1;33m\u001b[0m\u001b[0m\n\u001b[0;32m    741\u001b[0m             \u001b[1;32mif\u001b[0m \u001b[0mtags\u001b[0m \u001b[1;32mor\u001b[0m \u001b[0mchunks\u001b[0m \u001b[1;32mor\u001b[0m \u001b[0mrelations\u001b[0m \u001b[1;32mor\u001b[0m \u001b[0mlemmata\u001b[0m\u001b[1;33m:\u001b[0m\u001b[1;33m\u001b[0m\u001b[0m\n\u001b[1;32m--> 742\u001b[1;33m                 \u001b[0ms\u001b[0m\u001b[1;33m[\u001b[0m\u001b[0mi\u001b[0m\u001b[1;33m]\u001b[0m \u001b[1;33m=\u001b[0m \u001b[0mself\u001b[0m\u001b[1;33m.\u001b[0m\u001b[0mfind_tags\u001b[0m\u001b[1;33m(\u001b[0m\u001b[0ms\u001b[0m\u001b[1;33m[\u001b[0m\u001b[0mi\u001b[0m\u001b[1;33m]\u001b[0m\u001b[1;33m,\u001b[0m \u001b[1;33m**\u001b[0m\u001b[0mkwargs\u001b[0m\u001b[1;33m)\u001b[0m\u001b[1;33m\u001b[0m\u001b[0m\n\u001b[0m\u001b[0;32m    743\u001b[0m             \u001b[1;32melse\u001b[0m\u001b[1;33m:\u001b[0m\u001b[1;33m\u001b[0m\u001b[0m\n\u001b[0;32m    744\u001b[0m                 \u001b[0ms\u001b[0m\u001b[1;33m[\u001b[0m\u001b[0mi\u001b[0m\u001b[1;33m]\u001b[0m \u001b[1;33m=\u001b[0m \u001b[1;33m[\u001b[0m\u001b[1;33m[\u001b[0m\u001b[0mw\u001b[0m\u001b[1;33m]\u001b[0m \u001b[1;32mfor\u001b[0m \u001b[0mw\u001b[0m \u001b[1;32min\u001b[0m \u001b[0ms\u001b[0m\u001b[1;33m[\u001b[0m\u001b[0mi\u001b[0m\u001b[1;33m]\u001b[0m\u001b[1;33m]\u001b[0m\u001b[1;33m\u001b[0m\u001b[0m\n",
        "\u001b[1;32mC:\\Program Files\\Anaconda\\lib\\site-packages\\pattern\\text\\en\\__init__.pyc\u001b[0m in \u001b[0;36mfind_tags\u001b[1;34m(self, tokens, **kwargs)\u001b[0m\n\u001b[0;32m    103\u001b[0m         \u001b[1;32mif\u001b[0m \u001b[0mkwargs\u001b[0m\u001b[1;33m.\u001b[0m\u001b[0mget\u001b[0m\u001b[1;33m(\u001b[0m\u001b[1;34m\"tagset\"\u001b[0m\u001b[1;33m)\u001b[0m \u001b[1;33m==\u001b[0m \u001b[0mUNIVERSAL\u001b[0m\u001b[1;33m:\u001b[0m\u001b[1;33m\u001b[0m\u001b[0m\n\u001b[0;32m    104\u001b[0m             \u001b[0mkwargs\u001b[0m\u001b[1;33m.\u001b[0m\u001b[0msetdefault\u001b[0m\u001b[1;33m(\u001b[0m\u001b[1;34m\"map\"\u001b[0m\u001b[1;33m,\u001b[0m \u001b[1;32mlambda\u001b[0m \u001b[0mtoken\u001b[0m\u001b[1;33m,\u001b[0m \u001b[0mtag\u001b[0m\u001b[1;33m:\u001b[0m \u001b[0mpenntreebank2universal\u001b[0m\u001b[1;33m(\u001b[0m\u001b[0mtoken\u001b[0m\u001b[1;33m,\u001b[0m \u001b[0mtag\u001b[0m\u001b[1;33m)\u001b[0m\u001b[1;33m)\u001b[0m\u001b[1;33m\u001b[0m\u001b[0m\n\u001b[1;32m--> 105\u001b[1;33m         \u001b[1;32mreturn\u001b[0m \u001b[0m_Parser\u001b[0m\u001b[1;33m.\u001b[0m\u001b[0mfind_tags\u001b[0m\u001b[1;33m(\u001b[0m\u001b[0mself\u001b[0m\u001b[1;33m,\u001b[0m \u001b[0mtokens\u001b[0m\u001b[1;33m,\u001b[0m \u001b[1;33m**\u001b[0m\u001b[0mkwargs\u001b[0m\u001b[1;33m)\u001b[0m\u001b[1;33m\u001b[0m\u001b[0m\n\u001b[0m\u001b[0;32m    106\u001b[0m \u001b[1;33m\u001b[0m\u001b[0m\n\u001b[0;32m    107\u001b[0m \u001b[1;32mclass\u001b[0m \u001b[0mSentiment\u001b[0m\u001b[1;33m(\u001b[0m\u001b[0m_Sentiment\u001b[0m\u001b[1;33m)\u001b[0m\u001b[1;33m:\u001b[0m\u001b[1;33m\u001b[0m\u001b[0m\n",
        "\u001b[1;32mC:\\Program Files\\Anaconda\\lib\\site-packages\\pattern\\text\\__init__.pyc\u001b[0m in \u001b[0;36mfind_tags\u001b[1;34m(self, tokens, **kwargs)\u001b[0m\n\u001b[0;32m    688\u001b[0m                    \u001b[0mlanguage\u001b[0m \u001b[1;33m=\u001b[0m \u001b[0mkwargs\u001b[0m\u001b[1;33m.\u001b[0m\u001b[0mget\u001b[0m\u001b[1;33m(\u001b[0m  \u001b[1;34m\"language\"\u001b[0m\u001b[1;33m,\u001b[0m \u001b[0mself\u001b[0m\u001b[1;33m.\u001b[0m\u001b[0mlanguage\u001b[0m\u001b[1;33m)\u001b[0m\u001b[1;33m,\u001b[0m\u001b[1;33m\u001b[0m\u001b[0m\n\u001b[0;32m    689\u001b[0m                     \u001b[0mdefault\u001b[0m \u001b[1;33m=\u001b[0m \u001b[0mkwargs\u001b[0m\u001b[1;33m.\u001b[0m\u001b[0mget\u001b[0m\u001b[1;33m(\u001b[0m   \u001b[1;34m\"default\"\u001b[0m\u001b[1;33m,\u001b[0m \u001b[0mself\u001b[0m\u001b[1;33m.\u001b[0m\u001b[0mdefault\u001b[0m\u001b[1;33m)\u001b[0m\u001b[1;33m,\u001b[0m\u001b[1;33m\u001b[0m\u001b[0m\n\u001b[1;32m--> 690\u001b[1;33m                         map = kwargs.get(       \"map\", None))\n\u001b[0m\u001b[0;32m    691\u001b[0m \u001b[1;33m\u001b[0m\u001b[0m\n\u001b[0;32m    692\u001b[0m     \u001b[1;32mdef\u001b[0m \u001b[0mfind_chunks\u001b[0m\u001b[1;33m(\u001b[0m\u001b[0mself\u001b[0m\u001b[1;33m,\u001b[0m \u001b[0mtokens\u001b[0m\u001b[1;33m,\u001b[0m \u001b[1;33m**\u001b[0m\u001b[0mkwargs\u001b[0m\u001b[1;33m)\u001b[0m\u001b[1;33m:\u001b[0m\u001b[1;33m\u001b[0m\u001b[0m\n",
        "\u001b[1;32mC:\\Program Files\\Anaconda\\lib\\site-packages\\pattern\\text\\__init__.pyc\u001b[0m in \u001b[0;36mfind_tags\u001b[1;34m(tokens, lexicon, model, morphology, context, entities, default, language, map, **kwargs)\u001b[0m\n\u001b[0;32m   1043\u001b[0m             \u001b[1;31m# Use language model (i.e., SLP).\u001b[0m\u001b[1;33m\u001b[0m\u001b[1;33m\u001b[0m\u001b[0m\n\u001b[0;32m   1044\u001b[0m             \u001b[1;32mif\u001b[0m \u001b[0mmodel\u001b[0m \u001b[1;32mis\u001b[0m \u001b[1;32mnot\u001b[0m \u001b[0mNone\u001b[0m\u001b[1;33m:\u001b[0m\u001b[1;33m\u001b[0m\u001b[0m\n\u001b[1;32m-> 1045\u001b[1;33m                 \u001b[0mtagged\u001b[0m\u001b[1;33m[\u001b[0m\u001b[0mi\u001b[0m\u001b[1;33m]\u001b[0m \u001b[1;33m=\u001b[0m \u001b[0mmodel\u001b[0m\u001b[1;33m.\u001b[0m\u001b[0mapply\u001b[0m\u001b[1;33m(\u001b[0m\u001b[1;33m[\u001b[0m\u001b[0mtoken\u001b[0m\u001b[1;33m,\u001b[0m \u001b[0mNone\u001b[0m\u001b[1;33m]\u001b[0m\u001b[1;33m,\u001b[0m \u001b[0mprev\u001b[0m\u001b[1;33m,\u001b[0m \u001b[0mnext\u001b[0m\u001b[1;33m)\u001b[0m\u001b[1;33m\u001b[0m\u001b[0m\n\u001b[0m\u001b[0;32m   1046\u001b[0m             \u001b[1;31m# Use NNP for capitalized words (except in German).\u001b[0m\u001b[1;33m\u001b[0m\u001b[1;33m\u001b[0m\u001b[0m\n\u001b[0;32m   1047\u001b[0m             \u001b[1;32melif\u001b[0m \u001b[0mtoken\u001b[0m\u001b[1;33m.\u001b[0m\u001b[0mistitle\u001b[0m\u001b[1;33m(\u001b[0m\u001b[1;33m)\u001b[0m \u001b[1;32mand\u001b[0m \u001b[0mlanguage\u001b[0m \u001b[1;33m!=\u001b[0m \u001b[1;34m\"de\"\u001b[0m\u001b[1;33m:\u001b[0m\u001b[1;33m\u001b[0m\u001b[0m\n",
        "\u001b[1;32mC:\\Program Files\\Anaconda\\lib\\site-packages\\pattern\\text\\__init__.pyc\u001b[0m in \u001b[0;36mapply\u001b[1;34m(self, token, previous, next)\u001b[0m\n\u001b[0;32m    297\u001b[0m             \u001b[1;32min\u001b[0m \u001b[0mcontext\u001b[0m \u001b[0mof\u001b[0m \u001b[0mthe\u001b[0m \u001b[0mgiven\u001b[0m \u001b[0mprevious\u001b[0m \u001b[1;32mand\u001b[0m \u001b[0mnext\u001b[0m \u001b[1;33m(\u001b[0m\u001b[0mtoken\u001b[0m\u001b[1;33m,\u001b[0m \u001b[0mtag\u001b[0m\u001b[1;33m)\u001b[0m\u001b[1;33m-\u001b[0m\u001b[0mtuples\u001b[0m\u001b[1;33m.\u001b[0m\u001b[1;33m\u001b[0m\u001b[0m\n\u001b[0;32m    298\u001b[0m         \"\"\"\n\u001b[1;32m--> 299\u001b[1;33m         \u001b[1;32mreturn\u001b[0m \u001b[1;33m[\u001b[0m\u001b[0mtoken\u001b[0m\u001b[1;33m[\u001b[0m\u001b[1;36m0\u001b[0m\u001b[1;33m]\u001b[0m\u001b[1;33m,\u001b[0m \u001b[0mself\u001b[0m\u001b[1;33m.\u001b[0m\u001b[0m_classifier\u001b[0m\u001b[1;33m.\u001b[0m\u001b[0mclassify\u001b[0m\u001b[1;33m(\u001b[0m\u001b[0mself\u001b[0m\u001b[1;33m.\u001b[0m\u001b[0m_v\u001b[0m\u001b[1;33m(\u001b[0m\u001b[0mtoken\u001b[0m\u001b[1;33m[\u001b[0m\u001b[1;36m0\u001b[0m\u001b[1;33m]\u001b[0m\u001b[1;33m,\u001b[0m \u001b[0mprevious\u001b[0m\u001b[1;33m,\u001b[0m \u001b[0mnext\u001b[0m\u001b[1;33m)\u001b[0m\u001b[1;33m)\u001b[0m\u001b[1;33m]\u001b[0m\u001b[1;33m\u001b[0m\u001b[0m\n\u001b[0m\u001b[0;32m    300\u001b[0m \u001b[1;33m\u001b[0m\u001b[0m\n\u001b[0;32m    301\u001b[0m     \u001b[1;32mdef\u001b[0m \u001b[0m_v\u001b[0m\u001b[1;33m(\u001b[0m\u001b[0mself\u001b[0m\u001b[1;33m,\u001b[0m \u001b[0mtoken\u001b[0m\u001b[1;33m,\u001b[0m \u001b[0mprevious\u001b[0m\u001b[1;33m=\u001b[0m\u001b[0mNone\u001b[0m\u001b[1;33m,\u001b[0m \u001b[0mnext\u001b[0m\u001b[1;33m=\u001b[0m\u001b[0mNone\u001b[0m\u001b[1;33m)\u001b[0m\u001b[1;33m:\u001b[0m\u001b[1;33m\u001b[0m\u001b[0m\n",
        "\u001b[1;32mC:\\Program Files\\Anaconda\\lib\\site-packages\\pattern\\vector\\__init__.pyc\u001b[0m in \u001b[0;36mclassify\u001b[1;34m(self, document, discrete)\u001b[0m\n\u001b[0;32m   2588\u001b[0m             \u001b[0myou\u001b[0m \u001b[0mneed\u001b[0m \u001b[0mto\u001b[0m \u001b[0msupply\u001b[0m \u001b[0mLSA\u001b[0m\u001b[1;33m.\u001b[0m\u001b[0mtransform\u001b[0m\u001b[1;33m(\u001b[0m\u001b[0mdocument\u001b[0m\u001b[1;33m)\u001b[0m\u001b[1;33m.\u001b[0m\u001b[1;33m\u001b[0m\u001b[0m\n\u001b[0;32m   2589\u001b[0m         \"\"\"\n\u001b[1;32m-> 2590\u001b[1;33m         \u001b[0mv\u001b[0m \u001b[1;33m=\u001b[0m \u001b[0mself\u001b[0m\u001b[1;33m.\u001b[0m\u001b[0m_vector\u001b[0m\u001b[1;33m(\u001b[0m\u001b[0mdocument\u001b[0m\u001b[1;33m)\u001b[0m\u001b[1;33m[\u001b[0m\u001b[1;36m1\u001b[0m\u001b[1;33m]\u001b[0m\u001b[1;33m\u001b[0m\u001b[0m\n\u001b[0m\u001b[0;32m   2591\u001b[0m         \u001b[0mi\u001b[0m \u001b[1;33m=\u001b[0m \u001b[0mself\u001b[0m\u001b[1;33m.\u001b[0m\u001b[0m_iteration\u001b[0m \u001b[1;32mor\u001b[0m \u001b[1;36m1\u001b[0m\u001b[1;33m\u001b[0m\u001b[0m\n\u001b[0;32m   2592\u001b[0m         \u001b[0mi\u001b[0m \u001b[1;33m=\u001b[0m \u001b[0mfloat\u001b[0m\u001b[1;33m(\u001b[0m\u001b[0mi\u001b[0m\u001b[1;33m)\u001b[0m\u001b[1;33m\u001b[0m\u001b[0m\n",
        "\u001b[1;32mC:\\Program Files\\Anaconda\\lib\\site-packages\\pattern\\vector\\__init__.pyc\u001b[0m in \u001b[0;36m_vector\u001b[1;34m(self, document, type)\u001b[0m\n\u001b[0;32m   2019\u001b[0m             \u001b[1;32mreturn\u001b[0m \u001b[0mtype\u001b[0m\u001b[1;33m,\u001b[0m \u001b[0mdocument\u001b[0m\u001b[1;33m\u001b[0m\u001b[0m\n\u001b[0;32m   2020\u001b[0m         \u001b[1;32mif\u001b[0m \u001b[0misinstance\u001b[0m\u001b[1;33m(\u001b[0m\u001b[0mdocument\u001b[0m\u001b[1;33m,\u001b[0m \u001b[0mdict\u001b[0m\u001b[1;33m)\u001b[0m\u001b[1;33m:\u001b[0m\u001b[1;33m\u001b[0m\u001b[0m\n\u001b[1;32m-> 2021\u001b[1;33m             \u001b[1;32mreturn\u001b[0m \u001b[0mtype\u001b[0m\u001b[1;33m,\u001b[0m \u001b[0mVector\u001b[0m\u001b[1;33m(\u001b[0m\u001b[0mdocument\u001b[0m\u001b[1;33m)\u001b[0m\u001b[1;33m\u001b[0m\u001b[0m\n\u001b[0m\u001b[0;32m   2022\u001b[0m         \u001b[1;32mif\u001b[0m \u001b[0misinstance\u001b[0m\u001b[1;33m(\u001b[0m\u001b[0mdocument\u001b[0m\u001b[1;33m,\u001b[0m \u001b[1;33m(\u001b[0m\u001b[0mlist\u001b[0m\u001b[1;33m,\u001b[0m \u001b[0mtuple\u001b[0m\u001b[1;33m)\u001b[0m\u001b[1;33m)\u001b[0m\u001b[1;33m:\u001b[0m\u001b[1;33m\u001b[0m\u001b[0m\n\u001b[0;32m   2023\u001b[0m             \u001b[1;32mreturn\u001b[0m \u001b[0mtype\u001b[0m\u001b[1;33m,\u001b[0m \u001b[0mDocument\u001b[0m\u001b[1;33m(\u001b[0m\u001b[0mdocument\u001b[0m\u001b[1;33m,\u001b[0m \u001b[0mfilter\u001b[0m\u001b[1;33m=\u001b[0m\u001b[0mNone\u001b[0m\u001b[1;33m,\u001b[0m \u001b[0mstopwords\u001b[0m\u001b[1;33m=\u001b[0m\u001b[0mTrue\u001b[0m\u001b[1;33m)\u001b[0m\u001b[1;33m.\u001b[0m\u001b[0mvector\u001b[0m\u001b[1;33m\u001b[0m\u001b[0m\n",
        "\u001b[1;31mKeyboardInterrupt\u001b[0m: "
       ]
      }
     ],
     "prompt_number": 16
    },
    {
     "cell_type": "code",
     "collapsed": false,
     "input": [
      "dframe = pd.DataFrame(data_matrix, columns=columns)"
     ],
     "language": "python",
     "metadata": {},
     "outputs": [],
     "prompt_number": 6
    },
    {
     "cell_type": "code",
     "collapsed": false,
     "input": [
      "dframe.id = dframe['id'].astype(int)\n",
      "dframe = dframe.drop_duplicates(cols='id', take_last=True)"
     ],
     "language": "python",
     "metadata": {},
     "outputs": [
      {
       "output_type": "stream",
       "stream": "stderr",
       "text": [
        "C:\\Program Files\\Anaconda\\lib\\site-packages\\pandas\\util\\decorators.py:81: FutureWarning: the 'cols' keyword is deprecated, use 'subset' instead\n",
        "  warnings.warn(msg, FutureWarning)\n"
       ]
      }
     ],
     "prompt_number": 7
    },
    {
     "cell_type": "code",
     "collapsed": false,
     "input": [
      "dframe.meta_delete = dframe['meta_delete'].astype(int)\n",
      "dframe.id = dframe['id'].astype(int)\n",
      "dframe.index = dframe.id\n",
      "dframe = dframe[dframe.meta_delete == 0]\n",
      "dframe = dframe.drop(['id'],axis=1)"
     ],
     "language": "python",
     "metadata": {},
     "outputs": [],
     "prompt_number": 8
    },
    {
     "cell_type": "code",
     "collapsed": false,
     "input": [
      "dframe.funded_amount = dframe['funded_amount'].astype(float)\n",
      "dframe.loan_amount = dframe['loan_amount'].astype(float)\n",
      "dframe.lender_count = dframe['lender_count'].astype(float)\n",
      "dframe.num_borrowers = dframe['num_borrowers'].astype(float)\n",
      "dframe.desc_length = dframe['desc_length'].astype(float)\n",
      "dframe.posted_date = dframe['posted_date'].astype('datetime64[ns]')"
     ],
     "language": "python",
     "metadata": {},
     "outputs": [],
     "prompt_number": 9
    },
    {
     "cell_type": "code",
     "collapsed": false,
     "input": [
      "ls = dframe.index.tolist()\n",
      "print len(ls)\n",
      "st = set(ls)\n",
      "print len(st)"
     ],
     "language": "python",
     "metadata": {},
     "outputs": [
      {
       "output_type": "stream",
       "stream": "stdout",
       "text": [
        "87493\n",
        "87493\n"
       ]
      }
     ],
     "prompt_number": 10
    },
    {
     "cell_type": "code",
     "collapsed": false,
     "input": [
      "dframe.num_adjectives.mean()"
     ],
     "language": "python",
     "metadata": {},
     "outputs": [
      {
       "metadata": {},
       "output_type": "pyout",
       "prompt_number": 13,
       "text": [
        "0.0"
       ]
      }
     ],
     "prompt_number": 13
    },
    {
     "cell_type": "code",
     "collapsed": false,
     "input": [
      "dfB = dframe[dframe.desc_length != 0]\n",
      "print dfB.desc_length.mean()\n",
      "print dframe.desc_length.mean()"
     ],
     "language": "python",
     "metadata": {},
     "outputs": []
    },
    {
     "cell_type": "code",
     "collapsed": false,
     "input": [
      "# a few loans have empty description. Assign these a desc length of 849.64 <-- This is the average for other loans\n",
      "def fix_length(row):\n",
      "    leng = row.desc_length\n",
      "    if leng == 0:\n",
      "        return 849.64\n",
      "    else:\n",
      "        return leng\n",
      "\n",
      "dframe.insert(6, \"text_length\", 0)\n",
      "dframe['text_length'] = dframe.apply(fix_length, axis = 1)"
     ],
     "language": "python",
     "metadata": {},
     "outputs": []
    },
    {
     "cell_type": "code",
     "collapsed": false,
     "input": [
      "def fix_amount(row):\n",
      "    paid = row.paid_amount\n",
      "    try:\n",
      "        val = float(paid)\n",
      "        return paid\n",
      "    except:\n",
      "        return '0.0'\n",
      "\n",
      "dframe['paid_amount'] = dframe.apply(fix_amount, axis = 1)"
     ],
     "language": "python",
     "metadata": {},
     "outputs": []
    },
    {
     "cell_type": "code",
     "collapsed": false,
     "input": [
      "def partner_loss_liable(row):\n",
      "    liab = row.partner_loss_liable\n",
      "    if liab.strip() == \"True\":\n",
      "        return 1\n",
      "    else:\n",
      "        return 0\n",
      "\n",
      "dframe['partner_loss_liable'] = dframe.apply(partner_loss_liable, axis = 1)"
     ],
     "language": "python",
     "metadata": {},
     "outputs": []
    },
    {
     "cell_type": "code",
     "collapsed": false,
     "input": [
      "def translator(row):\n",
      "    tra = row.translator\n",
      "    if tra.strip() == \"True\":\n",
      "        return 1\n",
      "    else:\n",
      "        return 0\n",
      "\n",
      "dframe['translator'] = dframe.apply(translator, axis = 1)"
     ],
     "language": "python",
     "metadata": {},
     "outputs": []
    },
    {
     "cell_type": "code",
     "collapsed": false,
     "input": [
      "def bonus_credit_elig(row):\n",
      "    bce = row.bonus_credit_elig\n",
      "    if bce.strip() == \"True\":\n",
      "        return 1\n",
      "    else:\n",
      "        return 0\n",
      "\n",
      "dframe['bonus_credit_elig'] = dframe.apply(bonus_credit_elig, axis = 1)"
     ],
     "language": "python",
     "metadata": {},
     "outputs": []
    },
    {
     "cell_type": "code",
     "collapsed": false,
     "input": [],
     "language": "python",
     "metadata": {},
     "outputs": []
    }
   ],
   "metadata": {}
  }
 ]
}