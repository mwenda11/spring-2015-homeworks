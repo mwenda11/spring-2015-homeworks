{
 "metadata": {
  "name": "",
  "signature": "sha256:e57d1577b847b2202dbeea849367cfec10b8a072534ccfc0b485e0caf6261209"
 },
 "nbformat": 3,
 "nbformat_minor": 0,
 "worksheets": [
  {
   "cells": [
    {
     "cell_type": "heading",
     "level": 2,
     "metadata": {},
     "source": [
      "Parse loans json files"
     ]
    },
    {
     "cell_type": "code",
     "collapsed": false,
     "input": [
      "import os\n",
      "import json\n",
      "import numpy as np\n",
      "import pandas as pd\n",
      "\n",
      "from pandas import Series, DataFrame"
     ],
     "language": "python",
     "metadata": {},
     "outputs": [],
     "prompt_number": 29
    },
    {
     "cell_type": "code",
     "collapsed": false,
     "input": [
      "json_data=open(\"loans/1.json\").read()\n",
      "\n",
      "data = json.loads(json_data)\n",
      "header = data[\"header\"]\n",
      "loans = data[\"loans\"]\n",
      "c1 = [\"id\",\"name\",\"status\",\"funded_amount\",\"basket_amount\",\"paid_amount\",\"activity\",\"sector\",\"themes\",\"use\",\"delinquent\"]\n",
      "c2 = [\"country_code\",\"country\",\"town\",\"partner_id\",\"posted_date\",\"planned_expire_date\",\"loan_amount\",\"lender_count\",\"forex_loss\"]\n",
      "c3 = [\"bonus_credit_elig\",\"tags\",\"num_borrowers\",\"borrower_gender\",\"disbursal_date\",\"disbursal_currency\",\"disbursal_amount\"]\n",
      "c4 = [\"repayment_interval\",\"repayment_term\",\"loan_amount\",\"funded_date\",\"paid_date\",\"translator\"]\n",
      "\n",
      "#for loan in loans:\n",
      "    #\n",
      "\n",
      "# for now parse everything into a dataframe except \"loan description texts\""
     ],
     "language": "python",
     "metadata": {},
     "outputs": [
      {
       "ename": "SyntaxError",
       "evalue": "invalid syntax (<ipython-input-48-3fc5a086446b>, line 8)",
       "output_type": "pyerr",
       "traceback": [
        "\u001b[1;36m  File \u001b[1;32m\"<ipython-input-48-3fc5a086446b>\"\u001b[1;36m, line \u001b[1;32m8\u001b[0m\n\u001b[1;33m    c3 = [\"bonus_credit_elig\",\"tags\",\"num_borrowers\",\"borrower_gender\",\"disbursal_date\",\"disbursal_currency\",\"disbursal_amount\"] +\u001b[0m\n\u001b[1;37m                                                                                                                                   ^\u001b[0m\n\u001b[1;31mSyntaxError\u001b[0m\u001b[1;31m:\u001b[0m invalid syntax\n"
       ]
      }
     ],
     "prompt_number": 48
    },
    {
     "cell_type": "code",
     "collapsed": false,
     "input": [
      "files = os.listdir(\"loans\")\n",
      "\n",
      "arr = np.zeros((2,3), dtype='S255')\n",
      "\n",
      "arr[0][0] = 2.3\n",
      "arr[0][1] = \"yuba\"\n",
      "arr[0][2] = 9\n",
      "arr[1][0] = 45.9\n",
      "arr[1][1] = \"paki\"\n",
      "arr[1][2] = 72\n",
      "\n",
      "#arr\n",
      "\n",
      "dframe = pd.DataFrame(arr, columns=[\"aa\",\"bb\",\"cc\"])\n",
      "dframe[[\"cc\"]] = dframe[[\"cc\"]].astype(int)\n",
      "dframe[[\"aa\"]] = dframe[[\"aa\"]].astype(float)\n",
      "t = dframe.iloc[0,0]\n",
      "print type(t)\n",
      "dframe"
     ],
     "language": "python",
     "metadata": {},
     "outputs": [
      {
       "output_type": "stream",
       "stream": "stdout",
       "text": [
        "<type 'numpy.float64'>\n"
       ]
      },
      {
       "html": [
        "<div style=\"max-height:1000px;max-width:1500px;overflow:auto;\">\n",
        "<table border=\"1\" class=\"dataframe\">\n",
        "  <thead>\n",
        "    <tr style=\"text-align: right;\">\n",
        "      <th></th>\n",
        "      <th>aa</th>\n",
        "      <th>bb</th>\n",
        "      <th>cc</th>\n",
        "    </tr>\n",
        "  </thead>\n",
        "  <tbody>\n",
        "    <tr>\n",
        "      <th>0</th>\n",
        "      <td>  2.3</td>\n",
        "      <td> yuba</td>\n",
        "      <td>  9</td>\n",
        "    </tr>\n",
        "    <tr>\n",
        "      <th>1</th>\n",
        "      <td> 45.9</td>\n",
        "      <td> paki</td>\n",
        "      <td> 72</td>\n",
        "    </tr>\n",
        "  </tbody>\n",
        "</table>\n",
        "</div>"
       ],
       "metadata": {},
       "output_type": "pyout",
       "prompt_number": 43,
       "text": [
        "     aa    bb  cc\n",
        "0   2.3  yuba   9\n",
        "1  45.9  paki  72"
       ]
      }
     ],
     "prompt_number": 43
    }
   ],
   "metadata": {}
  }
 ]
}