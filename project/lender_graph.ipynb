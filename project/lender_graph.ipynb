{
 "metadata": {
  "name": "",
  "signature": "sha256:cb29753d02c375e9148468d1249114affd3852f8318ede7b270108c609b0e755"
 },
 "nbformat": 3,
 "nbformat_minor": 0,
 "worksheets": [
  {
   "cells": [
    {
     "cell_type": "code",
     "collapsed": false,
     "input": [
      "import os\n",
      "import json\n",
      "import time\n",
      "import requests\n",
      "import numpy as np\n",
      "import pandas as pd\n",
      "import networkx as nx\n",
      "\n",
      "from itertools import combinations\n",
      "from collections import defaultdict\n",
      "from matplotlib import pyplot as plt\n",
      "from pandas import Series, DataFrame\n",
      "%matplotlib inline"
     ],
     "language": "python",
     "metadata": {},
     "outputs": [],
     "prompt_number": 1
    },
    {
     "cell_type": "code",
     "collapsed": false,
     "input": [
      "columns = [\"loan_id\",\"uid\"]\n",
      "data_matrix = np.zeros((1746205,len(columns)), dtype='S25') #check?\n",
      "\n",
      "files = os.listdir(\"lenders\")\n",
      "idx = 0\n",
      "\n",
      "for f in files:\n",
      "    f_data = open(\"lenders/\" + f)\n",
      "    json_data = f_data.read()\n",
      "\n",
      "    data = json.loads(json_data)\n",
      "    loans = data[\"data\"]\n",
      "    \n",
      "    for loan in loans:                \n",
      "        lenders = loan[\"lenders\"]\n",
      "        for lender in lenders:\n",
      "            try:\n",
      "                data_matrix[idx][0] = loan[\"loan_id\"]\n",
      "                uid = lender[\"uid\"] if \"uid\" in lender else \"\"\n",
      "                if len(uid) > 25:\n",
      "                    print len(uid)\n",
      "                    print uid\n",
      "                data_matrix[idx][1] = uid\n",
      "            except KeyError as ke:\n",
      "                print lender\n",
      "        \n",
      "            idx += 1\n",
      "    \n",
      "    f_data.close()\n",
      "\n",
      "print idx\n",
      "# data_matrix[0]        "
     ],
     "language": "python",
     "metadata": {},
     "outputs": [
      {
       "output_type": "stream",
       "stream": "stdout",
       "text": [
        "1746205\n"
       ]
      }
     ],
     "prompt_number": 2
    },
    {
     "cell_type": "code",
     "collapsed": false,
     "input": [
      "dframe = pd.DataFrame(data_matrix, columns=columns)"
     ],
     "language": "python",
     "metadata": {},
     "outputs": [],
     "prompt_number": 3
    },
    {
     "cell_type": "code",
     "collapsed": false,
     "input": [
      "data_matrix = \"ty\""
     ],
     "language": "python",
     "metadata": {},
     "outputs": [],
     "prompt_number": 6
    },
    {
     "cell_type": "code",
     "collapsed": false,
     "input": [
      "select_lenders = []\n",
      "count = 0\n",
      "for lend, lend_data in dframe.groupby('uid'):\n",
      "    loans = set(lend_data.loan_id.tolist())\n",
      "    if len(loans) > 25:\n",
      "        select_lenders.append(lend)\n",
      "        count += 1\n",
      "    \n",
      "        if count%50000==0:\n",
      "            print count\n",
      "    \n",
      "print 'finale'\n",
      "print count"
     ],
     "language": "python",
     "metadata": {},
     "outputs": [
      {
       "output_type": "stream",
       "stream": "stdout",
       "text": [
        "finale\n",
        "7120\n"
       ]
      }
     ],
     "prompt_number": 7
    },
    {
     "cell_type": "code",
     "collapsed": false,
     "input": [
      "print len(select_lenders)\n",
      "mdframe = dframe[dframe['uid'].isin(select_lenders)]"
     ],
     "language": "python",
     "metadata": {},
     "outputs": [
      {
       "output_type": "stream",
       "stream": "stdout",
       "text": [
        "7120\n"
       ]
      }
     ],
     "prompt_number": 8
    },
    {
     "cell_type": "code",
     "collapsed": false,
     "input": [
      "print len(mdframe.uid.tolist())\n",
      "print len(dframe.uid.tolist())\n",
      "#select_lenders[-6:-1]"
     ],
     "language": "python",
     "metadata": {},
     "outputs": [
      {
       "output_type": "stream",
       "stream": "stdout",
       "text": [
        "675608\n",
        "1746205"
       ]
      },
      {
       "output_type": "stream",
       "stream": "stdout",
       "text": [
        "\n"
       ]
      }
     ],
     "prompt_number": 9
    },
    {
     "cell_type": "code",
     "collapsed": false,
     "input": [
      "LG = nx.Graph()\n",
      "\n",
      "def trim_list(ls):\n",
      "    return [x for x in ls if x != '']"
     ],
     "language": "python",
     "metadata": {},
     "outputs": [],
     "prompt_number": 11
    },
    {
     "cell_type": "code",
     "collapsed": false,
     "input": [
      "for loan, loan_data in mdframe.groupby('loan_id'):                \n",
      "    \n",
      "    len_list = loan_data.uid.tolist()\n",
      "    len_list = trim_list(len_list)\n",
      "    \n",
      "    for comb in combinations(len_list,2):\n",
      "        LG.add_node(comb[0])\n",
      "        LG.add_node(comb[1])\n",
      "        LG.add_edge(comb[0],comb[1])"
     ],
     "language": "python",
     "metadata": {},
     "outputs": [],
     "prompt_number": 12
    },
    {
     "cell_type": "code",
     "collapsed": false,
     "input": [
      "LG.number_of_nodes()\n",
      "LG.number_of_edges()"
     ],
     "language": "python",
     "metadata": {},
     "outputs": [
      {
       "metadata": {},
       "output_type": "pyout",
       "prompt_number": 16,
       "text": [
        "1596192"
       ]
      }
     ],
     "prompt_number": 16
    }
   ],
   "metadata": {}
  }
 ]
}