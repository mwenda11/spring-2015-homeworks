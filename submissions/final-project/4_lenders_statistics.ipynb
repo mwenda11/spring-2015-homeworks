{
 "metadata": {
  "name": "",
  "signature": "sha256:20458d83e3b1899cff50eaea7ed9adc9e5e7a1812284444425ff7f7df5896079"
 },
 "nbformat": 3,
 "nbformat_minor": 0,
 "worksheets": [
  {
   "cells": [
    {
     "cell_type": "code",
     "collapsed": false,
     "input": [
      "import os\n",
      "import json\n",
      "import time\n",
      "import requests\n",
      "import numpy as np\n",
      "import pandas as pd\n",
      "import networkx as nx\n",
      "\n",
      "from itertools import combinations\n",
      "from collections import defaultdict\n",
      "from matplotlib import pyplot as plt\n",
      "from pandas import Series, DataFrame\n",
      "%matplotlib inline"
     ],
     "language": "python",
     "metadata": {},
     "outputs": [],
     "prompt_number": 2
    },
    {
     "cell_type": "code",
     "collapsed": false,
     "input": [
      "columns = [\"loan_id\",\"country_code\"]\n",
      "lender_matrix = np.zeros((1746205,len(columns)), dtype='S8')\n",
      "\n",
      "files = os.listdir(\"lenders\")\n",
      "idx = 0\n",
      "\n",
      "for f in files:\n",
      "    f_data = open(\"lenders/\" + f)\n",
      "    json_data = f_data.read()\n",
      "\n",
      "    data = json.loads(json_data)\n",
      "    loans = data[\"data\"]\n",
      "    \n",
      "    for loan in loans:                \n",
      "        lenders = loan[\"lenders\"]\n",
      "        for lender in lenders:\n",
      "            try:\n",
      "                lender_matrix[idx][0] = loan[\"loan_id\"]\n",
      "                #lender_matrix[idx][1] = lender[\"uid\"] if \"uid\" in lender else \"\"\n",
      "                #lender_matrix[idx][2] = lender[\"whereabouts\"].encode('utf8') if \"whereabouts\" in lender else \"\"\n",
      "                lender_matrix[idx][1] = lender[\"country_code\"] if \"country_code\" in lender else \"\"\n",
      "                #lender_matrix[idx][4] = lender[\"lender_id\"] if \"lender_id\" in lender else \"\"\n",
      "                #lender_matrix[idx][5] = lender[\"name\"].encode('utf8') if \"name\" in lender else \"\"\n",
      "            except KeyError as ke:\n",
      "                print lender\n",
      "        \n",
      "            idx += 1\n",
      "    \n",
      "    f_data.close()\n",
      "\n",
      "print idx\n",
      "# data_matrix[0]        "
     ],
     "language": "python",
     "metadata": {},
     "outputs": [
      {
       "output_type": "stream",
       "stream": "stdout",
       "text": [
        "1746205\n"
       ]
      }
     ],
     "prompt_number": 3
    },
    {
     "cell_type": "code",
     "collapsed": false,
     "input": [
      "dframe = pd.DataFrame(lender_matrix, columns=columns)"
     ],
     "language": "python",
     "metadata": {},
     "outputs": [],
     "prompt_number": 8
    },
    {
     "cell_type": "code",
     "collapsed": false,
     "input": [
      "dframe.iloc[20:25,:]"
     ],
     "language": "python",
     "metadata": {},
     "outputs": [
      {
       "html": [
        "<div style=\"max-height:1000px;max-width:1500px;overflow:auto;\">\n",
        "<table border=\"1\" class=\"dataframe\">\n",
        "  <thead>\n",
        "    <tr style=\"text-align: right;\">\n",
        "      <th></th>\n",
        "      <th>loan_id</th>\n",
        "      <th>country_code</th>\n",
        "    </tr>\n",
        "  </thead>\n",
        "  <tbody>\n",
        "    <tr>\n",
        "      <th>20</th>\n",
        "      <td> 15542</td>\n",
        "      <td>   </td>\n",
        "    </tr>\n",
        "    <tr>\n",
        "      <th>21</th>\n",
        "      <td> 15542</td>\n",
        "      <td> US</td>\n",
        "    </tr>\n",
        "    <tr>\n",
        "      <th>22</th>\n",
        "      <td> 15542</td>\n",
        "      <td> US</td>\n",
        "    </tr>\n",
        "    <tr>\n",
        "      <th>23</th>\n",
        "      <td> 15542</td>\n",
        "      <td> US</td>\n",
        "    </tr>\n",
        "    <tr>\n",
        "      <th>24</th>\n",
        "      <td> 15542</td>\n",
        "      <td> US</td>\n",
        "    </tr>\n",
        "  </tbody>\n",
        "</table>\n",
        "</div>"
       ],
       "metadata": {},
       "output_type": "pyout",
       "prompt_number": 9,
       "text": [
        "   loan_id country_code\n",
        "20   15542             \n",
        "21   15542           US\n",
        "22   15542           US\n",
        "23   15542           US\n",
        "24   15542           US"
       ]
      }
     ],
     "prompt_number": 9
    },
    {
     "cell_type": "code",
     "collapsed": false,
     "input": [
      "# TODO histogram\n",
      "countries = defaultdict(int)\n",
      "others = 0\n",
      "\n",
      "country_dict = {'AU':'Australia','BE':'Belgium','CA':'Canada','CH':'Switzerland','DE':'Germany','DK':'Danmark','ES':'Spain','FI':'Finland','FR':'France','GB':'Great Britain','IT':'Italy','JP':'Japan','NL':'Netherlands','NO':'Norway','NZ':'New Zealand','PT':'Portugal','SE':'Sweden','US':'USA','others':'Others','':'Anonymous'}\n",
      "\n",
      "for con, con_data in dframe.groupby('country_code'):\n",
      "    num_lenders = len(con_data)\n",
      "    if num_lenders > 5000:\n",
      "        country = country_dict[con.strip()]\n",
      "        countries[country] = len(con_data)\n",
      "    else:\n",
      "        others += num_lenders\n",
      "        \n",
      "countries[\"Others\"] = others\n",
      "print others\n",
      "    \n",
      "# create dataframe from dictionary    \n",
      "cframe = pd.DataFrame.from_dict(countries, orient='index', dtype=None)\n",
      "\n",
      "title = 'Number of Lenders grouped by Country'\n",
      "cframe.columns = ['country']\n",
      "cframe.country.plot(kind='barh', figsize=(15,7), title=title)"
     ],
     "language": "python",
     "metadata": {},
     "outputs": [
      {
       "output_type": "stream",
       "stream": "stdout",
       "text": [
        "54828\n"
       ]
      },
      {
       "metadata": {},
       "output_type": "pyout",
       "prompt_number": 10,
       "text": [
        "<matplotlib.axes._subplots.AxesSubplot at 0x37f8eda0>"
       ]
      },
      {
       "metadata": {},
       "output_type": "display_data",
       "png": "[encoded data removed]",
       "text": [
        "<matplotlib.figure.Figure at 0x37f8e898>"
       ]
      }
     ],
     "prompt_number": 10
    }
   ],
   "metadata": {}
  }
 ]
}