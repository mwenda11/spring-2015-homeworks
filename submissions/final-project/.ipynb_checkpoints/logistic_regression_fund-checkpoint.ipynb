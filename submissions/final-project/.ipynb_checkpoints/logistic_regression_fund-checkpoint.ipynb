{
 "metadata": {
  "name": "",
  "signature": "sha256:4921dc3706250c97819a4bea5ab2e4d64a1fa0ff08321dfd563d5427e3a9caaa"
 },
 "nbformat": 3,
 "nbformat_minor": 0,
 "worksheets": [
  {
   "cells": [
    {
     "cell_type": "code",
     "collapsed": false,
     "input": [
      "import os\n",
      "import json\n",
      "import time\n",
      "import datetime\n",
      "import requests\n",
      "import numpy as np\n",
      "import pandas as pd\n",
      "\n",
      "from patsy import dmatrices\n",
      "from collections import defaultdict\n",
      "from matplotlib import pyplot as plt\n",
      "from pandas import Series, DataFrame\n",
      "%matplotlib inline\n",
      "\n",
      "import sklearn.metrics as metrics\n",
      "import sklearn.utils as utils\n",
      "import sklearn.linear_model as linear_model\n",
      "import sklearn.cross_validation as cross_validation\n",
      "from sklearn.preprocessing import StandardScaler"
     ],
     "language": "python",
     "metadata": {},
     "outputs": [],
     "prompt_number": 2
    },
    {
     "cell_type": "code",
     "collapsed": false,
     "input": [
      "dframe = pd.read_csv('filtered_loan_dataAdj.csv', index_col='id')"
     ],
     "language": "python",
     "metadata": {},
     "outputs": [],
     "prompt_number": 3
    },
    {
     "cell_type": "code",
     "collapsed": false,
     "input": [
      "# to predict default -- filter: paid,defaulted\n",
      "dframe = dframe[dframe.status != \"defaulted\"]\n",
      "dframe = dframe[dframe.status != \"in_repayment\"]\n",
      "dframe = dframe[dframe.status != \"refunded\"]"
     ],
     "language": "python",
     "metadata": {},
     "outputs": [],
     "prompt_number": 5
    },
    {
     "cell_type": "code",
     "collapsed": false,
     "input": [
      "#dframe.groupby(\"status\").count()"
     ],
     "language": "python",
     "metadata": {},
     "outputs": [],
     "prompt_number": 10
    },
    {
     "cell_type": "code",
     "collapsed": false,
     "input": [
      "def was_funded(row):\n",
      "    funded = row.status\n",
      "    if funded == \"expired\":\n",
      "        return 0\n",
      "    else:\n",
      "        return 1\n",
      "\n",
      "dframe['status'] = dframe.apply(was_funded, axis = 1)\n",
      "\n",
      "\n",
      "for it, dat in dframe.groupby(\"status\"):\n",
      "    print it, len(dat)"
     ],
     "language": "python",
     "metadata": {},
     "outputs": [
      {
       "output_type": "stream",
       "stream": "stdout",
       "text": [
        "0 1961\n",
        "1 82193\n"
       ]
      }
     ],
     "prompt_number": 8
    },
    {
     "cell_type": "code",
     "collapsed": false,
     "input": [
      "def norm_adjectives(row):\n",
      "    num = row.num_adjectives\n",
      "    leng = row.text_length\n",
      "    return num/(leng*1.0)\n",
      "\n",
      "dframe.insert(8, \"normalized_adj\", '')\n",
      "dframe['normalized_adj'] = dframe.apply(norm_adjectives, axis = 1)"
     ],
     "language": "python",
     "metadata": {},
     "outputs": [],
     "prompt_number": 11
    },
    {
     "cell_type": "code",
     "collapsed": false,
     "input": [
      "#dframe.iloc[:7,:15]"
     ],
     "language": "python",
     "metadata": {},
     "outputs": [],
     "prompt_number": 13
    },
    {
     "cell_type": "code",
     "collapsed": false,
     "input": [
      "def is_female(row):\n",
      "    gen = row.borrower_gender\n",
      "    if gen == \"F\":\n",
      "        return 1\n",
      "    else:\n",
      "        return 0\n",
      "\n",
      "dframe['borrower_gender'] = dframe.apply(is_female, axis = 1)\n",
      "\n",
      "for it, dat in dframe.groupby(\"borrower_gender\"):\n",
      "    print it, len(dat)"
     ],
     "language": "python",
     "metadata": {},
     "outputs": [
      {
       "output_type": "stream",
       "stream": "stdout",
       "text": [
        "0 21675\n",
        "1 62479\n"
       ]
      }
     ],
     "prompt_number": 14
    },
    {
     "cell_type": "code",
     "collapsed": false,
     "input": [
      "#should we have a column binary for each country\n",
      "# // visualize default/fund rate for each country -- suspect that ppl would be less like to fund nigeria\n",
      "con_list = []\n",
      "for it, dat in dframe.groupby(\"country\"):\n",
      "    con_list.append(it.strip())\n",
      "\n",
      "#print con_list\n",
      "asia = [\"Afghanistan\",\"Armenia\",\"Azerbaijan\",\"Cambodia\",\"Georgia\",\"Indonesia\",\"Iraq\",\"Israel\",\"Jordan\",\"Kyrgyzstan\",\"Lebanon\",\"Moldova\",\"Mongolia\",\"Nepal\",\"Pakistan\",\"Palestine\",\"Philippines\",\"Samoa\",\"Sri Lanka\",\"Tajikistan\",\"Turkey\",\"Vietnam\",\"Yemen\"]\n",
      "africa = [\"Benin\",\"Burkina Faso\",\"Burundi\",\"Cameroon\",\"Congo (Dem. Rep.)\",\"Congo (Rep.)\",\"Cote D'Ivoire\",\"Ghana\",\"Kenya\",\"Liberia\",\"Mali\",\"Mozambique\",\"Nigeria\",\"Rwanda\",\"Senegal\",\"Sierra Leone\",\"South Africa\",\"South Sudan\",\"Tanzania\",\"Togo\",\"Uganda\",\"Zimbabwe\"]\n",
      "latin_america = [\"Bolivia\",\"Colombia\",\"Chile\",\"Costa Rica\",\"Dominican Republic\",\"Ecuador\",\"El Salvador\",\"Guatemala\",\"Haiti\",\"Honduras\",\"Mexico\",\"Nicaragua\",\"Paraguay\",\"Peru\"]\n",
      "europe = [\"Bosnia and Herzegovina\",\"Bulgaria\",\"Ukraine\"]\n",
      "north_america = [\"United States\"]"
     ],
     "language": "python",
     "metadata": {},
     "outputs": [],
     "prompt_number": 15
    },
    {
     "cell_type": "code",
     "collapsed": false,
     "input": [
      "def continent(row):\n",
      "    con = row.country.strip()\n",
      "    if con in africa:\n",
      "        return 'africa'\n",
      "    elif con in asia:\n",
      "        return 'asia'\n",
      "    elif con in europe:\n",
      "        return 'europe'\n",
      "    elif con in latin_america:\n",
      "        return 'latin_america'\n",
      "    elif con in north_america:\n",
      "        return 'north_america'\n",
      "\n",
      "dframe.insert(8, \"continent\", '')\n",
      "dframe['continent'] = dframe.apply(continent, axis = 1)\n",
      "\n",
      "for it, dat in dframe.groupby(\"continent\"):\n",
      "    print it, len(dat)"
     ],
     "language": "python",
     "metadata": {},
     "outputs": [
      {
       "output_type": "stream",
       "stream": "stdout",
       "text": [
        "africa 23408\n",
        "asia 32388\n",
        "europe 818\n",
        "latin_america 27436\n",
        "north_america 104\n"
       ]
      }
     ],
     "prompt_number": 16
    },
    {
     "cell_type": "code",
     "collapsed": false,
     "input": [
      "#dframe.iloc[:6,:15]\n",
      "for it, dat in dframe.groupby(\"status\"):\n",
      "    print it, len(dat)"
     ],
     "language": "python",
     "metadata": {},
     "outputs": [
      {
       "output_type": "stream",
       "stream": "stdout",
       "text": [
        "0 1961\n",
        "1 82193\n"
       ]
      }
     ],
     "prompt_number": 17
    },
    {
     "cell_type": "code",
     "collapsed": false,
     "input": [
      "y, dfX = dmatrices('status ~ text_length + num_languages + normalized_adj + C(sector) + C(continent) + loan_amount + bonus_credit_elig + num_borrowers + \\\n",
      "                 borrower_gender + partner_loss_liable + pactive + prating + pdays_as_member + pdelinquency_rate + \\\n",
      "                 pdefault_rate + ptotal_amount_raised + ploans_posted + pcharges_FI + pALSPCI + ploans_at_risk_rate + pforex_loss_rate',\n",
      "                 dframe, return_type=\"dataframe\")\n",
      "#num_adjectives"
     ],
     "language": "python",
     "metadata": {},
     "outputs": [],
     "prompt_number": 18
    },
    {
     "cell_type": "code",
     "collapsed": false,
     "input": [
      "scaler = StandardScaler()\n",
      "scaler.fit(dfX)\n",
      "X = scaler.transform(dfX)"
     ],
     "language": "python",
     "metadata": {},
     "outputs": [],
     "prompt_number": 19
    },
    {
     "cell_type": "code",
     "collapsed": false,
     "input": [
      "print y.shape, \n",
      "y = np.ravel(y)\n",
      "print y.shape\n",
      "#dfX.iloc[:7,15:30]"
     ],
     "language": "python",
     "metadata": {},
     "outputs": [
      {
       "output_type": "stream",
       "stream": "stdout",
       "text": [
        "(84154L,) (84154L,)\n"
       ]
      }
     ],
     "prompt_number": 23
    },
    {
     "cell_type": "code",
     "collapsed": false,
     "input": [
      "# evaluate the model by splitting into train and test sets\n",
      "X_train, X_test, y_train, y_test = cross_validation.train_test_split(X,\n",
      "                                                                     y,\n",
      "                                                                     test_size=0.3,\n",
      "                                                                     random_state=0\n",
      "                                                                     )\n",
      "logistic_regr = linear_model.LogisticRegression()\n",
      "logistic_regr.fit(X_train, y_train)"
     ],
     "language": "python",
     "metadata": {},
     "outputs": [
      {
       "metadata": {},
       "output_type": "pyout",
       "prompt_number": 24,
       "text": [
        "LogisticRegression(C=1.0, class_weight=None, dual=False, fit_intercept=True,\n",
        "          intercept_scaling=1, penalty='l2', random_state=None, tol=0.0001)"
       ]
      }
     ],
     "prompt_number": 24
    },
    {
     "cell_type": "code",
     "collapsed": false,
     "input": [
      "# verifying if cross_validation did a good split\n",
      "dfy_train = pd.DataFrame(y_train, columns=[\"status\"])\n",
      "dfy_test = pd.DataFrame(y_test, columns=[\"status\"])\n",
      "\n",
      "for it, dat in dfy_test.groupby(\"status\"):\n",
      "    print it, len(dat)\n",
      "print '----------------------'   \n",
      "for it, dat in dfy_train.groupby(\"status\"):\n",
      "    print it, len(dat)\n",
      "\n",
      "print (24682/565.0)\n",
      "print (57511/1396.0)"
     ],
     "language": "python",
     "metadata": {},
     "outputs": [
      {
       "output_type": "stream",
       "stream": "stdout",
       "text": [
        "0.0 565\n",
        "1.0 24682\n",
        "----------------------\n",
        "0.0 1396\n",
        "1.0 57511\n",
        "43.6849557522\n",
        "41.196991404\n"
       ]
      }
     ],
     "prompt_number": 25
    },
    {
     "cell_type": "code",
     "collapsed": false,
     "input": [
      "# predict class labels for the test set\n",
      "y_predicted = logistic_regr.predict(X_test)\n",
      "print y_predicted"
     ],
     "language": "python",
     "metadata": {},
     "outputs": [
      {
       "output_type": "stream",
       "stream": "stdout",
       "text": [
        "[ 1.  1.  1. ...,  1.  1.  1.]\n"
       ]
      }
     ],
     "prompt_number": 26
    },
    {
     "cell_type": "code",
     "collapsed": false,
     "input": [
      "#prediction probabilities\n",
      "probs = logistic_regr.predict_proba(X_test)\n",
      "print probs"
     ],
     "language": "python",
     "metadata": {},
     "outputs": [
      {
       "output_type": "stream",
       "stream": "stdout",
       "text": [
        "[[  5.32196472e-03   9.94678035e-01]\n",
        " [  1.37077357e-02   9.86292264e-01]\n",
        " [  1.63097648e-03   9.98369024e-01]\n",
        " ..., \n",
        " [  1.47415632e-05   9.99985258e-01]\n",
        " [  9.51754292e-02   9.04824571e-01]\n",
        " [  1.72783588e-02   9.82721641e-01]]\n"
       ]
      }
     ],
     "prompt_number": 27
    },
    {
     "cell_type": "code",
     "collapsed": false,
     "input": [
      "# generate evaluation metrics\n",
      "print metrics.accuracy_score(y_test, y_predicted)"
     ],
     "language": "python",
     "metadata": {},
     "outputs": [
      {
       "output_type": "stream",
       "stream": "stdout",
       "text": [
        "0.9772646255\n"
       ]
      }
     ],
     "prompt_number": 28
    },
    {
     "cell_type": "code",
     "collapsed": false,
     "input": [
      "print metrics.confusion_matrix(y_test, y_predicted)\n",
      "print metrics.classification_report(y_test, y_predicted)"
     ],
     "language": "python",
     "metadata": {},
     "outputs": [
      {
       "output_type": "stream",
       "stream": "stdout",
       "text": [
        "[[   83   482]\n",
        " [   92 24590]]\n",
        "             precision    recall  f1-score   support\n",
        "\n",
        "        0.0       0.47      0.15      0.22       565\n",
        "        1.0       0.98      1.00      0.99     24682\n",
        "\n",
        "avg / total       0.97      0.98      0.97     25247\n",
        "\n"
       ]
      }
     ],
     "prompt_number": 29
    },
    {
     "cell_type": "code",
     "collapsed": false,
     "input": [
      "# examine the coefficients\n",
      "print pd.DataFrame(zip(dfX.columns, np.transpose(logistic_regr.coef_)))"
     ],
     "language": "python",
     "metadata": {},
     "outputs": [
      {
       "output_type": "stream",
       "stream": "stdout",
       "text": [
        "                                0                    1\n",
        "0                       Intercept                [0.0]\n",
        "1               C(sector)[T.Arts]     [0.588594262031]\n",
        "2           C(sector)[T.Clothing]    [-0.217031530894]\n",
        "3       C(sector)[T.Construction]    [0.0502915972038]\n",
        "4          C(sector)[T.Education]     [0.402046228782]\n",
        "5      C(sector)[T.Entertainment]      [0.18375475563]\n",
        "6               C(sector)[T.Food]     [-0.16057077104]\n",
        "7             C(sector)[T.Health]     [0.416304706834]\n",
        "8            C(sector)[T.Housing]     [-0.19911099473]\n",
        "9      C(sector)[T.Manufacturing]     [0.663572484902]\n",
        "10      C(sector)[T.Personal Use]   [-0.0997421869074]\n",
        "11            C(sector)[T.Retail]    [-0.443107673288]\n",
        "12          C(sector)[T.Services]    [-0.094732088932]\n",
        "13    C(sector)[T.Transportation]    [-0.175368735801]\n",
        "14         C(sector)[T.Wholesale]    [0.0124098600676]\n",
        "15           C(continent)[T.asia]    [-0.233125386999]\n",
        "16         C(continent)[T.europe]     [0.290773964549]\n",
        "17  C(continent)[T.latin_america]   [-0.0415193248263]\n",
        "18  C(continent)[T.north_america]     [0.303679378505]\n",
        "19                    text_length     [0.743221755035]\n",
        "20                  num_languages    [-0.464996675942]\n",
        "21                 num_adjectives    [-0.336802978109]\n",
        "22                 normalized_adj      [2.13769379409]\n",
        "23                    loan_amount     [-1.04539743431]\n",
        "24              bonus_credit_elig  [-0.00766253408668]\n",
        "25                  num_borrowers     [0.784076171492]\n",
        "26                borrower_gender     [0.582545947741]\n",
        "27            partner_loss_liable     [0.809965892459]\n",
        "28                        pactive     [0.452833786029]\n",
        "29                        prating    [-0.487192624072]\n",
        "30                pdays_as_member     [0.607205325981]\n",
        "31              pdelinquency_rate     [0.366824484375]\n",
        "32                  pdefault_rate    [0.0156119933586]\n",
        "33           ptotal_amount_raised     [0.271579193401]\n",
        "34                  ploans_posted   [0.00161169724346]\n",
        "35                    pcharges_FI                [0.0]\n",
        "36                        pALSPCI    [0.0581418880159]\n",
        "37            ploans_at_risk_rate    [-0.382380747599]\n",
        "38               pforex_loss_rate     [0.250554702216]\n"
       ]
      }
     ],
     "prompt_number": 30
    },
    {
     "cell_type": "markdown",
     "metadata": {},
     "source": [
      "TODO: some pairwise visualizations e.g. sector & status; sector & gender\n",
      "\n",
      "**Some Visualizations**"
     ]
    },
    {
     "cell_type": "code",
     "collapsed": false,
     "input": [
      "# Some partner data may not be a predictor becuase the partner data is current and is not for the time period the loan was posted\n",
      "cols = ['status','text_length','num_languages','loan_amount','bonus_credit_elig','num_borrowers','borrower_gender','partner_loss_liable']\n",
      "dfK = dframe[cols]\n",
      "dfK.groupby(\"status\").mean()"
     ],
     "language": "python",
     "metadata": {},
     "outputs": [
      {
       "html": [
        "<div style=\"max-height:1000px;max-width:1500px;overflow:auto;\">\n",
        "<table border=\"1\" class=\"dataframe\">\n",
        "  <thead>\n",
        "    <tr style=\"text-align: right;\">\n",
        "      <th></th>\n",
        "      <th>text_length</th>\n",
        "      <th>num_languages</th>\n",
        "      <th>loan_amount</th>\n",
        "      <th>bonus_credit_elig</th>\n",
        "      <th>num_borrowers</th>\n",
        "      <th>borrower_gender</th>\n",
        "      <th>partner_loss_liable</th>\n",
        "    </tr>\n",
        "    <tr>\n",
        "      <th>status</th>\n",
        "      <th></th>\n",
        "      <th></th>\n",
        "      <th></th>\n",
        "      <th></th>\n",
        "      <th></th>\n",
        "      <th></th>\n",
        "      <th></th>\n",
        "    </tr>\n",
        "  </thead>\n",
        "  <tbody>\n",
        "    <tr>\n",
        "      <th>0</th>\n",
        "      <td> 673.263253</td>\n",
        "      <td> 1.481387</td>\n",
        "      <td> 1598.087710</td>\n",
        "      <td> 0.619072</td>\n",
        "      <td> 1.598164</td>\n",
        "      <td> 0.338603</td>\n",
        "      <td> 0.030597</td>\n",
        "    </tr>\n",
        "    <tr>\n",
        "      <th>1</th>\n",
        "      <td> 853.848729</td>\n",
        "      <td> 1.325746</td>\n",
        "      <td>  752.189663</td>\n",
        "      <td> 0.474602</td>\n",
        "      <td> 1.937756</td>\n",
        "      <td> 0.752071</td>\n",
        "      <td> 0.376090</td>\n",
        "    </tr>\n",
        "  </tbody>\n",
        "</table>\n",
        "</div>"
       ],
       "metadata": {},
       "output_type": "pyout",
       "prompt_number": 52,
       "text": [
        "        text_length  num_languages  loan_amount  bonus_credit_elig  \\\n",
        "status                                                               \n",
        "0        673.263253       1.481387  1598.087710           0.619072   \n",
        "1        853.848729       1.325746   752.189663           0.474602   \n",
        "\n",
        "        num_borrowers  borrower_gender  partner_loss_liable  \n",
        "status                                                       \n",
        "0            1.598164         0.338603             0.030597  \n",
        "1            1.937756         0.752071             0.376090  "
       ]
      }
     ],
     "prompt_number": 52
    },
    {
     "cell_type": "code",
     "collapsed": false,
     "input": [
      "columnsx = ['status','text_length','num_languages','sector','country','continent','loan_amount','bonus_credit_elig','num_borrowers','borrower_gender','partner_loss_liable']\n",
      "dfP = dframe[columnsx]\n",
      "#dfP.info()"
     ],
     "language": "python",
     "metadata": {},
     "outputs": [],
     "prompt_number": 22
    },
    {
     "cell_type": "code",
     "collapsed": false,
     "input": [
      "#status(funded or not) and sector\n",
      "cont_sector = pd.crosstab(dfP.sector, dfP.status.astype(bool))\n",
      "#cols = ['Agriculture','Arts','Clothing','Construction','Food','Housing','Manufacturing','Retail','Services','Transportation']\n",
      "#cont_sector = cont_sector[cols]\n",
      "\n",
      "cont_sector.div(cont_sector.sum(1).astype(float), axis=0).plot(kind='bar',stacked=True)\n",
      "plt.title('Affair Percentage by Years Married')\n",
      "plt.xlabel('Years Married')\n",
      "plt.ylabel('Percentage')\n",
      "plt.legend(loc='center left', title=\"Affair\", bbox_to_anchor=(1, 0.5))\n",
      "plt.show()"
     ],
     "language": "python",
     "metadata": {},
     "outputs": [
      {
       "metadata": {},
       "output_type": "display_data",
       "png": "[encoded data removed]",
       "text": [
        "<matplotlib.figure.Figure at 0x2096db38>"
       ]
      }
     ],
     "prompt_number": 39
    },
    {
     "cell_type": "code",
     "collapsed": false,
     "input": [
      "#status(funded or not) and continent\n",
      "cont_sector = pd.crosstab(dfP.continent, dfP.status.astype(bool))\n",
      "\n",
      "cont_sector.div(cont_sector.sum(1).astype(float), axis=0).plot(kind='bar',stacked=True)\n",
      "plt.title('Affair Percentage by Years Married')\n",
      "plt.xlabel('Years Married')\n",
      "plt.ylabel('Percentage')\n",
      "plt.legend(loc='center left', title=\"Affair\", bbox_to_anchor=(1, 0.5))\n",
      "plt.show()"
     ],
     "language": "python",
     "metadata": {},
     "outputs": [
      {
       "metadata": {},
       "output_type": "display_data",
       "png": "[encoded data removed]",
       "text": [
        "<matplotlib.figure.Figure at 0x1f6cc470>"
       ]
      }
     ],
     "prompt_number": 40
    }
   ],
   "metadata": {}
  }
 ]
}