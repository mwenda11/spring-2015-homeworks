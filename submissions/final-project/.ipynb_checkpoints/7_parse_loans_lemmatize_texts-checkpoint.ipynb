{
 "metadata": {
  "name": "",
  "signature": "sha256:9ed1b31314b145727adb7f126d6650f4c6d7beee3bf41b8e231eff9ee8cc5d03"
 },
 "nbformat": 3,
 "nbformat_minor": 0,
 "worksheets": [
  {
   "cells": [
    {
     "cell_type": "markdown",
     "metadata": {},
     "source": [
      "**Parse data, analyze descriptions** <br>\n",
      "One of my hypotheses was that the 'tone' of the loan description would be correlated to whether a loan gets funded. Using some words in the description such as words that portray the borrower as hard-working or words that elicit empathy, may increase the likelihood of getting a loan funded. <br>\n",
      "I decided to do a simple analysis of the texts by counting the number of adjectives used. <br>"
     ]
    },
    {
     "cell_type": "markdown",
     "metadata": {},
     "source": [
      "**Fetching more data on loans that did not get funded** <br>\n",
      "The data snapshot I downloaded had only 53 loans that did not get funded. This is not enough to use in model to predict if a loan will get funded. So I manually downloaded 1961 more loans with status expired (not funded) using Kiva API. <br>\n",
      "STEPS <br>\n",
      "Get list of ids using loans search API.<br>\n",
      "http://api.kivaws.org/v1/loans/search.json?ids_only=true&status=expired&per_page=100&page=224 <br><br>\n",
      "Get loan data for these ids using loans API and save in \"loans-funded\" folder. <br>\n",
      "http://api.kivaws.org/v1/loans/187166,186772,...more_ids_up_to_100_ids_...,137253,137259,136484.json\n",
      "<br> Copy other files from loans folder to loans-funded folder."
     ]
    },
    {
     "cell_type": "code",
     "collapsed": false,
     "input": [
      "import os\n",
      "import json\n",
      "import time\n",
      "import gensim\n",
      "import datetime\n",
      "import requests\n",
      "import numpy as np\n",
      "import pandas as pd\n",
      "\n",
      "from collections import defaultdict\n",
      "from matplotlib import pyplot as plt\n",
      "from pandas import Series, DataFrame\n",
      "%matplotlib inline"
     ],
     "language": "python",
     "metadata": {},
     "outputs": [],
     "prompt_number": 4
    },
    {
     "cell_type": "code",
     "collapsed": false,
     "input": [
      "# count number of adjectives\n",
      "def num_adjectives(text):\n",
      "    count = 0\n",
      "    lem = gensim.utils.lemmatize(text)\n",
      "    for token in lem:\n",
      "        if token[-2:]=='JJ':\n",
      "            count += 1\n",
      "    return count"
     ],
     "language": "python",
     "metadata": {},
     "outputs": [],
     "prompt_number": 5
    },
    {
     "cell_type": "code",
     "collapsed": false,
     "input": [
      "pframe = pd.read_csv('partners.csv', index_col='pid', parse_dates=['start_date'])"
     ],
     "language": "python",
     "metadata": {},
     "outputs": [],
     "prompt_number": 8
    },
    {
     "cell_type": "code",
     "collapsed": false,
     "input": [
      "def active_days(row):\n",
      "    start = row.start_date\n",
      "    now = datetime.datetime.now()\n",
      "    diff = (now - start)\n",
      "    return diff.days\n",
      "\n",
      "pframe['days_active'] = pframe.apply(active_days, axis=1)"
     ],
     "language": "python",
     "metadata": {},
     "outputs": [],
     "prompt_number": 9
    },
    {
     "cell_type": "code",
     "collapsed": false,
     "input": [
      "#\n",
      "# This is slow because of Text lemmatize. Takes ~25 minutes\n",
      "#\n",
      "# columns\n",
      "c1 = [\"id\",\"name\",\"status\",\"funded_amount\",\"paid_amount\",\"desc_length\",\"num_languages\",\"num_adjectives\",\"sector\",\"use\",\"delinquent\"]\n",
      "c2 = [\"country_code\",\"country\",\"town\",\"level\",\"partner_id\",\"posted_date\",\"planned_expire_date\",\"loan_amount\",\"lender_count\",\"forex_loss\"]\n",
      "c3 = [\"bonus_credit_elig\",\"tags\",\"num_borrowers\",\"borrower_gender\",\"disbursal_date\",\"disbursal_currency\",\"disbursal_amount\"]\n",
      "c4 = [\"repayment_interval\",\"repayment_term\",\"terms_loan_amount\",\"partner_loss_liable\",\"funded_date\",\"sched_pay_date\",\"paid_date\",\"pictured\",\"translator\"]\n",
      "# info for field partner who issued this loan\n",
      "c5 = [\"pactive\",\"prating\",\"pdays_as_member\",\"pdelinquency_rate\",\"pdefault_rate\",\"ptotal_amount_raised\",\"ploans_posted\"]\n",
      "c6 = [\"pcharges_FI\",\"pALSPCI\",\"ploans_at_risk_rate\",\"pforex_loss_rate\",\"meta_delete\"]\n",
      "\n",
      "columns = c1+c2+c3+c4+c5+c6\n",
      "\n",
      "# Number of loans is 91453\n",
      "data_matrix = np.zeros((91453,len(columns)), dtype='S25')\n",
      "\n",
      "files = os.listdir(\"loans_funded\")\n",
      "idx = 0\n",
      "\n",
      "for f in files:\n",
      "    f_data = open(\"loans_funded/\" + f)\n",
      "    json_data = f_data.read()\n",
      "\n",
      "    data = json.loads(json_data)\n",
      "    loans = data[\"loans\"]\n",
      "    \n",
      "    for loan in loans:\n",
      "        meta_delete = 0 #indicates which records to delete/filter out\n",
      "        data_matrix[idx][0] = loan[\"id\"]\n",
      "        data_matrix[idx][1] = loan[\"name\"].encode('utf8')\n",
      "        data_matrix[idx][2] = loan[\"status\"]\n",
      "        data_matrix[idx][3] = loan[\"funded_amount\"]\n",
      "        data_matrix[idx][4] = 0 #loan[\"paid_amount\"]\n",
      "        texts = loan[\"description\"][\"texts\"]\n",
      "        text = \"\"\n",
      "        if \"en\" in texts:                            #Text length only English descriptions\n",
      "            text = texts[\"en\"]\n",
      "        data_matrix[idx][5] = len(text)\n",
      "        data_matrix[idx][6] = len(texts)             # number of languages - some descriptions are in multiple languages\n",
      "        num_adj = 0\n",
      "        if len(text) > 1:\n",
      "            num_adj = num_adjectives(text)           # number of adjectives in description text\n",
      "        data_matrix[idx][7] = num_adj\n",
      "        \n",
      "        # print progress -- slow coz of text lemmatize\n",
      "        if idx%1000==0:\n",
      "            print idx, '...', num_adj\n",
      "        data_matrix[idx][8] = loan[\"sector\"]\n",
      "        data_matrix[idx][9] = loan[\"use\"].encode('utf8')\n",
      "        data_matrix[idx][10] = 0 #loan[\"delinquent\"] -- not used\n",
      "        data_matrix[idx][11] = loan[\"location\"][\"country_code\"]\n",
      "        data_matrix[idx][12] = loan[\"location\"][\"country\"]\n",
      "        town = None #loan[\"location\"][\"town\"] -- not used\n",
      "        if town is not None:\n",
      "            data_matrix[idx][13] = loan[\"location\"][\"town\"].encode('utf8')\n",
      "        data_matrix[idx][14] = loan[\"location\"][\"geo\"][\"level\"]\n",
      "        pid = int(loan[\"partner_id\"])\n",
      "        data_matrix[idx][15] = pid\n",
      "        posted_date = loan[\"posted_date\"]\n",
      "        if posted_date is None:\n",
      "            meta_delete = 1\n",
      "        data_matrix[idx][16] = posted_date\n",
      "        #data_matrix[idx][17] = loan[\"planned_expiration_date\"]\n",
      "        data_matrix[idx][18] = loan[\"loan_amount\"]\n",
      "        data_matrix[idx][19] = loan[\"lender_count\"]\n",
      "        data_matrix[idx][20] = 0 #loan[\"currency_exchange_loss_amount\"] -- unused\n",
      "        data_matrix[idx][21] = loan[\"bonus_credit_eligibility\"]\n",
      "        data_matrix[idx][22] = str(loan[\"tags\"])\n",
      "        data_matrix[idx][23] = len(loan[\"borrowers\"])\n",
      "        data_matrix[idx][24] = loan[\"borrowers\"][0][\"gender\"] #first one\n",
      "        data_matrix[idx][25] = loan[\"terms\"][\"disbursal_date\"] \n",
      "        data_matrix[idx][26] = loan[\"terms\"][\"disbursal_currency\"] \n",
      "        data_matrix[idx][27] = loan[\"terms\"][\"disbursal_amount\"]\n",
      "        data_matrix[idx][28] = loan[\"terms\"][\"repayment_interval\"] \n",
      "        #data_matrix[idx][29] = loan[\"terms\"][\"repayment_term\"]  -- not used\n",
      "        data_matrix[idx][30] = loan[\"terms\"][\"loan_amount\"]\n",
      "        data_matrix[idx][31] = (loan[\"terms\"][\"loss_liability\"][\"nonpayment\"] == \"partner\")\n",
      "        dt_now = \"2015-04-24T00:00:00Z\"\n",
      "        fun_date = None #loan[\"funded_date\"]  -- not used\n",
      "        data_matrix[idx][32] = (dt_now if (fun_date is None) else fun_date)\n",
      "        sched = loan[\"terms\"][\"scheduled_payments\"]\n",
      "        if len(sched) > 0:\n",
      "            data_matrix[idx][33] = sched[-1][\"due_date\"] #\n",
      "        else:\n",
      "            meta_delete = meta_delete #1\n",
      "        paid_date = dt_now #loan[\"paid_date\"] -- not used\n",
      "        data_matrix[idx][34] = (dt_now if (paid_date is None) else paid_date)\n",
      "        pictured = loan[\"borrowers\"][0][\"pictured\"]\n",
      "        data_matrix[idx][35] = (1 if pictured else 0)\n",
      "        data_matrix[idx][36] = False #(loan[\"translator\"] is not None) -- not used\n",
      "        \n",
      "        #partner data\n",
      "        try:\n",
      "            p_row = pframe.ix[pid]\n",
      "            data_matrix[idx][37] = p_row.active\n",
      "            data_matrix[idx][38] = p_row.rating\n",
      "            data_matrix[idx][39] = p_row.days_active\n",
      "            data_matrix[idx][40] = p_row.delinquency_rate\n",
      "            data_matrix[idx][41] = p_row.default_rate\n",
      "            data_matrix[idx][42] = p_row.total_amount_raised\n",
      "            data_matrix[idx][43] = p_row.loans_posted\n",
      "            data_matrix[idx][44] = p_row.charges_FI\n",
      "            data_matrix[idx][45] = p_row.ALSPCI\n",
      "            data_matrix[idx][46] = p_row.loans_at_risk_rate\n",
      "            data_matrix[idx][47] = p_row.currency_exchange_loss_rate\n",
      "        except KeyError:\n",
      "            #print loan[\"id\"]\n",
      "            meta_delete = 1\n",
      "            \n",
      "        data_matrix[idx][48] = meta_delete\n",
      "        \n",
      "        idx += 1\n",
      "    \n",
      "    f_data.close()\n",
      "\n",
      "idx"
     ],
     "language": "python",
     "metadata": {},
     "outputs": [
      {
       "output_type": "stream",
       "stream": "stdout",
       "text": [
        "0 ... 10\n",
        "1000"
       ]
      },
      {
       "output_type": "stream",
       "stream": "stdout",
       "text": [
        " ... 4\n",
        "2000"
       ]
      },
      {
       "output_type": "stream",
       "stream": "stdout",
       "text": [
        " ... 17\n",
        "3000"
       ]
      },
      {
       "output_type": "stream",
       "stream": "stdout",
       "text": [
        " ... 9\n",
        "4000"
       ]
      },
      {
       "output_type": "stream",
       "stream": "stdout",
       "text": [
        " ... 11\n",
        "5000"
       ]
      },
      {
       "output_type": "stream",
       "stream": "stdout",
       "text": [
        " ... 4\n",
        "6000"
       ]
      },
      {
       "output_type": "stream",
       "stream": "stdout",
       "text": [
        " ... 4\n",
        "7000"
       ]
      },
      {
       "output_type": "stream",
       "stream": "stdout",
       "text": [
        " ... 7\n",
        "8000"
       ]
      },
      {
       "output_type": "stream",
       "stream": "stdout",
       "text": [
        " ... 18\n",
        "9000"
       ]
      },
      {
       "output_type": "stream",
       "stream": "stdout",
       "text": [
        " ... 9\n",
        "10000"
       ]
      },
      {
       "output_type": "stream",
       "stream": "stdout",
       "text": [
        " ... 0\n",
        "11000"
       ]
      },
      {
       "output_type": "stream",
       "stream": "stdout",
       "text": [
        " ... 13\n",
        "12000"
       ]
      },
      {
       "output_type": "stream",
       "stream": "stdout",
       "text": [
        " ... 4\n",
        "13000"
       ]
      },
      {
       "output_type": "stream",
       "stream": "stdout",
       "text": [
        " ... 18\n",
        "14000"
       ]
      },
      {
       "output_type": "stream",
       "stream": "stdout",
       "text": [
        " ... 10\n",
        "15000"
       ]
      },
      {
       "output_type": "stream",
       "stream": "stdout",
       "text": [
        " ... 10\n",
        "16000"
       ]
      },
      {
       "output_type": "stream",
       "stream": "stdout",
       "text": [
        " ... 19\n",
        "17000"
       ]
      },
      {
       "output_type": "stream",
       "stream": "stdout",
       "text": [
        " ... 16\n",
        "18000"
       ]
      },
      {
       "output_type": "stream",
       "stream": "stdout",
       "text": [
        " ... 20\n",
        "19000"
       ]
      },
      {
       "output_type": "stream",
       "stream": "stdout",
       "text": [
        " ... 4\n",
        "20000"
       ]
      },
      {
       "output_type": "stream",
       "stream": "stdout",
       "text": [
        " ... 20\n",
        "21000"
       ]
      },
      {
       "output_type": "stream",
       "stream": "stdout",
       "text": [
        " ... 8\n",
        "22000"
       ]
      },
      {
       "output_type": "stream",
       "stream": "stdout",
       "text": [
        " ... 14\n",
        "23000"
       ]
      },
      {
       "output_type": "stream",
       "stream": "stdout",
       "text": [
        " ... 14\n",
        "24000"
       ]
      },
      {
       "output_type": "stream",
       "stream": "stdout",
       "text": [
        " ... 7\n",
        "25000"
       ]
      },
      {
       "output_type": "stream",
       "stream": "stdout",
       "text": [
        " ... 17\n",
        "26000"
       ]
      },
      {
       "output_type": "stream",
       "stream": "stdout",
       "text": [
        " ... 2\n",
        "27000"
       ]
      },
      {
       "output_type": "stream",
       "stream": "stdout",
       "text": [
        " ... 27\n",
        "28000"
       ]
      },
      {
       "output_type": "stream",
       "stream": "stdout",
       "text": [
        " ... 10\n",
        "29000"
       ]
      },
      {
       "output_type": "stream",
       "stream": "stdout",
       "text": [
        " ... 21\n",
        "30000"
       ]
      },
      {
       "output_type": "stream",
       "stream": "stdout",
       "text": [
        " ... 11\n",
        "31000"
       ]
      },
      {
       "output_type": "stream",
       "stream": "stdout",
       "text": [
        " ... 22\n",
        "32000"
       ]
      },
      {
       "output_type": "stream",
       "stream": "stdout",
       "text": [
        " ... 13\n",
        "33000"
       ]
      },
      {
       "output_type": "stream",
       "stream": "stdout",
       "text": [
        " ... 4\n",
        "34000"
       ]
      },
      {
       "output_type": "stream",
       "stream": "stdout",
       "text": [
        " ... 12\n",
        "35000"
       ]
      },
      {
       "output_type": "stream",
       "stream": "stdout",
       "text": [
        " ... 7\n",
        "36000"
       ]
      },
      {
       "output_type": "stream",
       "stream": "stdout",
       "text": [
        " ... 7\n",
        "37000"
       ]
      },
      {
       "output_type": "stream",
       "stream": "stdout",
       "text": [
        " ... 11\n",
        "38000"
       ]
      },
      {
       "output_type": "stream",
       "stream": "stdout",
       "text": [
        " ... 21\n",
        "39000"
       ]
      },
      {
       "output_type": "stream",
       "stream": "stdout",
       "text": [
        " ... 0\n",
        "40000"
       ]
      },
      {
       "output_type": "stream",
       "stream": "stdout",
       "text": [
        " ... 24\n",
        "41000"
       ]
      },
      {
       "output_type": "stream",
       "stream": "stdout",
       "text": [
        " ... 14\n",
        "42000"
       ]
      },
      {
       "output_type": "stream",
       "stream": "stdout",
       "text": [
        " ... 10\n",
        "43000"
       ]
      },
      {
       "output_type": "stream",
       "stream": "stdout",
       "text": [
        " ... 10\n",
        "44000"
       ]
      },
      {
       "output_type": "stream",
       "stream": "stdout",
       "text": [
        " ... 35\n",
        "45000"
       ]
      },
      {
       "output_type": "stream",
       "stream": "stdout",
       "text": [
        " ... 4\n",
        "46000"
       ]
      },
      {
       "output_type": "stream",
       "stream": "stdout",
       "text": [
        " ... 16\n",
        "47000"
       ]
      },
      {
       "output_type": "stream",
       "stream": "stdout",
       "text": [
        " ... 11\n",
        "48000"
       ]
      },
      {
       "output_type": "stream",
       "stream": "stdout",
       "text": [
        " ... 8\n",
        "49000"
       ]
      },
      {
       "output_type": "stream",
       "stream": "stdout",
       "text": [
        " ... 5\n",
        "50000"
       ]
      },
      {
       "output_type": "stream",
       "stream": "stdout",
       "text": [
        " ... 32\n",
        "51000"
       ]
      },
      {
       "output_type": "stream",
       "stream": "stdout",
       "text": [
        " ... 28\n",
        "52000"
       ]
      },
      {
       "output_type": "stream",
       "stream": "stdout",
       "text": [
        " ... 0\n",
        "53000"
       ]
      },
      {
       "output_type": "stream",
       "stream": "stdout",
       "text": [
        " ... 2\n",
        "54000"
       ]
      },
      {
       "output_type": "stream",
       "stream": "stdout",
       "text": [
        " ... 6\n",
        "55000"
       ]
      },
      {
       "output_type": "stream",
       "stream": "stdout",
       "text": [
        " ... 0\n",
        "56000"
       ]
      },
      {
       "output_type": "stream",
       "stream": "stdout",
       "text": [
        " ... 8\n",
        "57000"
       ]
      },
      {
       "output_type": "stream",
       "stream": "stdout",
       "text": [
        " ... 19\n",
        "58000"
       ]
      },
      {
       "output_type": "stream",
       "stream": "stdout",
       "text": [
        " ... 6\n",
        "59000"
       ]
      },
      {
       "output_type": "stream",
       "stream": "stdout",
       "text": [
        " ... 7\n",
        "60000"
       ]
      },
      {
       "output_type": "stream",
       "stream": "stdout",
       "text": [
        " ... 12\n",
        "61000"
       ]
      },
      {
       "output_type": "stream",
       "stream": "stdout",
       "text": [
        " ... 29\n",
        "62000"
       ]
      },
      {
       "output_type": "stream",
       "stream": "stdout",
       "text": [
        " ... 9\n",
        "63000"
       ]
      },
      {
       "output_type": "stream",
       "stream": "stdout",
       "text": [
        " ... 0\n",
        "64000"
       ]
      },
      {
       "output_type": "stream",
       "stream": "stdout",
       "text": [
        " ... 29\n",
        "65000"
       ]
      },
      {
       "output_type": "stream",
       "stream": "stdout",
       "text": [
        " ... 23\n",
        "66000"
       ]
      },
      {
       "output_type": "stream",
       "stream": "stdout",
       "text": [
        " ... 10\n",
        "67000"
       ]
      },
      {
       "output_type": "stream",
       "stream": "stdout",
       "text": [
        " ... 6\n",
        "68000"
       ]
      },
      {
       "output_type": "stream",
       "stream": "stdout",
       "text": [
        " ... 25\n",
        "69000"
       ]
      },
      {
       "output_type": "stream",
       "stream": "stdout",
       "text": [
        " ... 0\n",
        "70000"
       ]
      },
      {
       "output_type": "stream",
       "stream": "stdout",
       "text": [
        " ... 7\n",
        "71000"
       ]
      },
      {
       "output_type": "stream",
       "stream": "stdout",
       "text": [
        " ... 10\n",
        "72000"
       ]
      },
      {
       "output_type": "stream",
       "stream": "stdout",
       "text": [
        " ... 12\n",
        "73000"
       ]
      },
      {
       "output_type": "stream",
       "stream": "stdout",
       "text": [
        " ... 14\n",
        "74000"
       ]
      },
      {
       "output_type": "stream",
       "stream": "stdout",
       "text": [
        " ... 12\n",
        "75000"
       ]
      },
      {
       "output_type": "stream",
       "stream": "stdout",
       "text": [
        " ... 2\n",
        "76000"
       ]
      },
      {
       "output_type": "stream",
       "stream": "stdout",
       "text": [
        " ... 6\n",
        "77000"
       ]
      },
      {
       "output_type": "stream",
       "stream": "stdout",
       "text": [
        " ... 2\n",
        "78000"
       ]
      },
      {
       "output_type": "stream",
       "stream": "stdout",
       "text": [
        " ... 0\n",
        "79000"
       ]
      },
      {
       "output_type": "stream",
       "stream": "stdout",
       "text": [
        " ... 8\n",
        "80000"
       ]
      },
      {
       "output_type": "stream",
       "stream": "stdout",
       "text": [
        " ... 14\n",
        "81000"
       ]
      },
      {
       "output_type": "stream",
       "stream": "stdout",
       "text": [
        " ... 14\n",
        "82000"
       ]
      },
      {
       "output_type": "stream",
       "stream": "stdout",
       "text": [
        " ... 11\n",
        "83000"
       ]
      },
      {
       "output_type": "stream",
       "stream": "stdout",
       "text": [
        " ... 4\n",
        "84000"
       ]
      },
      {
       "output_type": "stream",
       "stream": "stdout",
       "text": [
        " ... 6\n",
        "85000"
       ]
      },
      {
       "output_type": "stream",
       "stream": "stdout",
       "text": [
        " ... 19\n",
        "86000"
       ]
      },
      {
       "output_type": "stream",
       "stream": "stdout",
       "text": [
        " ... 11\n",
        "87000"
       ]
      },
      {
       "output_type": "stream",
       "stream": "stdout",
       "text": [
        " ... 18\n",
        "88000"
       ]
      },
      {
       "output_type": "stream",
       "stream": "stdout",
       "text": [
        " ... 0\n",
        "89000"
       ]
      },
      {
       "output_type": "stream",
       "stream": "stdout",
       "text": [
        " ... 11\n",
        "90000"
       ]
      },
      {
       "output_type": "stream",
       "stream": "stdout",
       "text": [
        " ... 4\n",
        "91000"
       ]
      },
      {
       "output_type": "stream",
       "stream": "stdout",
       "text": [
        " ... 14\n"
       ]
      },
      {
       "metadata": {},
       "output_type": "pyout",
       "prompt_number": 10,
       "text": [
        "91453"
       ]
      }
     ],
     "prompt_number": 10
    },
    {
     "cell_type": "code",
     "collapsed": false,
     "input": [
      "dframe = pd.DataFrame(data_matrix, columns=columns)"
     ],
     "language": "python",
     "metadata": {},
     "outputs": [],
     "prompt_number": 12
    },
    {
     "cell_type": "code",
     "collapsed": false,
     "input": [
      "dframe.id = dframe['id'].astype(int)\n",
      "dframe = dframe.drop_duplicates(cols='id', take_last=True)"
     ],
     "language": "python",
     "metadata": {},
     "outputs": [
      {
       "output_type": "stream",
       "stream": "stderr",
       "text": [
        "C:\\Program Files\\Anaconda\\lib\\site-packages\\pandas\\util\\decorators.py:81: FutureWarning: the 'cols' keyword is deprecated, use 'subset' instead\n",
        "  warnings.warn(msg, FutureWarning)\n"
       ]
      }
     ],
     "prompt_number": 13
    },
    {
     "cell_type": "code",
     "collapsed": false,
     "input": [
      "# delete columns with missing data\n",
      "dframe.meta_delete = dframe['meta_delete'].astype(int)\n",
      "dframe.id = dframe['id'].astype(int)\n",
      "dframe.index = dframe.id\n",
      "dframe = dframe[dframe.meta_delete == 0]\n",
      "dframe = dframe.drop(['id'],axis=1)"
     ],
     "language": "python",
     "metadata": {},
     "outputs": [],
     "prompt_number": 14
    },
    {
     "cell_type": "code",
     "collapsed": false,
     "input": [
      "dframe.funded_amount = dframe['funded_amount'].astype(float)\n",
      "dframe.loan_amount = dframe['loan_amount'].astype(float)\n",
      "dframe.lender_count = dframe['lender_count'].astype(float)\n",
      "dframe.num_borrowers = dframe['num_borrowers'].astype(float)\n",
      "dframe.desc_length = dframe['desc_length'].astype(float)\n",
      "dframe.posted_date = dframe['posted_date'].astype('datetime64[ns]')"
     ],
     "language": "python",
     "metadata": {},
     "outputs": [],
     "prompt_number": 15
    },
    {
     "cell_type": "code",
     "collapsed": false,
     "input": [
      "dframe.num_adjectives = dframe['num_adjectives'].astype(float)"
     ],
     "language": "python",
     "metadata": {},
     "outputs": [],
     "prompt_number": 17
    },
    {
     "cell_type": "markdown",
     "metadata": {},
     "source": [
      "**Missing data** <br/>\n",
      "Some features are missing data. For loan description, I only calculated the text length for loans with English texts. Texts in other languages may not compare well in length because some languages are more verbose than others, and some texts in other languages had to be in encoded format. For number of adjectives, I only calculated for loans with English texts. For loans without English descriptions, I use <a href=\"https://www.uvm.edu/~dhowell/StatPages/More_Stuff/Missing_Data/Missing.html\">Mean Substitution</a> on number of adjectives.  <br/>"
     ]
    },
    {
     "cell_type": "code",
     "collapsed": false,
     "input": [
      "def fix_adjectives(row):\n",
      "    count = row.num_adjectives\n",
      "    if count == 0:\n",
      "        return 12.0632921018\n",
      "    else:\n",
      "        return count\n",
      "\n",
      "#dframe.insert(6, \"text_length\", 0)\n",
      "dframe['num_adjectives'] = dframe.apply(fix_adjectives, axis = 1)"
     ],
     "language": "python",
     "metadata": {},
     "outputs": [],
     "prompt_number": 19
    },
    {
     "cell_type": "code",
     "collapsed": false,
     "input": [
      "# a few loans have empty description. Assign these a desc length of 849.64 <-- This is the average for other loans\n",
      "def fix_length(row):\n",
      "    leng = row.desc_length\n",
      "    if leng == 0:\n",
      "        return 849.64\n",
      "    else:\n",
      "        return leng\n",
      "\n",
      "dframe.insert(6, \"text_length\", 0)\n",
      "dframe['text_length'] = dframe.apply(fix_length, axis = 1)"
     ],
     "language": "python",
     "metadata": {},
     "outputs": [],
     "prompt_number": 21
    },
    {
     "cell_type": "code",
     "collapsed": false,
     "input": [
      "# For loans without paid amount (defaulted or not paid yet), set amount to 0.\n",
      "def fix_amount(row):\n",
      "    paid = row.paid_amount\n",
      "    try:\n",
      "        val = float(paid)\n",
      "        return paid\n",
      "    except:\n",
      "        return '0.0'\n",
      "\n",
      "dframe['paid_amount'] = dframe.apply(fix_amount, axis = 1)"
     ],
     "language": "python",
     "metadata": {},
     "outputs": [],
     "prompt_number": 22
    },
    {
     "cell_type": "code",
     "collapsed": false,
     "input": [
      "# boolean to binary\n",
      "def partner_loss_liable(row):\n",
      "    liab = row.partner_loss_liable\n",
      "    if liab.strip() == \"True\":\n",
      "        return 1\n",
      "    else:\n",
      "        return 0\n",
      "\n",
      "dframe['partner_loss_liable'] = dframe.apply(partner_loss_liable, axis = 1)"
     ],
     "language": "python",
     "metadata": {},
     "outputs": [],
     "prompt_number": 23
    },
    {
     "cell_type": "code",
     "collapsed": false,
     "input": [
      "# boolean to binary\n",
      "def translator(row):\n",
      "    tra = row.translator\n",
      "    if tra.strip() == \"True\":\n",
      "        return 1\n",
      "    else:\n",
      "        return 0\n",
      "\n",
      "dframe['translator'] = dframe.apply(translator, axis = 1)"
     ],
     "language": "python",
     "metadata": {},
     "outputs": [],
     "prompt_number": 24
    },
    {
     "cell_type": "code",
     "collapsed": false,
     "input": [
      "# boolean to binary\n",
      "def bonus_credit_elig(row):\n",
      "    bce = row.bonus_credit_elig\n",
      "    if bce.strip() == \"True\":\n",
      "        return 1\n",
      "    else:\n",
      "        return 0\n",
      "\n",
      "dframe['bonus_credit_elig'] = dframe.apply(bonus_credit_elig, axis = 1)"
     ],
     "language": "python",
     "metadata": {},
     "outputs": [],
     "prompt_number": 25
    },
    {
     "cell_type": "code",
     "collapsed": false,
     "input": [
      "# for logistic regr to predict if a loan gets funded\n",
      "cx1 = [\"name\",\"status\",\"funded_amount\",\"text_length\",\"num_languages\",\"num_adjectives\",\"sector\",\"country\",\"loan_amount\"]\n",
      "cx2 = [\"bonus_credit_elig\",\"num_borrowers\",\"borrower_gender\",\"partner_loss_liable\"]\n",
      "cx3 = [\"pactive\",\"prating\",\"pdays_as_member\",\"pdelinquency_rate\",\"pdefault_rate\",\"ptotal_amount_raised\",\"ploans_posted\"]\n",
      "columnsx = cx1+cx2+cx3 + [\"pcharges_FI\",\"pALSPCI\",\"ploans_at_risk_rate\",\"pforex_loss_rate\"]\n",
      "dframex = dframe[columnsx]"
     ],
     "language": "python",
     "metadata": {},
     "outputs": [],
     "prompt_number": 26
    },
    {
     "cell_type": "markdown",
     "metadata": {},
     "source": [
      "**Save data to csv**"
     ]
    },
    {
     "cell_type": "code",
     "collapsed": false,
     "input": [
      "dframex.to_csv(\"filtered_loan_dataF.csv\")\n",
      "dframe.head()"
     ],
     "language": "python",
     "metadata": {},
     "outputs": [
      {
       "html": [
        "<div style=\"max-height:1000px;max-width:1500px;overflow:auto;\">\n",
        "<table border=\"1\" class=\"dataframe\">\n",
        "  <thead>\n",
        "    <tr style=\"text-align: right;\">\n",
        "      <th></th>\n",
        "      <th>name</th>\n",
        "      <th>status</th>\n",
        "      <th>funded_amount</th>\n",
        "      <th>paid_amount</th>\n",
        "      <th>desc_length</th>\n",
        "      <th>num_languages</th>\n",
        "      <th>text_length</th>\n",
        "      <th>num_adjectives</th>\n",
        "      <th>sector</th>\n",
        "      <th>use</th>\n",
        "      <th>...</th>\n",
        "      <th>pdays_as_member</th>\n",
        "      <th>pdelinquency_rate</th>\n",
        "      <th>pdefault_rate</th>\n",
        "      <th>ptotal_amount_raised</th>\n",
        "      <th>ploans_posted</th>\n",
        "      <th>pcharges_FI</th>\n",
        "      <th>pALSPCI</th>\n",
        "      <th>ploans_at_risk_rate</th>\n",
        "      <th>pforex_loss_rate</th>\n",
        "      <th>meta_delete</th>\n",
        "    </tr>\n",
        "    <tr>\n",
        "      <th>id</th>\n",
        "      <th></th>\n",
        "      <th></th>\n",
        "      <th></th>\n",
        "      <th></th>\n",
        "      <th></th>\n",
        "      <th></th>\n",
        "      <th></th>\n",
        "      <th></th>\n",
        "      <th></th>\n",
        "      <th></th>\n",
        "      <th></th>\n",
        "      <th></th>\n",
        "      <th></th>\n",
        "      <th></th>\n",
        "      <th></th>\n",
        "      <th></th>\n",
        "      <th></th>\n",
        "      <th></th>\n",
        "      <th></th>\n",
        "      <th></th>\n",
        "      <th></th>\n",
        "    </tr>\n",
        "  </thead>\n",
        "  <tbody>\n",
        "    <tr>\n",
        "      <th>149473</th>\n",
        "      <td>          Buston</td>\n",
        "      <td> expired</td>\n",
        "      <td> 2650</td>\n",
        "      <td> 0</td>\n",
        "      <td> 2754</td>\n",
        "      <td> 1</td>\n",
        "      <td> 2754</td>\n",
        "      <td> 50</td>\n",
        "      <td>    Clothing</td>\n",
        "      <td> To purchase  new goods to</td>\n",
        "      <td>...</td>\n",
        "      <td> 2685</td>\n",
        "      <td> 0.864313705533</td>\n",
        "      <td> 0.0450744210076</td>\n",
        "      <td> 12490775</td>\n",
        "      <td> 11146</td>\n",
        "      <td> 1</td>\n",
        "      <td> 113.2</td>\n",
        "      <td> 2.3583479147</td>\n",
        "      <td> 0.086967542046</td>\n",
        "      <td> 0</td>\n",
        "    </tr>\n",
        "    <tr>\n",
        "      <th>149455</th>\n",
        "      <td>           Zahir</td>\n",
        "      <td> expired</td>\n",
        "      <td>  900</td>\n",
        "      <td> 0</td>\n",
        "      <td>  177</td>\n",
        "      <td> 1</td>\n",
        "      <td>  177</td>\n",
        "      <td>  2</td>\n",
        "      <td>        Food</td>\n",
        "      <td> to buy foodstuufs to sell</td>\n",
        "      <td>...</td>\n",
        "      <td> 3065</td>\n",
        "      <td>            0.0</td>\n",
        "      <td> 0.0415205811707</td>\n",
        "      <td>  4722650</td>\n",
        "      <td>  2916</td>\n",
        "      <td> 1</td>\n",
        "      <td>  46.7</td>\n",
        "      <td>          0.0</td>\n",
        "      <td> 0.299373233248</td>\n",
        "      <td> 0</td>\n",
        "    </tr>\n",
        "    <tr>\n",
        "      <th>149436</th>\n",
        "      <td>           Vasif</td>\n",
        "      <td> expired</td>\n",
        "      <td> 2000</td>\n",
        "      <td> 0</td>\n",
        "      <td>  233</td>\n",
        "      <td> 1</td>\n",
        "      <td>  233</td>\n",
        "      <td>  1</td>\n",
        "      <td> Agriculture</td>\n",
        "      <td>        To buy five calves</td>\n",
        "      <td>...</td>\n",
        "      <td> 3065</td>\n",
        "      <td>            0.0</td>\n",
        "      <td> 0.0415205811707</td>\n",
        "      <td>  4722650</td>\n",
        "      <td>  2916</td>\n",
        "      <td> 1</td>\n",
        "      <td>  46.7</td>\n",
        "      <td>          0.0</td>\n",
        "      <td> 0.299373233248</td>\n",
        "      <td> 0</td>\n",
        "    </tr>\n",
        "    <tr>\n",
        "      <th>149305</th>\n",
        "      <td>           Akbar</td>\n",
        "      <td> expired</td>\n",
        "      <td> 2475</td>\n",
        "      <td> 0</td>\n",
        "      <td>  215</td>\n",
        "      <td> 1</td>\n",
        "      <td>  215</td>\n",
        "      <td>  1</td>\n",
        "      <td>     Housing</td>\n",
        "      <td>   to improve his business</td>\n",
        "      <td>...</td>\n",
        "      <td> 3065</td>\n",
        "      <td>            0.0</td>\n",
        "      <td> 0.0415205811707</td>\n",
        "      <td>  4722650</td>\n",
        "      <td>  2916</td>\n",
        "      <td> 1</td>\n",
        "      <td>  46.7</td>\n",
        "      <td>          0.0</td>\n",
        "      <td> 0.299373233248</td>\n",
        "      <td> 0</td>\n",
        "    </tr>\n",
        "    <tr>\n",
        "      <th>149181</th>\n",
        "      <td> Luz Coral Group</td>\n",
        "      <td> expired</td>\n",
        "      <td>  475</td>\n",
        "      <td> 0</td>\n",
        "      <td>  758</td>\n",
        "      <td> 2</td>\n",
        "      <td>  758</td>\n",
        "      <td> 15</td>\n",
        "      <td>      Retail</td>\n",
        "      <td>          Increase capital</td>\n",
        "      <td>...</td>\n",
        "      <td> 2801</td>\n",
        "      <td>            0.0</td>\n",
        "      <td>             0.0</td>\n",
        "      <td>  2955225</td>\n",
        "      <td>  1392</td>\n",
        "      <td> 1</td>\n",
        "      <td>   0.0</td>\n",
        "      <td>          0.0</td>\n",
        "      <td>            0.0</td>\n",
        "      <td> 0</td>\n",
        "    </tr>\n",
        "  </tbody>\n",
        "</table>\n",
        "<p>5 rows \u00d7 49 columns</p>\n",
        "</div>"
       ],
       "metadata": {},
       "output_type": "pyout",
       "prompt_number": 27,
       "text": [
        "                   name   status  funded_amount paid_amount  desc_length  \\\n",
        "id                                                                         \n",
        "149473           Buston  expired           2650           0         2754   \n",
        "149455            Zahir  expired            900           0          177   \n",
        "149436            Vasif  expired           2000           0          233   \n",
        "149305            Akbar  expired           2475           0          215   \n",
        "149181  Luz Coral Group  expired            475           0          758   \n",
        "\n",
        "       num_languages  text_length  num_adjectives       sector  \\\n",
        "id                                                               \n",
        "149473             1         2754              50     Clothing   \n",
        "149455             1          177               2         Food   \n",
        "149436             1          233               1  Agriculture   \n",
        "149305             1          215               1      Housing   \n",
        "149181             2          758              15       Retail   \n",
        "\n",
        "                              use     ...      pdays_as_member  \\\n",
        "id                                    ...                        \n",
        "149473  To purchase  new goods to     ...                 2685   \n",
        "149455  to buy foodstuufs to sell     ...                 3065   \n",
        "149436         To buy five calves     ...                 3065   \n",
        "149305    to improve his business     ...                 3065   \n",
        "149181           Increase capital     ...                 2801   \n",
        "\n",
        "       pdelinquency_rate    pdefault_rate ptotal_amount_raised ploans_posted  \\\n",
        "id                                                                             \n",
        "149473    0.864313705533  0.0450744210076             12490775         11146   \n",
        "149455               0.0  0.0415205811707              4722650          2916   \n",
        "149436               0.0  0.0415205811707              4722650          2916   \n",
        "149305               0.0  0.0415205811707              4722650          2916   \n",
        "149181               0.0              0.0              2955225          1392   \n",
        "\n",
        "       pcharges_FI pALSPCI ploans_at_risk_rate  pforex_loss_rate  meta_delete  \n",
        "id                                                                             \n",
        "149473           1   113.2        2.3583479147    0.086967542046            0  \n",
        "149455           1    46.7                 0.0    0.299373233248            0  \n",
        "149436           1    46.7                 0.0    0.299373233248            0  \n",
        "149305           1    46.7                 0.0    0.299373233248            0  \n",
        "149181           1     0.0                 0.0               0.0            0  \n",
        "\n",
        "[5 rows x 49 columns]"
       ]
      }
     ],
     "prompt_number": 27
    },
    {
     "cell_type": "code",
     "collapsed": false,
     "input": [],
     "language": "python",
     "metadata": {},
     "outputs": []
    }
   ],
   "metadata": {}
  }
 ]
}