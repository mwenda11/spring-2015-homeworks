{
 "metadata": {
  "name": "",
  "signature": "sha256:8de36c96c022ec3761791cb5dd6b55d5668ac3346b499d94301f61c7726e8ed4"
 },
 "nbformat": 3,
 "nbformat_minor": 0,
 "worksheets": [
  {
   "cells": [
    {
     "cell_type": "code",
     "collapsed": false,
     "input": [
      "import numpy as np\n",
      "import pandas as pd\n",
      "import seaborn as sns\n",
      "\n",
      "from patsy import dmatrices\n",
      "import sklearn.datasets as sk_data\n",
      "import sklearn.metrics as metrics\n",
      "from matplotlib import pyplot as plt\n",
      "from sklearn.cluster import KMeans\n",
      "from sklearn.preprocessing import StandardScaler\n",
      "import sklearn.cross_validation as cross_validation\n",
      "from sklearn.metrics.pairwise import euclidean_distances\n",
      "%matplotlib inline"
     ],
     "language": "python",
     "metadata": {},
     "outputs": [],
     "prompt_number": 1
    },
    {
     "cell_type": "code",
     "collapsed": false,
     "input": [
      "dframe = pd.read_csv('filtered_loan_data.csv', index_col='id')"
     ],
     "language": "python",
     "metadata": {},
     "outputs": [],
     "prompt_number": 2
    },
    {
     "cell_type": "code",
     "collapsed": false,
     "input": [
      "# to predict default -- filter: paid,defaulted\n",
      "dframe = dframe[dframe.status != \"expired\"]\n",
      "dframe = dframe[dframe.status != \"in_repayment\"]\n",
      "dframe = dframe[dframe.status != \"refunded\"]"
     ],
     "language": "python",
     "metadata": {},
     "outputs": [],
     "prompt_number": 3
    },
    {
     "cell_type": "code",
     "collapsed": false,
     "input": [
      "def is_paid(row):\n",
      "    paid = row.status\n",
      "    if paid == \"paid\":\n",
      "        return 1\n",
      "    else:\n",
      "        return 0\n",
      "\n",
      "dframe['status'] = dframe.apply(is_paid, axis = 1)\n",
      "\n",
      "\n",
      "for it, dat in dframe.groupby(\"status\"):\n",
      "    print it, len(dat)"
     ],
     "language": "python",
     "metadata": {},
     "outputs": [
      {
       "output_type": "stream",
       "stream": "stdout",
       "text": [
        "0 2372\n",
        "1 82140\n"
       ]
      }
     ],
     "prompt_number": 4
    },
    {
     "cell_type": "code",
     "collapsed": false,
     "input": [
      "def is_female(row):\n",
      "    gen = row.borrower_gender\n",
      "    if gen == \"F\":\n",
      "        return 1\n",
      "    else:\n",
      "        return 0\n",
      "\n",
      "dframe['borrower_gender'] = dframe.apply(is_female, axis = 1)\n",
      "\n",
      "for it, dat in dframe.groupby(\"borrower_gender\"):\n",
      "    print it, len(dat)"
     ],
     "language": "python",
     "metadata": {},
     "outputs": [
      {
       "output_type": "stream",
       "stream": "stdout",
       "text": [
        "0 21036\n",
        "1 63476\n"
       ]
      }
     ],
     "prompt_number": 5
    },
    {
     "cell_type": "code",
     "collapsed": false,
     "input": [
      "#should we have a column binary for each country?\n",
      "asia = [\"Afghanistan\",\"Armenia\",\"Azerbaijan\",\"Cambodia\",\"Georgia\",\"Indonesia\",\"Iraq\",\"Israel\",\"Jordan\",\"Kyrgyzstan\",\"Lebanon\",\"Moldova\",\"Mongolia\",\"Nepal\",\"Pakistan\",\"Palestine\",\"Philippines\",\"Samoa\",\"Sri Lanka\",\"Tajikistan\",\"Turkey\",\"Vietnam\",\"Yemen\"]\n",
      "africa = [\"Benin\",\"Burkina Faso\",\"Burundi\",\"Cameroon\",\"Congo (Dem. Rep.)\",\"Congo (Rep.)\",\"Cote D'Ivoire\",\"Ghana\",\"Kenya\",\"Liberia\",\"Mali\",\"Mozambique\",\"Nigeria\",\"Rwanda\",\"Senegal\",\"Sierra Leone\",\"South Africa\",\"South Sudan\",\"Tanzania\",\"Togo\",\"Uganda\",\"Zimbabwe\"]\n",
      "latin_america = [\"Bolivia\",\"Colombia\",\"Chile\",\"Costa Rica\",\"Dominican Republic\",\"Ecuador\",\"El Salvador\",\"Guatemala\",\"Haiti\",\"Honduras\",\"Mexico\",\"Nicaragua\",\"Paraguay\",\"Peru\"]\n",
      "europe = [\"Bosnia and Herzegovina\",\"Bulgaria\",\"Ukraine\"]\n",
      "north_america = [\"United States\"]"
     ],
     "language": "python",
     "metadata": {},
     "outputs": [],
     "prompt_number": 6
    },
    {
     "cell_type": "code",
     "collapsed": false,
     "input": [
      "# y, dfX = dmatrices('status ~ text_length + C(sector) + delinquent + C(country) + loan_amount + lender_count + bonus_credit_elig + num_borrowers + \\\n",
      "#                  borrower_gender + partner_loss_liable + days_fundraising + days_late',\n",
      "#                  dframe, return_type=\"dataframe\")\n",
      "def continent(row):\n",
      "    con = row.country.strip()\n",
      "    if con in africa:\n",
      "        return 'africa'\n",
      "    elif con in asia:\n",
      "        return 'asia'\n",
      "    elif con in europe:\n",
      "        return 'europe'\n",
      "    elif con in latin_america:\n",
      "        return 'latin_america'\n",
      "    elif con in north_america:\n",
      "        return 'north_america'\n",
      "\n",
      "dframe.insert(8, \"continent\", '')\n",
      "dframe['continent'] = dframe.apply(continent, axis = 1)\n",
      "\n",
      "for it, dat in dframe.groupby(\"continent\"):\n",
      "    print it, len(dat)"
     ],
     "language": "python",
     "metadata": {},
     "outputs": [
      {
       "output_type": "stream",
       "stream": "stdout",
       "text": [
        "africa 24672\n",
        "asia 31546\n",
        "europe 821\n",
        "latin_america 27370\n",
        "north_america 103\n"
       ]
      }
     ],
     "prompt_number": 7
    },
    {
     "cell_type": "code",
     "collapsed": false,
     "input": [
      "print dframe.columns.tolist()"
     ],
     "language": "python",
     "metadata": {},
     "outputs": [
      {
       "output_type": "stream",
       "stream": "stdout",
       "text": [
        "['name', 'status', 'funded_amount', 'paid_amount', 'text_length', 'sector', 'delinquent', 'country', 'continent', 'partner_id', 'loan_amount', 'lender_count', 'bonus_credit_elig', 'num_borrowers', 'borrower_gender', 'partner_loss_liable', 'days_fundraising', 'days_late', 'translator', 'pactive?', 'prating', 'pdays_as_member', 'pdelinquency_rate', 'pdefault_rate', 'ptotal_amount_raised', 'ploans_posted', 'pcharges_FI', 'pALSPCI', 'ploans_at_risk_rate', 'pforex_loss_rate']\n"
       ]
      }
     ],
     "prompt_number": 8
    },
    {
     "cell_type": "code",
     "collapsed": false,
     "input": [
      "columnsx = ['status','paid_amount','text_length','sector','delinquent','country','continent','partner_id','loan_amount','lender_count','bonus_credit_elig','num_borrowers','borrower_gender','partner_loss_liable','days_fundraising','days_late','translator']\n",
      "dfX = dframe[columnsx]\n",
      "dfX.info()"
     ],
     "language": "python",
     "metadata": {},
     "outputs": [],
     "prompt_number": 10
    },
    {
     "cell_type": "heading",
     "level": 5,
     "metadata": {},
     "source": [
      "Understanding the data"
     ]
    },
    {
     "cell_type": "code",
     "collapsed": false,
     "input": [
      "dfX.groupby('status').mean()\n",
      "# nothing interesting"
     ],
     "language": "python",
     "metadata": {},
     "outputs": [
      {
       "html": [
        "<div style=\"max-height:1000px;max-width:1500px;overflow:auto;\">\n",
        "<table border=\"1\" class=\"dataframe\">\n",
        "  <thead>\n",
        "    <tr style=\"text-align: right;\">\n",
        "      <th></th>\n",
        "      <th>paid_amount</th>\n",
        "      <th>text_length</th>\n",
        "      <th>delinquent</th>\n",
        "      <th>partner_id</th>\n",
        "      <th>loan_amount</th>\n",
        "      <th>lender_count</th>\n",
        "      <th>bonus_credit_elig</th>\n",
        "      <th>num_borrowers</th>\n",
        "      <th>borrower_gender</th>\n",
        "      <th>partner_loss_liable</th>\n",
        "      <th>days_fundraising</th>\n",
        "      <th>days_late</th>\n",
        "      <th>translator</th>\n",
        "    </tr>\n",
        "    <tr>\n",
        "      <th>status</th>\n",
        "      <th></th>\n",
        "      <th></th>\n",
        "      <th></th>\n",
        "      <th></th>\n",
        "      <th></th>\n",
        "      <th></th>\n",
        "      <th></th>\n",
        "      <th></th>\n",
        "      <th></th>\n",
        "      <th></th>\n",
        "      <th></th>\n",
        "      <th></th>\n",
        "      <th></th>\n",
        "    </tr>\n",
        "  </thead>\n",
        "  <tbody>\n",
        "    <tr>\n",
        "      <th>0</th>\n",
        "      <td>   0.000000</td>\n",
        "      <td> 851.530000</td>\n",
        "      <td> 0.994941</td>\n",
        "      <td> 74.108769</td>\n",
        "      <td> 733.073356</td>\n",
        "      <td> 21.743676</td>\n",
        "      <td> 0.144182</td>\n",
        "      <td> 1.755481</td>\n",
        "      <td> 0.715430</td>\n",
        "      <td> 0.206155</td>\n",
        "      <td> 2.452361</td>\n",
        "      <td> 1620.556071</td>\n",
        "      <td> 0.634486</td>\n",
        "    </tr>\n",
        "    <tr>\n",
        "      <th>1</th>\n",
        "      <td> 752.282845</td>\n",
        "      <td> 854.007575</td>\n",
        "      <td> 0.000000</td>\n",
        "      <td> 94.619406</td>\n",
        "      <td> 752.337168</td>\n",
        "      <td> 22.914061</td>\n",
        "      <td> 0.474884</td>\n",
        "      <td> 1.938361</td>\n",
        "      <td> 0.752118</td>\n",
        "      <td> 0.375834</td>\n",
        "      <td> 3.589396</td>\n",
        "      <td>    7.022766</td>\n",
        "      <td> 0.779060</td>\n",
        "    </tr>\n",
        "  </tbody>\n",
        "</table>\n",
        "</div>"
       ],
       "metadata": {},
       "output_type": "pyout",
       "prompt_number": 15,
       "text": [
        "        paid_amount  text_length  delinquent  partner_id  loan_amount  \\\n",
        "status                                                                  \n",
        "0          0.000000   851.530000    0.994941   74.108769   733.073356   \n",
        "1        752.282845   854.007575    0.000000   94.619406   752.337168   \n",
        "\n",
        "        lender_count  bonus_credit_elig  num_borrowers  borrower_gender  \\\n",
        "status                                                                    \n",
        "0          21.743676           0.144182       1.755481         0.715430   \n",
        "1          22.914061           0.474884       1.938361         0.752118   \n",
        "\n",
        "        partner_loss_liable  days_fundraising    days_late  translator  \n",
        "status                                                                  \n",
        "0                  0.206155          2.452361  1620.556071    0.634486  \n",
        "1                  0.375834          3.589396     7.022766    0.779060  "
       ]
      }
     ],
     "prompt_number": 15
    },
    {
     "cell_type": "code",
     "collapsed": false,
     "input": [
      "for val, data in dfX.groupby('continent'):\n",
      "    print val, len(data)"
     ],
     "language": "python",
     "metadata": {},
     "outputs": [
      {
       "output_type": "stream",
       "stream": "stdout",
       "text": [
        "africa 24672\n",
        "asia 31546\n",
        "europe 821\n",
        "latin_america 27370\n",
        "north_america 103\n"
       ]
      }
     ],
     "prompt_number": 14
    },
    {
     "cell_type": "code",
     "collapsed": false,
     "input": [
      "dfX.groupby('continent').mean()"
     ],
     "language": "python",
     "metadata": {},
     "outputs": [
      {
       "html": [
        "<div style=\"max-height:1000px;max-width:1500px;overflow:auto;\">\n",
        "<table border=\"1\" class=\"dataframe\">\n",
        "  <thead>\n",
        "    <tr style=\"text-align: right;\">\n",
        "      <th></th>\n",
        "      <th>status</th>\n",
        "      <th>paid_amount</th>\n",
        "      <th>text_length</th>\n",
        "      <th>delinquent</th>\n",
        "      <th>partner_id</th>\n",
        "      <th>loan_amount</th>\n",
        "      <th>lender_count</th>\n",
        "      <th>bonus_credit_elig</th>\n",
        "      <th>num_borrowers</th>\n",
        "      <th>borrower_gender</th>\n",
        "      <th>partner_loss_liable</th>\n",
        "      <th>days_fundraising</th>\n",
        "      <th>days_late</th>\n",
        "      <th>translator</th>\n",
        "    </tr>\n",
        "    <tr>\n",
        "      <th>continent</th>\n",
        "      <th></th>\n",
        "      <th></th>\n",
        "      <th></th>\n",
        "      <th></th>\n",
        "      <th></th>\n",
        "      <th></th>\n",
        "      <th></th>\n",
        "      <th></th>\n",
        "      <th></th>\n",
        "      <th></th>\n",
        "      <th></th>\n",
        "      <th></th>\n",
        "      <th></th>\n",
        "      <th></th>\n",
        "    </tr>\n",
        "  </thead>\n",
        "  <tbody>\n",
        "    <tr>\n",
        "      <th>africa</th>\n",
        "      <td> 0.936608</td>\n",
        "      <td>  685.181923</td>\n",
        "      <td>  705.805438</td>\n",
        "      <td> 0.063311</td>\n",
        "      <td>  97.145469</td>\n",
        "      <td>  726.893847</td>\n",
        "      <td>  22.119934</td>\n",
        "      <td> 0.352545</td>\n",
        "      <td> 2.328672</td>\n",
        "      <td> 0.742988</td>\n",
        "      <td> 0.385336</td>\n",
        "      <td> 2.639024</td>\n",
        "      <td> 118.308974</td>\n",
        "      <td> 0.766659</td>\n",
        "    </tr>\n",
        "    <tr>\n",
        "      <th>asia</th>\n",
        "      <td> 0.993850</td>\n",
        "      <td>  709.519265</td>\n",
        "      <td>  917.980228</td>\n",
        "      <td> 0.005960</td>\n",
        "      <td>  95.671115</td>\n",
        "      <td>  715.687409</td>\n",
        "      <td>  21.989698</td>\n",
        "      <td> 0.584829</td>\n",
        "      <td> 1.566601</td>\n",
        "      <td> 0.763266</td>\n",
        "      <td> 0.356559</td>\n",
        "      <td> 3.685507</td>\n",
        "      <td>  10.331009</td>\n",
        "      <td> 0.810372</td>\n",
        "    </tr>\n",
        "    <tr>\n",
        "      <th>europe</th>\n",
        "      <td> 0.996346</td>\n",
        "      <td> 1111.205847</td>\n",
        "      <td>  755.430110</td>\n",
        "      <td> 0.003654</td>\n",
        "      <td>  37.677223</td>\n",
        "      <td> 1114.190012</td>\n",
        "      <td>  33.168088</td>\n",
        "      <td> 0.752741</td>\n",
        "      <td> 1.000000</td>\n",
        "      <td> 0.725944</td>\n",
        "      <td> 0.671133</td>\n",
        "      <td> 2.263094</td>\n",
        "      <td>  11.656516</td>\n",
        "      <td> 0.576127</td>\n",
        "    </tr>\n",
        "    <tr>\n",
        "      <th>latin_america</th>\n",
        "      <td> 0.978042</td>\n",
        "      <td>  770.510951</td>\n",
        "      <td>  914.317424</td>\n",
        "      <td> 0.021849</td>\n",
        "      <td>  90.865729</td>\n",
        "      <td>  787.562112</td>\n",
        "      <td>  23.770661</td>\n",
        "      <td> 0.422031</td>\n",
        "      <td> 2.030837</td>\n",
        "      <td> 0.745926</td>\n",
        "      <td> 0.367117</td>\n",
        "      <td> 4.269309</td>\n",
        "      <td>  42.271392</td>\n",
        "      <td> 0.746913</td>\n",
        "    </tr>\n",
        "    <tr>\n",
        "      <th>north_america</th>\n",
        "      <td> 0.902913</td>\n",
        "      <td> 4893.446602</td>\n",
        "      <td> 1463.100000</td>\n",
        "      <td> 0.087379</td>\n",
        "      <td> 146.427184</td>\n",
        "      <td> 5383.495146</td>\n",
        "      <td> 159.932039</td>\n",
        "      <td> 0.320388</td>\n",
        "      <td> 1.000000</td>\n",
        "      <td> 0.533981</td>\n",
        "      <td> 0.058252</td>\n",
        "      <td> 5.514563</td>\n",
        "      <td>  91.747573</td>\n",
        "      <td> 0.990291</td>\n",
        "    </tr>\n",
        "  </tbody>\n",
        "</table>\n",
        "</div>"
       ],
       "metadata": {},
       "output_type": "pyout",
       "prompt_number": 13,
       "text": [
        "                 status  paid_amount  text_length  delinquent  partner_id  \\\n",
        "continent                                                                   \n",
        "africa         0.936608   685.181923   705.805438    0.063311   97.145469   \n",
        "asia           0.993850   709.519265   917.980228    0.005960   95.671115   \n",
        "europe         0.996346  1111.205847   755.430110    0.003654   37.677223   \n",
        "latin_america  0.978042   770.510951   914.317424    0.021849   90.865729   \n",
        "north_america  0.902913  4893.446602  1463.100000    0.087379  146.427184   \n",
        "\n",
        "               loan_amount  lender_count  bonus_credit_elig  num_borrowers  \\\n",
        "continent                                                                    \n",
        "africa          726.893847     22.119934           0.352545       2.328672   \n",
        "asia            715.687409     21.989698           0.584829       1.566601   \n",
        "europe         1114.190012     33.168088           0.752741       1.000000   \n",
        "latin_america   787.562112     23.770661           0.422031       2.030837   \n",
        "north_america  5383.495146    159.932039           0.320388       1.000000   \n",
        "\n",
        "               borrower_gender  partner_loss_liable  days_fundraising  \\\n",
        "continent                                                               \n",
        "africa                0.742988             0.385336          2.639024   \n",
        "asia                  0.763266             0.356559          3.685507   \n",
        "europe                0.725944             0.671133          2.263094   \n",
        "latin_america         0.745926             0.367117          4.269309   \n",
        "north_america         0.533981             0.058252          5.514563   \n",
        "\n",
        "                days_late  translator  \n",
        "continent                              \n",
        "africa         118.308974    0.766659  \n",
        "asia            10.331009    0.810372  \n",
        "europe          11.656516    0.576127  \n",
        "latin_america   42.271392    0.746913  \n",
        "north_america   91.747573    0.990291  "
       ]
      }
     ],
     "prompt_number": 13
    },
    {
     "cell_type": "markdown",
     "metadata": {},
     "source": [
      "Africa had a higher default rate than Asia and Latin America.\n",
      "Number of borrowers per loan is highest for Africa at 2.33 borrowers. \n",
      "Loans for africa were funded faster than for other continents."
     ]
    },
    {
     "cell_type": "code",
     "collapsed": false,
     "input": [
      "#dfX.groupby('country').sum()"
     ],
     "language": "python",
     "metadata": {},
     "outputs": [],
     "prompt_number": 18
    }
   ],
   "metadata": {}
  }
 ]
}