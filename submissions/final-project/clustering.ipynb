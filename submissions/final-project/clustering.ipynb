{
 "metadata": {
  "name": "",
  "signature": "sha256:fc447fa8529cb699fc0d45799c38082d49851d59b86d473edd9ca81f759d6f9d"
 },
 "nbformat": 3,
 "nbformat_minor": 0,
 "worksheets": [
  {
   "cells": [
    {
     "cell_type": "code",
     "collapsed": false,
     "input": [
      "import numpy as np\n",
      "import pandas as pd\n",
      "import seaborn as sns\n",
      "\n",
      "from patsy import dmatrices\n",
      "import sklearn.datasets as sk_data\n",
      "import sklearn.metrics as metrics\n",
      "from matplotlib import pyplot as plt\n",
      "from sklearn.cluster import KMeans\n",
      "from sklearn.preprocessing import StandardScaler\n",
      "import sklearn.cross_validation as cross_validation\n",
      "from sklearn.metrics.pairwise import euclidean_distances\n",
      "%matplotlib inline"
     ],
     "language": "python",
     "metadata": {},
     "outputs": [],
     "prompt_number": 1
    },
    {
     "cell_type": "code",
     "collapsed": false,
     "input": [
      "dframe = pd.read_csv('filtered_loan_data.csv', index_col='id')"
     ],
     "language": "python",
     "metadata": {},
     "outputs": [],
     "prompt_number": 2
    },
    {
     "cell_type": "code",
     "collapsed": false,
     "input": [
      "# to predict default -- filter: paid,defaulted\n",
      "dframe = dframe[dframe.status != \"expired\"]\n",
      "dframe = dframe[dframe.status != \"in_repayment\"]\n",
      "dframe = dframe[dframe.status != \"refunded\"]"
     ],
     "language": "python",
     "metadata": {},
     "outputs": [],
     "prompt_number": 3
    },
    {
     "cell_type": "code",
     "collapsed": false,
     "input": [
      "def is_paid(row):\n",
      "    paid = row.status\n",
      "    if paid == \"paid\":\n",
      "        return 1\n",
      "    else:\n",
      "        return 0\n",
      "\n",
      "dframe['status'] = dframe.apply(is_paid, axis = 1)\n",
      "\n",
      "\n",
      "for it, dat in dframe.groupby(\"status\"):\n",
      "    print it, len(dat)"
     ],
     "language": "python",
     "metadata": {},
     "outputs": [
      {
       "output_type": "stream",
       "stream": "stdout",
       "text": [
        "0 2372\n",
        "1 82140\n"
       ]
      }
     ],
     "prompt_number": 4
    },
    {
     "cell_type": "code",
     "collapsed": false,
     "input": [
      "def is_female(row):\n",
      "    gen = row.borrower_gender\n",
      "    if gen == \"F\":\n",
      "        return 1\n",
      "    else:\n",
      "        return 0\n",
      "\n",
      "dframe['borrower_gender'] = dframe.apply(is_female, axis = 1)\n",
      "\n",
      "for it, dat in dframe.groupby(\"borrower_gender\"):\n",
      "    print it, len(dat)"
     ],
     "language": "python",
     "metadata": {},
     "outputs": [
      {
       "output_type": "stream",
       "stream": "stdout",
       "text": [
        "0 21036\n",
        "1 63476\n"
       ]
      }
     ],
     "prompt_number": 5
    },
    {
     "cell_type": "code",
     "collapsed": false,
     "input": [
      "print dframe.days_fundraising.max()\n",
      "print \"******\"\n",
      "print dframe.days_late.max()"
     ],
     "language": "python",
     "metadata": {},
     "outputs": [
      {
       "output_type": "stream",
       "stream": "stdout",
       "text": [
        "66\n",
        "******\n",
        "2746\n"
       ]
      }
     ],
     "prompt_number": 6
    },
    {
     "cell_type": "code",
     "collapsed": false,
     "input": [
      "#should we have a column binary for each country?\n",
      "asia = [\"Afghanistan\",\"Armenia\",\"Azerbaijan\",\"Cambodia\",\"Georgia\",\"Indonesia\",\"Iraq\",\"Israel\",\"Jordan\",\"Kyrgyzstan\",\"Lebanon\",\"Moldova\",\"Mongolia\",\"Nepal\",\"Pakistan\",\"Palestine\",\"Philippines\",\"Samoa\",\"Sri Lanka\",\"Tajikistan\",\"Turkey\",\"Vietnam\",\"Yemen\"]\n",
      "africa = [\"Benin\",\"Burkina Faso\",\"Burundi\",\"Cameroon\",\"Congo (Dem. Rep.)\",\"Congo (Rep.)\",\"Cote D'Ivoire\",\"Ghana\",\"Kenya\",\"Liberia\",\"Mali\",\"Mozambique\",\"Nigeria\",\"Rwanda\",\"Senegal\",\"Sierra Leone\",\"South Africa\",\"South Sudan\",\"Tanzania\",\"Togo\",\"Uganda\",\"Zimbabwe\"]\n",
      "latin_america = [\"Bolivia\",\"Colombia\",\"Chile\",\"Costa Rica\",\"Dominican Republic\",\"Ecuador\",\"El Salvador\",\"Guatemala\",\"Haiti\",\"Honduras\",\"Mexico\",\"Nicaragua\",\"Paraguay\",\"Peru\"]\n",
      "europe = [\"Bosnia and Herzegovina\",\"Bulgaria\",\"Ukraine\"]\n",
      "north_america = [\"United States\"]"
     ],
     "language": "python",
     "metadata": {},
     "outputs": [],
     "prompt_number": 7
    },
    {
     "cell_type": "code",
     "collapsed": false,
     "input": [
      "# y, dfX = dmatrices('status ~ text_length + C(sector) + delinquent + C(country) + loan_amount + lender_count + bonus_credit_elig + num_borrowers + \\\n",
      "#                  borrower_gender + partner_loss_liable + days_fundraising + days_late',\n",
      "#                  dframe, return_type=\"dataframe\")\n",
      "def continent(row):\n",
      "    con = row.country.strip()\n",
      "    if con in africa:\n",
      "        return 'africa'\n",
      "    elif con in asia:\n",
      "        return 'asia'\n",
      "    elif con in europe:\n",
      "        return 'europe'\n",
      "    elif con in latin_america:\n",
      "        return 'latin_america'\n",
      "    elif con in north_america:\n",
      "        return 'north_america'\n",
      "\n",
      "dframe.insert(8, \"continent\", '')\n",
      "dframe['continent'] = dframe.apply(continent, axis = 1)\n",
      "\n",
      "for it, dat in dframe.groupby(\"continent\"):\n",
      "    print it, len(dat)"
     ],
     "language": "python",
     "metadata": {},
     "outputs": [
      {
       "output_type": "stream",
       "stream": "stdout",
       "text": [
        "africa 24672\n",
        "asia 31546\n",
        "europe 821\n",
        "latin_america 27370\n",
        "north_america 103\n"
       ]
      }
     ],
     "prompt_number": 8
    },
    {
     "cell_type": "code",
     "collapsed": false,
     "input": [
      "y, dfX = dmatrices('status ~ text_length + loan_amount + lender_count + borrower_gender + days_fundraising',\n",
      "                 dframe, return_type=\"dataframe\")\n",
      "# y, dfX = dmatrices('status ~ text_length + C(sector) + C(continent) + loan_amount + lender_count + days_fundraising',\n",
      "#                  dframe, return_type=\"dataframe\")"
     ],
     "language": "python",
     "metadata": {},
     "outputs": [],
     "prompt_number": 9
    },
    {
     "cell_type": "code",
     "collapsed": false,
     "input": [
      "dfXclus = dfX[dfX.columns.tolist()[1:]]\n",
      "dfXclus.head()"
     ],
     "language": "python",
     "metadata": {},
     "outputs": [
      {
       "html": [
        "<div style=\"max-height:1000px;max-width:1500px;overflow:auto;\">\n",
        "<table border=\"1\" class=\"dataframe\">\n",
        "  <thead>\n",
        "    <tr style=\"text-align: right;\">\n",
        "      <th></th>\n",
        "      <th>text_length</th>\n",
        "      <th>loan_amount</th>\n",
        "      <th>lender_count</th>\n",
        "      <th>borrower_gender</th>\n",
        "      <th>days_fundraising</th>\n",
        "    </tr>\n",
        "    <tr>\n",
        "      <th>id</th>\n",
        "      <th></th>\n",
        "      <th></th>\n",
        "      <th></th>\n",
        "      <th></th>\n",
        "      <th></th>\n",
        "    </tr>\n",
        "  </thead>\n",
        "  <tbody>\n",
        "    <tr>\n",
        "      <th>3254 </th>\n",
        "      <td> 1482.00</td>\n",
        "      <td>  200</td>\n",
        "      <td>  6</td>\n",
        "      <td> 1</td>\n",
        "      <td>  0</td>\n",
        "    </tr>\n",
        "    <tr>\n",
        "      <th>7350 </th>\n",
        "      <td> 1923.00</td>\n",
        "      <td>  375</td>\n",
        "      <td> 10</td>\n",
        "      <td> 1</td>\n",
        "      <td>  0</td>\n",
        "    </tr>\n",
        "    <tr>\n",
        "      <th>11446</th>\n",
        "      <td>  517.00</td>\n",
        "      <td>   75</td>\n",
        "      <td>  1</td>\n",
        "      <td> 1</td>\n",
        "      <td>  0</td>\n",
        "    </tr>\n",
        "    <tr>\n",
        "      <th>15542</th>\n",
        "      <td>  851.53</td>\n",
        "      <td> 1200</td>\n",
        "      <td> 37</td>\n",
        "      <td> 1</td>\n",
        "      <td> 11</td>\n",
        "    </tr>\n",
        "    <tr>\n",
        "      <th>19638</th>\n",
        "      <td>  851.53</td>\n",
        "      <td>  400</td>\n",
        "      <td> 11</td>\n",
        "      <td> 1</td>\n",
        "      <td>  0</td>\n",
        "    </tr>\n",
        "  </tbody>\n",
        "</table>\n",
        "</div>"
       ],
       "metadata": {},
       "output_type": "pyout",
       "prompt_number": 10,
       "text": [
        "       text_length  loan_amount  lender_count  borrower_gender  \\\n",
        "id                                                               \n",
        "3254       1482.00          200             6                1   \n",
        "7350       1923.00          375            10                1   \n",
        "11446       517.00           75             1                1   \n",
        "15542       851.53         1200            37                1   \n",
        "19638       851.53          400            11                1   \n",
        "\n",
        "       days_fundraising  \n",
        "id                       \n",
        "3254                  0  \n",
        "7350                  0  \n",
        "11446                 0  \n",
        "15542                11  \n",
        "19638                 0  "
       ]
      }
     ],
     "prompt_number": 10
    },
    {
     "cell_type": "code",
     "collapsed": false,
     "input": [
      "#dfX.info()\n",
      "scaler = StandardScaler()\n",
      "scaler.fit(dfXclus)\n",
      "X = scaler.transform(dfXclus)"
     ],
     "language": "python",
     "metadata": {},
     "outputs": [],
     "prompt_number": 11
    },
    {
     "cell_type": "code",
     "collapsed": false,
     "input": [
      "X_train, X_test, y_train, y_test = cross_validation.train_test_split(X,\n",
      "                                                                     y,\n",
      "                                                                     test_size=0.1,\n",
      "                                                                     random_state=0\n",
      "                                                                     )"
     ],
     "language": "python",
     "metadata": {},
     "outputs": [],
     "prompt_number": 12
    },
    {
     "cell_type": "code",
     "collapsed": false,
     "input": [
      "# plot data error when clustered using number of clusters between 1 and 11\n",
      "error = np.zeros(12)\n",
      "error[0] = 0;\n",
      "for k in range(1,12):\n",
      "    kmeans = KMeans(init='k-means++', n_clusters=k, n_init=10)\n",
      "    kmeans.fit_predict(X_test)\n",
      "    error[k] = kmeans.inertia_\n",
      "\n",
      "plt.plot(range(1,len(error)),error[1:])\n",
      "plt.xlabel('Number of clusters')\n",
      "plt.ylabel('Error')"
     ],
     "language": "python",
     "metadata": {},
     "outputs": [
      {
       "metadata": {},
       "output_type": "pyout",
       "prompt_number": 13,
       "text": [
        "<matplotlib.text.Text at 0x22267d30>"
       ]
      },
      {
       "metadata": {},
       "output_type": "display_data",
       "png": "[encoded data removed]",
       "text": [
        "<matplotlib.figure.Figure at 0x1958fa58>"
       ]
      }
     ],
     "prompt_number": 13
    },
    {
     "cell_type": "code",
     "collapsed": false,
     "input": [
      "# plot error against number of clusters using silhoutte score\n",
      "def sc_evaluate_clusters(X,max_clusters):\n",
      "    s = np.zeros(max_clusters+1)\n",
      "    s[0] = 0;\n",
      "    s[1] = 0;\n",
      "    for k in range(2,max_clusters+1):\n",
      "        kmeans = KMeans(init='k-means++', n_clusters=k, n_init=10)\n",
      "        kmeans.fit_predict(X)\n",
      "        s[k] = metrics.silhouette_score(X,kmeans.labels_,metric='euclidean',sample_size=10000)\n",
      "    plt.plot(range(2,len(s)),s[2:])\n",
      "    plt.xlabel('Number of clusters')\n",
      "    plt.ylabel('Silhouette Index')\n",
      "    \n",
      "sc_evaluate_clusters(X_test,12) #This will take 1-2 minute"
     ],
     "language": "python",
     "metadata": {},
     "outputs": [
      {
       "metadata": {},
       "output_type": "display_data",
       "png": "[encoded data removed]",
       "text": [
        "<matplotlib.figure.Figure at 0x1f31a9e8>"
       ]
      }
     ],
     "prompt_number": 14
    },
    {
     "cell_type": "markdown",
     "metadata": {},
     "source": [
      "If no cluster seems to work, fortael and then do some (pairwise) visualisations showing "
     ]
    }
   ],
   "metadata": {}
  }
 ]
}