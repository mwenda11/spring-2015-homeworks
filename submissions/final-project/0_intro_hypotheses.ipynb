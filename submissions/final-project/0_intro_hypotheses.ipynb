{
 "metadata": {
  "name": "",
  "signature": "sha256:5d2038e048573bcf1d91978aba3d86af585481225a953fec9034caa9f01c6559"
 },
 "nbformat": 3,
 "nbformat_minor": 0,
 "worksheets": [
  {
   "cells": [
    {
     "cell_type": "markdown",
     "metadata": {},
     "source": [
      "**Kiva.org**"
     ]
    },
    {
     "cell_type": "markdown",
     "metadata": {},
     "source": [
      "Non-profit organization that enables people to lend money to enterprenuers in underserved parts of the world <br>\n",
      "Works with field partners to administer loans - microfinance institutions, schools, social businesses, non-profit organizations <br>\n",
      "Kiva members(lenders) raise money for posted loans <br>\n",
      "A loan can be funded by one or more lenders \u2013 minimum $25 contribution <br>\n",
      "Lenders don't charge interest but field partners can to cover their operation cost <br>"
     ]
    },
    {
     "cell_type": "markdown",
     "metadata": {},
     "source": [
      "**Hypotheses**"
     ]
    },
    {
     "cell_type": "markdown",
     "metadata": {},
     "source": [
      "- The probability of defaulting on a loan is positively correlated to loan amount. <br>\n",
      "- Loan applications with longer descriptions are more likely to be funded <br>\n",
      "- Are some sectors such as agriculture more likely to be funded that others? <br>\n",
      "- Loan application that required a translator are less likely to be funded \u2013 loans not posted in English. <br>\n",
      "- Does 'tone' of loan description correlate with getting funded? <br>"
     ]
    },
    {
     "cell_type": "code",
     "collapsed": false,
     "input": [],
     "language": "python",
     "metadata": {},
     "outputs": []
    }
   ],
   "metadata": {}
  }
 ]
}