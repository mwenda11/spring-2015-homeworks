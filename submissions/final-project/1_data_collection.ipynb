{
 "metadata": {
  "name": "",
  "signature": "sha256:505dddb8fef559289ddab23d5fffe1acc7f3484e27adf5f92eba25af8d3ca4bc"
 },
 "nbformat": 3,
 "nbformat_minor": 0,
 "worksheets": [
  {
   "cells": [
    {
     "cell_type": "markdown",
     "metadata": {},
     "source": [
      "**Data Collection** <br/>\n",
      "Loan data snapshot downloaded from http://s3.kiva.org/snapshots/kiva_ds_json.zip and saved under \"loans\" in current directory. <br/>\n",
      "Data contains about 89,000 loans, issued between 2006-2012. <br/>\n",
      "For each loan there is a partner ID. This is the field partner who posted the loan on Kiva. Currently there are 379 partners listed on Kiva.org. I downloaded partner data from the API http://api.kivaws.org/v1/partners.json and saved it as \"partners.txt\" in current directory. <br/>\n",
      "For each loan there is one or more lenders. Lender data is not included in the snapshot, so I retrieved it by calling the Lenders API below <br/>"
     ]
    },
    {
     "cell_type": "markdown",
     "metadata": {},
     "source": [
      "<br>\n",
      "**I have submitted the csv files created after parsing this data.**\n",
      "<br>"
     ]
    },
    {
     "cell_type": "code",
     "collapsed": false,
     "input": [
      "import os\n",
      "import json\n",
      "import time\n",
      "import requests\n",
      "import numpy as np\n",
      "import pandas as pd\n",
      "import networkx as nx\n",
      "\n",
      "from itertools import combinations\n",
      "from collections import defaultdict\n",
      "from matplotlib import pyplot as plt\n",
      "from pandas import Series, DataFrame\n",
      "%matplotlib inline"
     ],
     "language": "python",
     "metadata": {},
     "outputs": [],
     "prompt_number": 1
    },
    {
     "cell_type": "code",
     "collapsed": false,
     "input": [
      "# returns a list of lenders for a loan\n",
      "def get_lenders(loan_id):\n",
      "    response = requests.get(\"http://api.kivaws.org/v1/loans/%s/lenders.json\"%(loan_id))\n",
      "    json_resp = response.json()\n",
      "    #print type(json_resp)\n",
      "    lenders=\"#\"\n",
      "    if \"lenders\" in json_resp:\n",
      "        lenders = json_resp[\"lenders\"]\n",
      "    else:\n",
      "        print json.dumps(json_resp)\n",
      "        lenders = json_resp[\"lenders\"] # error\n",
      "    return json.dumps(lenders) "
     ],
     "language": "python",
     "metadata": {},
     "outputs": [],
     "prompt_number": 3
    },
    {
     "cell_type": "code",
     "collapsed": false,
     "input": [
      "# fetch lenders for each loan and write them to the file\n",
      "def write_500(loan_ids, filename):\n",
      "    with open(filename, \"a\") as f:\n",
      "        f.write('{\"data\":[')\n",
      "        tally = 0\n",
      "        sleep_dur = 1\n",
      "        for lid in loan_ids:\n",
      "            if not lid:\n",
      "                continue\n",
      "            time.sleep(sleep_dur)\n",
      "            \n",
      "            then = time.time()\n",
      "            prefix = '{\"loan_id\":' + str(lid) + ',\"lenders\":'\n",
      "            lenders = get_lenders(lid)\n",
      "            suffix = '},'\n",
      "\n",
      "            output = prefix + lenders + suffix\n",
      "            f.write(output)\n",
      "            \n",
      "            now = time.time()\n",
      "            sleep_dur = (1 - (now - then)) + 0.05\n",
      "            if sleep_dur < 0.05:\n",
      "                sleep_dur = 0.05\n",
      "\n",
      "        f.write(']}')\n",
      "        f.close()"
     ],
     "language": "python",
     "metadata": {},
     "outputs": [],
     "prompt_number": 4
    },
    {
     "cell_type": "code",
     "collapsed": false,
     "input": [
      "# This takes a while. It took about 28 hours to get all the lenders (1,790,000) for all the loans.\n",
      "# There should be a better way...\n",
      "ids = data_matrix[:,0]\n",
      "\n",
      "start = 0\n",
      "while start < len(ids):\n",
      "    fname = \"lenders/lenders\" + str(start) + \".json\"\n",
      "    print \"starting...\" + fname\n",
      "    end = start + 500\n",
      "    loan500 = ids[start:end]\n",
      "    try:\n",
      "        write_500(loan500,fname)\n",
      "    except ValueError as e:\n",
      "        print str(e)\n",
      "    start = end"
     ],
     "language": "python",
     "metadata": {},
     "outputs": []
    }
   ],
   "metadata": {}
  }
 ]
}