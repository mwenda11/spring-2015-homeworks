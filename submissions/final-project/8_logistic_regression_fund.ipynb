{
 "metadata": {
  "name": "",
  "signature": "sha256:271d015ffa5f1891a1d5289c47973701589a4ce849ac5ac3a81b30c0ddbbf686"
 },
 "nbformat": 3,
 "nbformat_minor": 0,
 "worksheets": [
  {
   "cells": [
    {
     "cell_type": "markdown",
     "metadata": {},
     "source": [
      "**Predicting if a loan gets funded**"
     ]
    },
    {
     "cell_type": "code",
     "collapsed": false,
     "input": [
      "import os\n",
      "import json\n",
      "import time\n",
      "import datetime\n",
      "import requests\n",
      "import numpy as np\n",
      "import pandas as pd\n",
      "\n",
      "from patsy import dmatrices\n",
      "from collections import defaultdict\n",
      "from matplotlib import pyplot as plt\n",
      "from pandas import Series, DataFrame\n",
      "%matplotlib inline\n",
      "\n",
      "import sklearn.metrics as metrics\n",
      "import sklearn.utils as utils\n",
      "import sklearn.linear_model as linear_model\n",
      "import sklearn.cross_validation as cross_validation\n",
      "from sklearn.preprocessing import StandardScaler"
     ],
     "language": "python",
     "metadata": {},
     "outputs": []
    },
    {
     "cell_type": "code",
     "collapsed": false,
     "input": [
      "dframe = pd.read_csv('filtered_loan_dataF.csv', index_col='id')"
     ],
     "language": "python",
     "metadata": {},
     "outputs": [],
     "prompt_number": 2
    },
    {
     "cell_type": "code",
     "collapsed": false,
     "input": [
      "# to predict default -- filter: funded,expired\n",
      "dframe = dframe[dframe.status != \"defaulted\"]\n",
      "dframe = dframe[dframe.status != \"in_repayment\"]\n",
      "dframe = dframe[dframe.status != \"refunded\"]"
     ],
     "language": "python",
     "metadata": {},
     "outputs": [],
     "prompt_number": 3
    },
    {
     "cell_type": "code",
     "collapsed": false,
     "input": [
      "#dframe.groupby(\"status\").count()"
     ],
     "language": "python",
     "metadata": {},
     "outputs": [],
     "prompt_number": 5
    },
    {
     "cell_type": "code",
     "collapsed": false,
     "input": [
      "# to binary\n",
      "def was_funded(row):\n",
      "    funded = row.status\n",
      "    if funded == \"expired\":\n",
      "        return 0\n",
      "    else:\n",
      "        return 1\n",
      "\n",
      "dframe['status'] = dframe.apply(was_funded, axis = 1)\n",
      "\n",
      "\n",
      "for it, dat in dframe.groupby(\"status\"):\n",
      "    print it, len(dat)"
     ],
     "language": "python",
     "metadata": {},
     "outputs": [
      {
       "output_type": "stream",
       "stream": "stdout",
       "text": [
        "0 1961\n",
        "1 82193\n"
       ]
      }
     ],
     "prompt_number": 6
    },
    {
     "cell_type": "code",
     "collapsed": false,
     "input": [
      "# Normalize number of adjectives by dividing by text length\n",
      "def norm_adjectives(row):\n",
      "    num = row.num_adjectives\n",
      "    leng = row.text_length\n",
      "    return num/(leng*1.0)\n",
      "\n",
      "dframe.insert(8, \"normalized_adj\", '')\n",
      "dframe['normalized_adj'] = dframe.apply(norm_adjectives, axis = 1)"
     ],
     "language": "python",
     "metadata": {},
     "outputs": [],
     "prompt_number": 7
    },
    {
     "cell_type": "code",
     "collapsed": false,
     "input": [
      "#dframe.iloc[:7,:15]"
     ],
     "language": "python",
     "metadata": {},
     "outputs": [],
     "prompt_number": 13
    },
    {
     "cell_type": "code",
     "collapsed": false,
     "input": [
      "# to binary\n",
      "def is_female(row):\n",
      "    gen = row.borrower_gender\n",
      "    if gen == \"F\":\n",
      "        return 1\n",
      "    else:\n",
      "        return 0\n",
      "\n",
      "dframe['borrower_gender'] = dframe.apply(is_female, axis = 1)\n",
      "\n",
      "for it, dat in dframe.groupby(\"borrower_gender\"):\n",
      "    print it, len(dat)"
     ],
     "language": "python",
     "metadata": {},
     "outputs": [
      {
       "output_type": "stream",
       "stream": "stdout",
       "text": [
        "0 21675\n",
        "1 62479\n"
       ]
      }
     ],
     "prompt_number": 8
    },
    {
     "cell_type": "code",
     "collapsed": false,
     "input": [
      "# add column continent\n",
      "con_list = []\n",
      "for it, dat in dframe.groupby(\"country\"):\n",
      "    con_list.append(it.strip())\n",
      "\n",
      "#print con_list\n",
      "asia = [\"Afghanistan\",\"Armenia\",\"Azerbaijan\",\"Cambodia\",\"Georgia\",\"Indonesia\",\"Iraq\",\"Israel\",\"Jordan\",\"Kyrgyzstan\",\"Lebanon\",\"Moldova\",\"Mongolia\",\"Nepal\",\"Pakistan\",\"Palestine\",\"Philippines\",\"Samoa\",\"Sri Lanka\",\"Tajikistan\",\"Turkey\",\"Vietnam\",\"Yemen\"]\n",
      "africa = [\"Benin\",\"Burkina Faso\",\"Burundi\",\"Cameroon\",\"Congo (Dem. Rep.)\",\"Congo (Rep.)\",\"Cote D'Ivoire\",\"Ghana\",\"Kenya\",\"Liberia\",\"Mali\",\"Mozambique\",\"Nigeria\",\"Rwanda\",\"Senegal\",\"Sierra Leone\",\"South Africa\",\"South Sudan\",\"Tanzania\",\"Togo\",\"Uganda\",\"Zimbabwe\"]\n",
      "latin_america = [\"Bolivia\",\"Colombia\",\"Chile\",\"Costa Rica\",\"Dominican Republic\",\"Ecuador\",\"El Salvador\",\"Guatemala\",\"Haiti\",\"Honduras\",\"Mexico\",\"Nicaragua\",\"Paraguay\",\"Peru\"]\n",
      "europe = [\"Bosnia and Herzegovina\",\"Bulgaria\",\"Ukraine\"]\n",
      "north_america = [\"United States\"]"
     ],
     "language": "python",
     "metadata": {},
     "outputs": [],
     "prompt_number": 9
    },
    {
     "cell_type": "code",
     "collapsed": false,
     "input": [
      "def continent(row):\n",
      "    con = row.country.strip()\n",
      "    if con in africa:\n",
      "        return 'africa'\n",
      "    elif con in asia:\n",
      "        return 'asia'\n",
      "    elif con in europe:\n",
      "        return 'europe'\n",
      "    elif con in latin_america:\n",
      "        return 'latin_america'\n",
      "    elif con in north_america:\n",
      "        return 'north_america'\n",
      "\n",
      "dframe.insert(8, \"continent\", '')\n",
      "dframe['continent'] = dframe.apply(continent, axis = 1)\n",
      "\n",
      "for it, dat in dframe.groupby(\"continent\"):\n",
      "    print it, len(dat)"
     ],
     "language": "python",
     "metadata": {},
     "outputs": [
      {
       "output_type": "stream",
       "stream": "stdout",
       "text": [
        "africa 23408\n",
        "asia 32388\n",
        "europe 818\n",
        "latin_america 27436\n",
        "north_america 104\n"
       ]
      }
     ],
     "prompt_number": 10
    },
    {
     "cell_type": "code",
     "collapsed": false,
     "input": [
      "#dframe.iloc[:6,:15]\n",
      "for it, dat in dframe.groupby(\"status\"):\n",
      "    print it, len(dat)"
     ],
     "language": "python",
     "metadata": {},
     "outputs": [
      {
       "output_type": "stream",
       "stream": "stdout",
       "text": [
        "0 1961\n",
        "1 82193\n"
       ]
      }
     ],
     "prompt_number": 11
    },
    {
     "cell_type": "code",
     "collapsed": false,
     "input": [
      "#dframe.num_adjectives.mean()"
     ],
     "language": "python",
     "metadata": {},
     "outputs": [],
     "prompt_number": 13
    },
    {
     "cell_type": "markdown",
     "metadata": {},
     "source": [
      "**Logistic Regression**"
     ]
    },
    {
     "cell_type": "code",
     "collapsed": false,
     "input": [
      "# select features\n",
      "y, dfX = dmatrices('status ~ text_length + num_languages + normalized_adj + C(sector) + C(continent) + loan_amount + num_borrowers + \\\n",
      "                 borrower_gender + partner_loss_liable + pactive + prating + pdays_as_member + pdelinquency_rate + \\\n",
      "                 pdefault_rate + ptotal_amount_raised + ploans_posted + pcharges_FI + pALSPCI + ploans_at_risk_rate + pforex_loss_rate',\n",
      "                 dframe, return_type=\"dataframe\")"
     ],
     "language": "python",
     "metadata": {},
     "outputs": [],
     "prompt_number": 14
    },
    {
     "cell_type": "code",
     "collapsed": false,
     "input": [
      "# centre data\n",
      "scaler = StandardScaler()\n",
      "scaler.fit(dfX)\n",
      "X = scaler.transform(dfX)"
     ],
     "language": "python",
     "metadata": {},
     "outputs": [],
     "prompt_number": 15
    },
    {
     "cell_type": "code",
     "collapsed": false,
     "input": [
      "print y.shape, \n",
      "y = np.ravel(y)\n",
      "print y.shape\n",
      "#dfX.iloc[:7,15:30]"
     ],
     "language": "python",
     "metadata": {},
     "outputs": [
      {
       "output_type": "stream",
       "stream": "stdout",
       "text": [
        "(84154, 1) (84154L,)\n"
       ]
      }
     ],
     "prompt_number": 16
    },
    {
     "cell_type": "code",
     "collapsed": false,
     "input": [
      "# evaluate the model by splitting into train and test sets\n",
      "X_train, X_test, y_train, y_test = cross_validation.train_test_split(X,\n",
      "                                                                     y,\n",
      "                                                                     test_size=0.3,\n",
      "                                                                     random_state=0\n",
      "                                                                     )\n",
      "logistic_regr = linear_model.LogisticRegression()\n",
      "logistic_regr.fit(X_train, y_train)"
     ],
     "language": "python",
     "metadata": {},
     "outputs": [
      {
       "metadata": {},
       "output_type": "pyout",
       "prompt_number": 17,
       "text": [
        "LogisticRegression(C=1.0, class_weight=None, dual=False, fit_intercept=True,\n",
        "          intercept_scaling=1, penalty='l2', random_state=None, tol=0.0001)"
       ]
      }
     ],
     "prompt_number": 17
    },
    {
     "cell_type": "code",
     "collapsed": false,
     "input": [
      "# verifying if cross_validation did a good split\n",
      "dfy_train = pd.DataFrame(y_train, columns=[\"status\"])\n",
      "dfy_test = pd.DataFrame(y_test, columns=[\"status\"])\n",
      "\n",
      "for it, dat in dfy_test.groupby(\"status\"):\n",
      "    print it, len(dat)\n",
      "print '----------------------'   \n",
      "for it, dat in dfy_train.groupby(\"status\"):\n",
      "    print it, len(dat)"
     ],
     "language": "python",
     "metadata": {},
     "outputs": [
      {
       "output_type": "stream",
       "stream": "stdout",
       "text": [
        "0.0 565\n",
        "1.0 24682\n",
        "----------------------\n",
        "0.0 1396\n",
        "1.0 57511\n"
       ]
      }
     ],
     "prompt_number": 18
    },
    {
     "cell_type": "code",
     "collapsed": false,
     "input": [
      "# predict class labels for the test set\n",
      "y_predicted = logistic_regr.predict(X_test)\n",
      "print y_predicted"
     ],
     "language": "python",
     "metadata": {},
     "outputs": [
      {
       "output_type": "stream",
       "stream": "stdout",
       "text": [
        "[ 1.  1.  1. ...,  1.  1.  1.]\n"
       ]
      }
     ],
     "prompt_number": 19
    },
    {
     "cell_type": "code",
     "collapsed": false,
     "input": [
      "#prediction probabilities\n",
      "probs = logistic_regr.predict_proba(X_test)\n",
      "print probs"
     ],
     "language": "python",
     "metadata": {},
     "outputs": [
      {
       "output_type": "stream",
       "stream": "stdout",
       "text": [
        "[[  5.39988044e-03   9.94600120e-01]\n",
        " [  1.32605923e-02   9.86739408e-01]\n",
        " [  1.66742417e-03   9.98332576e-01]\n",
        " ..., \n",
        " [  1.54476248e-05   9.99984552e-01]\n",
        " [  9.56718395e-02   9.04328160e-01]\n",
        " [  1.63708775e-02   9.83629122e-01]]\n"
       ]
      }
     ],
     "prompt_number": 20
    },
    {
     "cell_type": "code",
     "collapsed": false,
     "input": [
      "# generate evaluation metrics\n",
      "print metrics.accuracy_score(y_test, y_predicted)"
     ],
     "language": "python",
     "metadata": {},
     "outputs": [
      {
       "output_type": "stream",
       "stream": "stdout",
       "text": [
        "0.977145799501\n"
       ]
      }
     ],
     "prompt_number": 21
    },
    {
     "cell_type": "code",
     "collapsed": false,
     "input": [
      "print metrics.confusion_matrix(y_test, y_predicted)\n",
      "print metrics.classification_report(y_test, y_predicted)"
     ],
     "language": "python",
     "metadata": {},
     "outputs": [
      {
       "output_type": "stream",
       "stream": "stdout",
       "text": [
        "[[   82   483]\n",
        " [   94 24588]]\n",
        "             precision    recall  f1-score   support\n",
        "\n",
        "        0.0       0.47      0.15      0.22       565\n",
        "        1.0       0.98      1.00      0.99     24682\n",
        "\n",
        "avg / total       0.97      0.98      0.97     25247\n",
        "\n"
       ]
      }
     ],
     "prompt_number": 22
    },
    {
     "cell_type": "code",
     "collapsed": false,
     "input": [
      "# examine the coefficients\n",
      "print pd.DataFrame(zip(dfX.columns, np.transpose(logistic_regr.coef_)))"
     ],
     "language": "python",
     "metadata": {},
     "outputs": [
      {
       "output_type": "stream",
       "stream": "stdout",
       "text": [
        "                                0                   1\n",
        "0                       Intercept               [0.0]\n",
        "1               C(sector)[T.Arts]    [0.588682637234]\n",
        "2           C(sector)[T.Clothing]   [-0.220706581726]\n",
        "3       C(sector)[T.Construction]   [0.0493262395049]\n",
        "4          C(sector)[T.Education]    [0.401851730846]\n",
        "5      C(sector)[T.Entertainment]    [0.184561515388]\n",
        "6               C(sector)[T.Food]   [-0.165128065954]\n",
        "7             C(sector)[T.Health]    [0.416004588647]\n",
        "8            C(sector)[T.Housing]   [-0.200542445654]\n",
        "9      C(sector)[T.Manufacturing]    [0.662633532967]\n",
        "10      C(sector)[T.Personal Use]  [-0.0992094952599]\n",
        "11            C(sector)[T.Retail]   [-0.446519931406]\n",
        "12          C(sector)[T.Services]  [-0.0960691703162]\n",
        "13    C(sector)[T.Transportation]   [-0.176987544878]\n",
        "14         C(sector)[T.Wholesale]    [0.010456731856]\n",
        "15           C(continent)[T.asia]   [-0.229670393546]\n",
        "16         C(continent)[T.europe]    [0.292031011231]\n",
        "17  C(continent)[T.latin_america]   [-0.037890940081]\n",
        "18  C(continent)[T.north_america]    [0.307842195793]\n",
        "19                    text_length    [0.418804102969]\n",
        "20                  num_languages   [-0.459155174002]\n",
        "21                 normalized_adj    [0.725807720545]\n",
        "22                    loan_amount    [-1.04640489881]\n",
        "23                  num_borrowers    [0.791925769065]\n",
        "24                borrower_gender    [0.585580570877]\n",
        "25            partner_loss_liable    [0.806670138797]\n",
        "26                        pactive     [0.46411584918]\n",
        "27                        prating   [-0.504334676939]\n",
        "28                pdays_as_member    [0.601675120129]\n",
        "29              pdelinquency_rate    [0.374050939646]\n",
        "30                  pdefault_rate   [0.0120079242372]\n",
        "31           ptotal_amount_raised    [0.263958776183]\n",
        "32                  ploans_posted  [0.00741376859028]\n",
        "33                    pcharges_FI               [0.0]\n",
        "34                        pALSPCI   [0.0557234142669]\n",
        "35            ploans_at_risk_rate   [-0.385056216147]\n",
        "36               pforex_loss_rate    [0.252214390361]\n"
       ]
      }
     ],
     "prompt_number": 23
    },
    {
     "cell_type": "markdown",
     "metadata": {},
     "source": [
      "**Summary**"
     ]
    },
    {
     "cell_type": "markdown",
     "metadata": {},
     "source": [
      "- As expected, there is a high correlation between the loan amount it's getting funded. Some loans get funded halfway but if they are not fully funded in 30 days, they expire and contributions are refunded to borrowers.\n",
      "- When the field partner who posted a loan is liable for loss, meaning that in the event of a default it's the partner and not the lender who will incur a loss, the likelihood of a loan getting funded is high. This may be because since the lender is no liable for loss, there is less risk and therefore the lender is more willing to lend money.\n",
      "- Loans for Arts and Manufacturing sector were the most likely to be funded. Retail was least likely to be funded.\n",
      "- Loans to Africa were more likely to be funded that those for Asia and Latin America.\n",
      "- Women borrowers were funded more that men."
     ]
    },
    {
     "cell_type": "markdown",
     "metadata": {},
     "source": [
      "\n",
      "\n",
      "**Some Visualizations**"
     ]
    },
    {
     "cell_type": "code",
     "collapsed": false,
     "input": [
      "# Some partner data may not be a predictor becuase the partner data is current and is not for the time period the loan was posted\n",
      "cols = ['status','text_length','num_languages','loan_amount','bonus_credit_elig','num_borrowers','borrower_gender','partner_loss_liable']\n",
      "dfK = dframe[cols]\n",
      "dfK.groupby(\"status\").mean()"
     ],
     "language": "python",
     "metadata": {},
     "outputs": [
      {
       "html": [
        "<div style=\"max-height:1000px;max-width:1500px;overflow:auto;\">\n",
        "<table border=\"1\" class=\"dataframe\">\n",
        "  <thead>\n",
        "    <tr style=\"text-align: right;\">\n",
        "      <th></th>\n",
        "      <th>text_length</th>\n",
        "      <th>num_languages</th>\n",
        "      <th>loan_amount</th>\n",
        "      <th>bonus_credit_elig</th>\n",
        "      <th>num_borrowers</th>\n",
        "      <th>borrower_gender</th>\n",
        "      <th>partner_loss_liable</th>\n",
        "    </tr>\n",
        "    <tr>\n",
        "      <th>status</th>\n",
        "      <th></th>\n",
        "      <th></th>\n",
        "      <th></th>\n",
        "      <th></th>\n",
        "      <th></th>\n",
        "      <th></th>\n",
        "      <th></th>\n",
        "    </tr>\n",
        "  </thead>\n",
        "  <tbody>\n",
        "    <tr>\n",
        "      <th>0</th>\n",
        "      <td> 673.263253</td>\n",
        "      <td> 1.481387</td>\n",
        "      <td> 1598.087710</td>\n",
        "      <td> 0.619072</td>\n",
        "      <td> 1.598164</td>\n",
        "      <td> 0.338603</td>\n",
        "      <td> 0.030597</td>\n",
        "    </tr>\n",
        "    <tr>\n",
        "      <th>1</th>\n",
        "      <td> 853.848729</td>\n",
        "      <td> 1.325746</td>\n",
        "      <td>  752.189663</td>\n",
        "      <td> 0.474602</td>\n",
        "      <td> 1.937756</td>\n",
        "      <td> 0.752071</td>\n",
        "      <td> 0.376090</td>\n",
        "    </tr>\n",
        "  </tbody>\n",
        "</table>\n",
        "</div>"
       ],
       "metadata": {},
       "output_type": "pyout",
       "prompt_number": 24,
       "text": [
        "        text_length  num_languages  loan_amount  bonus_credit_elig  \\\n",
        "status                                                               \n",
        "0        673.263253       1.481387  1598.087710           0.619072   \n",
        "1        853.848729       1.325746   752.189663           0.474602   \n",
        "\n",
        "        num_borrowers  borrower_gender  partner_loss_liable  \n",
        "status                                                       \n",
        "0            1.598164         0.338603             0.030597  \n",
        "1            1.937756         0.752071             0.376090  "
       ]
      }
     ],
     "prompt_number": 24
    },
    {
     "cell_type": "code",
     "collapsed": false,
     "input": [
      "columnsx = ['status','text_length','num_languages','sector','country','continent','loan_amount','bonus_credit_elig','num_borrowers','borrower_gender','partner_loss_liable']\n",
      "dfP = dframe[columnsx]\n",
      "#dfP.info()"
     ],
     "language": "python",
     "metadata": {},
     "outputs": [],
     "prompt_number": 25
    },
    {
     "cell_type": "code",
     "collapsed": false,
     "input": [
      "#status(funded or not) and sector\n",
      "cont_sector = pd.crosstab(dfP.sector, dfP.status.astype(bool))\n",
      "#cols = ['Agriculture','Arts','Clothing','Construction','Food','Housing','Manufacturing','Retail','Services','Transportation']\n",
      "#cont_sector = cont_sector[cols]\n",
      "\n",
      "cont_sector.div(cont_sector.sum(1).astype(float), axis=0).plot(kind='bar',stacked=True)\n",
      "plt.title('Percentage funded loans by Sector')\n",
      "plt.xlabel('Sector')\n",
      "plt.ylabel('Percentage')\n",
      "plt.legend(loc='center left', title=\"Funded?\", bbox_to_anchor=(1, 0.5))\n",
      "plt.show()"
     ],
     "language": "python",
     "metadata": {},
     "outputs": [
      {
       "metadata": {},
       "output_type": "display_data",
       "png": "[encoded data removed]",
       "text": [
        "<matplotlib.figure.Figure at 0x210bceb8>"
       ]
      }
     ],
     "prompt_number": 26
    },
    {
     "cell_type": "code",
     "collapsed": false,
     "input": [
      "#status(funded or not) and continent\n",
      "cont_sector = pd.crosstab(dfP.continent, dfP.status.astype(bool))\n",
      "\n",
      "cont_sector.div(cont_sector.sum(1).astype(float), axis=0).plot(kind='bar',stacked=True)\n",
      "plt.title('Percentage funded loans by Continent')\n",
      "plt.xlabel('Continent')\n",
      "plt.ylabel('Percentage')\n",
      "plt.legend(loc='center left', title=\"Funded?\", bbox_to_anchor=(1, 0.5))\n",
      "plt.show()"
     ],
     "language": "python",
     "metadata": {},
     "outputs": [
      {
       "metadata": {},
       "output_type": "display_data",
       "png": "[encoded data removed]",
       "text": [
        "<matplotlib.figure.Figure at 0x183a5908>"
       ]
      }
     ],
     "prompt_number": 27
    },
    {
     "cell_type": "code",
     "collapsed": false,
     "input": [],
     "language": "python",
     "metadata": {},
     "outputs": []
    }
   ],
   "metadata": {}
  }
 ]
}