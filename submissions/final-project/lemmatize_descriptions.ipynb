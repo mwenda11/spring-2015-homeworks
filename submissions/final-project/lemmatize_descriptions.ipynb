{
 "metadata": {
  "name": "",
  "signature": "sha256:40b5315c9615cd72b619a4dd5affc5e8bca4a6830c86b3a05d83121018c6d98a"
 },
 "nbformat": 3,
 "nbformat_minor": 0,
 "worksheets": [
  {
   "cells": [
    {
     "cell_type": "markdown",
     "metadata": {},
     "source": [
      "**Analyze Descriptions**"
     ]
    },
    {
     "cell_type": "code",
     "collapsed": false,
     "input": [
      "import os\n",
      "import json\n",
      "import time\n",
      "import gensim\n",
      "import datetime\n",
      "import requests\n",
      "import numpy as np\n",
      "import pandas as pd\n",
      "\n",
      "from collections import defaultdict\n",
      "from matplotlib import pyplot as plt\n",
      "from pandas import Series, DataFrame\n",
      "%matplotlib inline"
     ],
     "language": "python",
     "metadata": {},
     "outputs": [],
     "prompt_number": 1
    },
    {
     "cell_type": "code",
     "collapsed": false,
     "input": [
      "def num_adjectives(text):\n",
      "    count = 0\n",
      "    lem = gensim.utils.lemmatize(text)\n",
      "    for token in lem:\n",
      "        if token[-2:]=='JJ':\n",
      "            count += 1\n",
      "    return count"
     ],
     "language": "python",
     "metadata": {},
     "outputs": [],
     "prompt_number": 24
    },
    {
     "cell_type": "code",
     "collapsed": false,
     "input": [
      "pframe = pd.read_csv('partners.csv', index_col='pid', parse_dates=['start_date'])"
     ],
     "language": "python",
     "metadata": {},
     "outputs": [],
     "prompt_number": 3
    },
    {
     "cell_type": "code",
     "collapsed": false,
     "input": [
      "def active_days(row):\n",
      "    start = row.start_date\n",
      "    now = datetime.datetime.now()\n",
      "    diff = (now - start)\n",
      "    return diff.days\n",
      "\n",
      "pframe['days_active'] = pframe.apply(active_days, axis=1)"
     ],
     "language": "python",
     "metadata": {},
     "outputs": [],
     "prompt_number": 4
    },
    {
     "cell_type": "code",
     "collapsed": false,
     "input": [
      "c1 = [\"id\",\"name\",\"status\",\"funded_amount\",\"paid_amount\",\"desc_length\",\"num_languages\",\"num_adjectives\",\"sector\",\"use\",\"delinquent\"]\n",
      "c2 = [\"country_code\",\"country\",\"town\",\"level\",\"partner_id\",\"posted_date\",\"planned_expire_date\",\"loan_amount\",\"lender_count\",\"forex_loss\"]\n",
      "c3 = [\"bonus_credit_elig\",\"tags\",\"num_borrowers\",\"borrower_gender\",\"disbursal_date\",\"disbursal_currency\",\"disbursal_amount\"]\n",
      "c4 = [\"repayment_interval\",\"repayment_term\",\"terms_loan_amount\",\"partner_loss_liable\",\"funded_date\",\"sched_pay_date\",\"paid_date\",\"pictured\",\"translator\"]\n",
      "# info for field partner who issued this loan\n",
      "c5 = [\"pactive\",\"prating\",\"pdays_as_member\",\"pdelinquency_rate\",\"pdefault_rate\",\"ptotal_amount_raised\",\"ploans_posted\"]\n",
      "c6 = [\"pcharges_FI\",\"pALSPCI\",\"ploans_at_risk_rate\",\"pforex_loss_rate\",\"meta_delete\"]\n",
      "\n",
      "columns = c1+c2+c3+c4+c5+c6\n",
      "\n",
      "data_matrix = np.zeros((91453,len(columns)), dtype='S25')\n",
      "\n",
      "files = os.listdir(\"loans\")\n",
      "idx = 0\n",
      "\n",
      "for f in files:\n",
      "    f_data = open(\"loans/\" + f)\n",
      "    json_data = f_data.read()\n",
      "\n",
      "    data = json.loads(json_data)\n",
      "    loans = data[\"loans\"]\n",
      "    \n",
      "    for loan in loans:\n",
      "        meta_delete = 0 #indicates which records to delete -- filter/prune\n",
      "        data_matrix[idx][0] = loan[\"id\"]\n",
      "        data_matrix[idx][1] = loan[\"name\"].encode('utf8')\n",
      "        data_matrix[idx][2] = loan[\"status\"]\n",
      "        data_matrix[idx][3] = loan[\"funded_amount\"]\n",
      "        data_matrix[idx][4] = 0 #loan[\"paid_amount\"]\n",
      "        texts = loan[\"description\"][\"texts\"]\n",
      "        text = \"\"\n",
      "        if \"en\" in texts:\n",
      "            text = texts[\"en\"]\n",
      "        data_matrix[idx][5] = len(text)\n",
      "        data_matrix[idx][6] = len(texts) # num_languages\n",
      "        num_adj = 0\n",
      "        if len(text) > 1:\n",
      "            num_adj = num_adjectives(text)\n",
      "        data_matrix[idx][7] = num_adj\n",
      "        \n",
      "        if idx%1000==0:\n",
      "            print idx, '...', num_adj\n",
      "        data_matrix[idx][8] = loan[\"sector\"]\n",
      "        data_matrix[idx][9] = loan[\"use\"].encode('utf8')\n",
      "        data_matrix[idx][10] = 0 #loan[\"delinquent\"]\n",
      "        data_matrix[idx][11] = loan[\"location\"][\"country_code\"]\n",
      "        data_matrix[idx][12] = loan[\"location\"][\"country\"]\n",
      "        town = None #loan[\"location\"][\"town\"]\n",
      "        if town is not None:\n",
      "            data_matrix[idx][13] = loan[\"location\"][\"town\"].encode('utf8')\n",
      "        data_matrix[idx][14] = loan[\"location\"][\"geo\"][\"level\"]\n",
      "        pid = int(loan[\"partner_id\"])\n",
      "        data_matrix[idx][15] = pid\n",
      "        posted_date = loan[\"posted_date\"]\n",
      "        if posted_date is None:\n",
      "            meta_delete = 1\n",
      "        data_matrix[idx][16] = posted_date\n",
      "        #data_matrix[idx][17] = loan[\"planned_expiration_date\"]\n",
      "        data_matrix[idx][18] = loan[\"loan_amount\"]\n",
      "        data_matrix[idx][19] = loan[\"lender_count\"]\n",
      "        data_matrix[idx][20] = 0 #loan[\"currency_exchange_loss_amount\"]\n",
      "        data_matrix[idx][21] = loan[\"bonus_credit_eligibility\"]\n",
      "        data_matrix[idx][22] = str(loan[\"tags\"])\n",
      "        data_matrix[idx][23] = len(loan[\"borrowers\"])\n",
      "        data_matrix[idx][24] = loan[\"borrowers\"][0][\"gender\"] #forst one\n",
      "        data_matrix[idx][25] = loan[\"terms\"][\"disbursal_date\"] \n",
      "        data_matrix[idx][26] = loan[\"terms\"][\"disbursal_currency\"] \n",
      "        data_matrix[idx][27] = loan[\"terms\"][\"disbursal_amount\"]\n",
      "        data_matrix[idx][28] = loan[\"terms\"][\"repayment_interval\"] \n",
      "        #data_matrix[idx][29] = loan[\"terms\"][\"repayment_term\"] \n",
      "        data_matrix[idx][30] = loan[\"terms\"][\"loan_amount\"]\n",
      "        data_matrix[idx][31] = (loan[\"terms\"][\"loss_liability\"][\"nonpayment\"] == \"partner\")\n",
      "        dt_now = \"2015-04-24T00:00:00Z\"\n",
      "        fun_date = None #loan[\"funded_date\"]\n",
      "        data_matrix[idx][32] = (dt_now if (fun_date is None) else fun_date)\n",
      "        sched = loan[\"terms\"][\"scheduled_payments\"]\n",
      "        if len(sched) > 0:\n",
      "            data_matrix[idx][33] = sched[-1][\"due_date\"] #\n",
      "        else:\n",
      "            meta_delete = meta_delete #1\n",
      "        paid_date = dt_now #loan[\"paid_date\"]\n",
      "        data_matrix[idx][34] = (dt_now if (paid_date is None) else paid_date)\n",
      "        pictured = loan[\"borrowers\"][0][\"pictured\"]\n",
      "        data_matrix[idx][35] = (1 if pictured else 0)\n",
      "        data_matrix[idx][36] = False #(loan[\"translator\"] is not None) # exists?\n",
      "        \n",
      "        #partner data\n",
      "        try:\n",
      "            p_row = pframe.ix[pid]\n",
      "            data_matrix[idx][37] = p_row.active\n",
      "            data_matrix[idx][38] = p_row.rating\n",
      "            data_matrix[idx][39] = p_row.days_active\n",
      "            data_matrix[idx][40] = p_row.delinquency_rate\n",
      "            data_matrix[idx][41] = p_row.default_rate\n",
      "            data_matrix[idx][42] = p_row.total_amount_raised\n",
      "            data_matrix[idx][43] = p_row.loans_posted\n",
      "            data_matrix[idx][44] = p_row.charges_FI\n",
      "            data_matrix[idx][45] = p_row.ALSPCI\n",
      "            data_matrix[idx][46] = p_row.loans_at_risk_rate\n",
      "            data_matrix[idx][47] = p_row.currency_exchange_loss_rate\n",
      "        except KeyError:\n",
      "            #print loan[\"id\"]\n",
      "            meta_delete = 1\n",
      "            \n",
      "        data_matrix[idx][48] = meta_delete\n",
      "        \n",
      "        idx += 1\n",
      "    \n",
      "    f_data.close()\n",
      "\n",
      "idx"
     ],
     "language": "python",
     "metadata": {},
     "outputs": [
      {
       "output_type": "stream",
       "stream": "stdout",
       "text": [
        "0 ... 10\n",
        "1000"
       ]
      },
      {
       "output_type": "stream",
       "stream": "stdout",
       "text": [
        " ... 4\n",
        "2000"
       ]
      },
      {
       "output_type": "stream",
       "stream": "stdout",
       "text": [
        " ... 17\n",
        "3000"
       ]
      },
      {
       "output_type": "stream",
       "stream": "stdout",
       "text": [
        " ... 9\n",
        "4000"
       ]
      },
      {
       "output_type": "stream",
       "stream": "stdout",
       "text": [
        " ... 11\n",
        "5000"
       ]
      },
      {
       "output_type": "stream",
       "stream": "stdout",
       "text": [
        " ... 4\n",
        "6000"
       ]
      },
      {
       "output_type": "stream",
       "stream": "stdout",
       "text": [
        " ... 4\n",
        "7000"
       ]
      },
      {
       "output_type": "stream",
       "stream": "stdout",
       "text": [
        " ... 7\n",
        "8000"
       ]
      },
      {
       "output_type": "stream",
       "stream": "stdout",
       "text": [
        " ... 18\n",
        "9000"
       ]
      },
      {
       "output_type": "stream",
       "stream": "stdout",
       "text": [
        " ... 9\n",
        "10000"
       ]
      },
      {
       "output_type": "stream",
       "stream": "stdout",
       "text": [
        " ... 0\n",
        "11000"
       ]
      },
      {
       "output_type": "stream",
       "stream": "stdout",
       "text": [
        " ... 13\n",
        "12000"
       ]
      },
      {
       "output_type": "stream",
       "stream": "stdout",
       "text": [
        " ... 4\n",
        "13000"
       ]
      },
      {
       "output_type": "stream",
       "stream": "stdout",
       "text": [
        " ... 18\n",
        "14000"
       ]
      },
      {
       "output_type": "stream",
       "stream": "stdout",
       "text": [
        " ... 10\n",
        "15000"
       ]
      },
      {
       "output_type": "stream",
       "stream": "stdout",
       "text": [
        " ... 10\n",
        "16000"
       ]
      },
      {
       "output_type": "stream",
       "stream": "stdout",
       "text": [
        " ... 19\n",
        "17000"
       ]
      },
      {
       "output_type": "stream",
       "stream": "stdout",
       "text": [
        " ... 16\n",
        "18000"
       ]
      },
      {
       "output_type": "stream",
       "stream": "stdout",
       "text": [
        " ... 20\n",
        "19000"
       ]
      },
      {
       "output_type": "stream",
       "stream": "stdout",
       "text": [
        " ... 4\n",
        "20000"
       ]
      },
      {
       "output_type": "stream",
       "stream": "stdout",
       "text": [
        " ... 20\n",
        "21000"
       ]
      },
      {
       "output_type": "stream",
       "stream": "stdout",
       "text": [
        " ... 8\n",
        "22000"
       ]
      },
      {
       "output_type": "stream",
       "stream": "stdout",
       "text": [
        " ... 14\n",
        "23000"
       ]
      },
      {
       "output_type": "stream",
       "stream": "stdout",
       "text": [
        " ... 14\n",
        "24000"
       ]
      },
      {
       "output_type": "stream",
       "stream": "stdout",
       "text": [
        " ... 7\n",
        "25000"
       ]
      },
      {
       "output_type": "stream",
       "stream": "stdout",
       "text": [
        " ... 17\n",
        "26000"
       ]
      },
      {
       "output_type": "stream",
       "stream": "stdout",
       "text": [
        " ... 2\n",
        "27000"
       ]
      },
      {
       "output_type": "stream",
       "stream": "stdout",
       "text": [
        " ... 27\n",
        "28000"
       ]
      },
      {
       "output_type": "stream",
       "stream": "stdout",
       "text": [
        " ... 10\n",
        "29000"
       ]
      },
      {
       "output_type": "stream",
       "stream": "stdout",
       "text": [
        " ... 21\n",
        "30000"
       ]
      },
      {
       "output_type": "stream",
       "stream": "stdout",
       "text": [
        " ... 11\n",
        "31000"
       ]
      },
      {
       "output_type": "stream",
       "stream": "stdout",
       "text": [
        " ... 22\n",
        "32000"
       ]
      },
      {
       "output_type": "stream",
       "stream": "stdout",
       "text": [
        " ... 13\n",
        "33000"
       ]
      },
      {
       "output_type": "stream",
       "stream": "stdout",
       "text": [
        " ... 4\n",
        "34000"
       ]
      },
      {
       "output_type": "stream",
       "stream": "stdout",
       "text": [
        " ... 12\n",
        "35000"
       ]
      },
      {
       "output_type": "stream",
       "stream": "stdout",
       "text": [
        " ... 7\n",
        "36000"
       ]
      },
      {
       "output_type": "stream",
       "stream": "stdout",
       "text": [
        " ... 7\n",
        "37000"
       ]
      },
      {
       "output_type": "stream",
       "stream": "stdout",
       "text": [
        " ... 11\n",
        "38000"
       ]
      },
      {
       "output_type": "stream",
       "stream": "stdout",
       "text": [
        " ... 21\n",
        "39000"
       ]
      },
      {
       "output_type": "stream",
       "stream": "stdout",
       "text": [
        " ... 0\n",
        "40000"
       ]
      },
      {
       "output_type": "stream",
       "stream": "stdout",
       "text": [
        " ... 24\n",
        "41000"
       ]
      },
      {
       "output_type": "stream",
       "stream": "stdout",
       "text": [
        " ... 14\n",
        "42000"
       ]
      },
      {
       "output_type": "stream",
       "stream": "stdout",
       "text": [
        " ... 10\n",
        "43000"
       ]
      },
      {
       "output_type": "stream",
       "stream": "stdout",
       "text": [
        " ... 10\n",
        "44000"
       ]
      },
      {
       "output_type": "stream",
       "stream": "stdout",
       "text": [
        " ... 35\n",
        "45000"
       ]
      },
      {
       "output_type": "stream",
       "stream": "stdout",
       "text": [
        " ... 4\n",
        "46000"
       ]
      },
      {
       "output_type": "stream",
       "stream": "stdout",
       "text": [
        " ... 16\n",
        "47000"
       ]
      },
      {
       "output_type": "stream",
       "stream": "stdout",
       "text": [
        " ... 11\n",
        "48000"
       ]
      },
      {
       "output_type": "stream",
       "stream": "stdout",
       "text": [
        " ... 8\n",
        "49000"
       ]
      },
      {
       "output_type": "stream",
       "stream": "stdout",
       "text": [
        " ... 5\n",
        "50000"
       ]
      },
      {
       "output_type": "stream",
       "stream": "stdout",
       "text": [
        " ... 32\n",
        "51000"
       ]
      },
      {
       "output_type": "stream",
       "stream": "stdout",
       "text": [
        " ... 28\n",
        "52000"
       ]
      },
      {
       "output_type": "stream",
       "stream": "stdout",
       "text": [
        " ... 0\n",
        "53000"
       ]
      },
      {
       "output_type": "stream",
       "stream": "stdout",
       "text": [
        " ... 2\n",
        "54000"
       ]
      },
      {
       "output_type": "stream",
       "stream": "stdout",
       "text": [
        " ... 6\n",
        "55000"
       ]
      },
      {
       "output_type": "stream",
       "stream": "stdout",
       "text": [
        " ... 0\n",
        "56000"
       ]
      },
      {
       "output_type": "stream",
       "stream": "stdout",
       "text": [
        " ... 8\n",
        "57000"
       ]
      },
      {
       "output_type": "stream",
       "stream": "stdout",
       "text": [
        " ... 19\n",
        "58000"
       ]
      },
      {
       "output_type": "stream",
       "stream": "stdout",
       "text": [
        " ... 6\n",
        "59000"
       ]
      },
      {
       "output_type": "stream",
       "stream": "stdout",
       "text": [
        " ... 7\n",
        "60000"
       ]
      },
      {
       "output_type": "stream",
       "stream": "stdout",
       "text": [
        " ... 12\n",
        "61000"
       ]
      },
      {
       "output_type": "stream",
       "stream": "stdout",
       "text": [
        " ... 29\n",
        "62000"
       ]
      },
      {
       "output_type": "stream",
       "stream": "stdout",
       "text": [
        " ... 9\n",
        "63000"
       ]
      },
      {
       "output_type": "stream",
       "stream": "stdout",
       "text": [
        " ... 0\n",
        "64000"
       ]
      },
      {
       "output_type": "stream",
       "stream": "stdout",
       "text": [
        " ... 29\n",
        "65000"
       ]
      },
      {
       "output_type": "stream",
       "stream": "stdout",
       "text": [
        " ... 23\n",
        "66000"
       ]
      },
      {
       "output_type": "stream",
       "stream": "stdout",
       "text": [
        " ... 10\n",
        "67000"
       ]
      },
      {
       "output_type": "stream",
       "stream": "stdout",
       "text": [
        " ... 6\n",
        "68000"
       ]
      },
      {
       "output_type": "stream",
       "stream": "stdout",
       "text": [
        " ... 25\n",
        "69000"
       ]
      },
      {
       "output_type": "stream",
       "stream": "stdout",
       "text": [
        " ... 0\n",
        "70000"
       ]
      },
      {
       "output_type": "stream",
       "stream": "stdout",
       "text": [
        " ... 7\n",
        "71000"
       ]
      },
      {
       "output_type": "stream",
       "stream": "stdout",
       "text": [
        " ... 10\n",
        "72000"
       ]
      },
      {
       "output_type": "stream",
       "stream": "stdout",
       "text": [
        " ... 12\n",
        "73000"
       ]
      },
      {
       "output_type": "stream",
       "stream": "stdout",
       "text": [
        " ... 14\n",
        "74000"
       ]
      },
      {
       "output_type": "stream",
       "stream": "stdout",
       "text": [
        " ... 12\n",
        "75000"
       ]
      },
      {
       "output_type": "stream",
       "stream": "stdout",
       "text": [
        " ... 2\n",
        "76000"
       ]
      },
      {
       "output_type": "stream",
       "stream": "stdout",
       "text": [
        " ... 6\n",
        "77000"
       ]
      },
      {
       "output_type": "stream",
       "stream": "stdout",
       "text": [
        " ... 2\n",
        "78000"
       ]
      },
      {
       "output_type": "stream",
       "stream": "stdout",
       "text": [
        " ... 0\n",
        "79000"
       ]
      },
      {
       "output_type": "stream",
       "stream": "stdout",
       "text": [
        " ... 8\n",
        "80000"
       ]
      },
      {
       "output_type": "stream",
       "stream": "stdout",
       "text": [
        " ... 14\n",
        "81000"
       ]
      },
      {
       "output_type": "stream",
       "stream": "stdout",
       "text": [
        " ... 14\n",
        "82000"
       ]
      },
      {
       "output_type": "stream",
       "stream": "stdout",
       "text": [
        " ... 11\n",
        "83000"
       ]
      },
      {
       "output_type": "stream",
       "stream": "stdout",
       "text": [
        " ... 4\n",
        "84000"
       ]
      },
      {
       "output_type": "stream",
       "stream": "stdout",
       "text": [
        " ... 6\n",
        "85000"
       ]
      },
      {
       "output_type": "stream",
       "stream": "stdout",
       "text": [
        " ... 19\n",
        "86000"
       ]
      },
      {
       "output_type": "stream",
       "stream": "stdout",
       "text": [
        " ... 11\n",
        "87000"
       ]
      },
      {
       "output_type": "stream",
       "stream": "stdout",
       "text": [
        " ... 18\n",
        "88000"
       ]
      },
      {
       "output_type": "stream",
       "stream": "stdout",
       "text": [
        " ... 0\n",
        "89000"
       ]
      },
      {
       "output_type": "stream",
       "stream": "stdout",
       "text": [
        " ... 11\n",
        "90000"
       ]
      },
      {
       "output_type": "stream",
       "stream": "stdout",
       "text": [
        " ... 4\n",
        "91000"
       ]
      },
      {
       "output_type": "stream",
       "stream": "stdout",
       "text": [
        " ... 14\n"
       ]
      },
      {
       "metadata": {},
       "output_type": "pyout",
       "prompt_number": 25,
       "text": [
        "91453"
       ]
      }
     ],
     "prompt_number": 25
    },
    {
     "cell_type": "code",
     "collapsed": false,
     "input": [
      "dframe = pd.DataFrame(data_matrix, columns=columns)"
     ],
     "language": "python",
     "metadata": {},
     "outputs": [],
     "prompt_number": 26
    },
    {
     "cell_type": "code",
     "collapsed": false,
     "input": [
      "dframe.id = dframe['id'].astype(int)\n",
      "dframe = dframe.drop_duplicates(cols='id', take_last=True)"
     ],
     "language": "python",
     "metadata": {},
     "outputs": [],
     "prompt_number": 27
    },
    {
     "cell_type": "code",
     "collapsed": false,
     "input": [
      "dframe.meta_delete = dframe['meta_delete'].astype(int)\n",
      "dframe.id = dframe['id'].astype(int)\n",
      "dframe.index = dframe.id\n",
      "dframe = dframe[dframe.meta_delete == 0]\n",
      "dframe = dframe.drop(['id'],axis=1)"
     ],
     "language": "python",
     "metadata": {},
     "outputs": [],
     "prompt_number": 28
    },
    {
     "cell_type": "code",
     "collapsed": false,
     "input": [
      "dframe.funded_amount = dframe['funded_amount'].astype(float)\n",
      "dframe.loan_amount = dframe['loan_amount'].astype(float)\n",
      "dframe.lender_count = dframe['lender_count'].astype(float)\n",
      "dframe.num_borrowers = dframe['num_borrowers'].astype(float)\n",
      "dframe.desc_length = dframe['desc_length'].astype(float)\n",
      "dframe.posted_date = dframe['posted_date'].astype('datetime64[ns]')"
     ],
     "language": "python",
     "metadata": {},
     "outputs": [],
     "prompt_number": 29
    },
    {
     "cell_type": "code",
     "collapsed": false,
     "input": [
      "ls = dframe.index.tolist()\n",
      "print len(ls)\n",
      "st = set(ls)\n",
      "print len(st)"
     ],
     "language": "python",
     "metadata": {},
     "outputs": [
      {
       "output_type": "stream",
       "stream": "stdout",
       "text": [
        "87493\n",
        "87493\n"
       ]
      }
     ],
     "prompt_number": 10
    },
    {
     "cell_type": "code",
     "collapsed": false,
     "input": [
      "dframe.num_adjectives = dframe['num_adjectives'].astype(float)"
     ],
     "language": "python",
     "metadata": {},
     "outputs": [],
     "prompt_number": 44
    },
    {
     "cell_type": "code",
     "collapsed": false,
     "input": [
      "dfC = dframe[dframe.num_adjectives != 0]\n",
      "print dfC.num_adjectives.mean()\n",
      "print dframe.num_adjectives.mean()"
     ],
     "language": "python",
     "metadata": {},
     "outputs": [
      {
       "output_type": "stream",
       "stream": "stdout",
       "text": [
        "12.0632921018\n",
        "12.0632921018\n"
       ]
      }
     ],
     "prompt_number": 48
    },
    {
     "cell_type": "code",
     "collapsed": false,
     "input": [
      "# Some loan have no adjectives. Assign them a num_adjectives of 12.06329 <-- This is the average for other loans\n",
      "def fix_adjectives(row):\n",
      "    count = row.num_adjectives\n",
      "    if count == 0:\n",
      "        return 12.0632921018\n",
      "    else:\n",
      "        return count\n",
      "\n",
      "#dframe.insert(6, \"text_length\", 0)\n",
      "dframe['num_adjectives'] = dframe.apply(fix_adjectives, axis = 1)"
     ],
     "language": "python",
     "metadata": {},
     "outputs": [],
     "prompt_number": 47
    },
    {
     "cell_type": "code",
     "collapsed": false,
     "input": [
      "dfB = dframe[dframe.desc_length != 0]\n",
      "print dfB.desc_length.mean()\n",
      "print dframe.desc_length.mean()"
     ],
     "language": "python",
     "metadata": {},
     "outputs": []
    },
    {
     "cell_type": "code",
     "collapsed": false,
     "input": [
      "# a few loans have empty description. Assign these a desc length of 849.64 <-- This is the average for other loans\n",
      "def fix_length(row):\n",
      "    leng = row.desc_length\n",
      "    if leng == 0:\n",
      "        return 849.64\n",
      "    else:\n",
      "        return leng\n",
      "\n",
      "dframe.insert(6, \"text_length\", 0)\n",
      "dframe['text_length'] = dframe.apply(fix_length, axis = 1)"
     ],
     "language": "python",
     "metadata": {},
     "outputs": [],
     "prompt_number": 49
    },
    {
     "cell_type": "code",
     "collapsed": false,
     "input": [
      "def fix_amount(row):\n",
      "    paid = row.paid_amount\n",
      "    try:\n",
      "        val = float(paid)\n",
      "        return paid\n",
      "    except:\n",
      "        return '0.0'\n",
      "\n",
      "dframe['paid_amount'] = dframe.apply(fix_amount, axis = 1)"
     ],
     "language": "python",
     "metadata": {},
     "outputs": [],
     "prompt_number": 50
    },
    {
     "cell_type": "code",
     "collapsed": false,
     "input": [
      "def partner_loss_liable(row):\n",
      "    liab = row.partner_loss_liable\n",
      "    if liab.strip() == \"True\":\n",
      "        return 1\n",
      "    else:\n",
      "        return 0\n",
      "\n",
      "dframe['partner_loss_liable'] = dframe.apply(partner_loss_liable, axis = 1)"
     ],
     "language": "python",
     "metadata": {},
     "outputs": [],
     "prompt_number": 51
    },
    {
     "cell_type": "code",
     "collapsed": false,
     "input": [
      "def translator(row):\n",
      "    tra = row.translator\n",
      "    if tra.strip() == \"True\":\n",
      "        return 1\n",
      "    else:\n",
      "        return 0\n",
      "\n",
      "dframe['translator'] = dframe.apply(translator, axis = 1)"
     ],
     "language": "python",
     "metadata": {},
     "outputs": [],
     "prompt_number": 52
    },
    {
     "cell_type": "code",
     "collapsed": false,
     "input": [
      "def bonus_credit_elig(row):\n",
      "    bce = row.bonus_credit_elig\n",
      "    if bce.strip() == \"True\":\n",
      "        return 1\n",
      "    else:\n",
      "        return 0\n",
      "\n",
      "dframe['bonus_credit_elig'] = dframe.apply(bonus_credit_elig, axis = 1)"
     ],
     "language": "python",
     "metadata": {},
     "outputs": [],
     "prompt_number": 53
    },
    {
     "cell_type": "code",
     "collapsed": false,
     "input": [
      "# for log regr to predict if a loan gets funded\n",
      "cx1 = [\"name\",\"status\",\"funded_amount\",\"text_length\",\"num_languages\",\"num_adjectives\",\"sector\",\"country\",\"loan_amount\"]\n",
      "cx2 = [\"bonus_credit_elig\",\"num_borrowers\",\"borrower_gender\",\"partner_loss_liable\"]\n",
      "cx3 = [\"pactive\",\"prating\",\"pdays_as_member\",\"pdelinquency_rate\",\"pdefault_rate\",\"ptotal_amount_raised\",\"ploans_posted\"]\n",
      "columnsx = cx1+cx2+cx3 + [\"pcharges_FI\",\"pALSPCI\",\"ploans_at_risk_rate\",\"pforex_loss_rate\"]\n",
      "dframex = dframe[columnsx]"
     ],
     "language": "python",
     "metadata": {},
     "outputs": [],
     "prompt_number": 54
    },
    {
     "cell_type": "code",
     "collapsed": false,
     "input": [
      "#dframex.to_csv(\"filtered_loan_dataAdj.csv\")\n",
      "#dframe.head()"
     ],
     "language": "python",
     "metadata": {},
     "outputs": [],
     "prompt_number": 56
    },
    {
     "cell_type": "code",
     "collapsed": false,
     "input": [],
     "language": "python",
     "metadata": {},
     "outputs": []
    }
   ],
   "metadata": {}
  }
 ]
}