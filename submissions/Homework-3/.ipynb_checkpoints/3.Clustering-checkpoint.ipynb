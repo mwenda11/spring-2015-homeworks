{
 "metadata": {
  "name": "",
  "signature": "sha256:a82b5ee738e386904e7565fcae7a39117ebf050f4b1c6f0cced9a5b6007bde06"
 },
 "nbformat": 3,
 "nbformat_minor": 0,
 "worksheets": [
  {
   "cells": [
    {
     "cell_type": "markdown",
     "metadata": {},
     "source": [
      "(In order to load the stylesheet of this notebook, execute the last code cell in this notebook)"
     ]
    },
    {
     "cell_type": "heading",
     "level": 1,
     "metadata": {},
     "source": [
      "Clustering the data from the Mayor's 24-hour hotline in Boston"
     ]
    },
    {
     "cell_type": "heading",
     "level": 2,
     "metadata": {},
     "source": [
      "Introduction "
     ]
    },
    {
     "cell_type": "markdown",
     "metadata": {},
     "source": [
      "In this assignment, we will do a clustering analysis on the 311 calls that we used in the previous homework. We will focus on choosing a value for k, clustering based on multiple features and detecting outliers.\n",
      "\n",
      "---------------------------"
     ]
    },
    {
     "cell_type": "code",
     "collapsed": false,
     "input": [
      "%matplotlib inline\n",
      "import pandas as pd\n",
      "import seaborn as sns\n",
      "import numpy\n",
      "from matplotlib import pyplot as plt\n",
      "import datetime\n",
      "\n",
      "import sklearn.datasets as sk_data\n",
      "import sklearn.metrics as metrics\n",
      "from sklearn.cluster import KMeans\n",
      "from sklearn import preprocessing\n",
      "from sklearn.metrics.pairwise import euclidean_distances"
     ],
     "language": "python",
     "metadata": {},
     "outputs": [],
     "prompt_number": 6
    },
    {
     "cell_type": "code",
     "collapsed": false,
     "input": [
      "#boston = pd.read_csv('../Homework-2/cases_2015.csv')\n",
      "boston = pd.read_csv('../Homework-2/cases_2015.csv',parse_dates=['OPEN_DT','TARGET_DT','CLOSED_DT'])\n",
      "#bost.head()"
     ],
     "language": "python",
     "metadata": {},
     "outputs": [],
     "prompt_number": 7
    },
    {
     "cell_type": "markdown",
     "metadata": {},
     "source": [
      "ideas for clustering\n",
      "closed dt - open dt to see what neighborhoods get priority. may need to only consider same type of cases (e.g. snow). plus more filtering to remove invalid, duplicate cases, etc"
     ]
    },
    {
     "cell_type": "heading",
     "level": 2,
     "metadata": {},
     "source": [
      "Step 1. Simple clustering"
     ]
    },
    {
     "cell_type": "markdown",
     "metadata": {},
     "source": [
      "The first thing that we will try is to cluster the geolocation data of the calls. The geolocation of a record consists of a pair `(latitude, longitude)`, which represents the position of the record on the map. Since the dataset that we have spans only a small geographic location, i.e. Boston, we will use the Euclidean distance when measuring how close two points are. Techinically, we should pick a [projection](https://github.com/mbostock/d3/wiki/Geo-Projections) in order to transform the data into 2d, and measure  the Euclidean distance in the projected space."
     ]
    },
    {
     "cell_type": "markdown",
     "metadata": {},
     "source": [
      "Since we are dealing with numeric data, we might consider centering and normalizing them. In order to do that, check the [StandardScaler](http://scikit-learn.org/stable/modules/generated/sklearn.preprocessing.StandardScaler.html#sklearn.preprocessing.StandardScaler) from `scikit-learn`."
     ]
    },
    {
     "cell_type": "markdown",
     "metadata": {},
     "source": [
      "For exampe, the result of a clustering with 10 clusters is the following:\n",
      "\n",
      "\n",
      "![A clustering of the locations of the calls for k=10](clusters10.png)"
     ]
    },
    {
     "cell_type": "markdown",
     "metadata": {},
     "source": [
      "Filter the dataset to get the latitude and longitude, transform it as required and run the k-means clustering algorithm. Argue about the number of clusters you used. **(pts 50)**"
     ]
    },
    {
     "cell_type": "code",
     "collapsed": false,
     "input": [
      "gloc = boston[['LONGITUDE','LATITUDE']] #todo check for invalid data\n",
      "\n",
      "scaled_gloc = preprocessing.scale(gloc)\n",
      "print scaled_gloc.shape\n",
      "\n",
      "kmeans = KMeans(init='k-means++', n_clusters=12, n_init=10)\n",
      "kmeans.fit_predict(scaled_gloc)\n",
      "centroids = kmeans.cluster_centers_\n",
      "labels = kmeans.labels_\n",
      "error = kmeans.inertia_\n",
      "\n",
      "print \"The total error of the clustering is: \", error\n",
      "print '\\nCluster labels'\n",
      "print labels\n",
      "print '\\n Cluster Centroids'\n",
      "print centroids"
     ],
     "language": "python",
     "metadata": {},
     "outputs": [
      {
       "output_type": "stream",
       "stream": "stdout",
       "text": [
        "(46698L, 2L)\n",
        "The total error of the clustering is: "
       ]
      },
      {
       "output_type": "stream",
       "stream": "stdout",
       "text": [
        " 5273.9807921\n",
        "\n",
        "Cluster labels\n",
        "[3 1 1 ..., 2 3 2]\n",
        "\n",
        " Cluster Centroids\n",
        "[[-2.05389664 -1.29290026]\n",
        " [ 0.15563375  0.55017447]\n",
        " [-0.2204624  -1.3203121 ]\n",
        " [ 0.68444382  1.10730937]\n",
        " [ 0.34056956 -0.35347287]\n",
        " [-1.74605814  0.73893106]\n",
        " [-0.54703373 -0.12407386]\n",
        " [ 1.63545878  1.55587204]\n",
        " [-1.09295194 -1.01056462]\n",
        " [ 1.12495099  0.29010826]\n",
        " [-1.15191906 -2.0543289 ]\n",
        " [ 0.60947988 -0.98825963]]\n"
       ]
      }
     ],
     "prompt_number": 8
    },
    {
     "cell_type": "code",
     "collapsed": false,
     "input": [
      "error = numpy.zeros(11)\n",
      "error[0] = 0;\n",
      "for k in range(1,11):\n",
      "    kmeans = KMeans(init='k-means++', n_clusters=k, n_init=10)\n",
      "    kmeans.fit_predict(scaled_gloc)\n",
      "    error[k] = kmeans.inertia_\n",
      "\n",
      "plt.plot(range(1,len(error)),error[1:])\n",
      "plt.xlabel('Number of clusters')\n",
      "plt.ylabel('Error')"
     ],
     "language": "python",
     "metadata": {},
     "outputs": [
      {
       "metadata": {},
       "output_type": "pyout",
       "prompt_number": 9,
       "text": [
        "<matplotlib.text.Text at 0x1f37e9e8>"
       ]
      },
      {
       "metadata": {},
       "output_type": "display_data",
       "png": "[encoded data removed]",
       "text": [
        "<matplotlib.figure.Figure at 0x200cffd0>"
       ]
      }
     ],
     "prompt_number": 9
    },
    {
     "cell_type": "code",
     "collapsed": false,
     "input": [
      "def sc_evaluate_clusters(X,max_clusters):\n",
      "    s = numpy.zeros(max_clusters+1)\n",
      "    s[0] = 0;\n",
      "    s[1] = 0;\n",
      "    for k in range(2,max_clusters+1):\n",
      "        kmeans = KMeans(init='k-means++', n_clusters=k, n_init=10)\n",
      "        kmeans.fit_predict(X)\n",
      "        s[k] = metrics.silhouette_score(X,kmeans.labels_,metric='euclidean',sample_size=10000)\n",
      "    plt.plot(range(2,len(s)),s[2:])\n",
      "    plt.xlabel('Number of clusters')\n",
      "    plt.ylabel('Adjusted Rand Index')\n",
      "    \n",
      "sc_evaluate_clusters(scaled_gloc,13)\n",
      "# print scaled_gloc.shape\n",
      "# kmeans = KMeans(init='k-means++', n_clusters=12, n_init=10)\n",
      "# kmeans.fit_predict(scaled_gloc)\n",
      "# sc = metrics.silhouette_score(scaled_gloc,kmeans.labels_,metric='euclidean',sample_size=1000)\n",
      "# 12 clusters best - sc score of 0.489"
     ],
     "language": "python",
     "metadata": {},
     "outputs": [],
     "prompt_number": 10
    },
    {
     "cell_type": "code",
     "collapsed": false,
     "input": [
      "#labels.shape\n",
      "plt.plot(scaled_gloc[labels==0,0],scaled_gloc[labels==0,1],'bo')\n",
      "plt.plot(scaled_gloc[labels==1,0],scaled_gloc[labels==1,1],'go')\n",
      "plt.plot(scaled_gloc[labels==2,0],scaled_gloc[labels==2,1],'ro')\n",
      "plt.plot(scaled_gloc[labels==3,0],scaled_gloc[labels==3,1],'co')\n",
      "plt.plot(scaled_gloc[labels==4,0],scaled_gloc[labels==4,1],'mo')\n",
      "plt.plot(scaled_gloc[labels==5,0],scaled_gloc[labels==5,1],'yo')\n",
      "plt.plot(scaled_gloc[labels==6,0],scaled_gloc[labels==6,1],'ko')\n",
      "plt.plot(scaled_gloc[labels==7,0],scaled_gloc[labels==7,1],color='#336600',marker='o')\n",
      "plt.plot(scaled_gloc[labels==8,0],scaled_gloc[labels==8,1],color='#00FFFF',marker='o')\n",
      "plt.plot(scaled_gloc[labels==9,0],scaled_gloc[labels==9,1],color='#CC3300',marker='o')\n",
      "plt.plot(scaled_gloc[labels==10,0],scaled_gloc[labels==10,1],color='#FFFF99',marker='o')\n",
      "plt.plot(scaled_gloc[labels==11,0],scaled_gloc[labels==11,1],color='#ff0066',marker='o')"
     ],
     "language": "python",
     "metadata": {},
     "outputs": [
      {
       "metadata": {},
       "output_type": "pyout",
       "prompt_number": 11,
       "text": [
        "[<matplotlib.lines.Line2D at 0x1fb2ecc0>]"
       ]
      },
      {
       "metadata": {},
       "output_type": "display_data",
       "png": "[encoded data removed]",
       "text": [
        "<matplotlib.figure.Figure at 0x195f5c50>"
       ]
      }
     ],
     "prompt_number": 11
    },
    {
     "cell_type": "markdown",
     "metadata": {},
     "source": [
      "-----"
     ]
    },
    {
     "cell_type": "heading",
     "level": 2,
     "metadata": {},
     "source": [
      "Step 2. Using multiple features"
     ]
    },
    {
     "cell_type": "markdown",
     "metadata": {},
     "source": [
      "The next step in our analysis is to use more features than just the geolocation of a record (whose clustering only gives us information about the neighborhoods, which should not be a huge revelation!) Filter the dataset to get more features, transform them as required and compute another clustering. You should argue about the quality of your clustering and use domain knowledge (i.e. the fact that you are locals) to explore the clusters you produced and present them to the reader. **(pts 30)**"
     ]
    },
    {
     "cell_type": "markdown",
     "metadata": {},
     "source": [
      "Filter data to down to only top 3 categories (based on case title)\n",
      "selected categories: \"snow related\", \"missed trash\", and \"street cleaning\""
     ]
    },
    {
     "cell_type": "code",
     "collapsed": false,
     "input": [
      "def hours_active(row):\n",
      "    opened = row.OPEN_DT\n",
      "    closed = row.CLOSED_DT\n",
      "    if isinstance(opened,pd.tslib.NaTType):\n",
      "        print \"ignorint..\"\n",
      "        return -1\n",
      "    if isinstance(closed,pd.tslib.NaTType):\n",
      "        #closed = datetime.datetime.today()\n",
      "        closed = datetime.datetime.strptime('02-18-2015','%m-%d-%Y')\n",
      "    \n",
      "    diff = closed-opened\n",
      "    return diff.total_seconds()/3600\n",
      "\n",
      "boston['NUM_HOURS_OPEN'] = boston.apply(hours_active, axis = 1)"
     ],
     "language": "python",
     "metadata": {},
     "outputs": [],
     "prompt_number": 37
    },
    {
     "cell_type": "code",
     "collapsed": false,
     "input": [
      "boston[[\"CASE_TITLE\",\"CLOSURE_REASON\",\"NUM_HOURS_OPEN\"]].head(20)"
     ],
     "language": "python",
     "metadata": {},
     "outputs": [
      {
       "html": [
        "<div style=\"max-height:1000px;max-width:1500px;overflow:auto;\">\n",
        "<table border=\"1\" class=\"dataframe\">\n",
        "  <thead>\n",
        "    <tr style=\"text-align: right;\">\n",
        "      <th></th>\n",
        "      <th>CASE_TITLE</th>\n",
        "      <th>CLOSURE_REASON</th>\n",
        "      <th>NUM_HOURS_OPEN</th>\n",
        "    </tr>\n",
        "  </thead>\n",
        "  <tbody>\n",
        "    <tr>\n",
        "      <th>0 </th>\n",
        "      <td>                          Other</td>\n",
        "      <td>                            Case Closed Case Noted</td>\n",
        "      <td>   32.809167</td>\n",
        "    </tr>\n",
        "    <tr>\n",
        "      <th>1 </th>\n",
        "      <td>                        PRINTED</td>\n",
        "      <td> Case Closed Duplicate of Existing Case duplica...</td>\n",
        "      <td>   39.872222</td>\n",
        "    </tr>\n",
        "    <tr>\n",
        "      <th>2 </th>\n",
        "      <td>                        PRINTED</td>\n",
        "      <td>                                               NaN</td>\n",
        "      <td> 1151.573333</td>\n",
        "    </tr>\n",
        "    <tr>\n",
        "      <th>3 </th>\n",
        "      <td>                   Animal Found</td>\n",
        "      <td>                                               NaN</td>\n",
        "      <td> 1150.239722</td>\n",
        "    </tr>\n",
        "    <tr>\n",
        "      <th>4 </th>\n",
        "      <td>                           Fire</td>\n",
        "      <td>                            Case Closed Case Noted</td>\n",
        "      <td>   30.733611</td>\n",
        "    </tr>\n",
        "    <tr>\n",
        "      <th>5 </th>\n",
        "      <td>                           Fire</td>\n",
        "      <td>                            Case Closed Case Noted</td>\n",
        "      <td>   30.020556</td>\n",
        "    </tr>\n",
        "    <tr>\n",
        "      <th>6 </th>\n",
        "      <td>   Requests for Street Cleaning</td>\n",
        "      <td>            Case Closed Case Resolved clean up mva</td>\n",
        "      <td>    2.171389</td>\n",
        "    </tr>\n",
        "    <tr>\n",
        "      <th>7 </th>\n",
        "      <td>                    Animal Lost</td>\n",
        "      <td>                                               NaN</td>\n",
        "      <td> 1148.229167</td>\n",
        "    </tr>\n",
        "    <tr>\n",
        "      <th>8 </th>\n",
        "      <td>   Requests for Street Cleaning</td>\n",
        "      <td>    Case Closed Case Resolved clean up the  debris</td>\n",
        "      <td>    1.088889</td>\n",
        "    </tr>\n",
        "    <tr>\n",
        "      <th>9 </th>\n",
        "      <td>                   Animal Found</td>\n",
        "      <td>                                               NaN</td>\n",
        "      <td> 1147.788889</td>\n",
        "    </tr>\n",
        "    <tr>\n",
        "      <th>10</th>\n",
        "      <td>   Requests for Street Cleaning</td>\n",
        "      <td> Case Closed Case Resolved citywide cleaned up ...</td>\n",
        "      <td>    4.313611</td>\n",
        "    </tr>\n",
        "    <tr>\n",
        "      <th>11</th>\n",
        "      <td> Heat - Excessive  Insufficient</td>\n",
        "      <td>                                               NaN</td>\n",
        "      <td> 1144.546389</td>\n",
        "    </tr>\n",
        "    <tr>\n",
        "      <th>12</th>\n",
        "      <td>            Parking Enforcement</td>\n",
        "      <td>  Case Closed Case Resolved area checked all clear</td>\n",
        "      <td>   20.850833</td>\n",
        "    </tr>\n",
        "    <tr>\n",
        "      <th>13</th>\n",
        "      <td>          Illegal Rooming House</td>\n",
        "      <td>                                               NaN</td>\n",
        "      <td> 1143.568889</td>\n",
        "    </tr>\n",
        "    <tr>\n",
        "      <th>14</th>\n",
        "      <td>                Watermain Break</td>\n",
        "      <td>                                               NaN</td>\n",
        "      <td> 1143.404444</td>\n",
        "    </tr>\n",
        "    <tr>\n",
        "      <th>15</th>\n",
        "      <td>      Schedule Bulk Item Pickup</td>\n",
        "      <td>                  Case Closed Bulk Item Automation</td>\n",
        "      <td>  151.793611</td>\n",
        "    </tr>\n",
        "    <tr>\n",
        "      <th>16</th>\n",
        "      <td>   Requests for Street Cleaning</td>\n",
        "      <td>                         Case Closed Case Resolved</td>\n",
        "      <td>    2.346389</td>\n",
        "    </tr>\n",
        "    <tr>\n",
        "      <th>17</th>\n",
        "      <td> Heat - Excessive  Insufficient</td>\n",
        "      <td>                                               NaN</td>\n",
        "      <td> 1143.102500</td>\n",
        "    </tr>\n",
        "    <tr>\n",
        "      <th>18</th>\n",
        "      <td>    Schedule a Bulk Item Pickup</td>\n",
        "      <td>                  Case Closed Bulk Item Automation</td>\n",
        "      <td>  103.420556</td>\n",
        "    </tr>\n",
        "    <tr>\n",
        "      <th>19</th>\n",
        "      <td>          Traffic Signal Repair</td>\n",
        "      <td>                         Case Closed Case Resolved</td>\n",
        "      <td>  119.644722</td>\n",
        "    </tr>\n",
        "  </tbody>\n",
        "</table>\n",
        "</div>"
       ],
       "metadata": {},
       "output_type": "pyout",
       "prompt_number": 49,
       "text": [
        "                        CASE_TITLE  \\\n",
        "0                            Other   \n",
        "1                          PRINTED   \n",
        "2                          PRINTED   \n",
        "3                     Animal Found   \n",
        "4                             Fire   \n",
        "5                             Fire   \n",
        "6     Requests for Street Cleaning   \n",
        "7                      Animal Lost   \n",
        "8     Requests for Street Cleaning   \n",
        "9                     Animal Found   \n",
        "10    Requests for Street Cleaning   \n",
        "11  Heat - Excessive  Insufficient   \n",
        "12             Parking Enforcement   \n",
        "13           Illegal Rooming House   \n",
        "14                 Watermain Break   \n",
        "15       Schedule Bulk Item Pickup   \n",
        "16    Requests for Street Cleaning   \n",
        "17  Heat - Excessive  Insufficient   \n",
        "18     Schedule a Bulk Item Pickup   \n",
        "19           Traffic Signal Repair   \n",
        "\n",
        "                                       CLOSURE_REASON  NUM_HOURS_OPEN  \n",
        "0                              Case Closed Case Noted       32.809167  \n",
        "1   Case Closed Duplicate of Existing Case duplica...       39.872222  \n",
        "2                                                 NaN     1151.573333  \n",
        "3                                                 NaN     1150.239722  \n",
        "4                              Case Closed Case Noted       30.733611  \n",
        "5                              Case Closed Case Noted       30.020556  \n",
        "6              Case Closed Case Resolved clean up mva        2.171389  \n",
        "7                                                 NaN     1148.229167  \n",
        "8      Case Closed Case Resolved clean up the  debris        1.088889  \n",
        "9                                                 NaN     1147.788889  \n",
        "10  Case Closed Case Resolved citywide cleaned up ...        4.313611  \n",
        "11                                                NaN     1144.546389  \n",
        "12   Case Closed Case Resolved area checked all clear       20.850833  \n",
        "13                                                NaN     1143.568889  \n",
        "14                                                NaN     1143.404444  \n",
        "15                   Case Closed Bulk Item Automation      151.793611  \n",
        "16                          Case Closed Case Resolved        2.346389  \n",
        "17                                                NaN     1143.102500  \n",
        "18                   Case Closed Bulk Item Automation      103.420556  \n",
        "19                          Case Closed Case Resolved      119.644722  "
       ]
      }
     ],
     "prompt_number": 49
    },
    {
     "cell_type": "code",
     "collapsed": false,
     "input": [
      "boston.NUM_HOURS_OPEN.head(100).plot(label='hours open')"
     ],
     "language": "python",
     "metadata": {},
     "outputs": [
      {
       "metadata": {},
       "output_type": "pyout",
       "prompt_number": 38,
       "text": [
        "<matplotlib.axes._subplots.AxesSubplot at 0x24260b00>"
       ]
      },
      {
       "metadata": {},
       "output_type": "display_data",
       "png": "[encoded data removed]",
       "text": [
        "<matplotlib.figure.Figure at 0x20379dd8>"
       ]
      }
     ],
     "prompt_number": 38
    },
    {
     "cell_type": "code",
     "collapsed": false,
     "input": [
      "#selection = boston.loc[boston.CASE_TITLE == \"missing pb cover/printed for jim\"]\n",
      "#boston.iloc[[1,2,3]]\n",
      "\n",
      "indices = [] #rows interested in\n",
      "\n",
      "for idx, row in boston.iterrows(): \n",
      "    title = str(row.CASE_TITLE).lower()  \n",
      "    cls_reason = str(row.CLOSURE_REASON).lower()\n",
      "    if not \"duplicate\" in cls_reason: #filter out duplicate cases\n",
      "        if \"missed trash\" in title or \"snow removal\" in title or \"snow plowing\" in title or \"street cleaning\" in title:\n",
      "            indices.append(idx)\n",
      "        \n",
      "print len(indices)        \n",
      "#selection = boston.iloc[indices]\n",
      "#selection.tail(10)"
     ],
     "language": "python",
     "metadata": {},
     "outputs": [
      {
       "output_type": "stream",
       "stream": "stdout",
       "text": [
        "29714\n"
       ]
      }
     ],
     "prompt_number": 45
    },
    {
     "cell_type": "code",
     "collapsed": false,
     "input": [
      "#find cases about missed trash\n",
      "def missed_trash(row):\n",
      "    title = str(row.CASE_TITLE).lower()    \n",
      "    if \"missed trash\" in title:\n",
      "        return 1\n",
      "    else:\n",
      "        return 0\n",
      "\n",
      "# find cases related to snow\n",
      "def snow_related(row):\n",
      "    title = str(row.CASE_TITLE).lower()    \n",
      "    if \"snow removal\" in title or \"snow plowing\" in title:\n",
      "        return 1\n",
      "    else:\n",
      "        return 0\n",
      "\n",
      "#find cases on street cleaning\n",
      "def street_cleaning(row):\n",
      "    title = str(row.CASE_TITLE).lower()    \n",
      "    if \"street cleaning\" in title:\n",
      "        return 1\n",
      "    else:\n",
      "        return 0\n",
      "\n",
      "# mark cases with the different categories\n",
      "# Adds three ne binary columns -- column value is 1 if a case belongs to a category, otherwise 0\n",
      "boston['MISSED_TRASH'] = boston.apply(missed_trash, axis = 1)\n",
      "boston['SNOW_RELATED'] = boston.apply(snow_related, axis = 1)\n",
      "boston['STREET_CLEANING'] = boston.apply(street_cleaning, axis = 1)"
     ],
     "language": "python",
     "metadata": {},
     "outputs": [],
     "prompt_number": 46
    },
    {
     "cell_type": "code",
     "collapsed": false,
     "input": [
      "selection = boston.iloc[indices]"
     ],
     "language": "python",
     "metadata": {},
     "outputs": [],
     "prompt_number": 41
    },
    {
     "cell_type": "code",
     "collapsed": false,
     "input": [
      "#boston.head(20)\n",
      "data_view = selection[[\"CASE_TITLE\",\"MISSED_TRASH\",\"SNOW_RELATED\",\"STREET_CLEANING\",\"NUM_HOURS_OPEN\",\"CLOSURE_REASON\"]]\n",
      "data_view.iloc[230:250]"
     ],
     "language": "python",
     "metadata": {},
     "outputs": [
      {
       "html": [
        "<div style=\"max-height:1000px;max-width:1500px;overflow:auto;\">\n",
        "<table border=\"1\" class=\"dataframe\">\n",
        "  <thead>\n",
        "    <tr style=\"text-align: right;\">\n",
        "      <th></th>\n",
        "      <th>CASE_TITLE</th>\n",
        "      <th>MISSED_TRASH</th>\n",
        "      <th>SNOW_RELATED</th>\n",
        "      <th>STREET_CLEANING</th>\n",
        "      <th>NUM_HOURS_OPEN</th>\n",
        "      <th>CLOSURE_REASON</th>\n",
        "    </tr>\n",
        "  </thead>\n",
        "  <tbody>\n",
        "    <tr>\n",
        "      <th>768</th>\n",
        "      <td>     Request for Snow Plowing</td>\n",
        "      <td> 0</td>\n",
        "      <td> 1</td>\n",
        "      <td> 0</td>\n",
        "      <td>  3.958056</td>\n",
        "      <td>   Case Closed Case Resolved Street salted all set</td>\n",
        "    </tr>\n",
        "    <tr>\n",
        "      <th>770</th>\n",
        "      <td>     Request for Snow Plowing</td>\n",
        "      <td> 0</td>\n",
        "      <td> 1</td>\n",
        "      <td> 0</td>\n",
        "      <td>  4.691944</td>\n",
        "      <td>                  Case Closed Case Resolved plowed</td>\n",
        "    </tr>\n",
        "    <tr>\n",
        "      <th>771</th>\n",
        "      <td>     Request for Snow Plowing</td>\n",
        "      <td> 0</td>\n",
        "      <td> 1</td>\n",
        "      <td> 0</td>\n",
        "      <td>  2.435278</td>\n",
        "      <td>                         Case Closed Case Resolved</td>\n",
        "    </tr>\n",
        "    <tr>\n",
        "      <th>776</th>\n",
        "      <td>     Request for Snow Plowing</td>\n",
        "      <td> 0</td>\n",
        "      <td> 1</td>\n",
        "      <td> 0</td>\n",
        "      <td>  3.223889</td>\n",
        "      <td>                Case Closed Case Resolved all set.</td>\n",
        "    </tr>\n",
        "    <tr>\n",
        "      <th>777</th>\n",
        "      <td>     Request for Snow Plowing</td>\n",
        "      <td> 0</td>\n",
        "      <td> 1</td>\n",
        "      <td> 0</td>\n",
        "      <td>  0.875000</td>\n",
        "      <td>                         Case Closed Case Resolved</td>\n",
        "    </tr>\n",
        "    <tr>\n",
        "      <th>784</th>\n",
        "      <td>     Request for Snow Plowing</td>\n",
        "      <td> 0</td>\n",
        "      <td> 1</td>\n",
        "      <td> 0</td>\n",
        "      <td>  2.775833</td>\n",
        "      <td>                 Case Closed Case Resolved all set</td>\n",
        "    </tr>\n",
        "    <tr>\n",
        "      <th>786</th>\n",
        "      <td>     Request for Snow Plowing</td>\n",
        "      <td> 0</td>\n",
        "      <td> 1</td>\n",
        "      <td> 0</td>\n",
        "      <td>  2.752778</td>\n",
        "      <td>                         Case Closed Case Resolved</td>\n",
        "    </tr>\n",
        "    <tr>\n",
        "      <th>789</th>\n",
        "      <td>                 Snow Removal</td>\n",
        "      <td> 0</td>\n",
        "      <td> 1</td>\n",
        "      <td> 0</td>\n",
        "      <td> 34.260556</td>\n",
        "      <td>    Case Closed NOVIO: No Violation Found/No Cause</td>\n",
        "    </tr>\n",
        "    <tr>\n",
        "      <th>804</th>\n",
        "      <td>     Request for Snow Plowing</td>\n",
        "      <td> 0</td>\n",
        "      <td> 1</td>\n",
        "      <td> 0</td>\n",
        "      <td>  1.243889</td>\n",
        "      <td>                         Case Closed Case Resolved</td>\n",
        "    </tr>\n",
        "    <tr>\n",
        "      <th>813</th>\n",
        "      <td>     Request for Snow Plowing</td>\n",
        "      <td> 0</td>\n",
        "      <td> 1</td>\n",
        "      <td> 0</td>\n",
        "      <td>  1.407500</td>\n",
        "      <td>           Case Closed Case Resolved street salted</td>\n",
        "    </tr>\n",
        "    <tr>\n",
        "      <th>815</th>\n",
        "      <td>     Request for Snow Plowing</td>\n",
        "      <td> 0</td>\n",
        "      <td> 1</td>\n",
        "      <td> 0</td>\n",
        "      <td>  4.679167</td>\n",
        "      <td>                         Case Closed Case Resolved</td>\n",
        "    </tr>\n",
        "    <tr>\n",
        "      <th>826</th>\n",
        "      <td>     Request for Snow Plowing</td>\n",
        "      <td> 0</td>\n",
        "      <td> 1</td>\n",
        "      <td> 0</td>\n",
        "      <td>  2.258889</td>\n",
        "      <td>           Case Closed Case Resolved street salted</td>\n",
        "    </tr>\n",
        "    <tr>\n",
        "      <th>828</th>\n",
        "      <td>     Request for Snow Plowing</td>\n",
        "      <td> 0</td>\n",
        "      <td> 1</td>\n",
        "      <td> 0</td>\n",
        "      <td> 10.021667</td>\n",
        "      <td>                  Case Closed Case Resolved salted</td>\n",
        "    </tr>\n",
        "    <tr>\n",
        "      <th>829</th>\n",
        "      <td> Requests for Street Cleaning</td>\n",
        "      <td> 0</td>\n",
        "      <td> 0</td>\n",
        "      <td> 1</td>\n",
        "      <td>  0.396667</td>\n",
        "      <td>          Case Closed Case Resolved mva cleaned up</td>\n",
        "    </tr>\n",
        "    <tr>\n",
        "      <th>830</th>\n",
        "      <td>     Request for Snow Plowing</td>\n",
        "      <td> 0</td>\n",
        "      <td> 1</td>\n",
        "      <td> 0</td>\n",
        "      <td>  2.088056</td>\n",
        "      <td>                         Case Closed Case Resolved</td>\n",
        "    </tr>\n",
        "    <tr>\n",
        "      <th>833</th>\n",
        "      <td> Requests for Street Cleaning</td>\n",
        "      <td> 0</td>\n",
        "      <td> 0</td>\n",
        "      <td> 1</td>\n",
        "      <td>  0.018889</td>\n",
        "      <td>           Case Closed Case Resolved street salted</td>\n",
        "    </tr>\n",
        "    <tr>\n",
        "      <th>834</th>\n",
        "      <td>     Request for Snow Plowing</td>\n",
        "      <td> 0</td>\n",
        "      <td> 1</td>\n",
        "      <td> 0</td>\n",
        "      <td>  1.090000</td>\n",
        "      <td>                         Case Closed Case Resolved</td>\n",
        "    </tr>\n",
        "    <tr>\n",
        "      <th>837</th>\n",
        "      <td> Requests for Street Cleaning</td>\n",
        "      <td> 0</td>\n",
        "      <td> 0</td>\n",
        "      <td> 1</td>\n",
        "      <td>  0.000278</td>\n",
        "      <td> Case Closed Case Resolved Marked completed at ...</td>\n",
        "    </tr>\n",
        "    <tr>\n",
        "      <th>838</th>\n",
        "      <td> Requests for Street Cleaning</td>\n",
        "      <td> 0</td>\n",
        "      <td> 0</td>\n",
        "      <td> 1</td>\n",
        "      <td>  0.000278</td>\n",
        "      <td> Case Closed Case Resolved Marked completed at ...</td>\n",
        "    </tr>\n",
        "    <tr>\n",
        "      <th>840</th>\n",
        "      <td>     Request for Snow Plowing</td>\n",
        "      <td> 0</td>\n",
        "      <td> 1</td>\n",
        "      <td> 0</td>\n",
        "      <td>  1.602222</td>\n",
        "      <td>           Case Closed Case Resolved street salted</td>\n",
        "    </tr>\n",
        "  </tbody>\n",
        "</table>\n",
        "</div>"
       ],
       "metadata": {},
       "output_type": "pyout",
       "prompt_number": 52,
       "text": [
        "                       CASE_TITLE  MISSED_TRASH  SNOW_RELATED  \\\n",
        "768      Request for Snow Plowing             0             1   \n",
        "770      Request for Snow Plowing             0             1   \n",
        "771      Request for Snow Plowing             0             1   \n",
        "776      Request for Snow Plowing             0             1   \n",
        "777      Request for Snow Plowing             0             1   \n",
        "784      Request for Snow Plowing             0             1   \n",
        "786      Request for Snow Plowing             0             1   \n",
        "789                  Snow Removal             0             1   \n",
        "804      Request for Snow Plowing             0             1   \n",
        "813      Request for Snow Plowing             0             1   \n",
        "815      Request for Snow Plowing             0             1   \n",
        "826      Request for Snow Plowing             0             1   \n",
        "828      Request for Snow Plowing             0             1   \n",
        "829  Requests for Street Cleaning             0             0   \n",
        "830      Request for Snow Plowing             0             1   \n",
        "833  Requests for Street Cleaning             0             0   \n",
        "834      Request for Snow Plowing             0             1   \n",
        "837  Requests for Street Cleaning             0             0   \n",
        "838  Requests for Street Cleaning             0             0   \n",
        "840      Request for Snow Plowing             0             1   \n",
        "\n",
        "     STREET_CLEANING  NUM_HOURS_OPEN  \\\n",
        "768                0        3.958056   \n",
        "770                0        4.691944   \n",
        "771                0        2.435278   \n",
        "776                0        3.223889   \n",
        "777                0        0.875000   \n",
        "784                0        2.775833   \n",
        "786                0        2.752778   \n",
        "789                0       34.260556   \n",
        "804                0        1.243889   \n",
        "813                0        1.407500   \n",
        "815                0        4.679167   \n",
        "826                0        2.258889   \n",
        "828                0       10.021667   \n",
        "829                1        0.396667   \n",
        "830                0        2.088056   \n",
        "833                1        0.018889   \n",
        "834                0        1.090000   \n",
        "837                1        0.000278   \n",
        "838                1        0.000278   \n",
        "840                0        1.602222   \n",
        "\n",
        "                                        CLOSURE_REASON  \n",
        "768    Case Closed Case Resolved Street salted all set  \n",
        "770                   Case Closed Case Resolved plowed  \n",
        "771                          Case Closed Case Resolved  \n",
        "776                 Case Closed Case Resolved all set.  \n",
        "777                          Case Closed Case Resolved  \n",
        "784                  Case Closed Case Resolved all set  \n",
        "786                          Case Closed Case Resolved  \n",
        "789     Case Closed NOVIO: No Violation Found/No Cause  \n",
        "804                          Case Closed Case Resolved  \n",
        "813            Case Closed Case Resolved street salted  \n",
        "815                          Case Closed Case Resolved  \n",
        "826            Case Closed Case Resolved street salted  \n",
        "828                   Case Closed Case Resolved salted  \n",
        "829           Case Closed Case Resolved mva cleaned up  \n",
        "830                          Case Closed Case Resolved  \n",
        "833            Case Closed Case Resolved street salted  \n",
        "834                          Case Closed Case Resolved  \n",
        "837  Case Closed Case Resolved Marked completed at ...  \n",
        "838  Case Closed Case Resolved Marked completed at ...  \n",
        "840            Case Closed Case Resolved street salted  "
       ]
      }
     ],
     "prompt_number": 52
    },
    {
     "cell_type": "code",
     "collapsed": false,
     "input": [
      "boston_proj = selection[['LONGITUDE','LATITUDE','NUM_HOURS_OPEN','MISSED_TRASH','SNOW_RELATED','STREET_CLEANING']]\n",
      "\n",
      "scaler = preprocessing.StandardScaler()\n",
      "scaler.fit(boston_proj)\n",
      "scaled_bost = scaler.transform(boston_proj)\n",
      "\n",
      "#scaled_bost = preprocessing.scale(scaled_bost_df)\n",
      "print scaled_bost.shape\n",
      "print scaled_bost[0:10]\n",
      "print boston_proj[0:10]"
     ],
     "language": "python",
     "metadata": {},
     "outputs": [
      {
       "output_type": "stream",
       "stream": "stdout",
       "text": [
        "(29714L, 6L)\n",
        "[[ 0.35207131 -0.9068343  -1.03980371 -0.31174721 -2.6569017   5.21199855]\n",
        " [-0.98720431 -1.87405293 -1.05063802 -0.31174721 -2.6569017   5.21199855]\n",
        " [ 0.32960966  0.33549143 -1.01836307 -0.31174721 -2.6569017   5.21199855]\n",
        " [-0.27685477  0.01694637 -1.03805221 -0.31174721 -2.6569017   5.21199855]\n",
        " [ 0.16676273  0.15884371 -1.04652616  3.20772718 -2.6569017  -0.19186498]\n",
        " [-1.97270902  0.89149735 -0.85691604 -0.31174721 -2.6569017   5.21199855]\n",
        " [ 0.24257079  0.50924328 -1.03498012 -0.31174721 -2.6569017   5.21199855]\n",
        " [ 1.17192138  0.30074106 -1.06033246  3.20772718 -2.6569017  -0.19186498]\n",
        " [-2.04009396  0.6048068  -1.03394868 -0.31174721  0.37637824 -0.19186498]\n",
        " [ 0.88272769  1.26216796 -1.06153349 -0.31174721 -2.6569017   5.21199855]]\n",
        "    LONGITUDE  LATITUDE  NUM_HOURS_OPEN  MISSED_TRASH  SNOW_RELATED  \\\n",
        "6    -71.0727   42.2906        2.171389             0             0   \n",
        "8    -71.1204   42.2572        1.088889             0             0   \n",
        "10   -71.0735   42.3335        4.313611             0             0   \n",
        "16   -71.0951   42.3225        2.346389             0             0   \n",
        "21   -71.0793   42.3274        1.499722             1             0   \n",
        "22   -71.1555   42.3527       20.444444             0             0   \n",
        "30   -71.0766   42.3395        2.653333             0             0   \n",
        "40   -71.0435   42.3323        0.120278             1             0   \n",
        "42   -71.1579   42.3428        2.756389             0             1   \n",
        "53   -71.0538   42.3655        0.000278             0             0   \n",
        "\n",
        "    STREET_CLEANING  \n",
        "6                 1  \n",
        "8                 1  \n",
        "10                1  \n",
        "16                1  \n",
        "21                0  \n",
        "22                1  \n",
        "30                1  \n",
        "40                0  \n",
        "42                0  \n",
        "53                1  \n"
       ]
      }
     ],
     "prompt_number": 86
    },
    {
     "cell_type": "code",
     "collapsed": false,
     "input": [
      "error = numpy.zeros(11)\n",
      "error[0] = 0;\n",
      "for k in range(1,11):\n",
      "    kmeans = KMeans(init='k-means++', n_clusters=k, n_init=10)\n",
      "    kmeans.fit_predict(scaled_bost)\n",
      "    error[k] = kmeans.inertia_\n",
      "\n",
      "plt.plot(range(1,len(error)),error[1:])\n",
      "plt.xlabel('Number of clusters')\n",
      "plt.ylabel('Error')"
     ],
     "language": "python",
     "metadata": {},
     "outputs": [
      {
       "metadata": {},
       "output_type": "pyout",
       "prompt_number": 59,
       "text": [
        "<matplotlib.text.Text at 0x24554588>"
       ]
      },
      {
       "metadata": {},
       "output_type": "display_data",
       "png": "[encoded data removed]",
       "text": [
        "<matplotlib.figure.Figure at 0x24b4fcf8>"
       ]
      }
     ],
     "prompt_number": 59
    },
    {
     "cell_type": "code",
     "collapsed": false,
     "input": [
      "sc_evaluate_clusters(scaled_bost,13)\n",
      "#best k is 3. error =~ "
     ],
     "language": "python",
     "metadata": {},
     "outputs": [
      {
       "metadata": {},
       "output_type": "display_data",
       "png": "[encoded data removed]",
       "text": [
        "<matplotlib.figure.Figure at 0x22ff20b8>"
       ]
      }
     ],
     "prompt_number": 57
    },
    {
     "cell_type": "code",
     "collapsed": false,
     "input": [
      "kmeans = KMeans(init='k-means++', n_clusters=3, n_init=10)\n",
      "kmeans.fit_predict(scaled_bost)\n",
      "centroids = kmeans.cluster_centers_\n",
      "labels = kmeans.labels_\n",
      "error = kmeans.inertia_\n",
      "\n",
      "print \"The total error of the clustering is: \", error\n",
      "print '\\nCluster labels'\n",
      "print labels\n",
      "print '\\n Cluster Centroids'\n",
      "print centroids"
     ],
     "language": "python",
     "metadata": {},
     "outputs": [
      {
       "output_type": "stream",
       "stream": "stdout",
       "text": [
        "The total error of the clustering is:  86975.8992775\n",
        "\n",
        "Cluster labels\n",
        "[2 2 2 ..., 0 0 0]\n",
        "\n",
        " Cluster Centroids\n",
        "[[  2.63865000e-03  -1.48860293e-03   9.47389974e-02  -3.11747210e-01\n",
        "    3.76378245e-01  -1.91864980e-01]\n",
        " [ -1.19868604e-01  -7.60843663e-02  -7.82167972e-01   3.20772718e+00\n",
        "   -2.65690170e+00  -1.91864980e-01]\n",
        " [  2.33950731e-01   2.26538313e-01  -3.85882260e-01  -3.11747210e-01\n",
        "   -2.65690170e+00   5.21199855e+00]]\n"
       ]
      }
     ],
     "prompt_number": 58
    },
    {
     "cell_type": "code",
     "collapsed": false,
     "input": [
      "plt.plot(scaled_bost[labels==0,0],scaled_bost[labels==0,2],'bo')\n",
      "plt.plot(scaled_bost[labels==1,0],scaled_bost[labels==1,2],'go')\n",
      "plt.plot(scaled_bost[labels==2,0],scaled_bost[labels==2,2],'ro')"
     ],
     "language": "python",
     "metadata": {},
     "outputs": [
      {
       "metadata": {},
       "output_type": "pyout",
       "prompt_number": 61,
       "text": [
        "[<matplotlib.lines.Line2D at 0x26d47da0>]"
       ]
      },
      {
       "metadata": {},
       "output_type": "display_data",
       "png": "[encoded data removed]",
       "text": [
        "<matplotlib.figure.Figure at 0x256dbc88>"
       ]
      }
     ],
     "prompt_number": 61
    },
    {
     "cell_type": "code",
     "collapsed": false,
     "input": [
      "plt.plot(scaled_bost[labels==0,1],scaled_bost[labels==0,2],'bo')\n",
      "plt.plot(scaled_bost[labels==1,1],scaled_bost[labels==1,2],'go')\n",
      "plt.plot(scaled_bost[labels==2,1],scaled_bost[labels==2,2],'ro')"
     ],
     "language": "python",
     "metadata": {},
     "outputs": [
      {
       "metadata": {},
       "output_type": "pyout",
       "prompt_number": 62,
       "text": [
        "[<matplotlib.lines.Line2D at 0x29e21780>]"
       ]
      },
      {
       "metadata": {},
       "output_type": "display_data",
       "png": "[encoded data removed]",
       "text": [
        "<matplotlib.figure.Figure at 0x26d8fac8>"
       ]
      }
     ],
     "prompt_number": 62
    },
    {
     "cell_type": "markdown",
     "metadata": {},
     "source": [
      "-----"
     ]
    },
    {
     "cell_type": "heading",
     "level": 2,
     "metadata": {},
     "source": [
      "Step 3. Detecting outliers"
     ]
    },
    {
     "cell_type": "markdown",
     "metadata": {},
     "source": [
      "Now that we have a clustering of the records in the dataset, we can detect the outlying ones. These are the ones who are the farthest from the centroids of their clusters. Track them down and describe any interesting observations that you can make. **(pts 20)** "
     ]
    },
    {
     "cell_type": "code",
     "collapsed": false,
     "input": [
      "def euclidean_dist(x,y):\n",
      "    return numpy.sqrt(numpy.sum(numpy.square(x-y)))"
     ],
     "language": "python",
     "metadata": {},
     "outputs": [],
     "prompt_number": 63
    },
    {
     "cell_type": "code",
     "collapsed": false,
     "input": [
      "# for each point, calculate dist from centre. for each cluster, sort point distances, and take top 5. \n",
      "#distances1 = euclidean_distances(scaled_bost,centroids[0])\n",
      "distances = []\n",
      "\n",
      "idx = 0\n",
      "for item in scaled_bost:\n",
      "    label = labels[idx]\n",
      "    center = centroids[label]\n",
      "    distances.append(euclidean_dist(item,center))\n",
      "    idx += 1\n",
      "    #if idx > 9:\n",
      "\n",
      "distances = numpy.array(distances)"
     ],
     "language": "python",
     "metadata": {},
     "outputs": [],
     "prompt_number": 64
    },
    {
     "cell_type": "code",
     "collapsed": false,
     "input": [
      "sorted_dists = numpy.argsort(distances)\n",
      "rev_dists = sorted_dists[::-1]\n",
      "print sorted_dists[len(distances)-10:]\n",
      "print rev_dists[0:10]\n",
      "#print distances[sorted_dists[len(distances)-10:]]"
     ],
     "language": "python",
     "metadata": {},
     "outputs": [
      {
       "output_type": "stream",
       "stream": "stdout",
       "text": [
        "[727 685 652 647 594 583 582 576 580 459]\n",
        "[459 580 576 582 583 594 647 652 685 727]\n"
       ]
      }
     ],
     "prompt_number": 65
    },
    {
     "cell_type": "code",
     "collapsed": false,
     "input": [
      "# returns top x outliers for specified cluster\n",
      "def get_outliers(count,cluster,labels,indices):\n",
      "    ret = []\n",
      "    tally = 0\n",
      "    for index in indices:\n",
      "        if labels[index] == cluster:            \n",
      "            ret.append(index)\n",
      "            tally +=1\n",
      "        if tally == count:\n",
      "            break\n",
      "    return ret"
     ],
     "language": "python",
     "metadata": {},
     "outputs": [],
     "prompt_number": 66
    },
    {
     "cell_type": "code",
     "collapsed": false,
     "input": [
      "out0 = get_outliers(5,0,labels,rev_dists)\n",
      "out1 = get_outliers(5,1,labels,rev_dists)\n",
      "out2 = get_outliers(5,2,labels,rev_dists)\n",
      "\n",
      "real_centres = scaler.inverse_transform(centroids)\n",
      "numpy.set_printoptions(precision=4)\n",
      "numpy.set_printoptions(suppress=True)\n",
      "\n",
      "print \"centroid for cluster 1\"\n",
      "print real_centres[0]\n",
      "print \"Outliers for cluster 1\"\n",
      "print boston_proj.iloc[out0]\n",
      "print \"centroid for cluster 2\"\n",
      "print real_centres[1]\n",
      "print \"Outliers for cluster 2\"\n",
      "print boston_proj.iloc[out1]\n",
      "print \"centroid for cluster 3\"\n",
      "print real_centres[2]\n",
      "print \"Outliers for cluster 3\"\n",
      "print boston_proj.iloc[out2]"
     ],
     "language": "python",
     "metadata": {},
     "outputs": [
      {
       "output_type": "stream",
       "stream": "stdout",
       "text": [
        "centroid for cluster 1\n",
        "[ -71.0851   42.3219  115.5282    0.        1.       -0.    ]\n",
        "Outliers for cluster 1\n",
        "       LONGITUDE  LATITUDE  NUM_HOURS_OPEN  MISSED_TRASH  SNOW_RELATED  \\\n",
        "5192    -71.0677   42.3593      803.240556             0             1   \n",
        "5567    -71.1107   42.3519      780.984167             0             1   \n",
        "9468    -71.1316   42.3558      557.176389             0             1   \n",
        "10053   -71.1528   42.3537      531.530833             0             1   \n",
        "17429   -71.0069   42.3928      463.516111             0             1   \n",
        "\n",
        "       STREET_CLEANING  \n",
        "5192                 0  \n",
        "5567                 0  \n",
        "9468                 0  \n",
        "10053                0  \n",
        "17429                0  \n",
        "centroid for cluster 2\n",
        "[-71.0895  42.3193  27.9128   1.      -0.      -0.    ]\n",
        "Outliers for cluster 2\n",
        "       LONGITUDE  LATITUDE  NUM_HOURS_OPEN  MISSED_TRASH  SNOW_RELATED  \\\n",
        "31329   -71.1617   42.3554      299.074167             1             0   \n",
        "20535   -71.0041   42.3918       64.060833             1             0   \n",
        "20886   -71.0041   42.3918       42.858333             1             0   \n",
        "28641   -71.0075   42.3927       49.790556             1             0   \n",
        "19977   -70.9988   42.3820       11.881111             1             0   \n",
        "\n",
        "       STREET_CLEANING  \n",
        "31329                0  \n",
        "20535                0  \n",
        "20886                0  \n",
        "28641                0  \n",
        "19977                0  \n",
        "centroid for cluster 3\n",
        "[-71.0769  42.3297  67.5074  -0.       0.       1.    ]\n",
        "Outliers for cluster 3\n",
        "      LONGITUDE  LATITUDE  NUM_HOURS_OPEN  MISSED_TRASH  SNOW_RELATED  \\\n",
        "2364   -71.0708   42.3320      974.649444             0             0   \n",
        "3478   -71.0534   42.3619      898.429167             0             0   \n",
        "3455   -71.0579   42.3601      899.631667             0             0   \n",
        "3490   -71.0694   42.3595      897.543611             0             0   \n",
        "3491   -71.0694   42.3594      897.508056             0             0   \n",
        "\n",
        "      STREET_CLEANING  \n",
        "2364                1  \n",
        "3478                1  \n",
        "3455                1  \n",
        "3490                1  \n",
        "3491                1  \n"
       ]
      }
     ],
     "prompt_number": 99
    },
    {
     "cell_type": "code",
     "collapsed": false,
     "input": [
      "# Code for setting the style of the notebook\n",
      "from IPython.core.display import HTML\n",
      "def css_styling():\n",
      "    styles = open(\"../../theme/custom.css\", \"r\").read()\n",
      "    return HTML(styles)\n",
      "css_styling()"
     ],
     "language": "python",
     "metadata": {},
     "outputs": [
      {
       "html": [
        "<link href='http://fonts.googleapis.com/css?family=EB+Garamond' rel='stylesheet' type='text/css'>\n",
        "<link href='http://fonts.googleapis.com/css?family=Alegreya+Sans:100,300,400,500,700,800,900,100italic,300italic,400italic,500italic,700italic,800italic,900italic' rel='stylesheet' type='text/css'>\n",
        "<link href='http://fonts.googleapis.com/css?family=Source+Code+Pro:300,400' rel='stylesheet' type='text/css'>\n",
        "<style>\n",
        "    @font-face {\n",
        "        font-family: \"Computer Modern\";\n",
        "        src: url('http://mirrors.ctan.org/fonts/cm-unicode/fonts/otf/cmunss.otf');\n",
        "    }\n",
        "    .code_cell {\n",
        "        width: 105ex !important ;\n",
        "        margin-bottom: 15px !important;\n",
        "    }\n",
        "    div.cell {\n",
        "        margin-left: auto;\n",
        "        margin-right: auto;\n",
        "        width: 70%;\n",
        "    }    \n",
        "    div.cell.selected {\n",
        "        border: thin rgba(171, 171, 171, 0.5) dashed;\n",
        "    }\n",
        "    h1 {\n",
        "        font-family: 'Alegreya Sans', sans-serif;\n",
        "    }\n",
        "    h2 {\n",
        "        font-family: 'EB Garamond', serif;\n",
        "    }\n",
        "    h3 {\n",
        "        font-family: 'EB Garamond', serif;\n",
        "        margin-top:12px;\n",
        "        margin-bottom: 3px;\n",
        "    }\n",
        "    h4 {\n",
        "        font-family: 'EB Garamond', serif;\n",
        "    }\n",
        "    h5 {\n",
        "        font-family: 'Alegreya Sans', sans-serif;\n",
        "    }\n",
        "    div.text_cell_render {\n",
        "        font-family: 'EB Garamond',Computer Modern, \"Helvetica Neue\", Arial, Helvetica, Geneva, sans-serif;\n",
        "        line-height: 145%;\n",
        "        font-size: 140%;\n",
        "    }\n",
        "    div.input_area {\n",
        "        border-color: rgba(0,0,0,0.10) !important;\n",
        "        background: #fafafa;\n",
        "    }\n",
        "    .CodeMirror {\n",
        "            font-family: \"Source Code Pro\";\n",
        "            font-size: 90%;\n",
        "    }\n",
        "    .prompt {\n",
        "        display: None;\n",
        "    }\n",
        "    .output {\n",
        "        padding-left: 50px;\n",
        "        padding-top: 5px;\n",
        "    }\n",
        "    .output_wrapper {\n",
        "        padding-left: 5px;\n",
        "        padding-top: inherit;\n",
        "    }\n",
        "    div.output_scroll {\n",
        "        width: inherit;\n",
        "    }\n",
        "    .inner_cell {\n",
        "        padding-left: 5px;\n",
        "    }\n",
        "    .text_cell_render h1 {\n",
        "        font-weight: 200;\n",
        "        font-size: 50pt;\n",
        "        line-height: 100%;\n",
        "        color:#CD2305;\n",
        "        margin-bottom: 0.5em;\n",
        "        margin-top: 0.5em;\n",
        "        display: block;\n",
        "    }\n",
        "    .text_cell_render h5 {\n",
        "        font-weight: 300;\n",
        "        font-size: 16pt;\n",
        "        color: #CD2305;\n",
        "        font-style: italic;\n",
        "        margin-bottom: .5em;\n",
        "        margin-top: 0.5em;\n",
        "        display: block;\n",
        "    }\n",
        "    .warning {\n",
        "        color: rgb( 240, 20, 20 )\n",
        "        }  \n",
        "</style>\n",
        "<script>\n",
        "    MathJax.Hub.Config({\n",
        "                        TeX: {\n",
        "                           extensions: [\"AMSmath.js\"]\n",
        "                           },\n",
        "                tex2jax: {\n",
        "                    inlineMath: [ ['$','$'], [\"\\\\(\",\"\\\\)\"] ],\n",
        "                    displayMath: [ ['$$','$$'], [\"\\\\[\",\"\\\\]\"] ]\n",
        "                },\n",
        "                displayAlign: 'center', // Change this to 'center' to center equations.\n",
        "                \"HTML-CSS\": {\n",
        "                    styles: {'.MathJax_Display': {\"margin\": 4}}\n",
        "                }\n",
        "        });\n",
        "</script>"
       ],
       "metadata": {},
       "output_type": "pyout",
       "prompt_number": 21,
       "text": [
        "<IPython.core.display.HTML at 0x189e1320>"
       ]
      }
     ],
     "prompt_number": 21
    }
   ],
   "metadata": {}
  }
 ]
}