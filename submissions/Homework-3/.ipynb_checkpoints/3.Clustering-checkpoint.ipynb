{
 "metadata": {
  "name": "",
  "signature": "sha256:a82b5ee738e386904e7565fcae7a39117ebf050f4b1c6f0cced9a5b6007bde06"
 },
 "nbformat": 3,
 "nbformat_minor": 0,
 "worksheets": [
  {
   "cells": [
    {
     "cell_type": "markdown",
     "metadata": {},
     "source": [
      "(In order to load the stylesheet of this notebook, execute the last code cell in this notebook)"
     ]
    },
    {
     "cell_type": "heading",
     "level": 1,
     "metadata": {},
     "source": [
      "Clustering the data from the Mayor's 24-hour hotline in Boston"
     ]
    },
    {
     "cell_type": "heading",
     "level": 2,
     "metadata": {},
     "source": [
      "Introduction "
     ]
    },
    {
     "cell_type": "markdown",
     "metadata": {},
     "source": [
      "In this assignment, we will do a clustering analysis on the 311 calls that we used in the previous homework. We will focus on choosing a value for k, clustering based on multiple features and detecting outliers.\n",
      "\n",
      "---------------------------"
     ]
    },
    {
     "cell_type": "code",
     "collapsed": false,
     "input": [
      "%matplotlib inline\n",
      "import pandas as pd\n",
      "import seaborn as sns\n",
      "import numpy\n",
      "from matplotlib import pyplot as plt\n",
      "import datetime\n",
      "\n",
      "import sklearn.datasets as sk_data\n",
      "import sklearn.metrics as metrics\n",
      "from sklearn.cluster import KMeans\n",
      "from sklearn import preprocessing\n",
      "from sklearn.metrics.pairwise import euclidean_distances"
     ],
     "language": "python",
     "metadata": {},
     "outputs": [],
     "prompt_number": 2
    },
    {
     "cell_type": "code",
     "collapsed": false,
     "input": [
      "#boston = pd.read_csv('../Homework-2/cases_2015.csv')\n",
      "boston = pd.read_csv('../Homework-2/cases_2015.csv',parse_dates=['OPEN_DT','TARGET_DT','CLOSED_DT'])"
     ],
     "language": "python",
     "metadata": {},
     "outputs": [],
     "prompt_number": 35
    },
    {
     "cell_type": "heading",
     "level": 2,
     "metadata": {},
     "source": [
      "Step 1. Simple clustering"
     ]
    },
    {
     "cell_type": "markdown",
     "metadata": {},
     "source": [
      "The first thing that we will try is to cluster the geolocation data of the calls. The geolocation of a record consists of a pair `(latitude, longitude)`, which represents the position of the record on the map. Since the dataset that we have spans only a small geographic location, i.e. Boston, we will use the Euclidean distance when measuring how close two points are. Techinically, we should pick a [projection](https://github.com/mbostock/d3/wiki/Geo-Projections) in order to transform the data into 2d, and measure  the Euclidean distance in the projected space."
     ]
    },
    {
     "cell_type": "markdown",
     "metadata": {},
     "source": [
      "Since we are dealing with numeric data, we might consider centering and normalizing them. In order to do that, check the [StandardScaler](http://scikit-learn.org/stable/modules/generated/sklearn.preprocessing.StandardScaler.html#sklearn.preprocessing.StandardScaler) from `scikit-learn`."
     ]
    },
    {
     "cell_type": "markdown",
     "metadata": {},
     "source": [
      "For exampe, the result of a clustering with 10 clusters is the following:\n",
      "\n",
      "\n",
      "![A clustering of the locations of the calls for k=10](clusters10.png)"
     ]
    },
    {
     "cell_type": "markdown",
     "metadata": {},
     "source": [
      "Filter the dataset to get the latitude and longitude, transform it as required and run the k-means clustering algorithm. Argue about the number of clusters you used. **(pts 50)**"
     ]
    },
    {
     "cell_type": "code",
     "collapsed": false,
     "input": [
      "# Filter and Transform the data to have a mean of zero\n",
      "gloc = boston[['LONGITUDE','LATITUDE']]\n",
      "\n",
      "scaled_gloc = preprocessing.scale(gloc)\n",
      "print scaled_gloc.shape\n",
      "print scaled_gloc[0:4]"
     ],
     "language": "python",
     "metadata": {},
     "outputs": [
      {
       "output_type": "stream",
       "stream": "stdout",
       "text": [
        "(46698L, 2L)\n",
        "[[ 0.5614  0.957 ]\n",
        " [-0.2731  0.6688]\n",
        " [-0.2731  0.6688]\n",
        " [-1.7391 -1.5305]]\n"
       ]
      }
     ],
     "prompt_number": 39
    },
    {
     "cell_type": "code",
     "collapsed": false,
     "input": [
      "# plot data error when clustered using number of clusters between 1 and 11\n",
      "error = numpy.zeros(11)\n",
      "error[0] = 0;\n",
      "for k in range(1,11):\n",
      "    kmeans = KMeans(init='k-means++', n_clusters=k, n_init=10)\n",
      "    kmeans.fit_predict(scaled_gloc)\n",
      "    error[k] = kmeans.inertia_\n",
      "\n",
      "plt.plot(range(1,len(error)),error[1:])\n",
      "plt.xlabel('Number of clusters')\n",
      "plt.ylabel('Error')"
     ],
     "language": "python",
     "metadata": {},
     "outputs": [
      {
       "metadata": {},
       "output_type": "pyout",
       "prompt_number": 40,
       "text": [
        "<matplotlib.text.Text at 0x23b48f98>"
       ]
      },
      {
       "metadata": {},
       "output_type": "display_data",
       "png": "[encoded data removed]",
       "text": [
        "<matplotlib.figure.Figure at 0x18ff5d68>"
       ]
      }
     ],
     "prompt_number": 40
    },
    {
     "cell_type": "markdown",
     "metadata": {},
     "source": [
      "In the graph above, there isn't a clear knee. So in the next step, let's silhoutte score to decide on number of clusters."
     ]
    },
    {
     "cell_type": "code",
     "collapsed": false,
     "input": [
      "# plot error against number of clusters using silhoutte score\n",
      "def sc_evaluate_clusters(X,max_clusters):\n",
      "    s = numpy.zeros(max_clusters+1)\n",
      "    s[0] = 0;\n",
      "    s[1] = 0;\n",
      "    for k in range(2,max_clusters+1):\n",
      "        kmeans = KMeans(init='k-means++', n_clusters=k, n_init=10)\n",
      "        kmeans.fit_predict(X)\n",
      "        s[k] = metrics.silhouette_score(X,kmeans.labels_,metric='euclidean',sample_size=10000)\n",
      "    plt.plot(range(2,len(s)),s[2:])\n",
      "    plt.xlabel('Number of clusters')\n",
      "    plt.ylabel('Silhouette Index')\n",
      "    \n",
      "sc_evaluate_clusters(scaled_gloc,13) #This will take 1-2 minutes"
     ],
     "language": "python",
     "metadata": {},
     "outputs": [
      {
       "metadata": {},
       "output_type": "display_data",
       "png": "[encoded data removed]",
       "text": [
        "<matplotlib.figure.Figure at 0x1f1c4c50>"
       ]
      }
     ],
     "prompt_number": 41
    },
    {
     "cell_type": "markdown",
     "metadata": {},
     "source": [
      "From above, the best index was with number of clusters equal to 12. I ran sc_evaluate_clusters() with 24 as number of clusters, and 12 cluster had the best silhuoette index. (Boston has about 22 neighborhoods)"
     ]
    },
    {
     "cell_type": "code",
     "collapsed": false,
     "input": [
      "# Run k-means with 12 clusters\n",
      "kmeans = KMeans(init='k-means++', n_clusters=12, n_init=10)\n",
      "kmeans.fit_predict(scaled_gloc)\n",
      "centroids = kmeans.cluster_centers_\n",
      "labels = kmeans.labels_\n",
      "error = kmeans.inertia_\n",
      "\n",
      "print \"The total error of the clustering is: \", error\n",
      "print '\\nCluster labels'\n",
      "print labels\n",
      "print '\\n Cluster Centroids'\n",
      "print centroids"
     ],
     "language": "python",
     "metadata": {},
     "outputs": [
      {
       "output_type": "stream",
       "stream": "stdout",
       "text": [
        "The total error of the clustering is:  5275.52780638\n",
        "\n",
        "Cluster labels\n",
        "[5 9 9 ..., 7 5 7]\n",
        "\n",
        " Cluster Centroids\n",
        "[[ 0.3372 -0.3606]\n",
        " [ 1.6355  1.5559]\n",
        " [-2.0409 -1.2885]\n",
        " [-0.5261 -0.0773]\n",
        " [-1.7461  0.7389]\n",
        " [ 0.685   1.1091]\n",
        " [-1.1497 -2.0381]\n",
        " [-0.2175 -1.3187]\n",
        " [ 0.6154 -0.9917]\n",
        " [ 0.1831  0.5527]\n",
        " [-1.069  -0.9613]\n",
        " [ 1.1229  0.2862]]\n"
       ]
      }
     ],
     "prompt_number": 42
    },
    {
     "cell_type": "code",
     "collapsed": false,
     "input": [
      "#labels.shape\n",
      "plt.plot(scaled_gloc[labels==0,0],scaled_gloc[labels==0,1],'bo')\n",
      "plt.plot(scaled_gloc[labels==1,0],scaled_gloc[labels==1,1],'go')\n",
      "plt.plot(scaled_gloc[labels==2,0],scaled_gloc[labels==2,1],'ro')\n",
      "plt.plot(scaled_gloc[labels==3,0],scaled_gloc[labels==3,1],'co')\n",
      "plt.plot(scaled_gloc[labels==4,0],scaled_gloc[labels==4,1],'mo')\n",
      "plt.plot(scaled_gloc[labels==5,0],scaled_gloc[labels==5,1],'yo')\n",
      "plt.plot(scaled_gloc[labels==6,0],scaled_gloc[labels==6,1],'ko')\n",
      "plt.plot(scaled_gloc[labels==7,0],scaled_gloc[labels==7,1],color='#336600',marker='o')\n",
      "plt.plot(scaled_gloc[labels==8,0],scaled_gloc[labels==8,1],color='#00FFFF',marker='o')\n",
      "plt.plot(scaled_gloc[labels==9,0],scaled_gloc[labels==9,1],color='#CC3300',marker='o')\n",
      "plt.plot(scaled_gloc[labels==10,0],scaled_gloc[labels==10,1],color='#FFFF99',marker='o')\n",
      "plt.plot(scaled_gloc[labels==11,0],scaled_gloc[labels==11,1],color='#ff0066',marker='o')"
     ],
     "language": "python",
     "metadata": {},
     "outputs": [
      {
       "metadata": {},
       "output_type": "pyout",
       "prompt_number": 43,
       "text": [
        "[<matplotlib.lines.Line2D at 0x27297f98>]"
       ]
      },
      {
       "metadata": {},
       "output_type": "display_data",
       "png": "[encoded data removed]",
       "text": [
        "<matplotlib.figure.Figure at 0x2701a0b8>"
       ]
      }
     ],
     "prompt_number": 43
    },
    {
     "cell_type": "markdown",
     "metadata": {},
     "source": [
      "-----"
     ]
    },
    {
     "cell_type": "heading",
     "level": 2,
     "metadata": {},
     "source": [
      "Step 2. Using multiple features"
     ]
    },
    {
     "cell_type": "markdown",
     "metadata": {},
     "source": [
      "The next step in our analysis is to use more features than just the geolocation of a record (whose clustering only gives us information about the neighborhoods, which should not be a huge revelation!) Filter the dataset to get more features, transform them as required and compute another clustering. You should argue about the quality of your clustering and use domain knowledge (i.e. the fact that you are locals) to explore the clusters you produced and present them to the reader. **(pts 30)**"
     ]
    },
    {
     "cell_type": "markdown",
     "metadata": {},
     "source": [
      "Filter data to down to only top 3 categories (based on case title)\n",
      "selected categories: \"snow related\", \"missed trash\", and \"street cleaning\""
     ]
    },
    {
     "cell_type": "markdown",
     "metadata": {},
     "source": [
      "ideas for clustering\n",
      "closed dt - open dt to see what neighborhoods get priority. may need to only consider same type of cases (e.g. snow). plus more filtering to remove invalid, duplicate cases, etc\n",
      "In this clustering, I try to find correlations in the dataset using the features below:\n",
      "- Geolocation (LONGITUDE and LATITUDE)\n",
      "- Number of hours the each case was open. Calculated by (CLOSED_DT - OPEN_DT). If CLOSED_DT is NaT (case is still open), use the last date on the dataset as CLOSED_DT.\n",
      "- Case Categories. Here I use the top most common case titles to create three categories: Snow related, missed trash, street cleaning.\n",
      "K-means is not very good in clustering categorical data (non-numeric). What I thought would work best is to create a binary/boolean column for each of the categories to indicate if a case is in a particular category."
     ]
    },
    {
     "cell_type": "code",
     "collapsed": false,
     "input": [
      "# For each case, calculate the number of hours it's been in 'OPEN' status\n",
      "def hours_active(row):\n",
      "    opened = row.OPEN_DT\n",
      "    closed = row.CLOSED_DT\n",
      "    if isinstance(opened,pd.tslib.NaTType):\n",
      "        print \"ignorint..\"\n",
      "        return -1\n",
      "    if isinstance(closed,pd.tslib.NaTType):\n",
      "        #closed = datetime.datetime.today()\n",
      "        closed = datetime.datetime.strptime('02-18-2015','%m-%d-%Y')\n",
      "    \n",
      "    diff = closed-opened\n",
      "    return diff.total_seconds()/3600\n",
      "\n",
      "boston['NUM_HOURS_OPEN'] = boston.apply(hours_active, axis = 1)"
     ],
     "language": "python",
     "metadata": {},
     "outputs": [],
     "prompt_number": 54
    },
    {
     "cell_type": "code",
     "collapsed": false,
     "input": [
      "boston[[\"CASE_TITLE\",\"CLOSURE_REASON\",\"NUM_HOURS_OPEN\"]].head(20)"
     ],
     "language": "python",
     "metadata": {},
     "outputs": [
      {
       "html": [
        "<div style=\"max-height:1000px;max-width:1500px;overflow:auto;\">\n",
        "<table border=\"1\" class=\"dataframe\">\n",
        "  <thead>\n",
        "    <tr style=\"text-align: right;\">\n",
        "      <th></th>\n",
        "      <th>CASE_TITLE</th>\n",
        "      <th>CLOSURE_REASON</th>\n",
        "      <th>NUM_HOURS_OPEN</th>\n",
        "    </tr>\n",
        "  </thead>\n",
        "  <tbody>\n",
        "    <tr>\n",
        "      <th>0 </th>\n",
        "      <td>                          Other</td>\n",
        "      <td>                            Case Closed Case Noted</td>\n",
        "      <td>   32.809167</td>\n",
        "    </tr>\n",
        "    <tr>\n",
        "      <th>1 </th>\n",
        "      <td>                        PRINTED</td>\n",
        "      <td> Case Closed Duplicate of Existing Case duplica...</td>\n",
        "      <td>   39.872222</td>\n",
        "    </tr>\n",
        "    <tr>\n",
        "      <th>2 </th>\n",
        "      <td>                        PRINTED</td>\n",
        "      <td>                                               NaN</td>\n",
        "      <td> 1151.573333</td>\n",
        "    </tr>\n",
        "    <tr>\n",
        "      <th>3 </th>\n",
        "      <td>                   Animal Found</td>\n",
        "      <td>                                               NaN</td>\n",
        "      <td> 1150.239722</td>\n",
        "    </tr>\n",
        "    <tr>\n",
        "      <th>4 </th>\n",
        "      <td>                           Fire</td>\n",
        "      <td>                            Case Closed Case Noted</td>\n",
        "      <td>   30.733611</td>\n",
        "    </tr>\n",
        "    <tr>\n",
        "      <th>5 </th>\n",
        "      <td>                           Fire</td>\n",
        "      <td>                            Case Closed Case Noted</td>\n",
        "      <td>   30.020556</td>\n",
        "    </tr>\n",
        "    <tr>\n",
        "      <th>6 </th>\n",
        "      <td>   Requests for Street Cleaning</td>\n",
        "      <td>            Case Closed Case Resolved clean up mva</td>\n",
        "      <td>    2.171389</td>\n",
        "    </tr>\n",
        "    <tr>\n",
        "      <th>7 </th>\n",
        "      <td>                    Animal Lost</td>\n",
        "      <td>                                               NaN</td>\n",
        "      <td> 1148.229167</td>\n",
        "    </tr>\n",
        "    <tr>\n",
        "      <th>8 </th>\n",
        "      <td>   Requests for Street Cleaning</td>\n",
        "      <td>    Case Closed Case Resolved clean up the  debris</td>\n",
        "      <td>    1.088889</td>\n",
        "    </tr>\n",
        "    <tr>\n",
        "      <th>9 </th>\n",
        "      <td>                   Animal Found</td>\n",
        "      <td>                                               NaN</td>\n",
        "      <td> 1147.788889</td>\n",
        "    </tr>\n",
        "    <tr>\n",
        "      <th>10</th>\n",
        "      <td>   Requests for Street Cleaning</td>\n",
        "      <td> Case Closed Case Resolved citywide cleaned up ...</td>\n",
        "      <td>    4.313611</td>\n",
        "    </tr>\n",
        "    <tr>\n",
        "      <th>11</th>\n",
        "      <td> Heat - Excessive  Insufficient</td>\n",
        "      <td>                                               NaN</td>\n",
        "      <td> 1144.546389</td>\n",
        "    </tr>\n",
        "    <tr>\n",
        "      <th>12</th>\n",
        "      <td>            Parking Enforcement</td>\n",
        "      <td>  Case Closed Case Resolved area checked all clear</td>\n",
        "      <td>   20.850833</td>\n",
        "    </tr>\n",
        "    <tr>\n",
        "      <th>13</th>\n",
        "      <td>          Illegal Rooming House</td>\n",
        "      <td>                                               NaN</td>\n",
        "      <td> 1143.568889</td>\n",
        "    </tr>\n",
        "    <tr>\n",
        "      <th>14</th>\n",
        "      <td>                Watermain Break</td>\n",
        "      <td>                                               NaN</td>\n",
        "      <td> 1143.404444</td>\n",
        "    </tr>\n",
        "    <tr>\n",
        "      <th>15</th>\n",
        "      <td>      Schedule Bulk Item Pickup</td>\n",
        "      <td>                  Case Closed Bulk Item Automation</td>\n",
        "      <td>  151.793611</td>\n",
        "    </tr>\n",
        "    <tr>\n",
        "      <th>16</th>\n",
        "      <td>   Requests for Street Cleaning</td>\n",
        "      <td>                         Case Closed Case Resolved</td>\n",
        "      <td>    2.346389</td>\n",
        "    </tr>\n",
        "    <tr>\n",
        "      <th>17</th>\n",
        "      <td> Heat - Excessive  Insufficient</td>\n",
        "      <td>                                               NaN</td>\n",
        "      <td> 1143.102500</td>\n",
        "    </tr>\n",
        "    <tr>\n",
        "      <th>18</th>\n",
        "      <td>    Schedule a Bulk Item Pickup</td>\n",
        "      <td>                  Case Closed Bulk Item Automation</td>\n",
        "      <td>  103.420556</td>\n",
        "    </tr>\n",
        "    <tr>\n",
        "      <th>19</th>\n",
        "      <td>          Traffic Signal Repair</td>\n",
        "      <td>                         Case Closed Case Resolved</td>\n",
        "      <td>  119.644722</td>\n",
        "    </tr>\n",
        "  </tbody>\n",
        "</table>\n",
        "</div>"
       ],
       "metadata": {},
       "output_type": "pyout",
       "prompt_number": 55,
       "text": [
        "                        CASE_TITLE  \\\n",
        "0                            Other   \n",
        "1                          PRINTED   \n",
        "2                          PRINTED   \n",
        "3                     Animal Found   \n",
        "4                             Fire   \n",
        "5                             Fire   \n",
        "6     Requests for Street Cleaning   \n",
        "7                      Animal Lost   \n",
        "8     Requests for Street Cleaning   \n",
        "9                     Animal Found   \n",
        "10    Requests for Street Cleaning   \n",
        "11  Heat - Excessive  Insufficient   \n",
        "12             Parking Enforcement   \n",
        "13           Illegal Rooming House   \n",
        "14                 Watermain Break   \n",
        "15       Schedule Bulk Item Pickup   \n",
        "16    Requests for Street Cleaning   \n",
        "17  Heat - Excessive  Insufficient   \n",
        "18     Schedule a Bulk Item Pickup   \n",
        "19           Traffic Signal Repair   \n",
        "\n",
        "                                       CLOSURE_REASON  NUM_HOURS_OPEN  \n",
        "0                              Case Closed Case Noted       32.809167  \n",
        "1   Case Closed Duplicate of Existing Case duplica...       39.872222  \n",
        "2                                                 NaN     1151.573333  \n",
        "3                                                 NaN     1150.239722  \n",
        "4                              Case Closed Case Noted       30.733611  \n",
        "5                              Case Closed Case Noted       30.020556  \n",
        "6              Case Closed Case Resolved clean up mva        2.171389  \n",
        "7                                                 NaN     1148.229167  \n",
        "8      Case Closed Case Resolved clean up the  debris        1.088889  \n",
        "9                                                 NaN     1147.788889  \n",
        "10  Case Closed Case Resolved citywide cleaned up ...        4.313611  \n",
        "11                                                NaN     1144.546389  \n",
        "12   Case Closed Case Resolved area checked all clear       20.850833  \n",
        "13                                                NaN     1143.568889  \n",
        "14                                                NaN     1143.404444  \n",
        "15                   Case Closed Bulk Item Automation      151.793611  \n",
        "16                          Case Closed Case Resolved        2.346389  \n",
        "17                                                NaN     1143.102500  \n",
        "18                   Case Closed Bulk Item Automation      103.420556  \n",
        "19                          Case Closed Case Resolved      119.644722  "
       ]
      }
     ],
     "prompt_number": 55
    },
    {
     "cell_type": "code",
     "collapsed": false,
     "input": [
      "boston.NUM_HOURS_OPEN.head(100).plot(label='hours open')"
     ],
     "language": "python",
     "metadata": {},
     "outputs": [
      {
       "metadata": {},
       "output_type": "pyout",
       "prompt_number": 56,
       "text": [
        "<matplotlib.axes._subplots.AxesSubplot at 0x23d450f0>"
       ]
      },
      {
       "metadata": {},
       "output_type": "display_data",
       "png": "[encoded data removed]",
       "text": [
        "<matplotlib.figure.Figure at 0x251ee710>"
       ]
      }
     ],
     "prompt_number": 56
    },
    {
     "cell_type": "code",
     "collapsed": false,
     "input": [
      "# Narrow down the data to only cases related to Snow, missed trash, street cleaning\n",
      "indices = []\n",
      "\n",
      "for idx, row in boston.iterrows(): \n",
      "    title = str(row.CASE_TITLE).lower()  \n",
      "    cls_reason = str(row.CLOSURE_REASON).lower()\n",
      "    if not \"duplicate\" in cls_reason: #filter out duplicate cases\n",
      "        if \"missed trash\" in title or \"snow removal\" in title or \"snow plowing\" in title or \"street cleaning\" in title:\n",
      "            indices.append(idx)\n",
      "        \n",
      "print len(indices)        "
     ],
     "language": "python",
     "metadata": {},
     "outputs": [
      {
       "output_type": "stream",
       "stream": "stdout",
       "text": [
        "29714\n"
       ]
      }
     ],
     "prompt_number": 57
    },
    {
     "cell_type": "code",
     "collapsed": false,
     "input": [
      "#find cases about missed trash\n",
      "def missed_trash(row):\n",
      "    title = str(row.CASE_TITLE).lower()    \n",
      "    if \"missed trash\" in title:\n",
      "        return 1\n",
      "    else:\n",
      "        return 0\n",
      "\n",
      "# find cases related to snow\n",
      "def snow_related(row):\n",
      "    title = str(row.CASE_TITLE).lower()    \n",
      "    if \"snow removal\" in title or \"snow plowing\" in title:\n",
      "        return 1\n",
      "    else:\n",
      "        return 0\n",
      "\n",
      "#find cases on street cleaning\n",
      "def street_cleaning(row):\n",
      "    title = str(row.CASE_TITLE).lower()    \n",
      "    if \"street cleaning\" in title:\n",
      "        return 1\n",
      "    else:\n",
      "        return 0\n",
      "\n",
      "# mark cases with the different categories\n",
      "# Adds three new binary columns -- column value is 1 if a case belongs to a category, otherwise 0\n",
      "boston['MISSED_TRASH'] = boston.apply(missed_trash, axis = 1)\n",
      "boston['SNOW_RELATED'] = boston.apply(snow_related, axis = 1)\n",
      "boston['STREET_CLEANING'] = boston.apply(street_cleaning, axis = 1)"
     ],
     "language": "python",
     "metadata": {},
     "outputs": [],
     "prompt_number": 58
    },
    {
     "cell_type": "code",
     "collapsed": false,
     "input": [
      "# Narrow down the data to only cases related to Snow, missed trash, street cleaning\n",
      "selection = boston.iloc[indices]"
     ],
     "language": "python",
     "metadata": {},
     "outputs": [],
     "prompt_number": 59
    },
    {
     "cell_type": "code",
     "collapsed": false,
     "input": [
      "# a view of the filtered data\n",
      "data_view = selection[[\"CASE_TITLE\",\"MISSED_TRASH\",\"SNOW_RELATED\",\"STREET_CLEANING\",\"NUM_HOURS_OPEN\",\"CLOSURE_REASON\"]]\n",
      "data_view.head(20)"
     ],
     "language": "python",
     "metadata": {},
     "outputs": [
      {
       "html": [
        "<div style=\"max-height:1000px;max-width:1500px;overflow:auto;\">\n",
        "<table border=\"1\" class=\"dataframe\">\n",
        "  <thead>\n",
        "    <tr style=\"text-align: right;\">\n",
        "      <th></th>\n",
        "      <th>CASE_TITLE</th>\n",
        "      <th>MISSED_TRASH</th>\n",
        "      <th>SNOW_RELATED</th>\n",
        "      <th>STREET_CLEANING</th>\n",
        "      <th>NUM_HOURS_OPEN</th>\n",
        "      <th>CLOSURE_REASON</th>\n",
        "    </tr>\n",
        "  </thead>\n",
        "  <tbody>\n",
        "    <tr>\n",
        "      <th>6  </th>\n",
        "      <td>                   Requests for Street Cleaning</td>\n",
        "      <td> 0</td>\n",
        "      <td> 0</td>\n",
        "      <td> 1</td>\n",
        "      <td>  2.171389</td>\n",
        "      <td>            Case Closed Case Resolved clean up mva</td>\n",
        "    </tr>\n",
        "    <tr>\n",
        "      <th>8  </th>\n",
        "      <td>                   Requests for Street Cleaning</td>\n",
        "      <td> 0</td>\n",
        "      <td> 0</td>\n",
        "      <td> 1</td>\n",
        "      <td>  1.088889</td>\n",
        "      <td>    Case Closed Case Resolved clean up the  debris</td>\n",
        "    </tr>\n",
        "    <tr>\n",
        "      <th>10 </th>\n",
        "      <td>                   Requests for Street Cleaning</td>\n",
        "      <td> 0</td>\n",
        "      <td> 0</td>\n",
        "      <td> 1</td>\n",
        "      <td>  4.313611</td>\n",
        "      <td> Case Closed Case Resolved citywide cleaned up ...</td>\n",
        "    </tr>\n",
        "    <tr>\n",
        "      <th>16 </th>\n",
        "      <td>                   Requests for Street Cleaning</td>\n",
        "      <td> 0</td>\n",
        "      <td> 0</td>\n",
        "      <td> 1</td>\n",
        "      <td>  2.346389</td>\n",
        "      <td>                         Case Closed Case Resolved</td>\n",
        "    </tr>\n",
        "    <tr>\n",
        "      <th>21 </th>\n",
        "      <td>                     Missed Trash: District 10B</td>\n",
        "      <td> 1</td>\n",
        "      <td> 0</td>\n",
        "      <td> 0</td>\n",
        "      <td>  1.499722</td>\n",
        "      <td> Case Closed Case Noted During my inspection 1/...</td>\n",
        "    </tr>\n",
        "    <tr>\n",
        "      <th>22 </th>\n",
        "      <td>                   Requests for Street Cleaning</td>\n",
        "      <td> 0</td>\n",
        "      <td> 0</td>\n",
        "      <td> 1</td>\n",
        "      <td> 20.444444</td>\n",
        "      <td>        Case Closed Case Resolved No debris found.</td>\n",
        "    </tr>\n",
        "    <tr>\n",
        "      <th>30 </th>\n",
        "      <td>                   Requests for Street Cleaning</td>\n",
        "      <td> 0</td>\n",
        "      <td> 0</td>\n",
        "      <td> 1</td>\n",
        "      <td>  2.653333</td>\n",
        "      <td> Case Closed Case Resolved citywide picked up c...</td>\n",
        "    </tr>\n",
        "    <tr>\n",
        "      <th>40 </th>\n",
        "      <td>                      Missed Trash: District 05</td>\n",
        "      <td> 1</td>\n",
        "      <td> 0</td>\n",
        "      <td> 0</td>\n",
        "      <td>  0.120278</td>\n",
        "      <td> Case Closed Case Noted We are in receipt of yo...</td>\n",
        "    </tr>\n",
        "    <tr>\n",
        "      <th>42 </th>\n",
        "      <td> Request for Snow Plowing (Emergency Responder)</td>\n",
        "      <td> 0</td>\n",
        "      <td> 1</td>\n",
        "      <td> 0</td>\n",
        "      <td>  2.756389</td>\n",
        "      <td> Case Closed Case Resolved completed by city wi...</td>\n",
        "    </tr>\n",
        "    <tr>\n",
        "      <th>53 </th>\n",
        "      <td>                   Requests for Street Cleaning</td>\n",
        "      <td> 0</td>\n",
        "      <td> 0</td>\n",
        "      <td> 1</td>\n",
        "      <td>  0.000278</td>\n",
        "      <td> Case Closed Case Resolved Marked completed at ...</td>\n",
        "    </tr>\n",
        "    <tr>\n",
        "      <th>55 </th>\n",
        "      <td>                   Requests for Street Cleaning</td>\n",
        "      <td> 0</td>\n",
        "      <td> 0</td>\n",
        "      <td> 1</td>\n",
        "      <td>  0.000278</td>\n",
        "      <td> Case Closed Case Resolved Marked completed at ...</td>\n",
        "    </tr>\n",
        "    <tr>\n",
        "      <th>57 </th>\n",
        "      <td>                   Requests for Street Cleaning</td>\n",
        "      <td> 0</td>\n",
        "      <td> 0</td>\n",
        "      <td> 1</td>\n",
        "      <td> 96.148611</td>\n",
        "      <td>                    Case Closed Case Resolved done</td>\n",
        "    </tr>\n",
        "    <tr>\n",
        "      <th>70 </th>\n",
        "      <td>                   Requests for Street Cleaning</td>\n",
        "      <td> 0</td>\n",
        "      <td> 0</td>\n",
        "      <td> 1</td>\n",
        "      <td> 22.605556</td>\n",
        "      <td> Case Closed Case Noted  Trash has been collect...</td>\n",
        "    </tr>\n",
        "    <tr>\n",
        "      <th>71 </th>\n",
        "      <td>                   Requests for Street Cleaning</td>\n",
        "      <td> 0</td>\n",
        "      <td> 0</td>\n",
        "      <td> 1</td>\n",
        "      <td>  6.068611</td>\n",
        "      <td>           Case Closed Case Resolved Nothing found</td>\n",
        "    </tr>\n",
        "    <tr>\n",
        "      <th>72 </th>\n",
        "      <td>                   Requests for Street Cleaning</td>\n",
        "      <td> 0</td>\n",
        "      <td> 0</td>\n",
        "      <td> 1</td>\n",
        "      <td>  6.019444</td>\n",
        "      <td> Case Closed Case Resolved No trash or glass fo...</td>\n",
        "    </tr>\n",
        "    <tr>\n",
        "      <th>83 </th>\n",
        "      <td> Request for Snow Plowing (Emergency Responder)</td>\n",
        "      <td> 0</td>\n",
        "      <td> 1</td>\n",
        "      <td> 0</td>\n",
        "      <td>  2.999722</td>\n",
        "      <td> Case Closed Case Resolved Salted will keep an ...</td>\n",
        "    </tr>\n",
        "    <tr>\n",
        "      <th>85 </th>\n",
        "      <td>                     Missed Trash: District 10B</td>\n",
        "      <td> 1</td>\n",
        "      <td> 0</td>\n",
        "      <td> 0</td>\n",
        "      <td> 15.109167</td>\n",
        "      <td>          Case Closed Case Noted material serviced</td>\n",
        "    </tr>\n",
        "    <tr>\n",
        "      <th>90 </th>\n",
        "      <td>                   Requests for Street Cleaning</td>\n",
        "      <td> 0</td>\n",
        "      <td> 0</td>\n",
        "      <td> 1</td>\n",
        "      <td>  3.195833</td>\n",
        "      <td> Case Closed Case Resolved Actually  82 Kendric...</td>\n",
        "    </tr>\n",
        "    <tr>\n",
        "      <th>104</th>\n",
        "      <td>                   Requests for Street Cleaning</td>\n",
        "      <td> 0</td>\n",
        "      <td> 0</td>\n",
        "      <td> 1</td>\n",
        "      <td> 18.015556</td>\n",
        "      <td> Case Closed Case Resolved debris and leaves re...</td>\n",
        "    </tr>\n",
        "    <tr>\n",
        "      <th>111</th>\n",
        "      <td>                   Requests for Street Cleaning</td>\n",
        "      <td> 0</td>\n",
        "      <td> 0</td>\n",
        "      <td> 1</td>\n",
        "      <td>  1.737778</td>\n",
        "      <td>          Case Closed Case Resolved Bags picked up</td>\n",
        "    </tr>\n",
        "  </tbody>\n",
        "</table>\n",
        "</div>"
       ],
       "metadata": {},
       "output_type": "pyout",
       "prompt_number": 60,
       "text": [
        "                                         CASE_TITLE  MISSED_TRASH  \\\n",
        "6                      Requests for Street Cleaning             0   \n",
        "8                      Requests for Street Cleaning             0   \n",
        "10                     Requests for Street Cleaning             0   \n",
        "16                     Requests for Street Cleaning             0   \n",
        "21                       Missed Trash: District 10B             1   \n",
        "22                     Requests for Street Cleaning             0   \n",
        "30                     Requests for Street Cleaning             0   \n",
        "40                        Missed Trash: District 05             1   \n",
        "42   Request for Snow Plowing (Emergency Responder)             0   \n",
        "53                     Requests for Street Cleaning             0   \n",
        "55                     Requests for Street Cleaning             0   \n",
        "57                     Requests for Street Cleaning             0   \n",
        "70                     Requests for Street Cleaning             0   \n",
        "71                     Requests for Street Cleaning             0   \n",
        "72                     Requests for Street Cleaning             0   \n",
        "83   Request for Snow Plowing (Emergency Responder)             0   \n",
        "85                       Missed Trash: District 10B             1   \n",
        "90                     Requests for Street Cleaning             0   \n",
        "104                    Requests for Street Cleaning             0   \n",
        "111                    Requests for Street Cleaning             0   \n",
        "\n",
        "     SNOW_RELATED  STREET_CLEANING  NUM_HOURS_OPEN  \\\n",
        "6               0                1        2.171389   \n",
        "8               0                1        1.088889   \n",
        "10              0                1        4.313611   \n",
        "16              0                1        2.346389   \n",
        "21              0                0        1.499722   \n",
        "22              0                1       20.444444   \n",
        "30              0                1        2.653333   \n",
        "40              0                0        0.120278   \n",
        "42              1                0        2.756389   \n",
        "53              0                1        0.000278   \n",
        "55              0                1        0.000278   \n",
        "57              0                1       96.148611   \n",
        "70              0                1       22.605556   \n",
        "71              0                1        6.068611   \n",
        "72              0                1        6.019444   \n",
        "83              1                0        2.999722   \n",
        "85              0                0       15.109167   \n",
        "90              0                1        3.195833   \n",
        "104             0                1       18.015556   \n",
        "111             0                1        1.737778   \n",
        "\n",
        "                                        CLOSURE_REASON  \n",
        "6               Case Closed Case Resolved clean up mva  \n",
        "8       Case Closed Case Resolved clean up the  debris  \n",
        "10   Case Closed Case Resolved citywide cleaned up ...  \n",
        "16                           Case Closed Case Resolved  \n",
        "21   Case Closed Case Noted During my inspection 1/...  \n",
        "22          Case Closed Case Resolved No debris found.  \n",
        "30   Case Closed Case Resolved citywide picked up c...  \n",
        "40   Case Closed Case Noted We are in receipt of yo...  \n",
        "42   Case Closed Case Resolved completed by city wi...  \n",
        "53   Case Closed Case Resolved Marked completed at ...  \n",
        "55   Case Closed Case Resolved Marked completed at ...  \n",
        "57                      Case Closed Case Resolved done  \n",
        "70   Case Closed Case Noted  Trash has been collect...  \n",
        "71             Case Closed Case Resolved Nothing found  \n",
        "72   Case Closed Case Resolved No trash or glass fo...  \n",
        "83   Case Closed Case Resolved Salted will keep an ...  \n",
        "85            Case Closed Case Noted material serviced  \n",
        "90   Case Closed Case Resolved Actually  82 Kendric...  \n",
        "104  Case Closed Case Resolved debris and leaves re...  \n",
        "111           Case Closed Case Resolved Bags picked up  "
       ]
      }
     ],
     "prompt_number": 60
    },
    {
     "cell_type": "code",
     "collapsed": false,
     "input": [
      "# Transform data to have mean=0\n",
      "boston_proj = selection[['LONGITUDE','LATITUDE','NUM_HOURS_OPEN','MISSED_TRASH','SNOW_RELATED','STREET_CLEANING']]\n",
      "\n",
      "scaler = preprocessing.StandardScaler()\n",
      "scaler.fit(boston_proj)\n",
      "scaled_bost = scaler.transform(boston_proj)\n",
      "\n",
      "print scaled_bost.shape\n",
      "print scaled_bost[0:10]\n",
      "print boston_proj[0:10]"
     ],
     "language": "python",
     "metadata": {},
     "outputs": [
      {
       "output_type": "stream",
       "stream": "stdout",
       "text": [
        "(29714L, 6L)\n",
        "[[ 0.3521 -0.9068 -1.0398 -0.3117 -2.6569  5.212 ]\n",
        " [-0.9872 -1.8741 -1.0506 -0.3117 -2.6569  5.212 ]\n",
        " [ 0.3296  0.3355 -1.0184 -0.3117 -2.6569  5.212 ]\n",
        " [-0.2769  0.0169 -1.0381 -0.3117 -2.6569  5.212 ]\n",
        " [ 0.1668  0.1588 -1.0465  3.2077 -2.6569 -0.1919]\n",
        " [-1.9727  0.8915 -0.8569 -0.3117 -2.6569  5.212 ]\n",
        " [ 0.2426  0.5092 -1.035  -0.3117 -2.6569  5.212 ]\n",
        " [ 1.1719  0.3007 -1.0603  3.2077 -2.6569 -0.1919]\n",
        " [-2.0401  0.6048 -1.0339 -0.3117  0.3764 -0.1919]\n",
        " [ 0.8827  1.2622 -1.0615 -0.3117 -2.6569  5.212 ]]\n",
        "    LONGITUDE  LATITUDE  NUM_HOURS_OPEN  MISSED_TRASH  SNOW_RELATED  \\\n",
        "6    -71.0727   42.2906        2.171389             0             0   \n",
        "8    -71.1204   42.2572        1.088889             0             0   \n",
        "10   -71.0735   42.3335        4.313611             0             0   \n",
        "16   -71.0951   42.3225        2.346389             0             0   \n",
        "21   -71.0793   42.3274        1.499722             1             0   \n",
        "22   -71.1555   42.3527       20.444444             0             0   \n",
        "30   -71.0766   42.3395        2.653333             0             0   \n",
        "40   -71.0435   42.3323        0.120278             1             0   \n",
        "42   -71.1579   42.3428        2.756389             0             1   \n",
        "53   -71.0538   42.3655        0.000278             0             0   \n",
        "\n",
        "    STREET_CLEANING  \n",
        "6                 1  \n",
        "8                 1  \n",
        "10                1  \n",
        "16                1  \n",
        "21                0  \n",
        "22                1  \n",
        "30                1  \n",
        "40                0  \n",
        "42                0  \n",
        "53                1  \n"
       ]
      }
     ],
     "prompt_number": 61
    },
    {
     "cell_type": "code",
     "collapsed": false,
     "input": [
      "# plot data error when clustered using number of clusters between 1 and 11\n",
      "error = numpy.zeros(11)\n",
      "error[0] = 0;\n",
      "for k in range(1,11):\n",
      "    kmeans = KMeans(init='k-means++', n_clusters=k, n_init=10)\n",
      "    kmeans.fit_predict(scaled_bost)\n",
      "    error[k] = kmeans.inertia_\n",
      "\n",
      "plt.plot(range(1,len(error)),error[1:])\n",
      "plt.xlabel('Number of clusters')\n",
      "plt.ylabel('Error')"
     ],
     "language": "python",
     "metadata": {},
     "outputs": [
      {
       "metadata": {},
       "output_type": "pyout",
       "prompt_number": 62,
       "text": [
        "<matplotlib.text.Text at 0x200f6978>"
       ]
      },
      {
       "metadata": {},
       "output_type": "display_data",
       "png": "[encoded data removed]",
       "text": [
        "<matplotlib.figure.Figure at 0x20101ef0>"
       ]
      }
     ],
     "prompt_number": 62
    },
    {
     "cell_type": "code",
     "collapsed": false,
     "input": [
      "sc_evaluate_clusters(scaled_bost,13) #Takes ~3 minutes\n",
      "# best k is 3. Silheuotte index =~ 0.58"
     ],
     "language": "python",
     "metadata": {},
     "outputs": [
      {
       "metadata": {},
       "output_type": "display_data",
       "png": "[encoded data removed]",
       "text": [
        "<matplotlib.figure.Figure at 0x20104978>"
       ]
      }
     ],
     "prompt_number": 63
    },
    {
     "cell_type": "code",
     "collapsed": false,
     "input": [
      "# k-means with three clusters\n",
      "kmeans = KMeans(init='k-means++', n_clusters=3, n_init=10)\n",
      "kmeans.fit_predict(scaled_bost)\n",
      "centroids = kmeans.cluster_centers_\n",
      "labels = kmeans.labels_\n",
      "error = kmeans.inertia_\n",
      "\n",
      "print \"The total error of the clustering is: \", error\n",
      "print '\\nCluster labels'\n",
      "print labels\n",
      "print '\\n Cluster Centroids'\n",
      "print centroids"
     ],
     "language": "python",
     "metadata": {},
     "outputs": [
      {
       "output_type": "stream",
       "stream": "stdout",
       "text": [
        "The total error of the clustering is:  86975.8992775\n",
        "\n",
        "Cluster labels\n",
        "[2 2 2 ..., 1 1 1]\n",
        "\n",
        " Cluster Centroids\n",
        "[[-0.1199 -0.0761 -0.7822  3.2077 -2.6569 -0.1919]\n",
        " [ 0.0026 -0.0015  0.0947 -0.3117  0.3764 -0.1919]\n",
        " [ 0.234   0.2265 -0.3859 -0.3117 -2.6569  5.212 ]]\n"
       ]
      }
     ],
     "prompt_number": 64
    },
    {
     "cell_type": "code",
     "collapsed": false,
     "input": [
      "de_scaled_bost = scaler.inverse_transform(scaled_bost)\n",
      "def print_sample(cluster):\n",
      "    count = 0\n",
      "    idx = 0\n",
      "    for item in labels:        \n",
      "        if item == cluster:\n",
      "            print de_scaled_bost[idx]            \n",
      "            count += 1\n",
      "        idx += 1\n",
      "        \n",
      "        if count >= 10:\n",
      "            break\n",
      "\n",
      "print \"Cluster 1\"\n",
      "print \"longitude,latitude,hours_open,trash,snow,street cleaning\"\n",
      "print_sample(0)\n",
      "print \"Cluster 2\"\n",
      "print_sample(1)\n",
      "print \"Cluster 3\"\n",
      "print_sample(2)"
     ],
     "language": "python",
     "metadata": {},
     "outputs": [
      {
       "output_type": "stream",
       "stream": "stdout",
       "text": [
        "Cluster 1\n",
        "longitude,latitude,hours_open,trash,snow,street cleaning\n",
        "[-71.0793  42.3274   1.4997   1.      -0.       0.    ]\n",
        "[-71.0435  42.3323   0.1203   1.      -0.       0.    ]\n",
        "[-71.0798  42.3231  15.1092   1.      -0.       0.    ]\n",
        "[-71.0757  42.3189   0.2264   1.      -0.       0.    ]\n",
        "[-71.0479  42.3328  22.8272   1.      -0.       0.    ]\n",
        "[-71.0476  42.3323   1.9056   1.      -0.       0.    ]\n",
        "[-71.0476  42.3323   2.4575   1.      -0.       0.    ]\n",
        "[-71.0834  42.321   20.0486   1.      -0.       0.    ]\n",
        "[-71.1187  42.2635   0.9472   1.      -0.       0.    ]\n",
        "[-71.0331  42.3653  22.7806   1.      -0.       0.    ]\n",
        "Cluster 2\n",
        "[-71.1579  42.3428   2.7564   0.       1.       0.    ]\n",
        "[-71.1687  42.291    2.9997   0.       1.       0.    ]\n",
        "[-71.1092  42.2743   2.0925   0.       1.       0.    ]\n",
        "[-71.1248  42.2402   1.5092   0.       1.       0.    ]\n",
        "[-71.0732  42.3365   1.7697   0.       1.       0.    ]\n",
        "[-71.0893  42.3111   6.6611   0.       1.       0.    ]\n",
        "[-71.0889  42.3507   2.0614   0.       1.       0.    ]\n",
        "[-71.1001  42.3264   6.4406   0.       1.       0.    ]\n",
        "[-71.0652  42.2942   6.2272   0.       1.       0.    ]\n",
        "[-71.0835  42.3287   6.3086   0.       1.       0.    ]\n",
        "Cluster 3\n",
        "[-71.0727  42.2906   2.1714   0.      -0.       1.    ]\n",
        "[-71.1204  42.2572   1.0889   0.      -0.       1.    ]\n",
        "[-71.0735  42.3335   4.3136   0.      -0.       1.    ]\n",
        "[-71.0951  42.3225   2.3464   0.      -0.       1.    ]\n",
        "[-71.1555  42.3527  20.4444   0.      -0.       1.    ]\n",
        "[-71.0766  42.3395   2.6533   0.      -0.       1.    ]\n",
        "[-71.0538  42.3655   0.0003   0.      -0.       1.    ]\n",
        "[-71.054   42.3653   0.0003   0.      -0.       1.    ]\n",
        "[-71.0562  42.3432  96.1486   0.      -0.       1.    ]\n",
        "[-71.037   42.3372  22.6056   0.      -0.       1.    ]\n"
       ]
      }
     ],
     "prompt_number": 90
    },
    {
     "cell_type": "markdown",
     "metadata": {},
     "source": [
      "From the above, it seems that cases were mostly grouped based on the on the case category (snow, trash, street cleaning). This clustering is not very useful. The k-means would work better with continuous numeric data.\n",
      "Is the a way to calculate pairwise euclidean distances for large data like this and plot a heatmap?"
     ]
    },
    {
     "cell_type": "markdown",
     "metadata": {},
     "source": [
      "-----"
     ]
    },
    {
     "cell_type": "heading",
     "level": 2,
     "metadata": {},
     "source": [
      "Step 3. Detecting outliers"
     ]
    },
    {
     "cell_type": "markdown",
     "metadata": {},
     "source": [
      "Now that we have a clustering of the records in the dataset, we can detect the outlying ones. These are the ones who are the farthest from the centroids of their clusters. Track them down and describe any interesting observations that you can make. **(pts 20)** "
     ]
    },
    {
     "cell_type": "code",
     "collapsed": false,
     "input": [
      "# euclidean distance function\n",
      "def euclidean_dist(x,y):\n",
      "    return numpy.sqrt(numpy.sum(numpy.square(x-y)))"
     ],
     "language": "python",
     "metadata": {},
     "outputs": [],
     "prompt_number": 92
    },
    {
     "cell_type": "code",
     "collapsed": false,
     "input": [
      "# for each point, calculate distance from centre. for each cluster, sort point distances, and take top 5.\n",
      "distances = []\n",
      "\n",
      "idx = 0\n",
      "for item in scaled_bost:\n",
      "    label = labels[idx]\n",
      "    center = centroids[label]\n",
      "    distances.append(euclidean_dist(item,center))\n",
      "    idx += 1\n",
      "\n",
      "distances = numpy.array(distances)"
     ],
     "language": "python",
     "metadata": {},
     "outputs": [],
     "prompt_number": 93
    },
    {
     "cell_type": "code",
     "collapsed": false,
     "input": [
      "sorted_dists = numpy.argsort(distances)\n",
      "rev_dists = sorted_dists[::-1]\n",
      "#print sorted_dists[len(distances)-10:]\n",
      "#print rev_dists[0:10]\n",
      "print distances[rev_dists[0:10]]\n",
      "print distances[sorted_dists[len(distances)-10:]]"
     ],
     "language": "python",
     "metadata": {},
     "outputs": [
      {
       "output_type": "stream",
       "stream": "stdout",
       "text": [
        "[ 9.0811  8.3943  8.3917  8.3547  8.3541  8.1383  8.1229  7.964   7.8967\n",
        "  7.7071]\n",
        "[ 7.7071  7.8967  7.964   8.1229  8.1383  8.3541  8.3547  8.3917  8.3943\n",
        "  9.0811]\n"
       ]
      }
     ],
     "prompt_number": 94
    },
    {
     "cell_type": "code",
     "collapsed": false,
     "input": [
      "# returns top x outliers for specified cluster\n",
      "def get_outliers(count,cluster,labels,indices):\n",
      "    ret = []\n",
      "    tally = 0\n",
      "    for index in indices:\n",
      "        if labels[index] == cluster:            \n",
      "            ret.append(index)\n",
      "            tally +=1\n",
      "        if tally == count:\n",
      "            break\n",
      "    return ret"
     ],
     "language": "python",
     "metadata": {},
     "outputs": [],
     "prompt_number": 95
    },
    {
     "cell_type": "code",
     "collapsed": false,
     "input": [
      "out0 = get_outliers(5,0,labels,rev_dists)\n",
      "out1 = get_outliers(5,1,labels,rev_dists)\n",
      "out2 = get_outliers(5,2,labels,rev_dists)\n",
      "\n",
      "real_centres = scaler.inverse_transform(centroids)\n",
      "numpy.set_printoptions(precision=4)\n",
      "numpy.set_printoptions(suppress=True)\n",
      "\n",
      "print \"centroid for cluster 1\"\n",
      "print real_centres[0]\n",
      "print \"Outliers for cluster 1\"\n",
      "print boston_proj.iloc[out0]\n",
      "print \"centroid for cluster 2\"\n",
      "print real_centres[1]\n",
      "print \"Outliers for cluster 2\"\n",
      "print boston_proj.iloc[out1]\n",
      "print \"centroid for cluster 3\"\n",
      "print real_centres[2]\n",
      "print \"Outliers for cluster 3\"\n",
      "print boston_proj.iloc[out2]"
     ],
     "language": "python",
     "metadata": {},
     "outputs": [
      {
       "output_type": "stream",
       "stream": "stdout",
       "text": [
        "centroid for cluster 1\n",
        "[-71.0895  42.3193  27.9128   1.      -0.      -0.    ]\n",
        "Outliers for cluster 1\n",
        "       LONGITUDE  LATITUDE  NUM_HOURS_OPEN  MISSED_TRASH  SNOW_RELATED  \\\n",
        "31329   -71.1617   42.3554      299.074167             1             0   \n",
        "20535   -71.0041   42.3918       64.060833             1             0   \n",
        "20886   -71.0041   42.3918       42.858333             1             0   \n",
        "28641   -71.0075   42.3927       49.790556             1             0   \n",
        "19977   -70.9988   42.3820       11.881111             1             0   \n",
        "\n",
        "       STREET_CLEANING  \n",
        "31329                0  \n",
        "20535                0  \n",
        "20886                0  \n",
        "28641                0  \n",
        "19977                0  \n",
        "centroid for cluster 2\n",
        "[ -71.0851   42.3219  115.5282    0.        1.       -0.    ]\n",
        "Outliers for cluster 2\n",
        "       LONGITUDE  LATITUDE  NUM_HOURS_OPEN  MISSED_TRASH  SNOW_RELATED  \\\n",
        "5192    -71.0677   42.3593      803.240556             0             1   \n",
        "5567    -71.1107   42.3519      780.984167             0             1   \n",
        "9468    -71.1316   42.3558      557.176389             0             1   \n",
        "10053   -71.1528   42.3537      531.530833             0             1   \n",
        "17429   -71.0069   42.3928      463.516111             0             1   \n",
        "\n",
        "       STREET_CLEANING  \n",
        "5192                 0  \n",
        "5567                 0  \n",
        "9468                 0  \n",
        "10053                0  \n",
        "17429                0  \n",
        "centroid for cluster 3\n",
        "[-71.0769  42.3297  67.5074  -0.       0.       1.    ]\n",
        "Outliers for cluster 3\n",
        "      LONGITUDE  LATITUDE  NUM_HOURS_OPEN  MISSED_TRASH  SNOW_RELATED  \\\n",
        "2364   -71.0708   42.3320      974.649444             0             0   \n",
        "3478   -71.0534   42.3619      898.429167             0             0   \n",
        "3455   -71.0579   42.3601      899.631667             0             0   \n",
        "3490   -71.0694   42.3595      897.543611             0             0   \n",
        "3491   -71.0694   42.3594      897.508056             0             0   \n",
        "\n",
        "      STREET_CLEANING  \n",
        "2364                1  \n",
        "3478                1  \n",
        "3455                1  \n",
        "3490                1  \n",
        "3491                1  \n"
       ]
      }
     ],
     "prompt_number": 96
    },
    {
     "cell_type": "markdown",
     "metadata": {},
     "source": [
      "From the above results, it seems the outliers are mostly the point that are in a different case category (snow,trash, street cleaning) that the centroid. Since there was categorical data in the clustering, and each case belonged to only one category, the k-means clustering mostly grouped point in the same category together."
     ]
    },
    {
     "cell_type": "code",
     "collapsed": false,
     "input": [
      "# Code for setting the style of the notebook\n",
      "from IPython.core.display import HTML\n",
      "def css_styling():\n",
      "    styles = open(\"../../theme/custom.css\", \"r\").read()\n",
      "    return HTML(styles)\n",
      "css_styling()"
     ],
     "language": "python",
     "metadata": {},
     "outputs": [
      {
       "html": [
        "<link href='http://fonts.googleapis.com/css?family=EB+Garamond' rel='stylesheet' type='text/css'>\n",
        "<link href='http://fonts.googleapis.com/css?family=Alegreya+Sans:100,300,400,500,700,800,900,100italic,300italic,400italic,500italic,700italic,800italic,900italic' rel='stylesheet' type='text/css'>\n",
        "<link href='http://fonts.googleapis.com/css?family=Source+Code+Pro:300,400' rel='stylesheet' type='text/css'>\n",
        "<style>\n",
        "    @font-face {\n",
        "        font-family: \"Computer Modern\";\n",
        "        src: url('http://mirrors.ctan.org/fonts/cm-unicode/fonts/otf/cmunss.otf');\n",
        "    }\n",
        "    .code_cell {\n",
        "        width: 105ex !important ;\n",
        "        margin-bottom: 15px !important;\n",
        "    }\n",
        "    div.cell {\n",
        "        margin-left: auto;\n",
        "        margin-right: auto;\n",
        "        width: 70%;\n",
        "    }    \n",
        "    div.cell.selected {\n",
        "        border: thin rgba(171, 171, 171, 0.5) dashed;\n",
        "    }\n",
        "    h1 {\n",
        "        font-family: 'Alegreya Sans', sans-serif;\n",
        "    }\n",
        "    h2 {\n",
        "        font-family: 'EB Garamond', serif;\n",
        "    }\n",
        "    h3 {\n",
        "        font-family: 'EB Garamond', serif;\n",
        "        margin-top:12px;\n",
        "        margin-bottom: 3px;\n",
        "    }\n",
        "    h4 {\n",
        "        font-family: 'EB Garamond', serif;\n",
        "    }\n",
        "    h5 {\n",
        "        font-family: 'Alegreya Sans', sans-serif;\n",
        "    }\n",
        "    div.text_cell_render {\n",
        "        font-family: 'EB Garamond',Computer Modern, \"Helvetica Neue\", Arial, Helvetica, Geneva, sans-serif;\n",
        "        line-height: 145%;\n",
        "        font-size: 140%;\n",
        "    }\n",
        "    div.input_area {\n",
        "        border-color: rgba(0,0,0,0.10) !important;\n",
        "        background: #fafafa;\n",
        "    }\n",
        "    .CodeMirror {\n",
        "            font-family: \"Source Code Pro\";\n",
        "            font-size: 90%;\n",
        "    }\n",
        "    .prompt {\n",
        "        display: None;\n",
        "    }\n",
        "    .output {\n",
        "        padding-left: 50px;\n",
        "        padding-top: 5px;\n",
        "    }\n",
        "    .output_wrapper {\n",
        "        padding-left: 5px;\n",
        "        padding-top: inherit;\n",
        "    }\n",
        "    div.output_scroll {\n",
        "        width: inherit;\n",
        "    }\n",
        "    .inner_cell {\n",
        "        padding-left: 5px;\n",
        "    }\n",
        "    .text_cell_render h1 {\n",
        "        font-weight: 200;\n",
        "        font-size: 50pt;\n",
        "        line-height: 100%;\n",
        "        color:#CD2305;\n",
        "        margin-bottom: 0.5em;\n",
        "        margin-top: 0.5em;\n",
        "        display: block;\n",
        "    }\n",
        "    .text_cell_render h5 {\n",
        "        font-weight: 300;\n",
        "        font-size: 16pt;\n",
        "        color: #CD2305;\n",
        "        font-style: italic;\n",
        "        margin-bottom: .5em;\n",
        "        margin-top: 0.5em;\n",
        "        display: block;\n",
        "    }\n",
        "    .warning {\n",
        "        color: rgb( 240, 20, 20 )\n",
        "        }  \n",
        "</style>\n",
        "<script>\n",
        "    MathJax.Hub.Config({\n",
        "                        TeX: {\n",
        "                           extensions: [\"AMSmath.js\"]\n",
        "                           },\n",
        "                tex2jax: {\n",
        "                    inlineMath: [ ['$','$'], [\"\\\\(\",\"\\\\)\"] ],\n",
        "                    displayMath: [ ['$$','$$'], [\"\\\\[\",\"\\\\]\"] ]\n",
        "                },\n",
        "                displayAlign: 'center', // Change this to 'center' to center equations.\n",
        "                \"HTML-CSS\": {\n",
        "                    styles: {'.MathJax_Display': {\"margin\": 4}}\n",
        "                }\n",
        "        });\n",
        "</script>"
       ],
       "metadata": {},
       "output_type": "pyout",
       "prompt_number": 21,
       "text": [
        "<IPython.core.display.HTML at 0x189e1320>"
       ]
      }
     ],
     "prompt_number": 21
    }
   ],
   "metadata": {}
  }
 ]
}